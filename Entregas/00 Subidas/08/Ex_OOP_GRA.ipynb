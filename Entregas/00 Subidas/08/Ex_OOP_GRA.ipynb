{
 "cells": [
  {
   "cell_type": "markdown",
   "metadata": {
    "scrolled": true
   },
   "source": [
    "## Ejercicio 1 : Sistema de Deportistas Olímpicos :sports_medal:\n",
    "### Instrucciones:\n",
    "1. Define una clase llamada `OlympicAthlete`.\n",
    "2. La clase debe tener los siguientes atributos:\n",
    "   - `name`: el nombre del deportista.\n",
    "   - `sport`: el deporte en el que compite.\n",
    "   - `medal`: un atributo que almacena el tipo de medalla ganada (por ejemplo, \"oro\", \"plata\" o \"bronce\"). Por defecto, el valor será `None` (sin medalla).\n",
    "3. Crea un método `win_medal` que permita asignar una medalla al atleta.\n",
    "4. Crea un método `display_info` que muestre la información del deportista, incluyendo el tipo de medalla ganada (si tiene una).\n",
    "\n",
    "\n",
    "\n",
    "\n",
    "\n",
    "\n",
    "\n",
    "                                                                                                    "
   ]
  },
  {
   "cell_type": "code",
   "execution_count": 27,
   "metadata": {},
   "outputs": [],
   "source": [
    "class OlympicAthlete:\n",
    "    #atributes\n",
    "    def __init__ (self, name, sport):\n",
    "        self.name=name\n",
    "        self.sport=sport\n",
    "        self.medal=None\n",
    "\n",
    "    #metodo win_medal\n",
    "    def win_medal (self, medal_type):\n",
    "        self.medal = medal_type\n",
    "\n",
    "    #metodo display_info\n",
    "    def display_info (self):\n",
    "        if self.medal:\n",
    "            return f\"{self.name},\\nmedalla de {self.medal} en {self.sport}\"\n",
    "        else:\n",
    "            return f\"{self.name},\\nno ha guanyat medalla en {self.sport}\""
   ]
  },
  {
   "cell_type": "code",
   "execution_count": 13,
   "metadata": {},
   "outputs": [],
   "source": [
    "athlete = OlympicAthlete (\"perico\", \"pollo\")"
   ]
  },
  {
   "cell_type": "code",
   "execution_count": 19,
   "metadata": {},
   "outputs": [],
   "source": [
    "athlete.win_medal(\"plata\")"
   ]
  },
  {
   "cell_type": "code",
   "execution_count": 29,
   "metadata": {},
   "outputs": [
    {
     "name": "stdout",
     "output_type": "stream",
     "text": [
      "perico,\n",
      " medalla de plata en pollo\n"
     ]
    }
   ],
   "source": [
    "print(athlete.display_info())"
   ]
  },
  {
   "cell_type": "code",
   "execution_count": null,
   "metadata": {},
   "outputs": [],
   "source": []
  },
  {
   "cell_type": "code",
   "execution_count": 232,
   "metadata": {},
   "outputs": [],
   "source": [
    "# Part 1: Create the Product Class\n",
    "class Product:\n",
    "    def __init__(self, name, price):\n",
    "        self.name = name\n",
    "        self.price = price\n",
    "        self.quantity_sold = 0\n",
    "        #[your code here...]\n",
    "    def sell (self, quantity):\n",
    "        self.quantity_sold +=quantity\n",
    "    def total_sales (self):\n",
    "        return self.quantity_sold * self.price\n",
    "    def display_details(self):\n",
    "        return f\"Producto: {self.name} Quantity {self.quantity_sold} Price {self.price} Total sales {self.total_sales():.2f}€\"\n",
    "\n",
    "\n",
    "\n",
    "# Part 2: Create the SalesData Class\n",
    "class SalesData:\n",
    "    def __init__(self):\n",
    "        self.products = []\n",
    "        #[your code here...]\n",
    "    def add_product (self, product):\n",
    "        self.products.append(product)\n",
    "    def total_revenue(self):\n",
    "        total = sum([product.total_sales()\n",
    "                     for product in self.products])\n",
    "        return total\n",
    "\n",
    "    def obtener_producto_mas_vendido(self):\n",
    "        dict1 = {}\n",
    "        for i in self.products:\n",
    "            dict1[i.name]= i.quantity_sold\n",
    "     \n",
    "        if not self.products:\n",
    "            return None\n",
    "        else:\n",
    "            #producto_mas_vendido = max(self.products, key=lambda i:i.quantity_sold)\n",
    "            producto_mas_vendido = max(dict1, key=lambda i:dict1[i])\n",
    "        return producto_mas_vendido\n",
    "\n",
    "# Crea un método para mostrar los detalles del producto, incluyendo nombre, precio, cantidad vendida e ingresos, para todos los productos en la clase DatosDeVentas.\n",
    "\n",
    "    def mostrar_detalles(self):\n",
    "        for product in self.products:\n",
    "            print(product.display_details())"
   ]
  },
  {
   "cell_type": "code",
   "execution_count": 234,
   "metadata": {},
   "outputs": [
    {
     "name": "stdout",
     "output_type": "stream",
     "text": [
      "Hemos vendido 4000.00€ de Laptop\n",
      "Hemos vendido 10000.00€ de Phone\n"
     ]
    }
   ],
   "source": [
    "# Create instances of the Product class\n",
    "product1 = Product(\"Laptop\", 800.0)\n",
    "product2 = Product(\"Phone\", 500.0)\n",
    "\n",
    "sales_data = SalesData()\n",
    "\n",
    "sales_data.add_product(product1)\n",
    "sales_data.add_product(product2)\n",
    "\n",
    "product1.sell(5)\n",
    "product2.sell(20)\n",
    "\n",
    "print (f\"Hemos vendido {product1.total_sales():.2f}€ de {product1.name}\")\n",
    "print (f\"Hemos vendido {product2.total_sales():.2f}€ de {product2.name}\")"
   ]
  },
  {
   "cell_type": "code",
   "execution_count": 236,
   "metadata": {},
   "outputs": [],
   "source": [
    "product1= Product(\"camiseta\", 15)\n",
    "product2= Product(\"ordenador\", 543.56)\n",
    "product3= Product(\"escritorio\", 45.67)"
   ]
  },
  {
   "cell_type": "code",
   "execution_count": 238,
   "metadata": {},
   "outputs": [],
   "source": [
    "venta = SalesData()"
   ]
  },
  {
   "cell_type": "code",
   "execution_count": 240,
   "metadata": {},
   "outputs": [],
   "source": [
    "venta.add_product(product1)\n",
    "venta.add_product(product2)\n",
    "venta.add_product(product3)"
   ]
  },
  {
   "cell_type": "code",
   "execution_count": 242,
   "metadata": {},
   "outputs": [],
   "source": [
    "product1.sell(694)\n",
    "product2.sell(4)\n",
    "product3.sell(5)"
   ]
  },
  {
   "cell_type": "code",
   "execution_count": 244,
   "metadata": {},
   "outputs": [
    {
     "data": {
      "text/plain": [
       "'camiseta'"
      ]
     },
     "execution_count": 244,
     "metadata": {},
     "output_type": "execute_result"
    }
   ],
   "source": [
    "venta.obtener_producto_mas_vendido()"
   ]
  },
  {
   "cell_type": "code",
   "execution_count": 222,
   "metadata": {},
   "outputs": [
    {
     "data": {
      "text/plain": [
       "12812.59"
      ]
     },
     "execution_count": 222,
     "metadata": {},
     "output_type": "execute_result"
    }
   ],
   "source": [
    "venta.total_revenue()"
   ]
  },
  {
   "cell_type": "markdown",
   "metadata": {},
   "source": [
    "8.4. Desafíos Adicionales (Opcional, solo si tienes tiempo):\n",
    "\n",
    "Implementa manejo de errores en tus clases para asegurar que cantidades negativas o entradas incorrectas sean manejadas de manera adecuada.\n",
    "\n",
    "\n"
   ]
  },
  {
   "cell_type": "code",
   "execution_count": 246,
   "metadata": {},
   "outputs": [
    {
     "data": {
      "text/plain": [
       "'Producto: camiseta Quantity 694 Price 15 Total sales 10410.00€'"
      ]
     },
     "execution_count": 246,
     "metadata": {},
     "output_type": "execute_result"
    }
   ],
   "source": [
    "product1.display_details()"
   ]
  },
  {
   "cell_type": "code",
   "execution_count": 248,
   "metadata": {},
   "outputs": [
    {
     "name": "stdout",
     "output_type": "stream",
     "text": [
      "Producto: camiseta Quantity 694 Price 15 Total sales 10410.00€\n",
      "Producto: ordenador Quantity 4 Price 543.56 Total sales 2174.24€\n",
      "Producto: escritorio Quantity 5 Price 45.67 Total sales 228.35€\n"
     ]
    }
   ],
   "source": [
    "venta.mostrar_detalles()"
   ]
  },
  {
   "cell_type": "code",
   "execution_count": null,
   "metadata": {},
   "outputs": [],
   "source": []
  },
  {
   "cell_type": "code",
   "execution_count": null,
   "metadata": {},
   "outputs": [],
   "source": []
  }
 ],
 "metadata": {
  "kernelspec": {
   "display_name": "Python 3 (ipykernel)",
   "language": "python",
   "name": "python3"
  },
  "language_info": {
   "codemirror_mode": {
    "name": "ipython",
    "version": 3
   },
   "file_extension": ".py",
   "mimetype": "text/x-python",
   "name": "python",
   "nbconvert_exporter": "python",
   "pygments_lexer": "ipython3",
   "version": "3.12.4"
  },
  "vscode": {
   "interpreter": {
    "hash": "aee8b7b246df8f9039afb4144a1f6fd8d2ca17a180786b69acc140d282b71a49"
   }
  }
 },
 "nbformat": 4,
 "nbformat_minor": 4
}
