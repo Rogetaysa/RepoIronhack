{
 "cells": [
  {
   "cell_type": "markdown",
   "metadata": {},
   "source": [
    "# Probability"
   ]
  },
  {
   "cell_type": "markdown",
   "metadata": {},
   "source": [
    "## Reto 1\n",
    "Hay una caja con 10 bolas blancas, 12 bolas rojas y 8 bolas negras. Calcula la probabilidad de:\n",
    "* Sacar una bola blanca.\n",
    "* Sacar una bola blanca en la primera extracción y una bola negra en la segunda extracción sin reemplazar la primera.\n",
    "* Sacar una bola blanca en la primera extracción y una bola negra en la segunda extracción reemplazando la primera.\n",
    "* Sacar 3 bolas y que sean todas de diferentes colores."
   ]
  },
  {
   "cell_type": "code",
   "execution_count": 30,
   "metadata": {},
   "outputs": [
    {
     "name": "stdout",
     "output_type": "stream",
     "text": [
      "a: 33.33 %\n",
      "b: 9.2 %\n",
      "c: 8.89 %\n",
      "d: 3.94 %\n"
     ]
    }
   ],
   "source": [
    "# YOUR CODE HERE\n",
    "import math\n",
    "import itertools\n",
    "combinaciones = list(itertools.product(['B','R','N']))\n",
    "\n",
    "B = 10\n",
    "R = 12\n",
    "N = 8\n",
    "Total = B + R + N\n",
    "#a\n",
    "Prob_B = round(100*B / Total,2)\n",
    "print(\"a:\", Prob_B,\"%\")\n",
    "\n",
    "#b\n",
    "Prob_ByNsR = round(100*\n",
    "                 ((B / Total)*(N / (Total-1)))\n",
    "                 ,2)\n",
    "print(\"b:\", Prob_ByNsR,\"%\")\n",
    "\n",
    "#c\n",
    "Prob_ByNcR = round(100*\n",
    "                 ((B / Total)*(N / Total))\n",
    "                 ,2)\n",
    "print(\"c:\", Prob_ByNcR,\"%\")\n",
    "\n",
    "#d\n",
    "Prob_ByNyR = round(100*\n",
    "                 ((N / Total)\n",
    "                  *(R / (Total-1))\n",
    "                  *(B / (Total-2)))\n",
    "                 ,2)\n",
    "print(\"d:\", Prob_ByNyR,\"%\")\n"
   ]
  },
  {
   "cell_type": "markdown",
   "metadata": {},
   "source": [
    "## Reto 2\n",
    "\n",
    "Quieres ir de picnic el sábado. Odias la lluvia y quieres planificar tu fin de semana. Para ayudarte a tomar una decisión, recopilas los siguientes datos sobre los días lluviosos:\n",
    "\n",
    "* El 40% de todos los días están nublados.\n",
    "* Aproximadamente el 50% de los días nublados son lluviosos.\n",
    "* Aproximadamente el 20% de los días no nublados son lluviosos.\n",
    "\n",
    "¿Cuál es la probabilidad de que llueva el próximo sábado?"
   ]
  },
  {
   "cell_type": "code",
   "execution_count": 24,
   "metadata": {},
   "outputs": [
    {
     "name": "stdout",
     "output_type": "stream",
     "text": [
      "Lluvia:  32.0 %\n"
     ]
    }
   ],
   "source": [
    "# YOUR CODE HERE\n",
    "nublado = 0.4\n",
    "lluvia_nublado = 0.5\n",
    "lluvia_no_nublado = 0.2\n",
    "nublado=0.4\n",
    "lluvia_nublado=0.5\n",
    "lluvia_no_nublado=0.2\n",
    "\n",
    "\n",
    "#prob_lluvia=(nublado*lluvia_nublado)+((1-nublado)*lluvia_no_nublado)\n",
    "prob_lluvia = round(100*((nublado * lluvia_nublado)+ ((1-nublado)*lluvia_no_nublado)),2)\n",
    "print(\"Lluvia: \", prob_lluvia, \"%\")"
   ]
  },
  {
   "cell_type": "markdown",
   "metadata": {},
   "source": [
    "## Reto 3\n",
    "\n",
    "A y B son eventos de una probabilidad tal que \\(P(A) = 0.3\\), \\(P(B) = 0.6\\) y \\(P(A \\cap B) = 0.1\\)\n",
    "\n",
    "¿Cuáles de las siguientes afirmaciones son verdaderas?\n",
    "**SUGERENCIA: dibuja un gran diagrama de Venn a tu lado**\n",
    "* \\(P(\\overline{A}) = 0.7\\)\n",
    "* \\(P(A \\cup B) = 0.6\\)\n",
    "* \\(P(A \\cap \\overline{B}) = 0.2\\)\n",
    "* \\(P(A \\cup \\overline{A}) = 1\\)  \n",
    "* \\(P(A \\cap (B \\cup \\overline{B})) = 0.4\\)\n",
    "* \\(P(\\overline{A} \\cap \\overline{B}) = 0.3\\)\n",
    "* \\(P(\\overline{A \\cap B}) = 0.9\\)"
   ]
  },
  {
   "cell_type": "code",
   "execution_count": null,
   "metadata": {},
   "outputs": [
    {
     "name": "stdout",
     "output_type": "stream",
     "text": [
      "noA: 70.0 %\n",
      "AuB: 80.0 %\n",
      "An_noB: 20.0 %\n",
      "Au_noA: 100 %\n",
      "An_Bu_noB: 30.0 %\n",
      "noAn_noB: 20.0 %\n",
      "noAuB: 90.0 %\n"
     ]
    }
   ],
   "source": [
    "# YOUR CODE HERE\n",
    "\n",
    "A=0.3\n",
    "B=0.6\n",
    "AnB=0.1\n",
    "\n",
    "#a\n",
    "noA = 1-A\n",
    "print(\"noA:\",round(100*noA,2),\"%\")\n",
    "\n",
    "#b\n",
    "AuB = A + B - AnB\n",
    "print(\"AuB:\",round(100*AuB,2),\"%\")\n",
    "\n",
    "#c\n",
    "An_noB = A - AnB \n",
    "print(\"An_noB:\",round(100*An_noB,2),\"%\")\n",
    "\n",
    "#d\n",
    "Au_noA = 1\n",
    "print(\"Au_noA:\",round(100*Au_noA,2),\"%\")\n",
    "\n",
    "#e\n",
    "An_Bu_noB = A\n",
    "print(\"An_Bu_noB:\",round(100*An_Bu_noB,2),\"%\")\n",
    "\n",
    "#f\n",
    "noAn_noB = 1-AuB\n",
    "print(\"noAn_noB:\",round(100*noAn_noB,2),\"%\")\n",
    "\n",
    "#g\n",
    "noAuB = 1 - AnB\n",
    "print(\"noAuB:\",round(100*noAuB,2),\"%\")\n"
   ]
  },
  {
   "cell_type": "markdown",
   "metadata": {},
   "source": [
    "## Reto 4\n",
    "\n",
    "* Si alguien viaja a China, la probabilidad de contraer Covid es del 1%\n",
    "* Si alguien viaja a Italia, la probabilidad de contraer Covid es del 20%\n",
    "\n",
    "Lanzo un dado con números 1, 2, 3, 4, 5, 6:\n",
    "* Si sale 1: Vuelo a Italia\n",
    "* Si no sale 1: Vuelo a China\n",
    "\n",
    "Durante mi viaje, contraje Covid. ¿Cuál es la probabilidad de que haya volado a China?"
   ]
  },
  {
   "cell_type": "code",
   "execution_count": 41,
   "metadata": {},
   "outputs": [
    {
     "name": "stdout",
     "output_type": "stream",
     "text": [
      "probabilidad:  20.0 %\n"
     ]
    }
   ],
   "source": [
    "# YOUR CODE HERE\n",
    "CovidChina = 0.01\n",
    "CovidItalia = 0.2\n",
    "probItalia = 1/6\n",
    "probChina = 5/6\n",
    "\n",
    "probCovid = (CovidChina*probChina)+(CovidItalia*probItalia)\n",
    "\n",
    "probChinaCovid = round(100*(CovidChina*probChina)/probCovid,2)\n",
    "print(\"probabilidad: \", probChinaCovid,\"%\")"
   ]
  },
  {
   "cell_type": "markdown",
   "metadata": {},
   "source": [
    "## BONUS\n",
    "\n",
    "Lanzas 2 dados. ¿Cuál es la probabilidad de que la suma de los números sea 7? ¿Y 8? ¿Y 9? Luego simula 10000 veces y dibuja un gráfico de conteo.\n",
    "\n",
    "tu explicación aquí"
   ]
  },
  {
   "cell_type": "code",
   "execution_count": 65,
   "metadata": {},
   "outputs": [
    {
     "name": "stdout",
     "output_type": "stream",
     "text": [
      "prob 7: 16.67 %\n",
      "prob 8: 13.89 %\n",
      "prob 9: 11.11 %\n"
     ]
    },
    {
     "data": {
      "text/plain": [
       "<function matplotlib.pyplot.show(close=None, block=None)>"
      ]
     },
     "execution_count": 65,
     "metadata": {},
     "output_type": "execute_result"
    },
    {
     "data": {
      "image/png": "[encoded data removed]",
      "text/plain": [
       "<Figure size 640x480 with 1 Axes>"
      ]
     },
     "metadata": {},
     "output_type": "display_data"
    }
   ],
   "source": [
    "# YOUR CODE HERE\n",
    "import numpy as np\n",
    "import matplotlib.pyplot as plt\n",
    "\n",
    "prob_sum_7 = 6 / 36\n",
    "prob_sum_8 = 5 / 36\n",
    "prob_sum_9 = 4 / 36\n",
    "print(\"prob 7:\",round(100*prob_sum_7,2), \"%\")\n",
    "print(\"prob 8:\",round(100*prob_sum_8,2), \"%\")\n",
    "print(\"prob 9:\",round(100*prob_sum_9,2), \"%\")\n",
    "\n",
    "n_simulaciones = 10000\n",
    "daus = np.random.randint(1, 7, size=(n_simulaciones, 2))\n",
    "sumas = daus.sum(axis=1)\n",
    "\n",
    "contar_sumas= [np.sum(sumas == i) for i in range (2,13)]\n",
    "\n",
    "plt.bar(range(2,13),contar_sumas)\n",
    "plt.xlabel(\"Suma\")\n",
    "plt.ylabel(\"veces\")\n",
    "plt.title(\"Distribución\")\n",
    "plt.show"
   ]
  }
 ],
 "metadata": {
  "kernelspec": {
   "display_name": "base",
   "language": "python",
   "name": "python3"
  },
  "language_info": {
   "codemirror_mode": {
    "name": "ipython",
    "version": 3
   },
   "file_extension": ".py",
   "mimetype": "text/x-python",
   "name": "python",
   "nbconvert_exporter": "python",
   "pygments_lexer": "ipython3",
   "version": "3.12.2"
  },
  "toc": {
   "base_numbering": 1,
   "nav_menu": {},
   "number_sections": false,
   "sideBar": true,
   "skip_h1_title": false,
   "title_cell": "Table of Contents",
   "title_sidebar": "Contents",
   "toc_cell": false,
   "toc_position": {
    "height": "calc(100% - 180px)",
    "left": "10px",
    "top": "150px",
    "width": "296.475px"
   },
   "toc_section_display": true,
   "toc_window_display": false
  },
  "varInspector": {
   "cols": {
    "lenName": 16,
    "lenType": 16,
    "lenVar": 40
   },
   "kernels_config": {
    "python": {
     "delete_cmd_postfix": "",
     "delete_cmd_prefix": "del ",
     "library": "var_list.py",
     "varRefreshCmd": "print(var_dic_list())"
    },
    "r": {
     "delete_cmd_postfix": ") ",
     "delete_cmd_prefix": "rm(",
     "library": "var_list.r",
     "varRefreshCmd": "cat(var_dic_list()) "
    }
   },
   "types_to_exclude": [
    "module",
    "function",
    "builtin_function_or_method",
    "instance",
    "_Feature"
   ],
   "window_display": false
  }
 },
 "nbformat": 4,
 "nbformat_minor": 2
}
