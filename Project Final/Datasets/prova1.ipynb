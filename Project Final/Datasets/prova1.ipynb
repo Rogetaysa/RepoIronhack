{
 "cells": [
  {
   "cell_type": "code",
   "execution_count": 1,
   "metadata": {},
   "outputs": [
    {
     "name": "stdout",
     "output_type": "stream",
     "text": [
      "Requirement already satisfied: pandas in /opt/anaconda3/lib/python3.12/site-packages (2.2.2)\n",
      "Requirement already satisfied: numpy>=1.26.0 in /opt/anaconda3/lib/python3.12/site-packages (from pandas) (1.26.4)\n",
      "Requirement already satisfied: python-dateutil>=2.8.2 in /opt/anaconda3/lib/python3.12/site-packages (from pandas) (2.9.0.post0)\n",
      "Requirement already satisfied: pytz>=2020.1 in /opt/anaconda3/lib/python3.12/site-packages (from pandas) (2024.1)\n",
      "Requirement already satisfied: tzdata>=2022.7 in /opt/anaconda3/lib/python3.12/site-packages (from pandas) (2023.3)\n",
      "Requirement already satisfied: six>=1.5 in /opt/anaconda3/lib/python3.12/site-packages (from python-dateutil>=2.8.2->pandas) (1.16.0)\n",
      "Note: you may need to restart the kernel to use updated packages.\n"
     ]
    }
   ],
   "source": [
    "pip install pandas"
   ]
  },
  {
   "cell_type": "code",
   "execution_count": 2,
   "metadata": {},
   "outputs": [],
   "source": [
    "import xml.etree.ElementTree as ET\n",
    "import pandas as pd\n",
    "\n",
    "# Llegeix el fitxer XML\n",
    "tree = ET.parse('/Users/gabrielrogetdeaysa/Dropbox/Doc/Estudis/2024Estudis/Ironhack/Other/apple_health_export/exportació.xml')\n",
    "root = tree.getroot()\n",
    "\n",
    "# Crea una llista per guardar les dades\n",
    "data = []\n",
    "\n",
    "# Itera per cada node amb la informació rellevant (per exemple, <Record>)\n",
    "for record in root.findall('.//Record'):\n",
    "    record_data = {\n",
    "        'type': record.get('type'),\n",
    "        'unit': record.get('unit'),\n",
    "        'value': record.get('value'),\n",
    "        'startDate': record.get('startDate'),\n",
    "        'endDate': record.get('endDate')\n",
    "    }\n",
    "    data.append(record_data)\n",
    "\n",
    "# Converteix la llista a un DataFrame de pandas\n",
    "df = pd.DataFrame(data)\n",
    "\n",
    "# Guarda el DataFrame com a CSV\n",
    "df.to_csv('/Users/gabrielrogetdeaysa/Dropbox/Doc/Estudis/2024Estudis/Ironhack/Other/apple_health_export/dades_entrenament.csv', index=False)\n"
   ]
  }
 ],
 "metadata": {
  "kernelspec": {
   "display_name": "base",
   "language": "python",
   "name": "python3"
  },
  "language_info": {
   "codemirror_mode": {
    "name": "ipython",
    "version": 3
   },
   "file_extension": ".py",
   "mimetype": "text/x-python",
   "name": "python",
   "nbconvert_exporter": "python",
   "pygments_lexer": "ipython3",
   "version": "3.12.2"
  }
 },
 "nbformat": 4,
 "nbformat_minor": 2
}
