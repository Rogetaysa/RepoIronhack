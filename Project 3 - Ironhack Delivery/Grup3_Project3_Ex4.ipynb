{
 "cells": [
  {
   "cell_type": "markdown",
   "metadata": {},
   "source": [
    "*PREGUNTA 4*"
   ]
  },
  {
   "cell_type": "code",
   "execution_count": 34,
   "metadata": {},
   "outputs": [],
   "source": [
    "#import tot:\n",
    "import random\n",
    "import pandas as pd\n",
    "import numpy as np\n",
    "import statsmodels.api as sm\n",
    "import matplotlib.pyplot as plt\n",
    "from sklearn.model_selection import train_test_split\n",
    "from scipy.stats import ttest_ind, norm, ks_2samp\n",
    "from statsmodels.stats.power import TTestIndPower"
   ]
  },
  {
   "cell_type": "code",
   "execution_count": 41,
   "metadata": {},
   "outputs": [
    {
     "data": {
      "text/html": [
       "<div>\n",
       "<style scoped>\n",
       "    .dataframe tbody tr th:only-of-type {\n",
       "        vertical-align: middle;\n",
       "    }\n",
       "\n",
       "    .dataframe tbody tr th {\n",
       "        vertical-align: top;\n",
       "    }\n",
       "\n",
       "    .dataframe thead th {\n",
       "        text-align: right;\n",
       "    }\n",
       "</style>\n",
       "<table border=\"1\" class=\"dataframe\">\n",
       "  <thead>\n",
       "    <tr style=\"text-align: right;\">\n",
       "      <th></th>\n",
       "      <th>order_id</th>\n",
       "      <th>activation_time_local</th>\n",
       "      <th>country_code</th>\n",
       "      <th>store_address</th>\n",
       "      <th>final_status</th>\n",
       "      <th>payment_status</th>\n",
       "      <th>products</th>\n",
       "      <th>products_total</th>\n",
       "      <th>purchase_total_price</th>\n",
       "    </tr>\n",
       "  </thead>\n",
       "  <tbody>\n",
       "    <tr>\n",
       "      <th>0</th>\n",
       "      <td>33557880</td>\n",
       "      <td>NaT</td>\n",
       "      <td>AR</td>\n",
       "      <td>14200</td>\n",
       "      <td>DeliveredStatus</td>\n",
       "      <td>PAID</td>\n",
       "      <td>1</td>\n",
       "      <td>4.54</td>\n",
       "      <td>8.64</td>\n",
       "    </tr>\n",
       "    <tr>\n",
       "      <th>1</th>\n",
       "      <td>33512615</td>\n",
       "      <td>NaT</td>\n",
       "      <td>TR</td>\n",
       "      <td>28725</td>\n",
       "      <td>DeliveredStatus</td>\n",
       "      <td>PAID</td>\n",
       "      <td>1</td>\n",
       "      <td>3.76</td>\n",
       "      <td>3.76</td>\n",
       "    </tr>\n",
       "    <tr>\n",
       "      <th>2</th>\n",
       "      <td>33512451</td>\n",
       "      <td>NaT</td>\n",
       "      <td>TR</td>\n",
       "      <td>28725</td>\n",
       "      <td>DeliveredStatus</td>\n",
       "      <td>PAID</td>\n",
       "      <td>1</td>\n",
       "      <td>2.86</td>\n",
       "      <td>2.86</td>\n",
       "    </tr>\n",
       "    <tr>\n",
       "      <th>3</th>\n",
       "      <td>33530892</td>\n",
       "      <td>NaT</td>\n",
       "      <td>ES</td>\n",
       "      <td>19777</td>\n",
       "      <td>CanceledStatus</td>\n",
       "      <td>PAID</td>\n",
       "      <td>1</td>\n",
       "      <td>12.95</td>\n",
       "      <td>0.00</td>\n",
       "    </tr>\n",
       "    <tr>\n",
       "      <th>4</th>\n",
       "      <td>33557765</td>\n",
       "      <td>NaT</td>\n",
       "      <td>AR</td>\n",
       "      <td>34565</td>\n",
       "      <td>DeliveredStatus</td>\n",
       "      <td>PAID</td>\n",
       "      <td>2</td>\n",
       "      <td>2.86</td>\n",
       "      <td>6.48</td>\n",
       "    </tr>\n",
       "  </tbody>\n",
       "</table>\n",
       "</div>"
      ],
      "text/plain": [
       "   order_id activation_time_local country_code  store_address  \\\n",
       "0  33557880                   NaT           AR          14200   \n",
       "1  33512615                   NaT           TR          28725   \n",
       "2  33512451                   NaT           TR          28725   \n",
       "3  33530892                   NaT           ES          19777   \n",
       "4  33557765                   NaT           AR          34565   \n",
       "\n",
       "      final_status payment_status  products  products_total  \\\n",
       "0  DeliveredStatus           PAID         1            4.54   \n",
       "1  DeliveredStatus           PAID         1            3.76   \n",
       "2  DeliveredStatus           PAID         1            2.86   \n",
       "3   CanceledStatus           PAID         1           12.95   \n",
       "4  DeliveredStatus           PAID         2            2.86   \n",
       "\n",
       "   purchase_total_price  \n",
       "0                  8.64  \n",
       "1                  3.76  \n",
       "2                  2.86  \n",
       "3                  0.00  \n",
       "4                  6.48  "
      ]
     },
     "execution_count": 41,
     "metadata": {},
     "output_type": "execute_result"
    }
   ],
   "source": [
    "capsalera = [\n",
    "    'order_id', 'activation_time_local', 'country_code', 'store_address', 'final_status', 'payment_status', 'products', 'products_total', 'purchase_total_price'\n",
    "]\n",
    "dataold = pd.read_csv('/Users/gabrielrogetdeaysa/Library/CloudStorage/GoogleDrive-rogetaysa@gmail.com/La meva unitat/IronhackGD/RepoIronhack/Project 3 - Ironhack Delivery/project_dataset/python_raw_data/fake_orders_test.csv', header= None, names= capsalera)\n",
    "dataold.to_csv('/Users/gabrielrogetdeaysa/Library/CloudStorage/GoogleDrive-rogetaysa@gmail.com/La meva unitat/IronhackGD/RepoIronhack/Project 3 - Ironhack Delivery/project_dataset/python_raw_data/fake_orders_test_headers.csv',index=False)\n",
    "data = pd.read_csv('/Users/gabrielrogetdeaysa/Library/CloudStorage/GoogleDrive-rogetaysa@gmail.com/La meva unitat/IronhackGD/RepoIronhack/Project 3 - Ironhack Delivery/project_dataset/python_raw_data/fake_orders_test_headers.csv')\n",
    "data['activation_time_local'] = pd.to_datetime(data['activation_time_local'], errors='coerce', format='%d/%m/%Y %H:%M')\n",
    "data.head()"
   ]
  },
  {
   "cell_type": "code",
   "execution_count": 42,
   "metadata": {},
   "outputs": [
    {
     "name": "stdout",
     "output_type": "stream",
     "text": [
      "<class 'pandas.core.frame.DataFrame'>\n",
      "RangeIndex: 60400 entries, 0 to 60399\n",
      "Data columns (total 9 columns):\n",
      " #   Column                 Non-Null Count  Dtype         \n",
      "---  ------                 --------------  -----         \n",
      " 0   order_id               60400 non-null  int64         \n",
      " 1   activation_time_local  0 non-null      datetime64[ns]\n",
      " 2   country_code           60400 non-null  object        \n",
      " 3   store_address          60400 non-null  int64         \n",
      " 4   final_status           60400 non-null  object        \n",
      " 5   payment_status         60400 non-null  object        \n",
      " 6   products               60400 non-null  int64         \n",
      " 7   products_total         60400 non-null  float64       \n",
      " 8   purchase_total_price   60400 non-null  float64       \n",
      "dtypes: datetime64[ns](1), float64(2), int64(3), object(3)\n",
      "memory usage: 4.1+ MB\n"
     ]
    }
   ],
   "source": [
    "data.info()"
   ]
  },
  {
   "cell_type": "code",
   "execution_count": 43,
   "metadata": {},
   "outputs": [
    {
     "data": {
      "text/html": [
       "<div>\n",
       "<style scoped>\n",
       "    .dataframe tbody tr th:only-of-type {\n",
       "        vertical-align: middle;\n",
       "    }\n",
       "\n",
       "    .dataframe tbody tr th {\n",
       "        vertical-align: top;\n",
       "    }\n",
       "\n",
       "    .dataframe thead th {\n",
       "        text-align: right;\n",
       "    }\n",
       "</style>\n",
       "<table border=\"1\" class=\"dataframe\">\n",
       "  <thead>\n",
       "    <tr style=\"text-align: right;\">\n",
       "      <th></th>\n",
       "      <th>order_id</th>\n",
       "      <th>activation_time_local</th>\n",
       "      <th>store_address</th>\n",
       "      <th>products</th>\n",
       "      <th>products_total</th>\n",
       "      <th>purchase_total_price</th>\n",
       "    </tr>\n",
       "  </thead>\n",
       "  <tbody>\n",
       "    <tr>\n",
       "      <th>count</th>\n",
       "      <td>6.040000e+04</td>\n",
       "      <td>0</td>\n",
       "      <td>60400.000000</td>\n",
       "      <td>60400.000000</td>\n",
       "      <td>60400.000000</td>\n",
       "      <td>60400.000000</td>\n",
       "    </tr>\n",
       "    <tr>\n",
       "      <th>mean</th>\n",
       "      <td>3.278265e+07</td>\n",
       "      <td>NaT</td>\n",
       "      <td>41580.723692</td>\n",
       "      <td>2.811358</td>\n",
       "      <td>9.832693</td>\n",
       "      <td>10.703447</td>\n",
       "    </tr>\n",
       "    <tr>\n",
       "      <th>min</th>\n",
       "      <td>3.150378e+07</td>\n",
       "      <td>NaT</td>\n",
       "      <td>190.000000</td>\n",
       "      <td>1.000000</td>\n",
       "      <td>0.000000</td>\n",
       "      <td>0.000000</td>\n",
       "    </tr>\n",
       "    <tr>\n",
       "      <th>25%</th>\n",
       "      <td>3.240091e+07</td>\n",
       "      <td>NaT</td>\n",
       "      <td>21110.000000</td>\n",
       "      <td>1.000000</td>\n",
       "      <td>4.110000</td>\n",
       "      <td>4.330000</td>\n",
       "    </tr>\n",
       "    <tr>\n",
       "      <th>50%</th>\n",
       "      <td>3.278110e+07</td>\n",
       "      <td>NaT</td>\n",
       "      <td>45849.000000</td>\n",
       "      <td>2.000000</td>\n",
       "      <td>7.120000</td>\n",
       "      <td>7.980000</td>\n",
       "    </tr>\n",
       "    <tr>\n",
       "      <th>75%</th>\n",
       "      <td>3.318279e+07</td>\n",
       "      <td>NaT</td>\n",
       "      <td>61992.250000</td>\n",
       "      <td>3.000000</td>\n",
       "      <td>12.750000</td>\n",
       "      <td>14.160000</td>\n",
       "    </tr>\n",
       "    <tr>\n",
       "      <th>max</th>\n",
       "      <td>3.356085e+07</td>\n",
       "      <td>NaT</td>\n",
       "      <td>75236.000000</td>\n",
       "      <td>39.000000</td>\n",
       "      <td>221.480000</td>\n",
       "      <td>265.760000</td>\n",
       "    </tr>\n",
       "    <tr>\n",
       "      <th>std</th>\n",
       "      <td>4.453627e+05</td>\n",
       "      <td>NaN</td>\n",
       "      <td>21905.784563</td>\n",
       "      <td>2.431214</td>\n",
       "      <td>9.276841</td>\n",
       "      <td>10.781632</td>\n",
       "    </tr>\n",
       "  </tbody>\n",
       "</table>\n",
       "</div>"
      ],
      "text/plain": [
       "           order_id activation_time_local  store_address      products  \\\n",
       "count  6.040000e+04                     0   60400.000000  60400.000000   \n",
       "mean   3.278265e+07                   NaT   41580.723692      2.811358   \n",
       "min    3.150378e+07                   NaT     190.000000      1.000000   \n",
       "25%    3.240091e+07                   NaT   21110.000000      1.000000   \n",
       "50%    3.278110e+07                   NaT   45849.000000      2.000000   \n",
       "75%    3.318279e+07                   NaT   61992.250000      3.000000   \n",
       "max    3.356085e+07                   NaT   75236.000000     39.000000   \n",
       "std    4.453627e+05                   NaN   21905.784563      2.431214   \n",
       "\n",
       "       products_total  purchase_total_price  \n",
       "count    60400.000000          60400.000000  \n",
       "mean         9.832693             10.703447  \n",
       "min          0.000000              0.000000  \n",
       "25%          4.110000              4.330000  \n",
       "50%          7.120000              7.980000  \n",
       "75%         12.750000             14.160000  \n",
       "max        221.480000            265.760000  \n",
       "std          9.276841             10.781632  "
      ]
     },
     "execution_count": 43,
     "metadata": {},
     "output_type": "execute_result"
    }
   ],
   "source": [
    "data.describe()"
   ]
  },
  {
   "cell_type": "code",
   "execution_count": 44,
   "metadata": {},
   "outputs": [
    {
     "data": {
      "text/html": [
       "<div>\n",
       "<style scoped>\n",
       "    .dataframe tbody tr th:only-of-type {\n",
       "        vertical-align: middle;\n",
       "    }\n",
       "\n",
       "    .dataframe tbody tr th {\n",
       "        vertical-align: top;\n",
       "    }\n",
       "\n",
       "    .dataframe thead th {\n",
       "        text-align: right;\n",
       "    }\n",
       "</style>\n",
       "<table border=\"1\" class=\"dataframe\">\n",
       "  <thead>\n",
       "    <tr style=\"text-align: right;\">\n",
       "      <th></th>\n",
       "      <th>products_total</th>\n",
       "    </tr>\n",
       "  </thead>\n",
       "  <tbody>\n",
       "    <tr>\n",
       "      <th>0</th>\n",
       "      <td>4.54</td>\n",
       "    </tr>\n",
       "    <tr>\n",
       "      <th>1</th>\n",
       "      <td>3.76</td>\n",
       "    </tr>\n",
       "    <tr>\n",
       "      <th>2</th>\n",
       "      <td>2.86</td>\n",
       "    </tr>\n",
       "    <tr>\n",
       "      <th>3</th>\n",
       "      <td>12.95</td>\n",
       "    </tr>\n",
       "    <tr>\n",
       "      <th>4</th>\n",
       "      <td>2.86</td>\n",
       "    </tr>\n",
       "  </tbody>\n",
       "</table>\n",
       "</div>"
      ],
      "text/plain": [
       "   products_total\n",
       "0            4.54\n",
       "1            3.76\n",
       "2            2.86\n",
       "3           12.95\n",
       "4            2.86"
      ]
     },
     "execution_count": 44,
     "metadata": {},
     "output_type": "execute_result"
    }
   ],
   "source": [
    "# Generar lista de 100000 usuaris random fake\n",
    "# Create the synthetic data for the ab testing example\n",
    "# population_data = [random.randint(1, 100) for _ in range(population)]\n",
    "population_data = data['products_total']\n",
    "\n",
    "df = pd.DataFrame({'products_total':population_data})\n",
    "df.head()"
   ]
  },
  {
   "cell_type": "code",
   "execution_count": 45,
   "metadata": {},
   "outputs": [],
   "source": [
    "# Initialize variables\n",
    "contador = 0  # This will track the fraction of the dataset allocated to the test group\n",
    "data = {}  # To store results\n",
    "\n",
    "# Loop to calculate MDE for splits ranging from 5% to 50% of the dataset\n",
    "while contador <= 0.45:\n",
    "    contador += 0.05  # Increment the fraction for each iteration\n",
    "    mde_list = []  # To store MDE values for each iteration\n",
    "    avg_list = []  # To store average values for the control group\n",
    "    \n",
    "    # Perform 30 simulations for each split to average the MDE\n",
    "    for i in range(1, 31):\n",
    "        # Randomly split the dataset into test and control groups based on the current fraction\n",
    "        test_df, control_df = train_test_split(df, test_size=contador)\n",
    "        \n",
    "        # Define the parameters for the MDE calculation\n",
    "        alpha = 0.05  # Significance level\n",
    "        beta = 0.8    # Desired statistical power\n",
    "        \n",
    "        # Calculate standard deviations for both groups\n",
    "        std_dev_test = np.std(test_df['products_total'])\n",
    "        std_dev_control = np.std(control_df['products_total'])\n",
    "        \n",
    "        # Calculate sample sizes\n",
    "        sample_size_control = len(control_df)\n",
    "        sample_size_test = len(test_df)\n",
    "        \n",
    "        # Calculate critical values for the two-tailed test\n",
    "        z_alpha = norm.ppf(1 - alpha/2)\n",
    "        z_beta = norm.ppf(beta)\n",
    "        \n",
    "        # Calculate pooled standard deviation\n",
    "        pooled_std_dev = np.sqrt(((sample_size_control - 1) * std_dev_control**2 + \n",
    "                                  (sample_size_test - 1) * std_dev_test**2) / \n",
    "                                 (sample_size_control + sample_size_test - 2))\n",
    "        \n",
    "        # Calculate the MDE\n",
    "        mde = (z_alpha + z_beta) * pooled_std_dev * np.sqrt(2 / sample_size_control)\n",
    "        \n",
    "        # Append the MDE and average control group price to their respective lists\n",
    "        mde_list.append(mde)\n",
    "        avg = np.mean(control_df['products_total'])\n",
    "        avg_list.append(avg)\n",
    "    \n",
    "    # Calculate and store the average MDE, average price, and MDE percentage for the current split\n",
    "    data[(round(contador, 2))] = {'mde': round(np.mean(mde_list), 4),\n",
    "                                  'avg': round(np.mean(avg_list), 4),\n",
    "                                  'mde_%': round(np.mean(mde_list) / np.mean(avg_list) * 100, 2)}"
   ]
  },
  {
   "cell_type": "code",
   "execution_count": 46,
   "metadata": {},
   "outputs": [
    {
     "data": {
      "text/plain": [
       "{0.05: {'mde': 0.6688, 'avg': 9.8033, 'mde_%': 6.82},\n",
       " 0.1: {'mde': 0.4729, 'avg': 9.8158, 'mde_%': 4.82},\n",
       " 0.15: {'mde': 0.3861, 'avg': 9.834, 'mde_%': 3.93},\n",
       " 0.2: {'mde': 0.3344, 'avg': 9.8538, 'mde_%': 3.39},\n",
       " 0.25: {'mde': 0.2991, 'avg': 9.8321, 'mde_%': 3.04},\n",
       " 0.3: {'mde': 0.273, 'avg': 9.8193, 'mde_%': 2.78},\n",
       " 0.35: {'mde': 0.2528, 'avg': 9.8379, 'mde_%': 2.57},\n",
       " 0.4: {'mde': 0.2365, 'avg': 9.845, 'mde_%': 2.4},\n",
       " 0.45: {'mde': 0.2229, 'avg': 9.8416, 'mde_%': 2.27},\n",
       " 0.5: {'mde': 0.2115, 'avg': 9.8355, 'mde_%': 2.15}}"
      ]
     },
     "execution_count": 46,
     "metadata": {},
     "output_type": "execute_result"
    }
   ],
   "source": [
    "# Computed value for the sample selected\n",
    "data"
   ]
  },
  {
   "cell_type": "code",
   "execution_count": 47,
   "metadata": {},
   "outputs": [
    {
     "data": {
      "image/png": "[encoded data removed]",
      "text/plain": [
       "<Figure size 640x480 with 1 Axes>"
      ]
     },
     "metadata": {},
     "output_type": "display_data"
    }
   ],
   "source": [
    "# Prepare data for plotting\n",
    "percentage_split = [float(key)*100 for key in data.keys()]  # Convert keys to float and multiply by 100 to get percentages\n",
    "mde_percentage_list_hist = [value['mde_%'] for value in data.values()]  # Extract MDE percentages\n",
    "\n",
    "# Plotting\n",
    "plt.plot(percentage_split, mde_percentage_list_hist, marker='o')  # 'o' adds markers to the line plot\n",
    "plt.title('Line Plot of MDE Percentages')\n",
    "plt.xlabel('Sample Percentage (%)')  # Updated to display counter percentage of the sample\n",
    "plt.ylabel('MDE Percentage')\n",
    "\n",
    "# Show the plot\n",
    "plt.show()"
   ]
  },
  {
   "cell_type": "code",
   "execution_count": 49,
   "metadata": {},
   "outputs": [],
   "source": [
    "# We run the split with 30% in test, as per the MDE curve we think it is the most optimal business<>statistical\n",
    "test_df, control_df = train_test_split(df, test_size=0.3)\n"
   ]
  },
  {
   "cell_type": "code",
   "execution_count": 50,
   "metadata": {},
   "outputs": [
    {
     "data": {
      "text/html": [
       "<div>\n",
       "<style scoped>\n",
       "    .dataframe tbody tr th:only-of-type {\n",
       "        vertical-align: middle;\n",
       "    }\n",
       "\n",
       "    .dataframe tbody tr th {\n",
       "        vertical-align: top;\n",
       "    }\n",
       "\n",
       "    .dataframe thead th {\n",
       "        text-align: right;\n",
       "    }\n",
       "</style>\n",
       "<table border=\"1\" class=\"dataframe\">\n",
       "  <thead>\n",
       "    <tr style=\"text-align: right;\">\n",
       "      <th></th>\n",
       "      <th>products_total</th>\n",
       "    </tr>\n",
       "  </thead>\n",
       "  <tbody>\n",
       "    <tr>\n",
       "      <th>16151</th>\n",
       "      <td>2.00</td>\n",
       "    </tr>\n",
       "    <tr>\n",
       "      <th>15425</th>\n",
       "      <td>6.25</td>\n",
       "    </tr>\n",
       "    <tr>\n",
       "      <th>28193</th>\n",
       "      <td>11.12</td>\n",
       "    </tr>\n",
       "    <tr>\n",
       "      <th>7105</th>\n",
       "      <td>4.15</td>\n",
       "    </tr>\n",
       "    <tr>\n",
       "      <th>32288</th>\n",
       "      <td>13.50</td>\n",
       "    </tr>\n",
       "    <tr>\n",
       "      <th>...</th>\n",
       "      <td>...</td>\n",
       "    </tr>\n",
       "    <tr>\n",
       "      <th>45443</th>\n",
       "      <td>13.90</td>\n",
       "    </tr>\n",
       "    <tr>\n",
       "      <th>52223</th>\n",
       "      <td>6.65</td>\n",
       "    </tr>\n",
       "    <tr>\n",
       "      <th>27711</th>\n",
       "      <td>11.53</td>\n",
       "    </tr>\n",
       "    <tr>\n",
       "      <th>11459</th>\n",
       "      <td>8.40</td>\n",
       "    </tr>\n",
       "    <tr>\n",
       "      <th>17686</th>\n",
       "      <td>23.08</td>\n",
       "    </tr>\n",
       "  </tbody>\n",
       "</table>\n",
       "<p>42280 rows × 1 columns</p>\n",
       "</div>"
      ],
      "text/plain": [
       "       products_total\n",
       "16151            2.00\n",
       "15425            6.25\n",
       "28193           11.12\n",
       "7105             4.15\n",
       "32288           13.50\n",
       "...               ...\n",
       "45443           13.90\n",
       "52223            6.65\n",
       "27711           11.53\n",
       "11459            8.40\n",
       "17686           23.08\n",
       "\n",
       "[42280 rows x 1 columns]"
      ]
     },
     "execution_count": 50,
     "metadata": {},
     "output_type": "execute_result"
    }
   ],
   "source": [
    "test_df"
   ]
  },
  {
   "cell_type": "code",
   "execution_count": 51,
   "metadata": {},
   "outputs": [
    {
     "data": {
      "text/html": [
       "<div>\n",
       "<style scoped>\n",
       "    .dataframe tbody tr th:only-of-type {\n",
       "        vertical-align: middle;\n",
       "    }\n",
       "\n",
       "    .dataframe tbody tr th {\n",
       "        vertical-align: top;\n",
       "    }\n",
       "\n",
       "    .dataframe thead th {\n",
       "        text-align: right;\n",
       "    }\n",
       "</style>\n",
       "<table border=\"1\" class=\"dataframe\">\n",
       "  <thead>\n",
       "    <tr style=\"text-align: right;\">\n",
       "      <th></th>\n",
       "      <th>products_total</th>\n",
       "    </tr>\n",
       "  </thead>\n",
       "  <tbody>\n",
       "    <tr>\n",
       "      <th>3320</th>\n",
       "      <td>9.34</td>\n",
       "    </tr>\n",
       "    <tr>\n",
       "      <th>31493</th>\n",
       "      <td>4.92</td>\n",
       "    </tr>\n",
       "    <tr>\n",
       "      <th>35012</th>\n",
       "      <td>6.27</td>\n",
       "    </tr>\n",
       "    <tr>\n",
       "      <th>12494</th>\n",
       "      <td>3.47</td>\n",
       "    </tr>\n",
       "    <tr>\n",
       "      <th>22269</th>\n",
       "      <td>23.99</td>\n",
       "    </tr>\n",
       "    <tr>\n",
       "      <th>...</th>\n",
       "      <td>...</td>\n",
       "    </tr>\n",
       "    <tr>\n",
       "      <th>48697</th>\n",
       "      <td>3.19</td>\n",
       "    </tr>\n",
       "    <tr>\n",
       "      <th>57369</th>\n",
       "      <td>3.26</td>\n",
       "    </tr>\n",
       "    <tr>\n",
       "      <th>54204</th>\n",
       "      <td>2.79</td>\n",
       "    </tr>\n",
       "    <tr>\n",
       "      <th>56519</th>\n",
       "      <td>15.10</td>\n",
       "    </tr>\n",
       "    <tr>\n",
       "      <th>57121</th>\n",
       "      <td>23.61</td>\n",
       "    </tr>\n",
       "  </tbody>\n",
       "</table>\n",
       "<p>18120 rows × 1 columns</p>\n",
       "</div>"
      ],
      "text/plain": [
       "       products_total\n",
       "3320             9.34\n",
       "31493            4.92\n",
       "35012            6.27\n",
       "12494            3.47\n",
       "22269           23.99\n",
       "...               ...\n",
       "48697            3.19\n",
       "57369            3.26\n",
       "54204            2.79\n",
       "56519           15.10\n",
       "57121           23.61\n",
       "\n",
       "[18120 rows x 1 columns]"
      ]
     },
     "execution_count": 51,
     "metadata": {},
     "output_type": "execute_result"
    }
   ],
   "source": [
    "control_df"
   ]
  },
  {
   "cell_type": "code",
   "execution_count": 52,
   "metadata": {},
   "outputs": [
    {
     "name": "stdout",
     "output_type": "stream",
     "text": [
      "KS statistic: [0.0068275]\n",
      "P-value: [0.59294475]\n"
     ]
    }
   ],
   "source": [
    "# Selecting the data from each DataFrame\n",
    "# data1 = control_df['price']  # We select the column price from our df\n",
    "# data2 = test_df['price']  # We select the column price from our df\n",
    "data1 = control_df\n",
    "data2 = test_df\n",
    "\n",
    "# Perform the KS test\n",
    "statistic, p_value = ks_2samp(data1, data2)\n",
    "\n",
    "print(f\"KS statistic: {statistic}\")\n",
    "print(f\"P-value: {p_value}\")"
   ]
  },
  {
   "cell_type": "code",
   "execution_count": 53,
   "metadata": {},
   "outputs": [
    {
     "name": "stdout",
     "output_type": "stream",
     "text": [
      "Global p-value of TOST: [0.02784784]\n",
      "Inferiority test (difference > lower margin): Statistic = [2.9426285], p-value = [0.00162781]\n",
      "Superiority test (difference < upper margin): Statistic = [-1.91344618], p-value = [0.02784784]\n",
      "There is enough statistical evidence to claim that the two group are equivalent within the specified equivalence margin.\n"
     ]
    }
   ],
   "source": [
    "# Define the equivalence limits\n",
    "low, upp = -0.2, 0.2 \n",
    "\n",
    "# Unpacking the results\n",
    "p_value_global, result_lower, result_upper = sm.stats.ttost_ind(data1, data2, low, upp)\n",
    "\n",
    "# Print the results\n",
    "print(f\"Global p-value of TOST: {p_value_global}\")\n",
    "print(f\"Inferiority test (difference > lower margin): Statistic = {result_lower[0]}, p-value = {result_lower[1]}\")\n",
    "print(f\"Superiority test (difference < upper margin): Statistic = {result_upper[0]}, p-value = {result_upper[1]}\")\n",
    "\n",
    "# Interpretation based on p-values\n",
    "if p_value_global < 0.05:\n",
    "    print(\"There is enough statistical evidence to claim that the two group are equivalent within the specified equivalence margin.\")\n",
    "else:\n",
    "    print(\"There is not enough evidence to claim that the two drugs are equivalent.\")"
   ]
  },
  {
   "cell_type": "markdown",
   "metadata": {},
   "source": [
    "### 1. ¿Qué porcentaje de pedidos están subautorizados?\n"
   ]
  },
  {
   "cell_type": "code",
   "execution_count": 14,
   "metadata": {},
   "outputs": [
    {
     "name": "stdout",
     "output_type": "stream",
     "text": [
      "P1: % Subautorizados: 57.58%\n"
     ]
    }
   ],
   "source": [
    "data['subautorizado'] = data['products_total']<data['purchase_total_price'] \n",
    "porcentaje_subautorizado = data['subautorizado'].mean()*100\n",
    "print(f\"P1: % Subautorizados: {porcentaje_subautorizado:.2f}%\")"
   ]
  },
  {
   "cell_type": "markdown",
   "metadata": {},
   "source": [
    "### 2. ¿Qué porcentaje de pedidos se autorizarían correctamente con una autorización incremental (+20%) sobre el monto en el checkout?"
   ]
  },
  {
   "cell_type": "code",
   "execution_count": 15,
   "metadata": {},
   "outputs": [
    {
     "name": "stdout",
     "output_type": "stream",
     "text": [
      "P2: % de pedidos autoritzats amb increment de 20%: 69.03%\n"
     ]
    }
   ],
   "source": [
    "data['autorizacion_incremental']= data['products_total']*1.2 >= data['purchase_total_price']\n",
    "percentatge_autoritzats_incremental = data['autorizacion_incremental'].mean()*100\n",
    "print(f\"P2: % de pedidos autoritzats amb increment de 20%: {percentatge_autoritzats_incremental:.2f}%\")"
   ]
  },
  {
   "cell_type": "markdown",
   "metadata": {},
   "source": [
    "### 3. ¿Hay diferencias cuando se dividen por país?"
   ]
  },
  {
   "cell_type": "code",
   "execution_count": 20,
   "metadata": {},
   "outputs": [
    {
     "name": "stdout",
     "output_type": "stream",
     "text": [
      "3: \n"
     ]
    },
    {
     "data": {
      "text/plain": [
       "country_code\n",
       "AR    66.388720\n",
       "BR    50.000000\n",
       "CI    66.666667\n",
       "CL    12.952899\n",
       "CR    79.855465\n",
       "DO    62.000000\n",
       "EC    62.599681\n",
       "EG    65.645514\n",
       "ES    71.497735\n",
       "FR    67.322097\n",
       "GE    68.315018\n",
       "GT    79.717813\n",
       "IT    70.085470\n",
       "KE    73.404255\n",
       "MA    77.512255\n",
       "PA    66.929911\n",
       "PE    78.098224\n",
       "PR    87.878788\n",
       "PT    63.916392\n",
       "RO    72.173512\n",
       "TR    68.887839\n",
       "UA    72.663268\n",
       "UY    79.473684\n",
       "Name: autorizacion_incremental, dtype: float64"
      ]
     },
     "execution_count": 20,
     "metadata": {},
     "output_type": "execute_result"
    }
   ],
   "source": [
    "por_pais = data.groupby('country_code')['autorizacion_incremental'].mean()*100\n",
    "print(\"3: \")\n",
    "por_pais"
   ]
  },
  {
   "cell_type": "markdown",
   "metadata": {},
   "source": [
    "### 4. Para el resto de pedidos que quedarían fuera de la autorización incremental, ¿qué valores serían necesarios para capturar el monto restante?"
   ]
  },
  {
   "cell_type": "code",
   "execution_count": 22,
   "metadata": {},
   "outputs": [
    {
     "name": "stdout",
     "output_type": "stream",
     "text": [
      "4: \n"
     ]
    },
    {
     "data": {
      "text/plain": [
       "0         NaN\n",
       "1         NaN\n",
       "2         NaN\n",
       "3         NaN\n",
       "4         NaN\n",
       "         ... \n",
       "60395    0.16\n",
       "60396     NaN\n",
       "60397    0.67\n",
       "60398     NaN\n",
       "60399    0.44\n",
       "Length: 60400, dtype: float64"
      ]
     },
     "metadata": {},
     "output_type": "display_data"
    }
   ],
   "source": [
    "sin_autorizacion_incremental = data.loc[data['subautorizado']& data['autorizacion_incremental'],'purchase_total_price']-data['products_total']\n",
    "print(\"4: \")\n",
    "display(sin_autorizacion_incremental)"
   ]
  },
  {
   "cell_type": "code",
   "execution_count": 33,
   "metadata": {},
   "outputs": [
    {
     "data": {
      "text/html": [
       "<div>\n",
       "<style scoped>\n",
       "    .dataframe tbody tr th:only-of-type {\n",
       "        vertical-align: middle;\n",
       "    }\n",
       "\n",
       "    .dataframe tbody tr th {\n",
       "        vertical-align: top;\n",
       "    }\n",
       "\n",
       "    .dataframe thead th {\n",
       "        text-align: right;\n",
       "    }\n",
       "</style>\n",
       "<table border=\"1\" class=\"dataframe\">\n",
       "  <thead>\n",
       "    <tr style=\"text-align: right;\">\n",
       "      <th></th>\n",
       "      <th>products_total</th>\n",
       "      <th>purchase_total_price</th>\n",
       "      <th>pct_monto_extra</th>\n",
       "      <th>cantidad_extra</th>\n",
       "    </tr>\n",
       "  </thead>\n",
       "  <tbody>\n",
       "    <tr>\n",
       "      <th>0</th>\n",
       "      <td>4.54</td>\n",
       "      <td>8.64</td>\n",
       "      <td>0.903084</td>\n",
       "      <td>4.10</td>\n",
       "    </tr>\n",
       "    <tr>\n",
       "      <th>4</th>\n",
       "      <td>2.86</td>\n",
       "      <td>6.48</td>\n",
       "      <td>1.265734</td>\n",
       "      <td>3.62</td>\n",
       "    </tr>\n",
       "    <tr>\n",
       "      <th>10</th>\n",
       "      <td>2.05</td>\n",
       "      <td>10.17</td>\n",
       "      <td>3.960976</td>\n",
       "      <td>8.12</td>\n",
       "    </tr>\n",
       "    <tr>\n",
       "      <th>12</th>\n",
       "      <td>8.10</td>\n",
       "      <td>10.20</td>\n",
       "      <td>0.259259</td>\n",
       "      <td>2.10</td>\n",
       "    </tr>\n",
       "    <tr>\n",
       "      <th>20</th>\n",
       "      <td>4.42</td>\n",
       "      <td>5.73</td>\n",
       "      <td>0.296380</td>\n",
       "      <td>1.31</td>\n",
       "    </tr>\n",
       "    <tr>\n",
       "      <th>...</th>\n",
       "      <td>...</td>\n",
       "      <td>...</td>\n",
       "      <td>...</td>\n",
       "      <td>...</td>\n",
       "    </tr>\n",
       "    <tr>\n",
       "      <th>60371</th>\n",
       "      <td>9.83</td>\n",
       "      <td>21.44</td>\n",
       "      <td>1.181078</td>\n",
       "      <td>11.61</td>\n",
       "    </tr>\n",
       "    <tr>\n",
       "      <th>60373</th>\n",
       "      <td>3.28</td>\n",
       "      <td>6.56</td>\n",
       "      <td>1.000000</td>\n",
       "      <td>3.28</td>\n",
       "    </tr>\n",
       "    <tr>\n",
       "      <th>60374</th>\n",
       "      <td>2.46</td>\n",
       "      <td>5.25</td>\n",
       "      <td>1.134146</td>\n",
       "      <td>2.79</td>\n",
       "    </tr>\n",
       "    <tr>\n",
       "      <th>60380</th>\n",
       "      <td>3.44</td>\n",
       "      <td>6.89</td>\n",
       "      <td>1.002907</td>\n",
       "      <td>3.45</td>\n",
       "    </tr>\n",
       "    <tr>\n",
       "      <th>60389</th>\n",
       "      <td>1.79</td>\n",
       "      <td>5.36</td>\n",
       "      <td>1.994413</td>\n",
       "      <td>3.57</td>\n",
       "    </tr>\n",
       "  </tbody>\n",
       "</table>\n",
       "<p>18703 rows × 4 columns</p>\n",
       "</div>"
      ],
      "text/plain": [
       "       products_total  purchase_total_price  pct_monto_extra  cantidad_extra\n",
       "0                4.54                  8.64         0.903084            4.10\n",
       "4                2.86                  6.48         1.265734            3.62\n",
       "10               2.05                 10.17         3.960976            8.12\n",
       "12               8.10                 10.20         0.259259            2.10\n",
       "20               4.42                  5.73         0.296380            1.31\n",
       "...               ...                   ...              ...             ...\n",
       "60371            9.83                 21.44         1.181078           11.61\n",
       "60373            3.28                  6.56         1.000000            3.28\n",
       "60374            2.46                  5.25         1.134146            2.79\n",
       "60380            3.44                  6.89         1.002907            3.45\n",
       "60389            1.79                  5.36         1.994413            3.57\n",
       "\n",
       "[18703 rows x 4 columns]"
      ]
     },
     "metadata": {},
     "output_type": "display_data"
    }
   ],
   "source": [
    "def calcular_monto_extra(row):\n",
    "    if row['subautorizado'] and not row['autorizacion_incremental']:\n",
    "        if row['products_total'] == 0:\n",
    "            return 10.00, row['purchase_total_price']\n",
    "        else:\n",
    "            pct_extra = (row['purchase_total_price'] / row['products_total']) - 1\n",
    "            cantidad_extra = row['purchase_total_price'] - row['products_total']\n",
    "            return pct_extra, cantidad_extra\n",
    "    return 0, 0\n",
    "\n",
    "data[['pct_monto_extra', 'cantidad_extra']] = data.apply(lambda row: pd.Series(calcular_monto_extra(row)), axis=1)\n",
    "\n",
    "resultats = data[(data['pct_monto_extra'] != 0) | (data['cantidad_extra'] != 0)]\n",
    "\n",
    "display(resultats[['products_total', 'purchase_total_price', 'pct_monto_extra', 'cantidad_extra']])"
   ]
  },
  {
   "cell_type": "markdown",
   "metadata": {},
   "source": [
    "### 5. ¿Qué tiendas son las más problemáticas en términos de pedidos y valor monetario?"
   ]
  },
  {
   "cell_type": "code",
   "execution_count": 6,
   "metadata": {},
   "outputs": [
    {
     "name": "stdout",
     "output_type": "stream",
     "text": [
      "5: \n",
      "               subautorizado  purchase_total_price\n",
      "store_address                                     \n",
      "28671                    448               4714.97\n",
      "28712                    217               3781.39\n",
      "28286                    204               1246.12\n",
      "14455                    179               3514.33\n",
      "11694                    160               1065.96\n"
     ]
    }
   ],
   "source": [
    "problematicas = data.groupby('store_address').agg({'subautorizado':'sum','purchase_total_price':'sum'}).sort_values(by='subautorizado',ascending=False)\n",
    "print(\"5: \")\n",
    "print(problematicas.head())"
   ]
  },
  {
   "cell_type": "markdown",
   "metadata": {},
   "source": [
    "### 6. Para los pedidos subautorizados, ¿hay una correlación entre la diferencia en los precios y la cancelación del pedido? En otras palabras: ¿Es más probable que se cancele un pedido a medida que aumenta la diferencia de precio?"
   ]
  },
  {
   "cell_type": "code",
   "execution_count": 7,
   "metadata": {},
   "outputs": [
    {
     "name": "stdout",
     "output_type": "stream",
     "text": [
      "6: Correlacio -0.43\n"
     ]
    }
   ],
   "source": [
    "data['diferencia_preu']=data['purchase_total_price']-data['products_total']\n",
    "correlacio = data['diferencia_preu'].corr(data['final_status'].apply(lambda x:1 if x == 'CanceledStatus' else 0))\n",
    "print(f\"6: Correlacio {correlacio:.2f}\")"
   ]
  }
 ],
 "metadata": {
  "kernelspec": {
   "display_name": "base",
   "language": "python",
   "name": "python3"
  },
  "language_info": {
   "codemirror_mode": {
    "name": "ipython",
    "version": 3
   },
   "file_extension": ".py",
   "mimetype": "text/x-python",
   "name": "python",
   "nbconvert_exporter": "python",
   "pygments_lexer": "ipython3",
   "version": "3.12.2"
  }
 },
 "nbformat": 4,
 "nbformat_minor": 2
}
