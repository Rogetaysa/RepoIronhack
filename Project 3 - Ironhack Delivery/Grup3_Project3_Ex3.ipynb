{
 "cells": [
  {
   "cell_type": "markdown",
   "metadata": {},
   "source": [
    "# Pregunta 3"
   ]
  },
  {
   "cell_type": "markdown",
   "metadata": {},
   "source": [
    "#### ¿Qué tipo de prueba requeriría esto?\n",
    "\n",
    "Prueba A/B (Sesion 42 - AB Testing). Un experimento controlado. Donde habría dos grupos:\n",
    "Grupo de control a 1,9€\n",
    "Grupo de tratamiento a 2,1€\n"
   ]
  },
  {
   "cell_type": "markdown",
   "metadata": {},
   "source": [
    "#### ¿Probarías esto solo en nuevos usuarios o en todos los usuarios activos? ¿Por qué?\n",
    "\n",
    "Todos los usuarios ya que aseguras que la muestra sea de usuarios recurrentes y de nuevos"
   ]
  },
  {
   "cell_type": "code",
   "execution_count": 4,
   "metadata": {},
   "outputs": [
    {
     "data": {
      "text/html": [
       "<div>\n",
       "<style scoped>\n",
       "    .dataframe tbody tr th:only-of-type {\n",
       "        vertical-align: middle;\n",
       "    }\n",
       "\n",
       "    .dataframe tbody tr th {\n",
       "        vertical-align: top;\n",
       "    }\n",
       "\n",
       "    .dataframe thead th {\n",
       "        text-align: right;\n",
       "    }\n",
       "</style>\n",
       "<table border=\"1\" class=\"dataframe\">\n",
       "  <thead>\n",
       "    <tr style=\"text-align: right;\">\n",
       "      <th></th>\n",
       "      <th>usuario_id</th>\n",
       "      <th>grupo</th>\n",
       "    </tr>\n",
       "  </thead>\n",
       "  <tbody>\n",
       "    <tr>\n",
       "      <th>0</th>\n",
       "      <td>1</td>\n",
       "      <td>tratamiento</td>\n",
       "    </tr>\n",
       "    <tr>\n",
       "      <th>1</th>\n",
       "      <td>2</td>\n",
       "      <td>control</td>\n",
       "    </tr>\n",
       "    <tr>\n",
       "      <th>2</th>\n",
       "      <td>3</td>\n",
       "      <td>tratamiento</td>\n",
       "    </tr>\n",
       "    <tr>\n",
       "      <th>3</th>\n",
       "      <td>4</td>\n",
       "      <td>tratamiento</td>\n",
       "    </tr>\n",
       "    <tr>\n",
       "      <th>4</th>\n",
       "      <td>5</td>\n",
       "      <td>tratamiento</td>\n",
       "    </tr>\n",
       "  </tbody>\n",
       "</table>\n",
       "</div>"
      ],
      "text/plain": [
       "   usuario_id        grupo\n",
       "0           1  tratamiento\n",
       "1           2      control\n",
       "2           3  tratamiento\n",
       "3           4  tratamiento\n",
       "4           5  tratamiento"
      ]
     },
     "metadata": {},
     "output_type": "display_data"
    }
   ],
   "source": [
    "import pandas as pd\n",
    "import numpy as np\n",
    "\n",
    "n_usuarios_activos = 10000\n",
    "usuarios = pd.DataFrame({\n",
    "    'usuario_id' : np.arange(1, n_usuarios_activos +1),\n",
    "    'grupo': np.random.choice(['control','tratamiento'], size=n_usuarios_activos)\n",
    "})\n",
    "\n",
    "display(usuarios.head())"
   ]
  },
  {
   "cell_type": "markdown",
   "metadata": {},
   "source": [
    "#### ¿Qué suposiciones harías y cómo probarías si estas suposiciones son correctas?\n",
    "\n",
    "Que ambos grupos (de control y tratamiento) sean iguales (en cuanto a características)\n",
    "Que la sensibilidad al precio no varía por otros factores que no tienen que ver con la prueba\n",
    "Pruebas: Hacer un análisis de equilibro para asegurarnos que las muestras son homogéneas\n"
   ]
  },
  {
   "cell_type": "code",
   "execution_count": null,
   "metadata": {},
   "outputs": [],
   "source": []
  },
  {
   "cell_type": "markdown",
   "metadata": {},
   "source": [
    "#### ¿Qué enfoque usarías para determinar la duración del experimento?\n",
    "\n",
    "El objetivo es tener un nivel de significancia de aprox 95% y un poder estadístico de alrededor de 80%. Por lo que hay que usar una fórmula para calcular el tamaño de la muestra y determinar la duración necesaria para alcanzar estos niveles.\n",
    "Hay que tener en cuenta la tasa de conversión y el efecto esperado por esta subida de tarifa\n"
   ]
  },
  {
   "cell_type": "code",
   "execution_count": null,
   "metadata": {},
   "outputs": [],
   "source": []
  },
  {
   "cell_type": "markdown",
   "metadata": {},
   "source": [
    "#### ¿Qué KPIs/métricas elegirías para evaluar el éxito de la prueba?\n",
    "\n",
    "Principales: Tasa de completación de pedidos, Valor promedio de cada pedido, La retención de usuarios y la satisfacción de los clientes\n",
    "Otros: Abandono de la compra a medias, Cancelación de pedidos\n"
   ]
  },
  {
   "cell_type": "code",
   "execution_count": null,
   "metadata": {},
   "outputs": [],
   "source": []
  },
  {
   "cell_type": "markdown",
   "metadata": {},
   "source": [
    "#### ¿Qué pasos tomarías para analizar los resultados de la prueba?\n",
    "\n",
    "Como método, primero análisis de cuán diferentes sean los grupos. Preubas estadísiticas (como el t-test para comparar los KPis). Y Regresiones para ajustar variables de control y verificar la consistencia de los resultados\n",
    "Para ver los resultados seguramente diagramas de barras, de puntos o incluso de cajas para ver las diferencias entre los dos grupos\n"
   ]
  },
  {
   "cell_type": "code",
   "execution_count": null,
   "metadata": {},
   "outputs": [],
   "source": []
  },
  {
   "cell_type": "markdown",
   "metadata": {},
   "source": [
    "#### ¿Cuáles serían tus recomendaciones según los resultados de la prueba?\n",
    "\n",
    "Ver si el grupo nuevo mejora, o se queda igual haría el cambio a la nueva tarifa para todos\n",
    "Si el grupo nuevo empeora pues mantendría los precios antiguos"
   ]
  },
  {
   "cell_type": "code",
   "execution_count": null,
   "metadata": {},
   "outputs": [],
   "source": []
  }
 ],
 "metadata": {
  "kernelspec": {
   "display_name": "base",
   "language": "python",
   "name": "python3"
  },
  "language_info": {
   "codemirror_mode": {
    "name": "ipython",
    "version": 3
   },
   "file_extension": ".py",
   "mimetype": "text/x-python",
   "name": "python",
   "nbconvert_exporter": "python",
   "pygments_lexer": "ipython3",
   "version": "3.12.2"
  }
 },
 "nbformat": 4,
 "nbformat_minor": 2
}
