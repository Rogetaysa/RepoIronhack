{
 "cells": [
  {
   "cell_type": "markdown",
   "id": "dc891065-1a39-4f06-94af-2d0bc0084e51",
   "metadata": {},
   "source": [
    "# Introducción a las APIs"
   ]
  },
  {
   "cell_type": "markdown",
   "id": "742e63d0-6317-4167-a0d5-cecf52123a3e",
   "metadata": {},
   "source": [
    "![apis_gif](https://media.giphy.com/media/wepUQluC5smgEd4Qz4/giphy.gif)"
   ]
  },
  {
   "cell_type": "markdown",
   "id": "e3c35822-4739-4830-81c0-6329c1bcbb82",
   "metadata": {},
   "source": [
    "## ¿Qué es una API?\n",
    "API (Application Programming Interface) es un conjunto de reglas que permite a las aplicaciones comunicarse entre sí. Las APIs son fundamentales para integrar diferentes servicios en aplicaciones, como obtener datos del clima, realizar pagos en línea, o mostrar mapas en una app.\n",
    "\n",
    "![API - Waiter](https://miro.medium.com/max/1400/0*2tmGZJKP6LfDycgV.png)\n",
    "\n",
    "\n",
    "## ¿Qué es una clave de API?\n",
    "Una **clave de API** es un identificador único proporcionado por un servicio para:\n",
    "1. **Autenticar** quién está utilizando la API.\n",
    "2. **Autorizar** qué acciones o recursos puede acceder el usuario.\n",
    "3. Ayudar al proveedor a **monitorear y limitar el uso** de la API (por ejemplo, para evitar abusos).\n",
    "\n",
    "En términos simples, es como una contraseña que te da acceso a los servicios de la API.\n",
    "\n",
    "## ¿Cómo funcionan las claves de API?\n",
    "1. **Registro en el servicio:** Para usar una API, primero debes registrarte en la plataforma del proveedor.\n",
    "2. **Obtener la clave:** Al registrarte, recibirás una clave única (por ejemplo, `123abcXYZ`).\n",
    "3. **Usar la clave:** La clave debe enviarse junto con cada solicitud a la API. Esto puede hacerse de varias formas:\n",
    "   - Como parámetro en la URL.\n",
    "   - En los encabezados (headers) de la solicitud.\n",
    "   - En el cuerpo de la solicitud, dependiendo del diseño de la API.\n",
    "\n",
    "\n"
   ]
  },
  {
   "cell_type": "markdown",
   "id": "83c362d1-457e-41ed-8908-fdb1801aabf8",
   "metadata": {},
   "source": [
    "\n",
    "\n",
    "## ¿Qué es el módulo `requests`?\n",
    "El módulo `requests` es una biblioteca de Python que facilita la interacción con APIs al permitirnos realizar solicitudes HTTP de una manera sencilla y legible. Las solicitudes HTTP son la base para comunicar nuestra aplicación con una API.\n",
    "\n",
    "## ¿Por qué necesitamos `requests`?\n",
    "Cuando trabajamos con APIs, necesitamos enviar solicitudes al servidor y recibir respuestas. Estas solicitudes utilizan los protocolos HTTP o HTTPS, como:\n",
    "- `GET` para obtener datos.\n",
    "- `POST` para enviar datos o realizar operaciones.\n",
    "- `PUT` para actualizar recursos.\n",
    "- `DELETE` para eliminar recursos.\n",
    "\n",
    "Aunque Python tiene módulos incorporados para manejar solicitudes HTTP (como `urllib`), el módulo `requests` es mucho más fácil de usar porque abstrae gran parte de la complejidad técnica.\n",
    "\n",
    "### Ejemplo sin `requests`:\n",
    "```python\n",
    "import urllib.request\n",
    "import json\n",
    "\n",
    "# URL de la API\n",
    "api_url = \"https://api.ejemplo.com/datos\"\n",
    "\n",
    "# Realizar la solicitud\n",
    "response = urllib.request.urlopen(api_url)\n",
    "\n",
    "# Leer y decodificar los datos\n",
    "data = json.loads(response.read().decode(\"utf-8\"))\n",
    "print(data)\n",
    "\n",
    "\n",
    "\n",
    "### Ejemplo con requests:\n",
    "\n",
    "import requests\n",
    "\n",
    "# URL de la API\n",
    "api_url = \"https://api.ejemplo.com/datos\"\n",
    "\n",
    "# Realizar la solicitud\n",
    "response = requests.get(api_url)\n",
    "\n",
    "# Leer los datos como JSON\n",
    "data = response.json()\n",
    "print(data)\n"
   ]
  },
  {
   "cell_type": "markdown",
   "id": "9605feaa-d371-41af-86e2-9ee892c5d38e",
   "metadata": {},
   "source": [
    "# Ejemplo sencillo: Interactuar con una API\n",
    "\n",
    "## API utilizada: Chuck Norris Jokes\n",
    "Vamos a usar una API gratuita que proporciona chistes aleatorios sobre Chuck Norris. Puedes encontrar más detalles sobre esta API en [https://api.chucknorris.io](https://api.chucknorris.io).\n",
    "\n",
    "### Pasos:\n",
    "1. Usaremos el módulo `requests` para realizar una solicitud `GET`.\n",
    "2. La API nos devolverá una respuesta en formato JSON.\n",
    "3. Extraeremos el chiste de la respuesta y lo mostraremos en pantalla.\n",
    "\n",
    "### Código en Python:\n",
    "```python\n",
    "\n"
   ]
  },
  {
   "cell_type": "code",
   "execution_count": null,
   "id": "d66f7de4-7bc2-4e08-8436-0d3f070684aa",
   "metadata": {},
   "outputs": [],
   "source": [
    "import requests\n",
    "\n",
    "# URL de la API\n",
    "url = \"https://api.chucknorris.io/jokes/random\"\n",
    "\n",
    "# Realizar la solicitud a la API\n",
    "response = requests.get(url)\n"
   ]
  },
  {
   "cell_type": "code",
   "execution_count": null,
   "id": "72a9debe-d083-4ef5-b02b-8884bc797697",
   "metadata": {},
   "outputs": [],
   "source": [
    "# Mostrar la respuesta completa en formato texto\n",
    "print(\"Respuesta en formato texto:\")\n",
    "print(response.text)"
   ]
  },
  {
   "cell_type": "code",
   "execution_count": null,
   "id": "1593ead2-cdaf-4be7-9d3d-1a5c720bc10d",
   "metadata": {},
   "outputs": [],
   "source": [
    "# Convertir la respuesta a JSON\n",
    "data = response.json()\n",
    "\n",
    "# Extraer el chiste del campo 'value'\n",
    "joke = data[\"value\"]\n",
    "\n",
    "# Mostrar el chiste\n",
    "print(\"\\nAquí tienes un chiste de Chuck Norris:\")\n",
    "print(joke)"
   ]
  },
  {
   "cell_type": "markdown",
   "id": "f9fbc8a9-0b77-4690-a02a-0c0c1ce73970",
   "metadata": {},
   "source": [
    "# Ejemplo 2: Datos de satélites con \"Where The ISS At\" API\n",
    "\n",
    "En este ejemplo, utilizaremos la API pública de **Where The ISS At** para obtener una lista de satélites. Usaremos **requests** para interactuar con la API y **pandas** para analizar los datos.\n",
    "\n",
    "## URL del Endpoint\n",
    "El endpoint que vamos a consultar es:\n",
    "\n",
    "https://api.wheretheiss.at/v1/satellites\n"
   ]
  },
  {
   "cell_type": "markdown",
   "id": "5cb228a8-d846-4dc9-95b3-371bf36ff5c3",
   "metadata": {},
   "source": [
    "Este endpoint devuelve una lista de satélites disponibles, con información básica como su ID y nombre."
   ]
  },
  {
   "cell_type": "code",
   "execution_count": null,
   "id": "3078245b-096e-449f-b5fd-10a3d7c0a6f3",
   "metadata": {},
   "outputs": [],
   "source": [
    "url_sat = \"https://api.wheretheiss.at/v1/satellites\""
   ]
  },
  {
   "cell_type": "code",
   "execution_count": null,
   "id": "78239e7e-089d-4be0-bc60-355c40b8deef",
   "metadata": {},
   "outputs": [],
   "source": [
    "res = requests.get(url_sat)"
   ]
  },
  {
   "cell_type": "code",
   "execution_count": null,
   "id": "5b74dde2-6da5-4f62-b8c0-ca70da1f391c",
   "metadata": {},
   "outputs": [],
   "source": [
    "res.content"
   ]
  },
  {
   "cell_type": "code",
   "execution_count": null,
   "id": "c9e7a0e2-3c3c-436a-ab68-1e854989df79",
   "metadata": {},
   "outputs": [],
   "source": [
    "satellite_id = res.json()[0][\"id\"]\n",
    "satellite_id"
   ]
  },
  {
   "cell_type": "code",
   "execution_count": null,
   "id": "04357d05-f7c8-4a8d-af27-6b6b873ace21",
   "metadata": {},
   "outputs": [],
   "source": [
    "url_2 = f\"https://api.wheretheiss.at/v1/satellites/{satellite_id}\""
   ]
  },
  {
   "cell_type": "code",
   "execution_count": null,
   "id": "5918deeb-d145-4e8b-a432-87ef8b601517",
   "metadata": {},
   "outputs": [],
   "source": [
    "res_2 = requests.get(url_2)\n",
    "res_2"
   ]
  },
  {
   "cell_type": "code",
   "execution_count": null,
   "id": "663bf925-df58-4d0e-ae3e-a873f73606a8",
   "metadata": {},
   "outputs": [],
   "source": [
    "res_2.json()"
   ]
  },
  {
   "cell_type": "code",
   "execution_count": null,
   "id": "86b134b9-bfcd-49f5-88c2-341175712292",
   "metadata": {},
   "outputs": [],
   "source": [
    "sat=res_2.json()"
   ]
  },
  {
   "cell_type": "markdown",
   "id": "174fc031-998f-4157-9ad0-5f60eb5a7ce5",
   "metadata": {},
   "source": [
    "## Folium y Geojson - Dónde está la Estación Espacial Internacional?"
   ]
  },
  {
   "cell_type": "code",
   "execution_count": null,
   "id": "4f2b8d17-3e02-4976-83ca-1f2207356df5",
   "metadata": {},
   "outputs": [],
   "source": [
    "# Instalar geojson\n",
    "\n",
    "#pip install geojson"
   ]
  },
  {
   "cell_type": "code",
   "execution_count": null,
   "id": "dade51c5-3456-44b9-8664-8d659bf6b967",
   "metadata": {},
   "outputs": [],
   "source": [
    "# Instalar folium\n",
    "\n",
    "#pip install folium"
   ]
  },
  {
   "cell_type": "code",
   "execution_count": null,
   "id": "9bbd1c9c-4796-4a45-b36a-9a0af0c345ff",
   "metadata": {},
   "outputs": [],
   "source": [
    "import folium\n",
    "from folium import GeoJson\n",
    "\n",
    "\n",
    "# Crear un mapa centrado en las coordenadas del satélite\n",
    "map_satellite = folium.Map(location=[sat['latitude'], sat['longitude']], zoom_start=5)\n",
    "\n",
    "# Crear un objeto GeoJSON Point\n",
    "point = {\n",
    "    'type': 'Point',\n",
    "    'coordinates': [sat['longitude'], sat['latitude']]\n",
    "}\n",
    "\n",
    "# Crear una capa GeoJSON con el estilo personalizado\n",
    "geojson_layer = GeoJson(point, style_function=lambda feature: {\n",
    "    'color': 'blue',\n",
    "    'weight': 2,\n",
    "    'fillColor': 'red',\n",
    "    'fillOpacity': 0.6\n",
    "})\n",
    "\n",
    "# Agregar la capa GeoJSON al mapa\n",
    "geojson_layer.add_to(map_satellite)\n",
    "\n",
    "# Mostrar el mapa\n",
    "map_satellite.save('satellite_map.html')\n"
   ]
  },
  {
   "cell_type": "code",
   "execution_count": null,
   "id": "67ac7a33-8c64-4987-80ce-c9f78ddb97ac",
   "metadata": {},
   "outputs": [],
   "source": [
    "map_satellite"
   ]
  },
  {
   "cell_type": "markdown",
   "id": "6ce51d79-6281-40cb-affc-645fe18a1f0f",
   "metadata": {},
   "source": [
    "Vamos a sacar dónde está el satélite en el tiempo"
   ]
  },
  {
   "cell_type": "code",
   "execution_count": null,
   "id": "deb09d08-fdcc-468b-a9c4-54ad0186d64b",
   "metadata": {},
   "outputs": [],
   "source": [
    "import time\n",
    "from pandas import json_normalize\n",
    "position=[]\n",
    "\n",
    "for i in range(10):\n",
    "    time.sleep(2)\n",
    "    print(i)\n",
    "    res = requests.get(url_2).json()\n",
    "    position.append(res)\n",
    "json_normalize(position)"
   ]
  },
  {
   "cell_type": "code",
   "execution_count": null,
   "id": "0636cc1a-3aa8-4e5f-aa91-50ac17337a96",
   "metadata": {},
   "outputs": [],
   "source": [
    "position"
   ]
  },
  {
   "cell_type": "code",
   "execution_count": null,
   "id": "6cf75c02-cd92-4066-9b4b-ac5309b50128",
   "metadata": {},
   "outputs": [],
   "source": [
    "def add_point(map_obj, satel):\n",
    "    \"\"\"\n",
    "    Agrega un objeto GeoJSON Point a un mapa existente.\n",
    "\n",
    "    :param map_obj: El objeto de mapa Folium al que se agregará el punto.\n",
    "    :param point_geojson: Un objeto GeoJSON Point que contiene las coordenadas del punto.\n",
    "    \"\"\"\n",
    "    # Crear un objeto GeoJSON Point\n",
    "    pointy = {\n",
    "    'type': 'Point',\n",
    "    'coordinates': [satel['longitude'], satel['latitude']]\n",
    "    }\n",
    "    geojson_layer = GeoJson(pointy, style_function=lambda feature: {\n",
    "        'color': 'blue',\n",
    "        'weight': 2,\n",
    "        'fillColor': 'red',\n",
    "        'fillOpacity': 0.6\n",
    "    })\n",
    "    geojson_layer.add_to(map_obj)\n"
   ]
  },
  {
   "cell_type": "code",
   "execution_count": null,
   "id": "1b9ee6c4-a699-4421-a5e6-54687f7d56fd",
   "metadata": {},
   "outputs": [],
   "source": [
    "# Llamar a la función add_point para agregar el punto al mapa\n",
    "for i in position:\n",
    "    add_point(map_satellite, i)\n",
    "\n",
    "# Mostrar el mapa\n",
    "map_satellite.save('satellite_map.html')"
   ]
  },
  {
   "cell_type": "code",
   "execution_count": null,
   "id": "7c6ebf8a-5349-4450-bbed-653618d1a0ea",
   "metadata": {},
   "outputs": [],
   "source": [
    "map_satellite"
   ]
  },
  {
   "cell_type": "markdown",
   "id": "793bbc09-94c5-4032-8413-a84ba7e67b0e",
   "metadata": {},
   "source": [
    "# Ejemplo 3: Ricky y Morty\n",
    "\n",
    "![API - Waiter](https://www.pngitem.com/pimgs/m/43-437743_rick-and-morty-rick-a-morty-png-transparent.png)\n",
    "\n",
    "https://rickandmortyapi.com/\n"
   ]
  },
  {
   "cell_type": "code",
   "execution_count": null,
   "id": "1ad3cf42-bfd0-44f8-a4a6-777895d2bf2d",
   "metadata": {},
   "outputs": [],
   "source": [
    "url = \"https://rickandmortyapi.com/api/character\"\n",
    "response=requests.get(url)\n",
    "response.json()"
   ]
  },
  {
   "cell_type": "markdown",
   "id": "c2bb89bf-022c-48d1-a021-ae6839664013",
   "metadata": {},
   "source": [
    "### Consultas"
   ]
  },
  {
   "cell_type": "code",
   "execution_count": null,
   "id": "a1fa1b9c-dca7-4a1a-8df0-bb4dabece1d9",
   "metadata": {},
   "outputs": [],
   "source": [
    "type(response.json()[\"results\"][0])"
   ]
  },
  {
   "cell_type": "code",
   "execution_count": null,
   "id": "3ce5986d-a2c0-4484-8026-29346100cddd",
   "metadata": {},
   "outputs": [],
   "source": [
    "first=response.json()[\"results\"][0]"
   ]
  },
  {
   "cell_type": "code",
   "execution_count": null,
   "id": "a7f9be98-209f-4fef-8d27-bc6ae6cb3773",
   "metadata": {},
   "outputs": [],
   "source": [
    "first.keys()"
   ]
  },
  {
   "cell_type": "code",
   "execution_count": null,
   "id": "b9673dce-c151-4970-afdb-1e70a7dccc60",
   "metadata": {},
   "outputs": [],
   "source": [
    "#first"
   ]
  },
  {
   "cell_type": "code",
   "execution_count": null,
   "id": "d7e1823c-6235-4eb4-97b3-62474ab73f1c",
   "metadata": {},
   "outputs": [],
   "source": [
    "first[\"status\"]"
   ]
  },
  {
   "cell_type": "code",
   "execution_count": null,
   "id": "328ccae4-7d5c-4740-9e37-62b864304301",
   "metadata": {},
   "outputs": [],
   "source": [
    "url = \"https://rickandmortyapi.com/api/character\"\n",
    "\n",
    "params = {\"gender\":\"female\", \"status\": \"alive\"}\n",
    "\n",
    "response = requests.get(url, params=params) #, headers = headers, params = params)\n",
    "response.json()"
   ]
  },
  {
   "cell_type": "code",
   "execution_count": null,
   "id": "0983faa9-f034-4798-9d5b-bb31b05da639",
   "metadata": {},
   "outputs": [],
   "source": [
    "response.json()[\"results\"][0]"
   ]
  },
  {
   "cell_type": "code",
   "execution_count": null,
   "id": "b8dfb417-5819-40f5-ae59-1fe1bd0cf3f6",
   "metadata": {},
   "outputs": [],
   "source": [
    "ladies=response.json()[\"results\"]"
   ]
  },
  {
   "cell_type": "code",
   "execution_count": null,
   "id": "a92229f8-5eb0-409a-b414-67864c583670",
   "metadata": {},
   "outputs": [],
   "source": [
    "type(ladies)"
   ]
  },
  {
   "cell_type": "code",
   "execution_count": null,
   "id": "b733c6a2-fe4d-4a05-b0db-bf4ecbbade59",
   "metadata": {},
   "outputs": [],
   "source": [
    "locations=[]\n",
    "for lady in ladies: \n",
    "    print(lady[\"origin\"][\"name\"])\n",
    "    locations.append(lady[\"origin\"][\"name\"])"
   ]
  },
  {
   "cell_type": "code",
   "execution_count": null,
   "id": "87012602-d163-4559-bc06-1ba65f491f38",
   "metadata": {},
   "outputs": [],
   "source": []
  }
 ],
 "metadata": {
  "kernelspec": {
   "display_name": "Python 3 (ipykernel)",
   "language": "python",
   "name": "python3"
  },
  "language_info": {
   "codemirror_mode": {
    "name": "ipython",
    "version": 3
   },
   "file_extension": ".py",
   "mimetype": "text/x-python",
   "name": "python",
   "nbconvert_exporter": "python",
   "pygments_lexer": "ipython3",
   "version": "3.9.12"
  },
  "toc-autonumbering": true
 },
 "nbformat": 4,
 "nbformat_minor": 5
}
