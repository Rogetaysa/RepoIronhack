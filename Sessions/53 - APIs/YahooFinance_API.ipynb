{
 "cells": [
  {
   "cell_type": "markdown",
   "id": "88e9e984-b240-4367-96af-9f3575efce6f",
   "metadata": {},
   "source": [
    "# Yahoo Finance API\n",
    "\n",
    "![API - Waiter](https://www.travelmoneyoz.com/sites/v1.travelmoneyoz.com/files/Stonks_0.png)\n",
    "\n"
   ]
  },
  {
   "cell_type": "code",
   "execution_count": null,
   "id": "56c9f382-57ca-46b4-b344-3060914181ca",
   "metadata": {},
   "outputs": [],
   "source": [
    "import requests\n",
    "import getpass\n",
    "\n",
    "# Solicitar la clave de la API de Yahoo Finance de manera segura\n",
    "api_key = getpass.getpass(prompt='Introduce tu clave de API de Yahoo Finance: ')\n",
    "\n",
    "# URL de la API de Yahoo Finance\n",
    "url = \"https://yahoo-finance166.p.rapidapi.com/api/stock/get-price\"\n",
    "\n",
    "# Parámetros de la solicitud (puedes ajustarlos según lo que necesites)\n",
    "querystring = {\"s\": \"AAPL\", \"region\": \"US\", \"snippetCount\": \"500\"}\n",
    "\n",
    "# Encabezados con la autenticación\n",
    "headers = {\n",
    "    \"x-rapidapi-key\": api_key,  # Utilizamos la clave obtenida de manera segura\n",
    "    \"x-rapidapi-host\": \"yahoo-finance166.p.rapidapi.com\"  # El host de la API de Yahoo Finance en RapidAPI\n",
    "}\n",
    "\n",
    "# Realizar la solicitud GET a la API de Yahoo Finance\n",
    "response = requests.get(url, headers=headers, params=querystring)\n",
    "\n",
    "# Verificar el estado de la respuesta\n",
    "if response.status_code == 200:\n",
    "    data = response.json()  # Obtener la respuesta en formato JSON\n",
    "    #print(data)  # Mostrar la respuesta de la API\n",
    "else:\n",
    "    print(f\"Error en la solicitud: {response.status_code}\")\n"
   ]
  },
  {
   "cell_type": "code",
   "execution_count": null,
   "id": "9e56d1c7-fddf-4ad4-866e-406e2eac1703",
   "metadata": {},
   "outputs": [],
   "source": [
    "data"
   ]
  },
  {
   "cell_type": "code",
   "execution_count": null,
   "id": "a3d7879b-9a6d-4dbc-b02f-9547ea82e543",
   "metadata": {},
   "outputs": [],
   "source": [
    "import matplotlib.pyplot as plt\n",
    "\n",
    "# Extraer los datos del diccionario 'data'\n",
    "price_data = data['quoteSummary']['result'][0]['price']\n",
    "\n",
    "# Precios de diferentes períodos\n",
    "periods = ['Pre-Market', 'Market Hours', 'Post-Market']\n",
    "prices = [\n",
    "    price_data['preMarketPrice']['raw'],\n",
    "    price_data['regularMarketPrice']['raw'],\n",
    "    price_data['postMarketPrice']['raw']\n",
    "]\n",
    "\n",
    "# Crear la gráfica\n",
    "plt.figure(figsize=(10, 6))\n",
    "plt.plot(periods, prices, marker='o', color='b', linestyle='-', linewidth=2, markersize=8)\n",
    "\n",
    "# Agregar título y etiquetas\n",
    "plt.title('Precio de Apple Inc. (AAPL) en diferentes períodos del día', fontsize=14)\n",
    "plt.xlabel('Períodos', fontsize=12)\n",
    "plt.ylabel('Precio (USD)', fontsize=12)\n",
    "\n",
    "# Mostrar la gráfica\n",
    "plt.grid(True)\n",
    "plt.show()\n"
   ]
  },
  {
   "cell_type": "code",
   "execution_count": null,
   "id": "e90ad6b9-f218-477a-9137-6c4e37f34a19",
   "metadata": {},
   "outputs": [],
   "source": [
    "\n",
    "# Solicitar la clave de la API de Yahoo Finance de manera segura\n",
    "api_key = getpass.getpass(prompt='Introduce tu clave de API de Yahoo Finance: ')\n",
    "\n",
    "# URL de la API de Yahoo Finance\n",
    "url = \"https://yahoo-finance166.p.rapidapi.com/api/stock/get-financial-data\"\n",
    "\n",
    "# Parámetros de la solicitud (puedes ajustarlos según lo que necesites)\n",
    "querystring = {\"s\": \"AAPL\", \"region\": \"US\", \"snippetCount\": \"500\"}\n",
    "\n",
    "# Encabezados con la autenticación\n",
    "headers = {\n",
    "    \"x-rapidapi-key\": api_key,  # Utilizamos la clave obtenida de manera segura\n",
    "    \"x-rapidapi-host\": \"yahoo-finance166.p.rapidapi.com\"  # El host de la API de Yahoo Finance en RapidAPI\n",
    "}\n",
    "\n",
    "# Realizar la solicitud GET a la API de Yahoo Finance\n",
    "response = requests.get(url, headers=headers, params=querystring)\n",
    "\n",
    "# Verificar el estado de la respuesta\n",
    "if response.status_code == 200:\n",
    "    data = response.json()  # Obtener la respuesta en formato JSON\n",
    "    #print(data)  # Mostrar la respuesta de la API\n",
    "else:\n",
    "    print(f\"Error en la solicitud: {response.status_code}\")"
   ]
  },
  {
   "cell_type": "code",
   "execution_count": null,
   "id": "135f4a35-7793-4e75-a26e-f5bd3a58c2c1",
   "metadata": {},
   "outputs": [],
   "source": [
    "data"
   ]
  },
  {
   "cell_type": "code",
   "execution_count": null,
   "id": "edd1c9d8-c7fc-46ae-9cad-779fd3407c82",
   "metadata": {},
   "outputs": [],
   "source": [
    "import matplotlib.pyplot as plt\n",
    "\n",
    "# Datos del diccionario\n",
    "current_price = data['quoteSummary']['result'][0]['financialData']['currentPrice']['raw']\n",
    "target_high = data['quoteSummary']['result'][0]['financialData']['targetHighPrice']['raw']\n",
    "target_low = data['quoteSummary']['result'][0]['financialData']['targetLowPrice']['raw']\n",
    "target_mean = data['quoteSummary']['result'][0]['financialData']['targetMeanPrice']['raw']\n",
    "\n",
    "# Crear los datos para la gráfica\n",
    "prices = [current_price, target_high, target_low, target_mean]\n",
    "labels = ['Precio Actual', 'Target Alto', 'Target Bajo', 'Target Medio']\n",
    "\n",
    "# Crear la gráfica de barras\n",
    "plt.figure(figsize=(8, 5))\n",
    "plt.bar(labels, prices, color=['blue', 'green', 'red', 'orange'])\n",
    "\n",
    "# Agregar título y etiquetas\n",
    "plt.title('Comparación de Precios Objetivos y Precio Actual de Apple Inc.', fontsize=14)\n",
    "plt.ylabel('Precio (USD)', fontsize=12)\n",
    "plt.xlabel('Tipo de Precio', fontsize=12)\n",
    "plt.show()\n"
   ]
  },
  {
   "cell_type": "code",
   "execution_count": null,
   "id": "d808f167-c699-48d5-9e71-2466c855c072",
   "metadata": {},
   "outputs": [],
   "source": [
    "# Datos del diccionario\n",
    "revenue_growth = data['quoteSummary']['result'][0]['financialData']['revenueGrowth']['raw'] * 100  # Convertir a porcentaje\n",
    "earnings_growth = data['quoteSummary']['result'][0]['financialData']['earningsGrowth']['raw'] * 100  # Convertir a porcentaje\n",
    "\n",
    "# Crear la gráfica de barras\n",
    "growths = [revenue_growth, earnings_growth]\n",
    "labels_growth = ['Crecimiento de Ingresos', 'Crecimiento de Ganancias']\n",
    "\n",
    "plt.figure(figsize=(8, 5))\n",
    "plt.bar(labels_growth, growths, color=['green', 'blue'])\n",
    "\n",
    "# Agregar título y etiquetas\n",
    "plt.title('Crecimiento de Ingresos y Ganancias de Apple Inc. en el Último Año', fontsize=14)\n",
    "plt.ylabel('Crecimiento (%)', fontsize=12)\n",
    "plt.xlabel('Tipo de Crecimiento', fontsize=12)\n",
    "plt.show()\n"
   ]
  },
  {
   "cell_type": "code",
   "execution_count": null,
   "id": "665b5211-d67a-4900-abcc-c5d205cc8f7d",
   "metadata": {},
   "outputs": [],
   "source": [
    "# Datos del diccionario\n",
    "ebitda_margins = data['quoteSummary']['result'][0]['financialData']['ebitdaMargins']['raw'] * 100  # Convertir a porcentaje\n",
    "operating_margins = data['quoteSummary']['result'][0]['financialData']['operatingMargins']['raw'] * 100  # Convertir a porcentaje\n",
    "profit_margins = data['quoteSummary']['result'][0]['financialData']['profitMargins']['raw'] * 100  # Convertir a porcentaje\n",
    "\n",
    "# Crear la gráfica de barras\n",
    "margins = [ebitda_margins, operating_margins, profit_margins]\n",
    "labels_margins = ['EBITDA Margin', 'Operating Margin', 'Profit Margin']\n",
    "\n",
    "plt.figure(figsize=(8, 5))\n",
    "plt.bar(labels_margins, margins, color=['orange', 'purple', 'green'])\n",
    "\n",
    "# Agregar título y etiquetas\n",
    "plt.title('Márgenes Financieros de Apple Inc.', fontsize=14)\n",
    "plt.ylabel('Porcentaje (%)', fontsize=12)\n",
    "plt.xlabel('Tipo de Margen', fontsize=12)\n",
    "plt.show()\n"
   ]
  },
  {
   "cell_type": "code",
   "execution_count": null,
   "id": "b2fddfb8-f991-46b4-bb3e-6538281a3a5e",
   "metadata": {},
   "outputs": [],
   "source": [
    "\n",
    "# Solicitar la clave de la API de Yahoo Finance de manera segura\n",
    "api_key = getpass.getpass(prompt='Introduce tu clave de API de Yahoo Finance: ')\n",
    "\n",
    "# URL de la API de Yahoo Finance\n",
    "url = \"https://yahoo-finance166.p.rapidapi.com/api/market/52-wk-gainers\"\n",
    "\n",
    "# Parámetros de la solicitud (puedes ajustarlos según lo que necesites)\n",
    "querystring = {\"region\": \"US\"}\n",
    "\n",
    "# Encabezados con la autenticación\n",
    "headers = {\n",
    "    \"x-rapidapi-key\": api_key,  # Utilizamos la clave obtenida de manera segura\n",
    "    \"x-rapidapi-host\": \"yahoo-finance166.p.rapidapi.com\"  # El host de la API de Yahoo Finance en RapidAPI\n",
    "}\n",
    "\n",
    "# Realizar la solicitud GET a la API de Yahoo Finance\n",
    "response = requests.get(url, headers=headers, params=querystring)\n",
    "\n",
    "# Verificar el estado de la respuesta\n",
    "if response.status_code == 200:\n",
    "    data = response.json()  # Obtener la respuesta en formato JSON\n",
    "    #print(data)  # Mostrar la respuesta de la API\n",
    "else:\n",
    "    print(f\"Error en la solicitud: {response.status_code}\")"
   ]
  },
  {
   "cell_type": "code",
   "execution_count": null,
   "id": "c8a1fd95-dde3-4afb-9702-30c299b48d1b",
   "metadata": {},
   "outputs": [],
   "source": [
    "#data"
   ]
  },
  {
   "cell_type": "code",
   "execution_count": null,
   "id": "6ce840c8-6b88-4c88-a42c-937056333621",
   "metadata": {},
   "outputs": [],
   "source": [
    "import matplotlib.pyplot as plt\n",
    "\n",
    "# Suponiendo que 'data' ya es la lista de diccionarios con la información de las empresas\n",
    "# Filtrar las empresas que tienen el campo 'fiftyTwoWeekChangePercent' y que es un número\n",
    "stocks_data_filtered = [\n",
    "    stock for stock in data if 'fiftyTwoWeekChangePercent' in stock and isinstance(stock['fiftyTwoWeekChangePercent'], (int, float))\n",
    "]\n",
    "\n",
    "# Ordenar las empresas por 'fiftyTwoWeekChangePercent' de mayor a menor\n",
    "stocks_data_sorted = sorted(stocks_data_filtered, key=lambda x: x['fiftyTwoWeekChangePercent'], reverse=True)\n",
    "\n",
    "# Seleccionar las 10 primeras empresas con el mayor rendimiento en las últimas 52 semanas\n",
    "top_10_stocks = stocks_data_sorted[:10]\n",
    "\n",
    "# Extraer los nombres y los rendimientos para la gráfica\n",
    "symbols = [stock['name'] for stock in top_10_stocks]\n",
    "performances = [stock['fiftyTwoWeekChangePercent'] for stock in top_10_stocks]\n",
    "\n",
    "# Crear la gráfica de barras horizontales\n",
    "plt.figure(figsize=(10, 6))\n",
    "plt.barh(symbols, performances, color='skyblue')\n",
    "\n",
    "# Títulos y etiquetas\n",
    "plt.xlabel('Cambio (%) en las Últimas 52 Semanas', fontsize=12)\n",
    "plt.title('Top 10 Performers en las Últimas 52 Semanas', fontsize=14)\n",
    "plt.show()\n",
    "\n"
   ]
  },
  {
   "cell_type": "code",
   "execution_count": null,
   "id": "e205deae-c78a-447b-bb9d-ebbb0c8499e5",
   "metadata": {},
   "outputs": [],
   "source": [
    "\n"
   ]
  },
  {
   "cell_type": "code",
   "execution_count": null,
   "id": "a11d3fff-9a8b-4b12-bf85-f6f3043c7094",
   "metadata": {},
   "outputs": [],
   "source": []
  }
 ],
 "metadata": {
  "kernelspec": {
   "display_name": "Python 3 (ipykernel)",
   "language": "python",
   "name": "python3"
  },
  "language_info": {
   "codemirror_mode": {
    "name": "ipython",
    "version": 3
   },
   "file_extension": ".py",
   "mimetype": "text/x-python",
   "name": "python",
   "nbconvert_exporter": "python",
   "pygments_lexer": "ipython3",
   "version": "3.9.12"
  }
 },
 "nbformat": 4,
 "nbformat_minor": 5
}
