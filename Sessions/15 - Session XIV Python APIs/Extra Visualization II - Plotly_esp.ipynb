{
 "cells": [
  {
   "cell_type": "markdown",
   "id": "a5952c42",
   "metadata": {
    "lang": "en"
   },
   "source": [
    "# Visualización interactiva con Plotly"
   ]
  },
  {
   "cell_type": "markdown",
   "id": "inside-estonia",
   "metadata": {},
   "source": [
    "![elgif](https://media.giphy.com/media/jR8EDxMbqi1QQ/giphy.gif)\n",
    "\n",
    "En este cuaderno, exploraremos el mundo de la visualización de datos interactiva utilizando Plotly, una poderosa biblioteca de Python que te permite crear gráficos y diagramas interactivos y visualmente atractivos. Plotly te permite construir dashboards interactivos, explorar conjuntos de datos complejos y transmitir tus insights basados en datos de manera más efectiva.\n",
    "\n",
    "**Una Breve Historia de Plotly**\n",
    "\n",
    "Plotly fue fundado en 2012 por Alex Johnson, Chris Parmer, Jack Parmer y Matthew Sundquist. Surgió como una biblioteca de visualización de datos de código abierto que buscaba proporcionar una solución simple y elegante para crear visualizaciones interactivas. Inicialmente, Plotly comenzó como una biblioteca de JavaScript para crear gráficos y diagramas basados en web.\n",
    "\n",
    "A medida que la popularidad de Plotly creció, el equipo expandió sus ofertas para incluir bibliotecas para Python y R, haciéndolo accesible a una audiencia más amplia de científicos de datos, ingenieros y analistas. La biblioteca de Python de Plotly, Plotly.py, se ha convertido en una de las herramientas más utilizadas para crear visualizaciones de datos interactivas en el ecosistema de Python.\n",
    "\n",
    "Hoy, Plotly es conocido por su versatilidad y facilidad de uso en la creación de una amplia gama de visualizaciones interactivas, incluyendo gráficos de dispersión, gráficos de líneas, gráficos de barras, gráficos en 3D y dashboards complejos. Ha encontrado aplicaciones en diversas industrias, desde finanzas y salud hasta educación e investigación.\n",
    "\n",
    "En este cuaderno, nos sumergiremos en los fundamentos de Plotly, exploraremos sus capacidades y aprenderemos cómo crear visualizaciones interactivas impresionantes para comprender y presentar datos mejor. ¡Embarquémonos en este viaje de exploración de datos y narración con Plotly!\n",
    "\n",
    "## Comparando Plotly con Seaborn y Matplotlib\n",
    "\n",
    "Cuando se trata de visualización de datos en Python, hay varias bibliotecas para elegir. Entre las más populares están Plotly, Seaborn y Matplotlib. Cada una de estas bibliotecas tiene sus fortalezas y casos de uso, haciéndolas adecuadas para diferentes escenarios.\n",
    "\n",
    "### Matplotlib\n",
    "\n",
    "Matplotlib es una de las bibliotecas de visualización de datos más antiguas y ampliamente utilizadas en Python. Proporciona un alto grado de personalización y control detallado sobre cada aspecto de un gráfico o diagrama. Matplotlib es excelente para crear visualizaciones estáticas para publicaciones, informes o exploración básica de datos.\n",
    "\n",
    "**Pros:**\n",
    "- Altamente personalizable.\n",
    "- Soporta una amplia gama de tipos de gráficos.\n",
    "- Adecuado para crear gráficos de calidad de publicación.\n",
    "\n",
    "**Contras:**\n",
    "- Soporte limitado para interactividad.\n",
    "- Curva de aprendizaje más empinada para visualizaciones complejas.\n",
    "\n",
    "### Seaborn\n",
    "\n",
    "Seaborn se construye sobre Matplotlib y ofrece una interfaz de más alto nivel para crear gráficos estadísticos estéticamente agradables. Simplifica el proceso de crear visualizaciones complejas, especialmente aquellas que involucran análisis estadístico. Seaborn es una excelente opción para explorar y visualizar datos rápidamente.\n",
    "\n",
    "**Pros:**\n",
    "- Sintaxis simplificada para tipos comunes de gráficos.\n",
    "- Soporte incorporado para visualizaciones estadísticas.\n",
    "- Funciona sin problemas con DataFrames de Pandas.\n",
    "\n",
    "**Contras:**\n",
    "- Menos personalizable en comparación con Matplotlib.\n",
    "- Soporte limitado para visualizaciones altamente interactivas.\n",
    "\n",
    "### Plotly\n",
    "\n",
    "Plotly, por otro lado, se especializa en crear visualizaciones interactivas y basadas en web. Proporciona un amplio conjunto de herramientas y características para construir dashboards dinámicos, gráficos interactivos y aplicaciones de datos complejas. Plotly es ideal para escenarios donde quieres interactuar con los usuarios con tus datos de manera interactiva.\n",
    "\n",
    "**Pros:**\n",
    "- Interactivo y amigable para la web.\n",
    "- Soporta una amplia gama de tipos de gráficos.\n",
    "- Adecuado para crear dashboards y aplicaciones web.\n",
    "- Fácil compartir de visualizaciones interactivas.\n",
    "\n",
    "**Contras:**\n",
    "- Puede tener una curva de aprendizaje más empinada para principiantes.\n",
    "- Mejor adaptado para aplicaciones basadas en web y presentaciones en línea.\n",
    "\n",
    "En resumen, la elección entre Plotly, Seaborn y Matplotlib depende de tus necesidades específicas y objetivos. Matplotlib ofrece control detallado y personalización, Seaborn simplifica las visualizaciones estadísticas, mientras que Plotly sobresale en crear experiencias de datos interactivas y basadas en web. Entender las fortalezas y debilidades de cada biblioteca puede ayudarte a tomar decisiones informadas al seleccionar la herramienta adecuada para tus tareas de visualización de datos.\n"
   ]
  },
  {
   "cell_type": "markdown",
   "id": "ranging-premiere",
   "metadata": {
    "toc": true
   },
   "source": [
    "<h1>Table of Contents<span class=\"tocSkip\"></span></h1>\n",
    "<div class=\"toc\"><ul class=\"toc-item\"><li><span><a href=\"#Importing-libraries\" data-toc-modified-id=\"Importing-libraries-1\"><span class=\"toc-item-num\">1&nbsp;&nbsp;</span>Importing libraries</a></span></li><li><span><a href=\"#We-load-data\" data-toc-modified-id=\"We-load-data-2\"><span class=\"toc-item-num\">2&nbsp;&nbsp;</span>We load data</a></span></li><li><span><a href=\"#Bar-Charts\" data-toc-modified-id=\"Bar-Charts-3\"><span class=\"toc-item-num\">3&nbsp;&nbsp;</span>Bar Charts</a></span></li><li><span><a href=\"#Clustered-Bar-Chart\" data-toc-modified-id=\"Clustered-Bar-Chart-4\"><span class=\"toc-item-num\">4&nbsp;&nbsp;</span>Clustered Bar Chart</a></span></li><li><span><a href=\"#Histograms\" data-toc-modified-id=\"Histograms-5\"><span class=\"toc-item-num\">5&nbsp;&nbsp;</span>Histograms</a></span></li><li><span><a href=\"#Distplot\" data-toc-modified-id=\"Distplot-6\"><span class=\"toc-item-num\">6&nbsp;&nbsp;</span>Distplot</a></span></li><li><span><a href=\"#ScatterPlot\" data-toc-modified-id=\"ScatterPlot-7\"><span class=\"toc-item-num\">7&nbsp;&nbsp;</span>ScatterPlot</a></span></li><li><span><a href=\"#LineChart\" data-toc-modified-id=\"LineChart-8\"><span class=\"toc-item-num\">8&nbsp;&nbsp;</span>LineChart</a></span></li><li><span><a href=\"#Boxplot\" data-toc-modified-id=\"Boxplot-9\"><span class=\"toc-item-num\">9&nbsp;&nbsp;</span>Boxplot</a></span></li></ul></div>"
   ]
  },
  {
   "cell_type": "markdown",
   "id": "f854e0b6",
   "metadata": {
    "lang": "en"
   },
   "source": [
    "## Importando librerias"
   ]
  },
  {
   "cell_type": "markdown",
   "id": "5471d959",
   "metadata": {
    "lang": "en"
   },
   "source": [
    "Primera cosa: instalación --> [documentation here](https://plotly.com/python/getting-started/)"
   ]
  },
  {
   "cell_type": "code",
   "execution_count": 1,
   "id": "handmade-czech",
   "metadata": {},
   "outputs": [],
   "source": [
    "# Importing the pandas library for data manipulation and analysis\n",
    "import pandas as pd\n",
    "\n",
    "# Importing Plotly Express for high-level, easy-to-use interactive visualizations\n",
    "import plotly.express as px\n",
    "\n",
    "# Importing Plotly Graph Objects for more fine-grained control over visualizations\n",
    "import plotly.graph_objects as go\n",
    "\n",
    "# Importing NumPy for numerical operations and array manipulation\n",
    "import numpy as np\n",
    "\n",
    "# Importing Seaborn for statistical data visualization (optional but can complement Plotly)\n",
    "import seaborn as sns"
   ]
  },
  {
   "cell_type": "markdown",
   "id": "a84c2c4d",
   "metadata": {},
   "source": [
    "⚠️ Error potencial. `pip install --upgrade nbformat`?"
   ]
  },
  {
   "cell_type": "markdown",
   "id": "87f3da54",
   "metadata": {
    "lang": "en"
   },
   "source": [
    "## Cargamos datos"
   ]
  },
  {
   "cell_type": "code",
   "execution_count": 3,
   "id": "baking-saturday",
   "metadata": {},
   "outputs": [],
   "source": [
    "# Loading the penguins dataset using Seaborn\n",
    "penguins = sns.load_dataset(\"penguins\")\n",
    "\n",
    "# Loading the tips dataset using Seaborn\n",
    "tips = sns.load_dataset(\"tips\")\n",
    "\n",
    "# Loading the titanic dataset using Seaborn\n",
    "titanic = sns.load_dataset(\"titanic\")"
   ]
  },
  {
   "cell_type": "code",
   "execution_count": 4,
   "id": "external-porter",
   "metadata": {
    "lang": "es"
   },
   "outputs": [],
   "source": [
    "# Downloading gapminder data for the 'Canada' country from Plotly's data source\n",
    "# The query method is used to filter the data for the 'Canada' country\n",
    "df = px.data.gapminder().query(\"country == 'Canada'\")"
   ]
  },
  {
   "cell_type": "markdown",
   "id": "bbc7818c",
   "metadata": {},
   "source": [
    "Antes de sumergirte en las visualizaciones interactivas con Plotly, es esencial realizar un Análisis Exploratorio de Datos (EDA) en tu conjunto de datos para obtener una comprensión completa de sus características y relaciones. Esto te ayudará a tomar decisiones informadas sobre qué y cómo visualizar. Analicemos juntos el dataframe df:\n",
    "\n",
    "Aquí hay algunos pasos generales a seguir para realizar un EDA usando Pandas:\n",
    "\n",
    "1. **Cargar el Conjunto de Datos**: Carga tu conjunto de datos usando Pandas. Ya has hecho esto en tus celdas de código anteriores.\n",
    "\n",
    "2. **Resumen de Datos**: Comienza obteniendo una visión general de tus datos. Usa funciones como `df.head()`, `df.info()`, y `df.describe()` para entender la estructura, los tipos de datos y las estadísticas resumidas de tu conjunto de datos.\n",
    "\n",
    "3. **Manejo de Datos Faltantes**: Identifica y maneja los datos faltantes si los hay. Puedes usar funciones como `df.isnull()`, `df.dropna()`, o `df.fillna()` para abordar los valores faltantes.\n",
    "\n",
    "4. **Visualización de Datos con Seaborn y Matplotlib**: Antes de sumergirte en visualizaciones interactivas con Plotly, es una buena práctica crear visualizaciones estáticas usando bibliotecas como Seaborn y Matplotlib. Visualiza relaciones entre variables, distribuciones y tendencias. Esto te dará insights sobre qué aspectos de tus datos quieres explorar más a fondo.\n",
    "\n",
    "5. **Haz Preguntas**: Formula preguntas sobre tus datos. ¿Qué relaciones quieres investigar? ¿Qué insights buscas obtener?\n",
    "\n",
    "6. **Visualización Interactiva con Plotly**: Una vez que tienes un buen entendimiento de tus datos, puedes proceder a crear visualizaciones interactivas con Plotly. Plotly proporciona herramientas poderosas para crear gráficos y dashboards interactivos, facilitando la exploración de tus datos desde diferentes ángulos.\n",
    "\n",
    "Recuerda que el EDA es un proceso iterativo. Puede que necesites revisar los pasos anteriores a medida que descubras nuevos patrones o insights. El EDA no se trata solo de crear visualizaciones; se trata de entender tus datos a fondo.\n",
    "\n",
    "No dudes en hacer preguntas y buscar orientación a medida que avanzas en tu viaje de EDA y visualización. Podemos proporcionar asistencia y explicaciones en el camino. ¡Feliz exploración!"
   ]
  },
  {
   "cell_type": "code",
   "execution_count": 5,
   "id": "8731ecd6",
   "metadata": {
    "scrolled": true
   },
   "outputs": [
    {
     "name": "stdout",
     "output_type": "stream",
     "text": [
      "<class 'pandas.core.frame.DataFrame'>\n",
      "Index: 12 entries, 240 to 251\n",
      "Data columns (total 8 columns):\n",
      " #   Column     Non-Null Count  Dtype  \n",
      "---  ------     --------------  -----  \n",
      " 0   country    12 non-null     object \n",
      " 1   continent  12 non-null     object \n",
      " 2   year       12 non-null     int64  \n",
      " 3   lifeExp    12 non-null     float64\n",
      " 4   pop        12 non-null     int64  \n",
      " 5   gdpPercap  12 non-null     float64\n",
      " 6   iso_alpha  12 non-null     object \n",
      " 7   iso_num    12 non-null     int64  \n",
      "dtypes: float64(2), int64(3), object(3)\n",
      "memory usage: 864.0+ bytes\n"
     ]
    }
   ],
   "source": [
    "# Let's perform an EDA to df together :)\n",
    "df.info()"
   ]
  },
  {
   "cell_type": "code",
   "execution_count": 6,
   "id": "b8294b95",
   "metadata": {},
   "outputs": [
    {
     "data": {
      "text/html": [
       "<div>\n",
       "<style scoped>\n",
       "    .dataframe tbody tr th:only-of-type {\n",
       "        vertical-align: middle;\n",
       "    }\n",
       "\n",
       "    .dataframe tbody tr th {\n",
       "        vertical-align: top;\n",
       "    }\n",
       "\n",
       "    .dataframe thead th {\n",
       "        text-align: right;\n",
       "    }\n",
       "</style>\n",
       "<table border=\"1\" class=\"dataframe\">\n",
       "  <thead>\n",
       "    <tr style=\"text-align: right;\">\n",
       "      <th></th>\n",
       "      <th>country</th>\n",
       "      <th>continent</th>\n",
       "      <th>year</th>\n",
       "      <th>lifeExp</th>\n",
       "      <th>pop</th>\n",
       "      <th>gdpPercap</th>\n",
       "      <th>iso_alpha</th>\n",
       "      <th>iso_num</th>\n",
       "    </tr>\n",
       "  </thead>\n",
       "  <tbody>\n",
       "    <tr>\n",
       "      <th>240</th>\n",
       "      <td>Canada</td>\n",
       "      <td>Americas</td>\n",
       "      <td>1952</td>\n",
       "      <td>68.75</td>\n",
       "      <td>14785584</td>\n",
       "      <td>11367.16112</td>\n",
       "      <td>CAN</td>\n",
       "      <td>124</td>\n",
       "    </tr>\n",
       "    <tr>\n",
       "      <th>241</th>\n",
       "      <td>Canada</td>\n",
       "      <td>Americas</td>\n",
       "      <td>1957</td>\n",
       "      <td>69.96</td>\n",
       "      <td>17010154</td>\n",
       "      <td>12489.95006</td>\n",
       "      <td>CAN</td>\n",
       "      <td>124</td>\n",
       "    </tr>\n",
       "    <tr>\n",
       "      <th>242</th>\n",
       "      <td>Canada</td>\n",
       "      <td>Americas</td>\n",
       "      <td>1962</td>\n",
       "      <td>71.30</td>\n",
       "      <td>18985849</td>\n",
       "      <td>13462.48555</td>\n",
       "      <td>CAN</td>\n",
       "      <td>124</td>\n",
       "    </tr>\n",
       "    <tr>\n",
       "      <th>243</th>\n",
       "      <td>Canada</td>\n",
       "      <td>Americas</td>\n",
       "      <td>1967</td>\n",
       "      <td>72.13</td>\n",
       "      <td>20819767</td>\n",
       "      <td>16076.58803</td>\n",
       "      <td>CAN</td>\n",
       "      <td>124</td>\n",
       "    </tr>\n",
       "    <tr>\n",
       "      <th>244</th>\n",
       "      <td>Canada</td>\n",
       "      <td>Americas</td>\n",
       "      <td>1972</td>\n",
       "      <td>72.88</td>\n",
       "      <td>22284500</td>\n",
       "      <td>18970.57086</td>\n",
       "      <td>CAN</td>\n",
       "      <td>124</td>\n",
       "    </tr>\n",
       "  </tbody>\n",
       "</table>\n",
       "</div>"
      ],
      "text/plain": [
       "    country continent  year  lifeExp       pop    gdpPercap iso_alpha  iso_num\n",
       "240  Canada  Americas  1952    68.75  14785584  11367.16112       CAN      124\n",
       "241  Canada  Americas  1957    69.96  17010154  12489.95006       CAN      124\n",
       "242  Canada  Americas  1962    71.30  18985849  13462.48555       CAN      124\n",
       "243  Canada  Americas  1967    72.13  20819767  16076.58803       CAN      124\n",
       "244  Canada  Americas  1972    72.88  22284500  18970.57086       CAN      124"
      ]
     },
     "execution_count": 6,
     "metadata": {},
     "output_type": "execute_result"
    }
   ],
   "source": [
    "df.head()"
   ]
  },
  {
   "cell_type": "code",
   "execution_count": 7,
   "id": "523934f4",
   "metadata": {
    "scrolled": true
   },
   "outputs": [
    {
     "data": {
      "text/plain": [
       "<seaborn.axisgrid.PairGrid at 0x126858c80>"
      ]
     },
     "execution_count": 7,
     "metadata": {},
     "output_type": "execute_result"
    },
    {
     "data": {
      "image/png": "[encoded data removed]",
      "text/plain": [
       "<Figure size 1250x1250 with 30 Axes>"
      ]
     },
     "metadata": {},
     "output_type": "display_data"
    }
   ],
   "source": [
    "sns.pairplot(df)"
   ]
  },
  {
   "cell_type": "code",
   "execution_count": 8,
   "id": "3ed6cc38",
   "metadata": {},
   "outputs": [
    {
     "data": {
      "text/html": [
       "<div>\n",
       "<style scoped>\n",
       "    .dataframe tbody tr th:only-of-type {\n",
       "        vertical-align: middle;\n",
       "    }\n",
       "\n",
       "    .dataframe tbody tr th {\n",
       "        vertical-align: top;\n",
       "    }\n",
       "\n",
       "    .dataframe thead th {\n",
       "        text-align: right;\n",
       "    }\n",
       "</style>\n",
       "<table border=\"1\" class=\"dataframe\">\n",
       "  <thead>\n",
       "    <tr style=\"text-align: right;\">\n",
       "      <th></th>\n",
       "      <th>year</th>\n",
       "      <th>lifeExp</th>\n",
       "      <th>pop</th>\n",
       "      <th>gdpPercap</th>\n",
       "      <th>iso_num</th>\n",
       "    </tr>\n",
       "  </thead>\n",
       "  <tbody>\n",
       "    <tr>\n",
       "      <th>count</th>\n",
       "      <td>12.000000</td>\n",
       "      <td>12.000000</td>\n",
       "      <td>1.200000e+01</td>\n",
       "      <td>12.000000</td>\n",
       "      <td>12.0</td>\n",
       "    </tr>\n",
       "    <tr>\n",
       "      <th>mean</th>\n",
       "      <td>1979.500000</td>\n",
       "      <td>74.902750</td>\n",
       "      <td>2.446297e+07</td>\n",
       "      <td>22410.746340</td>\n",
       "      <td>124.0</td>\n",
       "    </tr>\n",
       "    <tr>\n",
       "      <th>std</th>\n",
       "      <td>18.027756</td>\n",
       "      <td>3.952871</td>\n",
       "      <td>5.940793e+06</td>\n",
       "      <td>8210.112789</td>\n",
       "      <td>0.0</td>\n",
       "    </tr>\n",
       "    <tr>\n",
       "      <th>min</th>\n",
       "      <td>1952.000000</td>\n",
       "      <td>68.750000</td>\n",
       "      <td>1.478558e+07</td>\n",
       "      <td>11367.161120</td>\n",
       "      <td>124.0</td>\n",
       "    </tr>\n",
       "    <tr>\n",
       "      <th>25%</th>\n",
       "      <td>1965.750000</td>\n",
       "      <td>71.922500</td>\n",
       "      <td>2.036129e+07</td>\n",
       "      <td>15423.062410</td>\n",
       "      <td>124.0</td>\n",
       "    </tr>\n",
       "    <tr>\n",
       "      <th>50%</th>\n",
       "      <td>1979.500000</td>\n",
       "      <td>74.985000</td>\n",
       "      <td>2.449915e+07</td>\n",
       "      <td>22494.837600</td>\n",
       "      <td>124.0</td>\n",
       "    </tr>\n",
       "    <tr>\n",
       "      <th>75%</th>\n",
       "      <td>1993.250000</td>\n",
       "      <td>78.115000</td>\n",
       "      <td>2.896909e+07</td>\n",
       "      <td>27208.617745</td>\n",
       "      <td>124.0</td>\n",
       "    </tr>\n",
       "    <tr>\n",
       "      <th>max</th>\n",
       "      <td>2007.000000</td>\n",
       "      <td>80.653000</td>\n",
       "      <td>3.339014e+07</td>\n",
       "      <td>36319.235010</td>\n",
       "      <td>124.0</td>\n",
       "    </tr>\n",
       "  </tbody>\n",
       "</table>\n",
       "</div>"
      ],
      "text/plain": [
       "              year    lifeExp           pop     gdpPercap  iso_num\n",
       "count    12.000000  12.000000  1.200000e+01     12.000000     12.0\n",
       "mean   1979.500000  74.902750  2.446297e+07  22410.746340    124.0\n",
       "std      18.027756   3.952871  5.940793e+06   8210.112789      0.0\n",
       "min    1952.000000  68.750000  1.478558e+07  11367.161120    124.0\n",
       "25%    1965.750000  71.922500  2.036129e+07  15423.062410    124.0\n",
       "50%    1979.500000  74.985000  2.449915e+07  22494.837600    124.0\n",
       "75%    1993.250000  78.115000  2.896909e+07  27208.617745    124.0\n",
       "max    2007.000000  80.653000  3.339014e+07  36319.235010    124.0"
      ]
     },
     "execution_count": 8,
     "metadata": {},
     "output_type": "execute_result"
    }
   ],
   "source": [
    "df.describe()"
   ]
  },
  {
   "cell_type": "markdown",
   "id": "8b68030c",
   "metadata": {
    "lang": "en"
   },
   "source": [
    "## Bar Charts\n",
    "Los gráficos de barras son una técnica de visualización fundamental para mostrar los conteos o valores de observaciones en diferentes categorías usando barras. Son particularmente efectivos al visualizar datos categóricos o comparar puntos de datos a través de diferentes categorías.\n",
    "\n",
    "En esta sección, exploraremos cómo crear gráficos de barras interactivos usando Plotly, una poderosa biblioteca para visualización de datos interactiva. Usaremos un conjunto de datos de muestra de Gapminder, enfocándonos en datos relacionados con Canadá, para demostrar la creación de gráficos de barras.\n",
    "\n",
    "Comencemos visualizando los datos de población de Canadá a lo largo de los años usando un gráfico de barras interactivo."
   ]
  },
  {
   "cell_type": "code",
   "execution_count": 9,
   "id": "parental-clear",
   "metadata": {
    "scrolled": true
   },
   "outputs": [
    {
     "data": {
      "application/vnd.plotly.v1+json": {
       "config": {
        "plotlyServerURL": "https://plot.ly"
       },
       "data": [
        {
         "alignmentgroup": "True",
         "hovertemplate": "year=%{x}<br>pop=%{y}<extra></extra>",
         "legendgroup": "",
         "marker": {
          "color": "#636efa",
          "pattern": {
           "shape": ""
          }
         },
         "name": "",
         "offsetgroup": "",
         "orientation": "v",
         "showlegend": false,
         "textposition": "auto",
         "type": "bar",
         "x": [
          1952,
          1957,
          1962,
          1967,
          1972,
          1977,
          1982,
          1987,
          1992,
          1997,
          2002,
          2007
         ],
         "xaxis": "x",
         "y": [
          14785584,
          17010154,
          18985849,
          20819767,
          22284500,
          23796400,
          25201900,
          26549700,
          28523502,
          30305843,
          31902268,
          33390141
         ],
         "yaxis": "y"
        }
       ],
       "layout": {
        "barmode": "relative",
        "legend": {
         "tracegroupgap": 0
        },
        "margin": {
         "t": 60
        },
        "template": {
         "data": {
          "bar": [
           {
            "error_x": {
             "color": "#2a3f5f"
            },
            "error_y": {
             "color": "#2a3f5f"
            },
            "marker": {
             "line": {
              "color": "#E5ECF6",
              "width": 0.5
             },
             "pattern": {
              "fillmode": "overlay",
              "size": 10,
              "solidity": 0.2
             }
            },
            "type": "bar"
           }
          ],
          "barpolar": [
           {
            "marker": {
             "line": {
              "color": "#E5ECF6",
              "width": 0.5
             },
             "pattern": {
              "fillmode": "overlay",
              "size": 10,
              "solidity": 0.2
             }
            },
            "type": "barpolar"
           }
          ],
          "carpet": [
           {
            "aaxis": {
             "endlinecolor": "#2a3f5f",
             "gridcolor": "white",
             "linecolor": "white",
             "minorgridcolor": "white",
             "startlinecolor": "#2a3f5f"
            },
            "baxis": {
             "endlinecolor": "#2a3f5f",
             "gridcolor": "white",
             "linecolor": "white",
             "minorgridcolor": "white",
             "startlinecolor": "#2a3f5f"
            },
            "type": "carpet"
           }
          ],
          "choropleth": [
           {
            "colorbar": {
             "outlinewidth": 0,
             "ticks": ""
            },
            "type": "choropleth"
           }
          ],
          "contour": [
           {
            "colorbar": {
             "outlinewidth": 0,
             "ticks": ""
            },
            "colorscale": [
             [
              0,
              "#0d0887"
             ],
             [
              0.1111111111111111,
              "#46039f"
             ],
             [
              0.2222222222222222,
              "#7201a8"
             ],
             [
              0.3333333333333333,
              "#9c179e"
             ],
             [
              0.4444444444444444,
              "#bd3786"
             ],
             [
              0.5555555555555556,
              "#d8576b"
             ],
             [
              0.6666666666666666,
              "#ed7953"
             ],
             [
              0.7777777777777778,
              "#fb9f3a"
             ],
             [
              0.8888888888888888,
              "#fdca26"
             ],
             [
              1,
              "#f0f921"
             ]
            ],
            "type": "contour"
           }
          ],
          "contourcarpet": [
           {
            "colorbar": {
             "outlinewidth": 0,
             "ticks": ""
            },
            "type": "contourcarpet"
           }
          ],
          "heatmap": [
           {
            "colorbar": {
             "outlinewidth": 0,
             "ticks": ""
            },
            "colorscale": [
             [
              0,
              "#0d0887"
             ],
             [
              0.1111111111111111,
              "#46039f"
             ],
             [
              0.2222222222222222,
              "#7201a8"
             ],
             [
              0.3333333333333333,
              "#9c179e"
             ],
             [
              0.4444444444444444,
              "#bd3786"
             ],
             [
              0.5555555555555556,
              "#d8576b"
             ],
             [
              0.6666666666666666,
              "#ed7953"
             ],
             [
              0.7777777777777778,
              "#fb9f3a"
             ],
             [
              0.8888888888888888,
              "#fdca26"
             ],
             [
              1,
              "#f0f921"
             ]
            ],
            "type": "heatmap"
           }
          ],
          "heatmapgl": [
           {
            "colorbar": {
             "outlinewidth": 0,
             "ticks": ""
            },
            "colorscale": [
             [
              0,
              "#0d0887"
             ],
             [
              0.1111111111111111,
              "#46039f"
             ],
             [
              0.2222222222222222,
              "#7201a8"
             ],
             [
              0.3333333333333333,
              "#9c179e"
             ],
             [
              0.4444444444444444,
              "#bd3786"
             ],
             [
              0.5555555555555556,
              "#d8576b"
             ],
             [
              0.6666666666666666,
              "#ed7953"
             ],
             [
              0.7777777777777778,
              "#fb9f3a"
             ],
             [
              0.8888888888888888,
              "#fdca26"
             ],
             [
              1,
              "#f0f921"
             ]
            ],
            "type": "heatmapgl"
           }
          ],
          "histogram": [
           {
            "marker": {
             "pattern": {
              "fillmode": "overlay",
              "size": 10,
              "solidity": 0.2
             }
            },
            "type": "histogram"
           }
          ],
          "histogram2d": [
           {
            "colorbar": {
             "outlinewidth": 0,
             "ticks": ""
            },
            "colorscale": [
             [
              0,
              "#0d0887"
             ],
             [
              0.1111111111111111,
              "#46039f"
             ],
             [
              0.2222222222222222,
              "#7201a8"
             ],
             [
              0.3333333333333333,
              "#9c179e"
             ],
             [
              0.4444444444444444,
              "#bd3786"
             ],
             [
              0.5555555555555556,
              "#d8576b"
             ],
             [
              0.6666666666666666,
              "#ed7953"
             ],
             [
              0.7777777777777778,
              "#fb9f3a"
             ],
             [
              0.8888888888888888,
              "#fdca26"
             ],
             [
              1,
              "#f0f921"
             ]
            ],
            "type": "histogram2d"
           }
          ],
          "histogram2dcontour": [
           {
            "colorbar": {
             "outlinewidth": 0,
             "ticks": ""
            },
            "colorscale": [
             [
              0,
              "#0d0887"
             ],
             [
              0.1111111111111111,
              "#46039f"
             ],
             [
              0.2222222222222222,
              "#7201a8"
             ],
             [
              0.3333333333333333,
              "#9c179e"
             ],
             [
              0.4444444444444444,
              "#bd3786"
             ],
             [
              0.5555555555555556,
              "#d8576b"
             ],
             [
              0.6666666666666666,
              "#ed7953"
             ],
             [
              0.7777777777777778,
              "#fb9f3a"
             ],
             [
              0.8888888888888888,
              "#fdca26"
             ],
             [
              1,
              "#f0f921"
             ]
            ],
            "type": "histogram2dcontour"
           }
          ],
          "mesh3d": [
           {
            "colorbar": {
             "outlinewidth": 0,
             "ticks": ""
            },
            "type": "mesh3d"
           }
          ],
          "parcoords": [
           {
            "line": {
             "colorbar": {
              "outlinewidth": 0,
              "ticks": ""
             }
            },
            "type": "parcoords"
           }
          ],
          "pie": [
           {
            "automargin": true,
            "type": "pie"
           }
          ],
          "scatter": [
           {
            "fillpattern": {
             "fillmode": "overlay",
             "size": 10,
             "solidity": 0.2
            },
            "type": "scatter"
           }
          ],
          "scatter3d": [
           {
            "line": {
             "colorbar": {
              "outlinewidth": 0,
              "ticks": ""
             }
            },
            "marker": {
             "colorbar": {
              "outlinewidth": 0,
              "ticks": ""
             }
            },
            "type": "scatter3d"
           }
          ],
          "scattercarpet": [
           {
            "marker": {
             "colorbar": {
              "outlinewidth": 0,
              "ticks": ""
             }
            },
            "type": "scattercarpet"
           }
          ],
          "scattergeo": [
           {
            "marker": {
             "colorbar": {
              "outlinewidth": 0,
              "ticks": ""
             }
            },
            "type": "scattergeo"
           }
          ],
          "scattergl": [
           {
            "marker": {
             "colorbar": {
              "outlinewidth": 0,
              "ticks": ""
             }
            },
            "type": "scattergl"
           }
          ],
          "scattermapbox": [
           {
            "marker": {
             "colorbar": {
              "outlinewidth": 0,
              "ticks": ""
             }
            },
            "type": "scattermapbox"
           }
          ],
          "scatterpolar": [
           {
            "marker": {
             "colorbar": {
              "outlinewidth": 0,
              "ticks": ""
             }
            },
            "type": "scatterpolar"
           }
          ],
          "scatterpolargl": [
           {
            "marker": {
             "colorbar": {
              "outlinewidth": 0,
              "ticks": ""
             }
            },
            "type": "scatterpolargl"
           }
          ],
          "scatterternary": [
           {
            "marker": {
             "colorbar": {
              "outlinewidth": 0,
              "ticks": ""
             }
            },
            "type": "scatterternary"
           }
          ],
          "surface": [
           {
            "colorbar": {
             "outlinewidth": 0,
             "ticks": ""
            },
            "colorscale": [
             [
              0,
              "#0d0887"
             ],
             [
              0.1111111111111111,
              "#46039f"
             ],
             [
              0.2222222222222222,
              "#7201a8"
             ],
             [
              0.3333333333333333,
              "#9c179e"
             ],
             [
              0.4444444444444444,
              "#bd3786"
             ],
             [
              0.5555555555555556,
              "#d8576b"
             ],
             [
              0.6666666666666666,
              "#ed7953"
             ],
             [
              0.7777777777777778,
              "#fb9f3a"
             ],
             [
              0.8888888888888888,
              "#fdca26"
             ],
             [
              1,
              "#f0f921"
             ]
            ],
            "type": "surface"
           }
          ],
          "table": [
           {
            "cells": {
             "fill": {
              "color": "#EBF0F8"
             },
             "line": {
              "color": "white"
             }
            },
            "header": {
             "fill": {
              "color": "#C8D4E3"
             },
             "line": {
              "color": "white"
             }
            },
            "type": "table"
           }
          ]
         },
         "layout": {
          "annotationdefaults": {
           "arrowcolor": "#2a3f5f",
           "arrowhead": 0,
           "arrowwidth": 1
          },
          "autotypenumbers": "strict",
          "coloraxis": {
           "colorbar": {
            "outlinewidth": 0,
            "ticks": ""
           }
          },
          "colorscale": {
           "diverging": [
            [
             0,
             "#8e0152"
            ],
            [
             0.1,
             "#c51b7d"
            ],
            [
             0.2,
             "#de77ae"
            ],
            [
             0.3,
             "#f1b6da"
            ],
            [
             0.4,
             "#fde0ef"
            ],
            [
             0.5,
             "#f7f7f7"
            ],
            [
             0.6,
             "#e6f5d0"
            ],
            [
             0.7,
             "#b8e186"
            ],
            [
             0.8,
             "#7fbc41"
            ],
            [
             0.9,
             "#4d9221"
            ],
            [
             1,
             "#276419"
            ]
           ],
           "sequential": [
            [
             0,
             "#0d0887"
            ],
            [
             0.1111111111111111,
             "#46039f"
            ],
            [
             0.2222222222222222,
             "#7201a8"
            ],
            [
             0.3333333333333333,
             "#9c179e"
            ],
            [
             0.4444444444444444,
             "#bd3786"
            ],
            [
             0.5555555555555556,
             "#d8576b"
            ],
            [
             0.6666666666666666,
             "#ed7953"
            ],
            [
             0.7777777777777778,
             "#fb9f3a"
            ],
            [
             0.8888888888888888,
             "#fdca26"
            ],
            [
             1,
             "#f0f921"
            ]
           ],
           "sequentialminus": [
            [
             0,
             "#0d0887"
            ],
            [
             0.1111111111111111,
             "#46039f"
            ],
            [
             0.2222222222222222,
             "#7201a8"
            ],
            [
             0.3333333333333333,
             "#9c179e"
            ],
            [
             0.4444444444444444,
             "#bd3786"
            ],
            [
             0.5555555555555556,
             "#d8576b"
            ],
            [
             0.6666666666666666,
             "#ed7953"
            ],
            [
             0.7777777777777778,
             "#fb9f3a"
            ],
            [
             0.8888888888888888,
             "#fdca26"
            ],
            [
             1,
             "#f0f921"
            ]
           ]
          },
          "colorway": [
           "#636efa",
           "#EF553B",
           "#00cc96",
           "#ab63fa",
           "#FFA15A",
           "#19d3f3",
           "#FF6692",
           "#B6E880",
           "#FF97FF",
           "#FECB52"
          ],
          "font": {
           "color": "#2a3f5f"
          },
          "geo": {
           "bgcolor": "white",
           "lakecolor": "white",
           "landcolor": "#E5ECF6",
           "showlakes": true,
           "showland": true,
           "subunitcolor": "white"
          },
          "hoverlabel": {
           "align": "left"
          },
          "hovermode": "closest",
          "mapbox": {
           "style": "light"
          },
          "paper_bgcolor": "white",
          "plot_bgcolor": "#E5ECF6",
          "polar": {
           "angularaxis": {
            "gridcolor": "white",
            "linecolor": "white",
            "ticks": ""
           },
           "bgcolor": "#E5ECF6",
           "radialaxis": {
            "gridcolor": "white",
            "linecolor": "white",
            "ticks": ""
           }
          },
          "scene": {
           "xaxis": {
            "backgroundcolor": "#E5ECF6",
            "gridcolor": "white",
            "gridwidth": 2,
            "linecolor": "white",
            "showbackground": true,
            "ticks": "",
            "zerolinecolor": "white"
           },
           "yaxis": {
            "backgroundcolor": "#E5ECF6",
            "gridcolor": "white",
            "gridwidth": 2,
            "linecolor": "white",
            "showbackground": true,
            "ticks": "",
            "zerolinecolor": "white"
           },
           "zaxis": {
            "backgroundcolor": "#E5ECF6",
            "gridcolor": "white",
            "gridwidth": 2,
            "linecolor": "white",
            "showbackground": true,
            "ticks": "",
            "zerolinecolor": "white"
           }
          },
          "shapedefaults": {
           "line": {
            "color": "#2a3f5f"
           }
          },
          "ternary": {
           "aaxis": {
            "gridcolor": "white",
            "linecolor": "white",
            "ticks": ""
           },
           "baxis": {
            "gridcolor": "white",
            "linecolor": "white",
            "ticks": ""
           },
           "bgcolor": "#E5ECF6",
           "caxis": {
            "gridcolor": "white",
            "linecolor": "white",
            "ticks": ""
           }
          },
          "title": {
           "x": 0.05
          },
          "xaxis": {
           "automargin": true,
           "gridcolor": "white",
           "linecolor": "white",
           "ticks": "",
           "title": {
            "standoff": 15
           },
           "zerolinecolor": "white",
           "zerolinewidth": 2
          },
          "yaxis": {
           "automargin": true,
           "gridcolor": "white",
           "linecolor": "white",
           "ticks": "",
           "title": {
            "standoff": 15
           },
           "zerolinecolor": "white",
           "zerolinewidth": 2
          }
         }
        },
        "xaxis": {
         "anchor": "y",
         "domain": [
          0,
          1
         ],
         "title": {
          "text": "year"
         }
        },
        "yaxis": {
         "anchor": "x",
         "domain": [
          0,
          1
         ],
         "title": {
          "text": "pop"
         }
        }
       }
      }
     },
     "metadata": {},
     "output_type": "display_data"
    }
   ],
   "source": [
    "# Create a bar chart showing population over the years\n",
    "fig = px.bar(df, x=\"year\", y=\"pop\")\n",
    "fig.show()"
   ]
  },
  {
   "cell_type": "code",
   "execution_count": 10,
   "id": "df96d808",
   "metadata": {
    "scrolled": true
   },
   "outputs": [
    {
     "data": {
      "text/html": [
       "<div>\n",
       "<style scoped>\n",
       "    .dataframe tbody tr th:only-of-type {\n",
       "        vertical-align: middle;\n",
       "    }\n",
       "\n",
       "    .dataframe tbody tr th {\n",
       "        vertical-align: top;\n",
       "    }\n",
       "\n",
       "    .dataframe thead th {\n",
       "        text-align: right;\n",
       "    }\n",
       "</style>\n",
       "<table border=\"1\" class=\"dataframe\">\n",
       "  <thead>\n",
       "    <tr style=\"text-align: right;\">\n",
       "      <th></th>\n",
       "      <th>species</th>\n",
       "      <th>island</th>\n",
       "      <th>bill_length_mm</th>\n",
       "      <th>bill_depth_mm</th>\n",
       "      <th>flipper_length_mm</th>\n",
       "      <th>body_mass_g</th>\n",
       "      <th>sex</th>\n",
       "    </tr>\n",
       "  </thead>\n",
       "  <tbody>\n",
       "    <tr>\n",
       "      <th>0</th>\n",
       "      <td>Adelie</td>\n",
       "      <td>Torgersen</td>\n",
       "      <td>39.1</td>\n",
       "      <td>18.7</td>\n",
       "      <td>181.0</td>\n",
       "      <td>3750.0</td>\n",
       "      <td>Male</td>\n",
       "    </tr>\n",
       "    <tr>\n",
       "      <th>1</th>\n",
       "      <td>Adelie</td>\n",
       "      <td>Torgersen</td>\n",
       "      <td>39.5</td>\n",
       "      <td>17.4</td>\n",
       "      <td>186.0</td>\n",
       "      <td>3800.0</td>\n",
       "      <td>Female</td>\n",
       "    </tr>\n",
       "    <tr>\n",
       "      <th>2</th>\n",
       "      <td>Adelie</td>\n",
       "      <td>Torgersen</td>\n",
       "      <td>40.3</td>\n",
       "      <td>18.0</td>\n",
       "      <td>195.0</td>\n",
       "      <td>3250.0</td>\n",
       "      <td>Female</td>\n",
       "    </tr>\n",
       "    <tr>\n",
       "      <th>3</th>\n",
       "      <td>Adelie</td>\n",
       "      <td>Torgersen</td>\n",
       "      <td>NaN</td>\n",
       "      <td>NaN</td>\n",
       "      <td>NaN</td>\n",
       "      <td>NaN</td>\n",
       "      <td>NaN</td>\n",
       "    </tr>\n",
       "    <tr>\n",
       "      <th>4</th>\n",
       "      <td>Adelie</td>\n",
       "      <td>Torgersen</td>\n",
       "      <td>36.7</td>\n",
       "      <td>19.3</td>\n",
       "      <td>193.0</td>\n",
       "      <td>3450.0</td>\n",
       "      <td>Female</td>\n",
       "    </tr>\n",
       "  </tbody>\n",
       "</table>\n",
       "</div>"
      ],
      "text/plain": [
       "  species     island  bill_length_mm  bill_depth_mm  flipper_length_mm  \\\n",
       "0  Adelie  Torgersen            39.1           18.7              181.0   \n",
       "1  Adelie  Torgersen            39.5           17.4              186.0   \n",
       "2  Adelie  Torgersen            40.3           18.0              195.0   \n",
       "3  Adelie  Torgersen             NaN            NaN                NaN   \n",
       "4  Adelie  Torgersen            36.7           19.3              193.0   \n",
       "\n",
       "   body_mass_g     sex  \n",
       "0       3750.0    Male  \n",
       "1       3800.0  Female  \n",
       "2       3250.0  Female  \n",
       "3          NaN     NaN  \n",
       "4       3450.0  Female  "
      ]
     },
     "execution_count": 10,
     "metadata": {},
     "output_type": "execute_result"
    }
   ],
   "source": [
    "penguins.head()"
   ]
  },
  {
   "cell_type": "code",
   "execution_count": 11,
   "id": "1acffe61",
   "metadata": {},
   "outputs": [
    {
     "data": {
      "text/plain": [
       "species\n",
       "Adelie       152\n",
       "Gentoo       124\n",
       "Chinstrap     68\n",
       "Name: count, dtype: int64"
      ]
     },
     "execution_count": 11,
     "metadata": {},
     "output_type": "execute_result"
    }
   ],
   "source": [
    "species_counts = penguins.species.value_counts()\n",
    "species_counts"
   ]
  },
  {
   "cell_type": "code",
   "execution_count": 12,
   "id": "agricultural-messaging",
   "metadata": {},
   "outputs": [
    {
     "data": {
      "application/vnd.plotly.v1+json": {
       "config": {
        "plotlyServerURL": "https://plot.ly"
       },
       "data": [
        {
         "alignmentgroup": "True",
         "hovertemplate": "x=%{x}<br>y=%{y}<extra></extra>",
         "legendgroup": "",
         "marker": {
          "color": "#636efa",
          "pattern": {
           "shape": ""
          }
         },
         "name": "",
         "offsetgroup": "",
         "orientation": "v",
         "showlegend": false,
         "textposition": "auto",
         "type": "bar",
         "x": [
          "Adelie",
          "Gentoo",
          "Chinstrap"
         ],
         "xaxis": "x",
         "y": [
          152,
          124,
          68
         ],
         "yaxis": "y"
        }
       ],
       "layout": {
        "barmode": "relative",
        "legend": {
         "tracegroupgap": 0
        },
        "margin": {
         "t": 60
        },
        "template": {
         "data": {
          "bar": [
           {
            "error_x": {
             "color": "#2a3f5f"
            },
            "error_y": {
             "color": "#2a3f5f"
            },
            "marker": {
             "line": {
              "color": "#E5ECF6",
              "width": 0.5
             },
             "pattern": {
              "fillmode": "overlay",
              "size": 10,
              "solidity": 0.2
             }
            },
            "type": "bar"
           }
          ],
          "barpolar": [
           {
            "marker": {
             "line": {
              "color": "#E5ECF6",
              "width": 0.5
             },
             "pattern": {
              "fillmode": "overlay",
              "size": 10,
              "solidity": 0.2
             }
            },
            "type": "barpolar"
           }
          ],
          "carpet": [
           {
            "aaxis": {
             "endlinecolor": "#2a3f5f",
             "gridcolor": "white",
             "linecolor": "white",
             "minorgridcolor": "white",
             "startlinecolor": "#2a3f5f"
            },
            "baxis": {
             "endlinecolor": "#2a3f5f",
             "gridcolor": "white",
             "linecolor": "white",
             "minorgridcolor": "white",
             "startlinecolor": "#2a3f5f"
            },
            "type": "carpet"
           }
          ],
          "choropleth": [
           {
            "colorbar": {
             "outlinewidth": 0,
             "ticks": ""
            },
            "type": "choropleth"
           }
          ],
          "contour": [
           {
            "colorbar": {
             "outlinewidth": 0,
             "ticks": ""
            },
            "colorscale": [
             [
              0,
              "#0d0887"
             ],
             [
              0.1111111111111111,
              "#46039f"
             ],
             [
              0.2222222222222222,
              "#7201a8"
             ],
             [
              0.3333333333333333,
              "#9c179e"
             ],
             [
              0.4444444444444444,
              "#bd3786"
             ],
             [
              0.5555555555555556,
              "#d8576b"
             ],
             [
              0.6666666666666666,
              "#ed7953"
             ],
             [
              0.7777777777777778,
              "#fb9f3a"
             ],
             [
              0.8888888888888888,
              "#fdca26"
             ],
             [
              1,
              "#f0f921"
             ]
            ],
            "type": "contour"
           }
          ],
          "contourcarpet": [
           {
            "colorbar": {
             "outlinewidth": 0,
             "ticks": ""
            },
            "type": "contourcarpet"
           }
          ],
          "heatmap": [
           {
            "colorbar": {
             "outlinewidth": 0,
             "ticks": ""
            },
            "colorscale": [
             [
              0,
              "#0d0887"
             ],
             [
              0.1111111111111111,
              "#46039f"
             ],
             [
              0.2222222222222222,
              "#7201a8"
             ],
             [
              0.3333333333333333,
              "#9c179e"
             ],
             [
              0.4444444444444444,
              "#bd3786"
             ],
             [
              0.5555555555555556,
              "#d8576b"
             ],
             [
              0.6666666666666666,
              "#ed7953"
             ],
             [
              0.7777777777777778,
              "#fb9f3a"
             ],
             [
              0.8888888888888888,
              "#fdca26"
             ],
             [
              1,
              "#f0f921"
             ]
            ],
            "type": "heatmap"
           }
          ],
          "heatmapgl": [
           {
            "colorbar": {
             "outlinewidth": 0,
             "ticks": ""
            },
            "colorscale": [
             [
              0,
              "#0d0887"
             ],
             [
              0.1111111111111111,
              "#46039f"
             ],
             [
              0.2222222222222222,
              "#7201a8"
             ],
             [
              0.3333333333333333,
              "#9c179e"
             ],
             [
              0.4444444444444444,
              "#bd3786"
             ],
             [
              0.5555555555555556,
              "#d8576b"
             ],
             [
              0.6666666666666666,
              "#ed7953"
             ],
             [
              0.7777777777777778,
              "#fb9f3a"
             ],
             [
              0.8888888888888888,
              "#fdca26"
             ],
             [
              1,
              "#f0f921"
             ]
            ],
            "type": "heatmapgl"
           }
          ],
          "histogram": [
           {
            "marker": {
             "pattern": {
              "fillmode": "overlay",
              "size": 10,
              "solidity": 0.2
             }
            },
            "type": "histogram"
           }
          ],
          "histogram2d": [
           {
            "colorbar": {
             "outlinewidth": 0,
             "ticks": ""
            },
            "colorscale": [
             [
              0,
              "#0d0887"
             ],
             [
              0.1111111111111111,
              "#46039f"
             ],
             [
              0.2222222222222222,
              "#7201a8"
             ],
             [
              0.3333333333333333,
              "#9c179e"
             ],
             [
              0.4444444444444444,
              "#bd3786"
             ],
             [
              0.5555555555555556,
              "#d8576b"
             ],
             [
              0.6666666666666666,
              "#ed7953"
             ],
             [
              0.7777777777777778,
              "#fb9f3a"
             ],
             [
              0.8888888888888888,
              "#fdca26"
             ],
             [
              1,
              "#f0f921"
             ]
            ],
            "type": "histogram2d"
           }
          ],
          "histogram2dcontour": [
           {
            "colorbar": {
             "outlinewidth": 0,
             "ticks": ""
            },
            "colorscale": [
             [
              0,
              "#0d0887"
             ],
             [
              0.1111111111111111,
              "#46039f"
             ],
             [
              0.2222222222222222,
              "#7201a8"
             ],
             [
              0.3333333333333333,
              "#9c179e"
             ],
             [
              0.4444444444444444,
              "#bd3786"
             ],
             [
              0.5555555555555556,
              "#d8576b"
             ],
             [
              0.6666666666666666,
              "#ed7953"
             ],
             [
              0.7777777777777778,
              "#fb9f3a"
             ],
             [
              0.8888888888888888,
              "#fdca26"
             ],
             [
              1,
              "#f0f921"
             ]
            ],
            "type": "histogram2dcontour"
           }
          ],
          "mesh3d": [
           {
            "colorbar": {
             "outlinewidth": 0,
             "ticks": ""
            },
            "type": "mesh3d"
           }
          ],
          "parcoords": [
           {
            "line": {
             "colorbar": {
              "outlinewidth": 0,
              "ticks": ""
             }
            },
            "type": "parcoords"
           }
          ],
          "pie": [
           {
            "automargin": true,
            "type": "pie"
           }
          ],
          "scatter": [
           {
            "fillpattern": {
             "fillmode": "overlay",
             "size": 10,
             "solidity": 0.2
            },
            "type": "scatter"
           }
          ],
          "scatter3d": [
           {
            "line": {
             "colorbar": {
              "outlinewidth": 0,
              "ticks": ""
             }
            },
            "marker": {
             "colorbar": {
              "outlinewidth": 0,
              "ticks": ""
             }
            },
            "type": "scatter3d"
           }
          ],
          "scattercarpet": [
           {
            "marker": {
             "colorbar": {
              "outlinewidth": 0,
              "ticks": ""
             }
            },
            "type": "scattercarpet"
           }
          ],
          "scattergeo": [
           {
            "marker": {
             "colorbar": {
              "outlinewidth": 0,
              "ticks": ""
             }
            },
            "type": "scattergeo"
           }
          ],
          "scattergl": [
           {
            "marker": {
             "colorbar": {
              "outlinewidth": 0,
              "ticks": ""
             }
            },
            "type": "scattergl"
           }
          ],
          "scattermapbox": [
           {
            "marker": {
             "colorbar": {
              "outlinewidth": 0,
              "ticks": ""
             }
            },
            "type": "scattermapbox"
           }
          ],
          "scatterpolar": [
           {
            "marker": {
             "colorbar": {
              "outlinewidth": 0,
              "ticks": ""
             }
            },
            "type": "scatterpolar"
           }
          ],
          "scatterpolargl": [
           {
            "marker": {
             "colorbar": {
              "outlinewidth": 0,
              "ticks": ""
             }
            },
            "type": "scatterpolargl"
           }
          ],
          "scatterternary": [
           {
            "marker": {
             "colorbar": {
              "outlinewidth": 0,
              "ticks": ""
             }
            },
            "type": "scatterternary"
           }
          ],
          "surface": [
           {
            "colorbar": {
             "outlinewidth": 0,
             "ticks": ""
            },
            "colorscale": [
             [
              0,
              "#0d0887"
             ],
             [
              0.1111111111111111,
              "#46039f"
             ],
             [
              0.2222222222222222,
              "#7201a8"
             ],
             [
              0.3333333333333333,
              "#9c179e"
             ],
             [
              0.4444444444444444,
              "#bd3786"
             ],
             [
              0.5555555555555556,
              "#d8576b"
             ],
             [
              0.6666666666666666,
              "#ed7953"
             ],
             [
              0.7777777777777778,
              "#fb9f3a"
             ],
             [
              0.8888888888888888,
              "#fdca26"
             ],
             [
              1,
              "#f0f921"
             ]
            ],
            "type": "surface"
           }
          ],
          "table": [
           {
            "cells": {
             "fill": {
              "color": "#EBF0F8"
             },
             "line": {
              "color": "white"
             }
            },
            "header": {
             "fill": {
              "color": "#C8D4E3"
             },
             "line": {
              "color": "white"
             }
            },
            "type": "table"
           }
          ]
         },
         "layout": {
          "annotationdefaults": {
           "arrowcolor": "#2a3f5f",
           "arrowhead": 0,
           "arrowwidth": 1
          },
          "autotypenumbers": "strict",
          "coloraxis": {
           "colorbar": {
            "outlinewidth": 0,
            "ticks": ""
           }
          },
          "colorscale": {
           "diverging": [
            [
             0,
             "#8e0152"
            ],
            [
             0.1,
             "#c51b7d"
            ],
            [
             0.2,
             "#de77ae"
            ],
            [
             0.3,
             "#f1b6da"
            ],
            [
             0.4,
             "#fde0ef"
            ],
            [
             0.5,
             "#f7f7f7"
            ],
            [
             0.6,
             "#e6f5d0"
            ],
            [
             0.7,
             "#b8e186"
            ],
            [
             0.8,
             "#7fbc41"
            ],
            [
             0.9,
             "#4d9221"
            ],
            [
             1,
             "#276419"
            ]
           ],
           "sequential": [
            [
             0,
             "#0d0887"
            ],
            [
             0.1111111111111111,
             "#46039f"
            ],
            [
             0.2222222222222222,
             "#7201a8"
            ],
            [
             0.3333333333333333,
             "#9c179e"
            ],
            [
             0.4444444444444444,
             "#bd3786"
            ],
            [
             0.5555555555555556,
             "#d8576b"
            ],
            [
             0.6666666666666666,
             "#ed7953"
            ],
            [
             0.7777777777777778,
             "#fb9f3a"
            ],
            [
             0.8888888888888888,
             "#fdca26"
            ],
            [
             1,
             "#f0f921"
            ]
           ],
           "sequentialminus": [
            [
             0,
             "#0d0887"
            ],
            [
             0.1111111111111111,
             "#46039f"
            ],
            [
             0.2222222222222222,
             "#7201a8"
            ],
            [
             0.3333333333333333,
             "#9c179e"
            ],
            [
             0.4444444444444444,
             "#bd3786"
            ],
            [
             0.5555555555555556,
             "#d8576b"
            ],
            [
             0.6666666666666666,
             "#ed7953"
            ],
            [
             0.7777777777777778,
             "#fb9f3a"
            ],
            [
             0.8888888888888888,
             "#fdca26"
            ],
            [
             1,
             "#f0f921"
            ]
           ]
          },
          "colorway": [
           "#636efa",
           "#EF553B",
           "#00cc96",
           "#ab63fa",
           "#FFA15A",
           "#19d3f3",
           "#FF6692",
           "#B6E880",
           "#FF97FF",
           "#FECB52"
          ],
          "font": {
           "color": "#2a3f5f"
          },
          "geo": {
           "bgcolor": "white",
           "lakecolor": "white",
           "landcolor": "#E5ECF6",
           "showlakes": true,
           "showland": true,
           "subunitcolor": "white"
          },
          "hoverlabel": {
           "align": "left"
          },
          "hovermode": "closest",
          "mapbox": {
           "style": "light"
          },
          "paper_bgcolor": "white",
          "plot_bgcolor": "#E5ECF6",
          "polar": {
           "angularaxis": {
            "gridcolor": "white",
            "linecolor": "white",
            "ticks": ""
           },
           "bgcolor": "#E5ECF6",
           "radialaxis": {
            "gridcolor": "white",
            "linecolor": "white",
            "ticks": ""
           }
          },
          "scene": {
           "xaxis": {
            "backgroundcolor": "#E5ECF6",
            "gridcolor": "white",
            "gridwidth": 2,
            "linecolor": "white",
            "showbackground": true,
            "ticks": "",
            "zerolinecolor": "white"
           },
           "yaxis": {
            "backgroundcolor": "#E5ECF6",
            "gridcolor": "white",
            "gridwidth": 2,
            "linecolor": "white",
            "showbackground": true,
            "ticks": "",
            "zerolinecolor": "white"
           },
           "zaxis": {
            "backgroundcolor": "#E5ECF6",
            "gridcolor": "white",
            "gridwidth": 2,
            "linecolor": "white",
            "showbackground": true,
            "ticks": "",
            "zerolinecolor": "white"
           }
          },
          "shapedefaults": {
           "line": {
            "color": "#2a3f5f"
           }
          },
          "ternary": {
           "aaxis": {
            "gridcolor": "white",
            "linecolor": "white",
            "ticks": ""
           },
           "baxis": {
            "gridcolor": "white",
            "linecolor": "white",
            "ticks": ""
           },
           "bgcolor": "#E5ECF6",
           "caxis": {
            "gridcolor": "white",
            "linecolor": "white",
            "ticks": ""
           }
          },
          "title": {
           "x": 0.05
          },
          "xaxis": {
           "automargin": true,
           "gridcolor": "white",
           "linecolor": "white",
           "ticks": "",
           "title": {
            "standoff": 15
           },
           "zerolinecolor": "white",
           "zerolinewidth": 2
          },
          "yaxis": {
           "automargin": true,
           "gridcolor": "white",
           "linecolor": "white",
           "ticks": "",
           "title": {
            "standoff": 15
           },
           "zerolinecolor": "white",
           "zerolinewidth": 2
          }
         }
        },
        "xaxis": {
         "anchor": "y",
         "domain": [
          0,
          1
         ],
         "title": {
          "text": "x"
         }
        },
        "yaxis": {
         "anchor": "x",
         "domain": [
          0,
          1
         ],
         "title": {
          "text": "y"
         }
        }
       }
      }
     },
     "metadata": {},
     "output_type": "display_data"
    }
   ],
   "source": [
    "# Create a bar chart with Plotly Express\n",
    "\n",
    "# Using the penguins dataframe\n",
    "# Count the occurrences of each species in the 'species' column,\n",
    "# and get the unique species names as the index and their respective counts as values\n",
    "species_counts = penguins.species.value_counts()\n",
    "\n",
    "# Create a bar chart using px.bar\n",
    "# x: Set the x-axis values to the unique species names\n",
    "# y: Set the y-axis values to the counts of each species\n",
    "fig = px.bar(penguins, x=species_counts.index, y=species_counts.values)\n",
    "\n",
    "# Show the interactive bar chart\n",
    "fig.show()"
   ]
  },
  {
   "cell_type": "markdown",
   "id": "3ad2bc5d",
   "metadata": {
    "lang": "en"
   },
   "source": [
    "## Clustered Bar Chart\n",
    "\n",
    "Los gráficos de barras agrupadas son una herramienta de visualización poderosa utilizada para comparar múltiples categorías a través de diferentes grupos o factores. En Plotly, puedes crear fácilmente gráficos de barras agrupadas para mostrar datos con distintos grupos de barras para cada categoría, permitiendo comparaciones visuales claras.\n",
    "\n",
    "Cada grupo representa un grupo o un factor, y dentro de cada grupo, hay múltiples barras correspondientes a diferentes categorías. Los gráficos de barras agrupadas son particularmente útiles cuando quieres mostrar la relación entre dos variables categóricas mientras resaltas las variaciones dentro de cada grupo.\n",
    "\n",
    "Con Plotly, puedes crear gráficos de barras agrupadas interactivos que proporcionan una forma dinámica y atractiva de explorar tus datos. Estos gráficos son altamente personalizables, facilitando la adaptación de la visualización a tus necesidades específicas.\n",
    "\n",
    "En esta sección, exploraremos cómo crear gráficos de barras agrupadas usando Plotly, paso a paso. Ya sea que estés analizando datos demográficos, respuestas a encuestas o cualquier otro dato categórico, los gráficos de barras agrupadas pueden ayudarte a obtener valiosos insights de tu conjunto de datos."
   ]
  },
  {
   "cell_type": "code",
   "execution_count": 13,
   "id": "introductory-scene",
   "metadata": {},
   "outputs": [
    {
     "data": {
      "text/html": [
       "<div>\n",
       "<style scoped>\n",
       "    .dataframe tbody tr th:only-of-type {\n",
       "        vertical-align: middle;\n",
       "    }\n",
       "\n",
       "    .dataframe tbody tr th {\n",
       "        vertical-align: top;\n",
       "    }\n",
       "\n",
       "    .dataframe thead th {\n",
       "        text-align: right;\n",
       "    }\n",
       "</style>\n",
       "<table border=\"1\" class=\"dataframe\">\n",
       "  <thead>\n",
       "    <tr style=\"text-align: right;\">\n",
       "      <th>sex</th>\n",
       "      <th>Female</th>\n",
       "      <th>Male</th>\n",
       "    </tr>\n",
       "    <tr>\n",
       "      <th>species</th>\n",
       "      <th></th>\n",
       "      <th></th>\n",
       "    </tr>\n",
       "  </thead>\n",
       "  <tbody>\n",
       "    <tr>\n",
       "      <th>Adelie</th>\n",
       "      <td>73</td>\n",
       "      <td>73</td>\n",
       "    </tr>\n",
       "    <tr>\n",
       "      <th>Chinstrap</th>\n",
       "      <td>34</td>\n",
       "      <td>34</td>\n",
       "    </tr>\n",
       "    <tr>\n",
       "      <th>Gentoo</th>\n",
       "      <td>58</td>\n",
       "      <td>61</td>\n",
       "    </tr>\n",
       "  </tbody>\n",
       "</table>\n",
       "</div>"
      ],
      "text/plain": [
       "sex        Female  Male\n",
       "species                \n",
       "Adelie         73    73\n",
       "Chinstrap      34    34\n",
       "Gentoo         58    61"
      ]
     },
     "execution_count": 13,
     "metadata": {},
     "output_type": "execute_result"
    }
   ],
   "source": [
    "#I group the dataframe\n",
    "agrupado = penguins.groupby([\"species\"])[\"sex\"].value_counts().unstack()\n",
    "agrupado"
   ]
  },
  {
   "cell_type": "code",
   "execution_count": 14,
   "id": "professional-equipment",
   "metadata": {},
   "outputs": [
    {
     "data": {
      "text/plain": [
       "array(['Adelie', 'Chinstrap', 'Gentoo'], dtype=object)"
      ]
     },
     "execution_count": 14,
     "metadata": {},
     "output_type": "execute_result"
    }
   ],
   "source": [
    "# Get unique penguin species names\n",
    "animals = penguins.species.unique()\n",
    "animals"
   ]
  },
  {
   "cell_type": "code",
   "execution_count": 15,
   "id": "processed-modeling",
   "metadata": {},
   "outputs": [
    {
     "data": {
      "application/vnd.plotly.v1+json": {
       "config": {
        "plotlyServerURL": "https://plot.ly"
       },
       "data": [
        {
         "name": "Female",
         "type": "bar",
         "x": [
          "Adelie",
          "Chinstrap",
          "Gentoo"
         ],
         "y": [
          73,
          34,
          58
         ]
        },
        {
         "name": "Male",
         "type": "bar",
         "x": [
          "Adelie",
          "Chinstrap",
          "Gentoo"
         ],
         "y": [
          73,
          34,
          61
         ]
        }
       ],
       "layout": {
        "template": {
         "data": {
          "bar": [
           {
            "error_x": {
             "color": "#2a3f5f"
            },
            "error_y": {
             "color": "#2a3f5f"
            },
            "marker": {
             "line": {
              "color": "#E5ECF6",
              "width": 0.5
             },
             "pattern": {
              "fillmode": "overlay",
              "size": 10,
              "solidity": 0.2
             }
            },
            "type": "bar"
           }
          ],
          "barpolar": [
           {
            "marker": {
             "line": {
              "color": "#E5ECF6",
              "width": 0.5
             },
             "pattern": {
              "fillmode": "overlay",
              "size": 10,
              "solidity": 0.2
             }
            },
            "type": "barpolar"
           }
          ],
          "carpet": [
           {
            "aaxis": {
             "endlinecolor": "#2a3f5f",
             "gridcolor": "white",
             "linecolor": "white",
             "minorgridcolor": "white",
             "startlinecolor": "#2a3f5f"
            },
            "baxis": {
             "endlinecolor": "#2a3f5f",
             "gridcolor": "white",
             "linecolor": "white",
             "minorgridcolor": "white",
             "startlinecolor": "#2a3f5f"
            },
            "type": "carpet"
           }
          ],
          "choropleth": [
           {
            "colorbar": {
             "outlinewidth": 0,
             "ticks": ""
            },
            "type": "choropleth"
           }
          ],
          "contour": [
           {
            "colorbar": {
             "outlinewidth": 0,
             "ticks": ""
            },
            "colorscale": [
             [
              0,
              "#0d0887"
             ],
             [
              0.1111111111111111,
              "#46039f"
             ],
             [
              0.2222222222222222,
              "#7201a8"
             ],
             [
              0.3333333333333333,
              "#9c179e"
             ],
             [
              0.4444444444444444,
              "#bd3786"
             ],
             [
              0.5555555555555556,
              "#d8576b"
             ],
             [
              0.6666666666666666,
              "#ed7953"
             ],
             [
              0.7777777777777778,
              "#fb9f3a"
             ],
             [
              0.8888888888888888,
              "#fdca26"
             ],
             [
              1,
              "#f0f921"
             ]
            ],
            "type": "contour"
           }
          ],
          "contourcarpet": [
           {
            "colorbar": {
             "outlinewidth": 0,
             "ticks": ""
            },
            "type": "contourcarpet"
           }
          ],
          "heatmap": [
           {
            "colorbar": {
             "outlinewidth": 0,
             "ticks": ""
            },
            "colorscale": [
             [
              0,
              "#0d0887"
             ],
             [
              0.1111111111111111,
              "#46039f"
             ],
             [
              0.2222222222222222,
              "#7201a8"
             ],
             [
              0.3333333333333333,
              "#9c179e"
             ],
             [
              0.4444444444444444,
              "#bd3786"
             ],
             [
              0.5555555555555556,
              "#d8576b"
             ],
             [
              0.6666666666666666,
              "#ed7953"
             ],
             [
              0.7777777777777778,
              "#fb9f3a"
             ],
             [
              0.8888888888888888,
              "#fdca26"
             ],
             [
              1,
              "#f0f921"
             ]
            ],
            "type": "heatmap"
           }
          ],
          "heatmapgl": [
           {
            "colorbar": {
             "outlinewidth": 0,
             "ticks": ""
            },
            "colorscale": [
             [
              0,
              "#0d0887"
             ],
             [
              0.1111111111111111,
              "#46039f"
             ],
             [
              0.2222222222222222,
              "#7201a8"
             ],
             [
              0.3333333333333333,
              "#9c179e"
             ],
             [
              0.4444444444444444,
              "#bd3786"
             ],
             [
              0.5555555555555556,
              "#d8576b"
             ],
             [
              0.6666666666666666,
              "#ed7953"
             ],
             [
              0.7777777777777778,
              "#fb9f3a"
             ],
             [
              0.8888888888888888,
              "#fdca26"
             ],
             [
              1,
              "#f0f921"
             ]
            ],
            "type": "heatmapgl"
           }
          ],
          "histogram": [
           {
            "marker": {
             "pattern": {
              "fillmode": "overlay",
              "size": 10,
              "solidity": 0.2
             }
            },
            "type": "histogram"
           }
          ],
          "histogram2d": [
           {
            "colorbar": {
             "outlinewidth": 0,
             "ticks": ""
            },
            "colorscale": [
             [
              0,
              "#0d0887"
             ],
             [
              0.1111111111111111,
              "#46039f"
             ],
             [
              0.2222222222222222,
              "#7201a8"
             ],
             [
              0.3333333333333333,
              "#9c179e"
             ],
             [
              0.4444444444444444,
              "#bd3786"
             ],
             [
              0.5555555555555556,
              "#d8576b"
             ],
             [
              0.6666666666666666,
              "#ed7953"
             ],
             [
              0.7777777777777778,
              "#fb9f3a"
             ],
             [
              0.8888888888888888,
              "#fdca26"
             ],
             [
              1,
              "#f0f921"
             ]
            ],
            "type": "histogram2d"
           }
          ],
          "histogram2dcontour": [
           {
            "colorbar": {
             "outlinewidth": 0,
             "ticks": ""
            },
            "colorscale": [
             [
              0,
              "#0d0887"
             ],
             [
              0.1111111111111111,
              "#46039f"
             ],
             [
              0.2222222222222222,
              "#7201a8"
             ],
             [
              0.3333333333333333,
              "#9c179e"
             ],
             [
              0.4444444444444444,
              "#bd3786"
             ],
             [
              0.5555555555555556,
              "#d8576b"
             ],
             [
              0.6666666666666666,
              "#ed7953"
             ],
             [
              0.7777777777777778,
              "#fb9f3a"
             ],
             [
              0.8888888888888888,
              "#fdca26"
             ],
             [
              1,
              "#f0f921"
             ]
            ],
            "type": "histogram2dcontour"
           }
          ],
          "mesh3d": [
           {
            "colorbar": {
             "outlinewidth": 0,
             "ticks": ""
            },
            "type": "mesh3d"
           }
          ],
          "parcoords": [
           {
            "line": {
             "colorbar": {
              "outlinewidth": 0,
              "ticks": ""
             }
            },
            "type": "parcoords"
           }
          ],
          "pie": [
           {
            "automargin": true,
            "type": "pie"
           }
          ],
          "scatter": [
           {
            "fillpattern": {
             "fillmode": "overlay",
             "size": 10,
             "solidity": 0.2
            },
            "type": "scatter"
           }
          ],
          "scatter3d": [
           {
            "line": {
             "colorbar": {
              "outlinewidth": 0,
              "ticks": ""
             }
            },
            "marker": {
             "colorbar": {
              "outlinewidth": 0,
              "ticks": ""
             }
            },
            "type": "scatter3d"
           }
          ],
          "scattercarpet": [
           {
            "marker": {
             "colorbar": {
              "outlinewidth": 0,
              "ticks": ""
             }
            },
            "type": "scattercarpet"
           }
          ],
          "scattergeo": [
           {
            "marker": {
             "colorbar": {
              "outlinewidth": 0,
              "ticks": ""
             }
            },
            "type": "scattergeo"
           }
          ],
          "scattergl": [
           {
            "marker": {
             "colorbar": {
              "outlinewidth": 0,
              "ticks": ""
             }
            },
            "type": "scattergl"
           }
          ],
          "scattermapbox": [
           {
            "marker": {
             "colorbar": {
              "outlinewidth": 0,
              "ticks": ""
             }
            },
            "type": "scattermapbox"
           }
          ],
          "scatterpolar": [
           {
            "marker": {
             "colorbar": {
              "outlinewidth": 0,
              "ticks": ""
             }
            },
            "type": "scatterpolar"
           }
          ],
          "scatterpolargl": [
           {
            "marker": {
             "colorbar": {
              "outlinewidth": 0,
              "ticks": ""
             }
            },
            "type": "scatterpolargl"
           }
          ],
          "scatterternary": [
           {
            "marker": {
             "colorbar": {
              "outlinewidth": 0,
              "ticks": ""
             }
            },
            "type": "scatterternary"
           }
          ],
          "surface": [
           {
            "colorbar": {
             "outlinewidth": 0,
             "ticks": ""
            },
            "colorscale": [
             [
              0,
              "#0d0887"
             ],
             [
              0.1111111111111111,
              "#46039f"
             ],
             [
              0.2222222222222222,
              "#7201a8"
             ],
             [
              0.3333333333333333,
              "#9c179e"
             ],
             [
              0.4444444444444444,
              "#bd3786"
             ],
             [
              0.5555555555555556,
              "#d8576b"
             ],
             [
              0.6666666666666666,
              "#ed7953"
             ],
             [
              0.7777777777777778,
              "#fb9f3a"
             ],
             [
              0.8888888888888888,
              "#fdca26"
             ],
             [
              1,
              "#f0f921"
             ]
            ],
            "type": "surface"
           }
          ],
          "table": [
           {
            "cells": {
             "fill": {
              "color": "#EBF0F8"
             },
             "line": {
              "color": "white"
             }
            },
            "header": {
             "fill": {
              "color": "#C8D4E3"
             },
             "line": {
              "color": "white"
             }
            },
            "type": "table"
           }
          ]
         },
         "layout": {
          "annotationdefaults": {
           "arrowcolor": "#2a3f5f",
           "arrowhead": 0,
           "arrowwidth": 1
          },
          "autotypenumbers": "strict",
          "coloraxis": {
           "colorbar": {
            "outlinewidth": 0,
            "ticks": ""
           }
          },
          "colorscale": {
           "diverging": [
            [
             0,
             "#8e0152"
            ],
            [
             0.1,
             "#c51b7d"
            ],
            [
             0.2,
             "#de77ae"
            ],
            [
             0.3,
             "#f1b6da"
            ],
            [
             0.4,
             "#fde0ef"
            ],
            [
             0.5,
             "#f7f7f7"
            ],
            [
             0.6,
             "#e6f5d0"
            ],
            [
             0.7,
             "#b8e186"
            ],
            [
             0.8,
             "#7fbc41"
            ],
            [
             0.9,
             "#4d9221"
            ],
            [
             1,
             "#276419"
            ]
           ],
           "sequential": [
            [
             0,
             "#0d0887"
            ],
            [
             0.1111111111111111,
             "#46039f"
            ],
            [
             0.2222222222222222,
             "#7201a8"
            ],
            [
             0.3333333333333333,
             "#9c179e"
            ],
            [
             0.4444444444444444,
             "#bd3786"
            ],
            [
             0.5555555555555556,
             "#d8576b"
            ],
            [
             0.6666666666666666,
             "#ed7953"
            ],
            [
             0.7777777777777778,
             "#fb9f3a"
            ],
            [
             0.8888888888888888,
             "#fdca26"
            ],
            [
             1,
             "#f0f921"
            ]
           ],
           "sequentialminus": [
            [
             0,
             "#0d0887"
            ],
            [
             0.1111111111111111,
             "#46039f"
            ],
            [
             0.2222222222222222,
             "#7201a8"
            ],
            [
             0.3333333333333333,
             "#9c179e"
            ],
            [
             0.4444444444444444,
             "#bd3786"
            ],
            [
             0.5555555555555556,
             "#d8576b"
            ],
            [
             0.6666666666666666,
             "#ed7953"
            ],
            [
             0.7777777777777778,
             "#fb9f3a"
            ],
            [
             0.8888888888888888,
             "#fdca26"
            ],
            [
             1,
             "#f0f921"
            ]
           ]
          },
          "colorway": [
           "#636efa",
           "#EF553B",
           "#00cc96",
           "#ab63fa",
           "#FFA15A",
           "#19d3f3",
           "#FF6692",
           "#B6E880",
           "#FF97FF",
           "#FECB52"
          ],
          "font": {
           "color": "#2a3f5f"
          },
          "geo": {
           "bgcolor": "white",
           "lakecolor": "white",
           "landcolor": "#E5ECF6",
           "showlakes": true,
           "showland": true,
           "subunitcolor": "white"
          },
          "hoverlabel": {
           "align": "left"
          },
          "hovermode": "closest",
          "mapbox": {
           "style": "light"
          },
          "paper_bgcolor": "white",
          "plot_bgcolor": "#E5ECF6",
          "polar": {
           "angularaxis": {
            "gridcolor": "white",
            "linecolor": "white",
            "ticks": ""
           },
           "bgcolor": "#E5ECF6",
           "radialaxis": {
            "gridcolor": "white",
            "linecolor": "white",
            "ticks": ""
           }
          },
          "scene": {
           "xaxis": {
            "backgroundcolor": "#E5ECF6",
            "gridcolor": "white",
            "gridwidth": 2,
            "linecolor": "white",
            "showbackground": true,
            "ticks": "",
            "zerolinecolor": "white"
           },
           "yaxis": {
            "backgroundcolor": "#E5ECF6",
            "gridcolor": "white",
            "gridwidth": 2,
            "linecolor": "white",
            "showbackground": true,
            "ticks": "",
            "zerolinecolor": "white"
           },
           "zaxis": {
            "backgroundcolor": "#E5ECF6",
            "gridcolor": "white",
            "gridwidth": 2,
            "linecolor": "white",
            "showbackground": true,
            "ticks": "",
            "zerolinecolor": "white"
           }
          },
          "shapedefaults": {
           "line": {
            "color": "#2a3f5f"
           }
          },
          "ternary": {
           "aaxis": {
            "gridcolor": "white",
            "linecolor": "white",
            "ticks": ""
           },
           "baxis": {
            "gridcolor": "white",
            "linecolor": "white",
            "ticks": ""
           },
           "bgcolor": "#E5ECF6",
           "caxis": {
            "gridcolor": "white",
            "linecolor": "white",
            "ticks": ""
           }
          },
          "title": {
           "x": 0.05
          },
          "xaxis": {
           "automargin": true,
           "gridcolor": "white",
           "linecolor": "white",
           "ticks": "",
           "title": {
            "standoff": 15
           },
           "zerolinecolor": "white",
           "zerolinewidth": 2
          },
          "yaxis": {
           "automargin": true,
           "gridcolor": "white",
           "linecolor": "white",
           "ticks": "",
           "title": {
            "standoff": 15
           },
           "zerolinecolor": "white",
           "zerolinewidth": 2
          }
         }
        }
       }
      }
     },
     "metadata": {},
     "output_type": "display_data"
    }
   ],
   "source": [
    "# Create a Clustered Bar Chart with Plotly\n",
    "\n",
    "# Create a Figure object to hold our bar chart\n",
    "fig = go.Figure(data=[\n",
    "    # Create the first set of bars for \"Female\" data\n",
    "    go.Bar(name=\"Female\", x=animals, y=agrupado.Female),\n",
    "    \n",
    "    # Create the second set of bars for \"Male\" data\n",
    "    go.Bar(name=\"Male\", x=animals, y=agrupado.Male)\n",
    "])\n",
    "\n",
    "# Show the clustered bar chart\n",
    "fig.show()"
   ]
  },
  {
   "cell_type": "code",
   "execution_count": 16,
   "id": "cubic-majority",
   "metadata": {},
   "outputs": [
    {
     "data": {
      "application/vnd.plotly.v1+json": {
       "config": {
        "plotlyServerURL": "https://plot.ly"
       },
       "data": [
        {
         "name": "Female",
         "type": "bar",
         "x": [
          "Adelie",
          "Chinstrap",
          "Gentoo"
         ],
         "y": [
          73,
          34,
          58
         ]
        },
        {
         "name": "Male",
         "type": "bar",
         "x": [
          "Adelie",
          "Chinstrap",
          "Gentoo"
         ],
         "y": [
          73,
          34,
          61
         ]
        }
       ],
       "layout": {
        "barmode": "stack",
        "template": {
         "data": {
          "bar": [
           {
            "error_x": {
             "color": "#2a3f5f"
            },
            "error_y": {
             "color": "#2a3f5f"
            },
            "marker": {
             "line": {
              "color": "#E5ECF6",
              "width": 0.5
             },
             "pattern": {
              "fillmode": "overlay",
              "size": 10,
              "solidity": 0.2
             }
            },
            "type": "bar"
           }
          ],
          "barpolar": [
           {
            "marker": {
             "line": {
              "color": "#E5ECF6",
              "width": 0.5
             },
             "pattern": {
              "fillmode": "overlay",
              "size": 10,
              "solidity": 0.2
             }
            },
            "type": "barpolar"
           }
          ],
          "carpet": [
           {
            "aaxis": {
             "endlinecolor": "#2a3f5f",
             "gridcolor": "white",
             "linecolor": "white",
             "minorgridcolor": "white",
             "startlinecolor": "#2a3f5f"
            },
            "baxis": {
             "endlinecolor": "#2a3f5f",
             "gridcolor": "white",
             "linecolor": "white",
             "minorgridcolor": "white",
             "startlinecolor": "#2a3f5f"
            },
            "type": "carpet"
           }
          ],
          "choropleth": [
           {
            "colorbar": {
             "outlinewidth": 0,
             "ticks": ""
            },
            "type": "choropleth"
           }
          ],
          "contour": [
           {
            "colorbar": {
             "outlinewidth": 0,
             "ticks": ""
            },
            "colorscale": [
             [
              0,
              "#0d0887"
             ],
             [
              0.1111111111111111,
              "#46039f"
             ],
             [
              0.2222222222222222,
              "#7201a8"
             ],
             [
              0.3333333333333333,
              "#9c179e"
             ],
             [
              0.4444444444444444,
              "#bd3786"
             ],
             [
              0.5555555555555556,
              "#d8576b"
             ],
             [
              0.6666666666666666,
              "#ed7953"
             ],
             [
              0.7777777777777778,
              "#fb9f3a"
             ],
             [
              0.8888888888888888,
              "#fdca26"
             ],
             [
              1,
              "#f0f921"
             ]
            ],
            "type": "contour"
           }
          ],
          "contourcarpet": [
           {
            "colorbar": {
             "outlinewidth": 0,
             "ticks": ""
            },
            "type": "contourcarpet"
           }
          ],
          "heatmap": [
           {
            "colorbar": {
             "outlinewidth": 0,
             "ticks": ""
            },
            "colorscale": [
             [
              0,
              "#0d0887"
             ],
             [
              0.1111111111111111,
              "#46039f"
             ],
             [
              0.2222222222222222,
              "#7201a8"
             ],
             [
              0.3333333333333333,
              "#9c179e"
             ],
             [
              0.4444444444444444,
              "#bd3786"
             ],
             [
              0.5555555555555556,
              "#d8576b"
             ],
             [
              0.6666666666666666,
              "#ed7953"
             ],
             [
              0.7777777777777778,
              "#fb9f3a"
             ],
             [
              0.8888888888888888,
              "#fdca26"
             ],
             [
              1,
              "#f0f921"
             ]
            ],
            "type": "heatmap"
           }
          ],
          "heatmapgl": [
           {
            "colorbar": {
             "outlinewidth": 0,
             "ticks": ""
            },
            "colorscale": [
             [
              0,
              "#0d0887"
             ],
             [
              0.1111111111111111,
              "#46039f"
             ],
             [
              0.2222222222222222,
              "#7201a8"
             ],
             [
              0.3333333333333333,
              "#9c179e"
             ],
             [
              0.4444444444444444,
              "#bd3786"
             ],
             [
              0.5555555555555556,
              "#d8576b"
             ],
             [
              0.6666666666666666,
              "#ed7953"
             ],
             [
              0.7777777777777778,
              "#fb9f3a"
             ],
             [
              0.8888888888888888,
              "#fdca26"
             ],
             [
              1,
              "#f0f921"
             ]
            ],
            "type": "heatmapgl"
           }
          ],
          "histogram": [
           {
            "marker": {
             "pattern": {
              "fillmode": "overlay",
              "size": 10,
              "solidity": 0.2
             }
            },
            "type": "histogram"
           }
          ],
          "histogram2d": [
           {
            "colorbar": {
             "outlinewidth": 0,
             "ticks": ""
            },
            "colorscale": [
             [
              0,
              "#0d0887"
             ],
             [
              0.1111111111111111,
              "#46039f"
             ],
             [
              0.2222222222222222,
              "#7201a8"
             ],
             [
              0.3333333333333333,
              "#9c179e"
             ],
             [
              0.4444444444444444,
              "#bd3786"
             ],
             [
              0.5555555555555556,
              "#d8576b"
             ],
             [
              0.6666666666666666,
              "#ed7953"
             ],
             [
              0.7777777777777778,
              "#fb9f3a"
             ],
             [
              0.8888888888888888,
              "#fdca26"
             ],
             [
              1,
              "#f0f921"
             ]
            ],
            "type": "histogram2d"
           }
          ],
          "histogram2dcontour": [
           {
            "colorbar": {
             "outlinewidth": 0,
             "ticks": ""
            },
            "colorscale": [
             [
              0,
              "#0d0887"
             ],
             [
              0.1111111111111111,
              "#46039f"
             ],
             [
              0.2222222222222222,
              "#7201a8"
             ],
             [
              0.3333333333333333,
              "#9c179e"
             ],
             [
              0.4444444444444444,
              "#bd3786"
             ],
             [
              0.5555555555555556,
              "#d8576b"
             ],
             [
              0.6666666666666666,
              "#ed7953"
             ],
             [
              0.7777777777777778,
              "#fb9f3a"
             ],
             [
              0.8888888888888888,
              "#fdca26"
             ],
             [
              1,
              "#f0f921"
             ]
            ],
            "type": "histogram2dcontour"
           }
          ],
          "mesh3d": [
           {
            "colorbar": {
             "outlinewidth": 0,
             "ticks": ""
            },
            "type": "mesh3d"
           }
          ],
          "parcoords": [
           {
            "line": {
             "colorbar": {
              "outlinewidth": 0,
              "ticks": ""
             }
            },
            "type": "parcoords"
           }
          ],
          "pie": [
           {
            "automargin": true,
            "type": "pie"
           }
          ],
          "scatter": [
           {
            "fillpattern": {
             "fillmode": "overlay",
             "size": 10,
             "solidity": 0.2
            },
            "type": "scatter"
           }
          ],
          "scatter3d": [
           {
            "line": {
             "colorbar": {
              "outlinewidth": 0,
              "ticks": ""
             }
            },
            "marker": {
             "colorbar": {
              "outlinewidth": 0,
              "ticks": ""
             }
            },
            "type": "scatter3d"
           }
          ],
          "scattercarpet": [
           {
            "marker": {
             "colorbar": {
              "outlinewidth": 0,
              "ticks": ""
             }
            },
            "type": "scattercarpet"
           }
          ],
          "scattergeo": [
           {
            "marker": {
             "colorbar": {
              "outlinewidth": 0,
              "ticks": ""
             }
            },
            "type": "scattergeo"
           }
          ],
          "scattergl": [
           {
            "marker": {
             "colorbar": {
              "outlinewidth": 0,
              "ticks": ""
             }
            },
            "type": "scattergl"
           }
          ],
          "scattermapbox": [
           {
            "marker": {
             "colorbar": {
              "outlinewidth": 0,
              "ticks": ""
             }
            },
            "type": "scattermapbox"
           }
          ],
          "scatterpolar": [
           {
            "marker": {
             "colorbar": {
              "outlinewidth": 0,
              "ticks": ""
             }
            },
            "type": "scatterpolar"
           }
          ],
          "scatterpolargl": [
           {
            "marker": {
             "colorbar": {
              "outlinewidth": 0,
              "ticks": ""
             }
            },
            "type": "scatterpolargl"
           }
          ],
          "scatterternary": [
           {
            "marker": {
             "colorbar": {
              "outlinewidth": 0,
              "ticks": ""
             }
            },
            "type": "scatterternary"
           }
          ],
          "surface": [
           {
            "colorbar": {
             "outlinewidth": 0,
             "ticks": ""
            },
            "colorscale": [
             [
              0,
              "#0d0887"
             ],
             [
              0.1111111111111111,
              "#46039f"
             ],
             [
              0.2222222222222222,
              "#7201a8"
             ],
             [
              0.3333333333333333,
              "#9c179e"
             ],
             [
              0.4444444444444444,
              "#bd3786"
             ],
             [
              0.5555555555555556,
              "#d8576b"
             ],
             [
              0.6666666666666666,
              "#ed7953"
             ],
             [
              0.7777777777777778,
              "#fb9f3a"
             ],
             [
              0.8888888888888888,
              "#fdca26"
             ],
             [
              1,
              "#f0f921"
             ]
            ],
            "type": "surface"
           }
          ],
          "table": [
           {
            "cells": {
             "fill": {
              "color": "#EBF0F8"
             },
             "line": {
              "color": "white"
             }
            },
            "header": {
             "fill": {
              "color": "#C8D4E3"
             },
             "line": {
              "color": "white"
             }
            },
            "type": "table"
           }
          ]
         },
         "layout": {
          "annotationdefaults": {
           "arrowcolor": "#2a3f5f",
           "arrowhead": 0,
           "arrowwidth": 1
          },
          "autotypenumbers": "strict",
          "coloraxis": {
           "colorbar": {
            "outlinewidth": 0,
            "ticks": ""
           }
          },
          "colorscale": {
           "diverging": [
            [
             0,
             "#8e0152"
            ],
            [
             0.1,
             "#c51b7d"
            ],
            [
             0.2,
             "#de77ae"
            ],
            [
             0.3,
             "#f1b6da"
            ],
            [
             0.4,
             "#fde0ef"
            ],
            [
             0.5,
             "#f7f7f7"
            ],
            [
             0.6,
             "#e6f5d0"
            ],
            [
             0.7,
             "#b8e186"
            ],
            [
             0.8,
             "#7fbc41"
            ],
            [
             0.9,
             "#4d9221"
            ],
            [
             1,
             "#276419"
            ]
           ],
           "sequential": [
            [
             0,
             "#0d0887"
            ],
            [
             0.1111111111111111,
             "#46039f"
            ],
            [
             0.2222222222222222,
             "#7201a8"
            ],
            [
             0.3333333333333333,
             "#9c179e"
            ],
            [
             0.4444444444444444,
             "#bd3786"
            ],
            [
             0.5555555555555556,
             "#d8576b"
            ],
            [
             0.6666666666666666,
             "#ed7953"
            ],
            [
             0.7777777777777778,
             "#fb9f3a"
            ],
            [
             0.8888888888888888,
             "#fdca26"
            ],
            [
             1,
             "#f0f921"
            ]
           ],
           "sequentialminus": [
            [
             0,
             "#0d0887"
            ],
            [
             0.1111111111111111,
             "#46039f"
            ],
            [
             0.2222222222222222,
             "#7201a8"
            ],
            [
             0.3333333333333333,
             "#9c179e"
            ],
            [
             0.4444444444444444,
             "#bd3786"
            ],
            [
             0.5555555555555556,
             "#d8576b"
            ],
            [
             0.6666666666666666,
             "#ed7953"
            ],
            [
             0.7777777777777778,
             "#fb9f3a"
            ],
            [
             0.8888888888888888,
             "#fdca26"
            ],
            [
             1,
             "#f0f921"
            ]
           ]
          },
          "colorway": [
           "#636efa",
           "#EF553B",
           "#00cc96",
           "#ab63fa",
           "#FFA15A",
           "#19d3f3",
           "#FF6692",
           "#B6E880",
           "#FF97FF",
           "#FECB52"
          ],
          "font": {
           "color": "#2a3f5f"
          },
          "geo": {
           "bgcolor": "white",
           "lakecolor": "white",
           "landcolor": "#E5ECF6",
           "showlakes": true,
           "showland": true,
           "subunitcolor": "white"
          },
          "hoverlabel": {
           "align": "left"
          },
          "hovermode": "closest",
          "mapbox": {
           "style": "light"
          },
          "paper_bgcolor": "white",
          "plot_bgcolor": "#E5ECF6",
          "polar": {
           "angularaxis": {
            "gridcolor": "white",
            "linecolor": "white",
            "ticks": ""
           },
           "bgcolor": "#E5ECF6",
           "radialaxis": {
            "gridcolor": "white",
            "linecolor": "white",
            "ticks": ""
           }
          },
          "scene": {
           "xaxis": {
            "backgroundcolor": "#E5ECF6",
            "gridcolor": "white",
            "gridwidth": 2,
            "linecolor": "white",
            "showbackground": true,
            "ticks": "",
            "zerolinecolor": "white"
           },
           "yaxis": {
            "backgroundcolor": "#E5ECF6",
            "gridcolor": "white",
            "gridwidth": 2,
            "linecolor": "white",
            "showbackground": true,
            "ticks": "",
            "zerolinecolor": "white"
           },
           "zaxis": {
            "backgroundcolor": "#E5ECF6",
            "gridcolor": "white",
            "gridwidth": 2,
            "linecolor": "white",
            "showbackground": true,
            "ticks": "",
            "zerolinecolor": "white"
           }
          },
          "shapedefaults": {
           "line": {
            "color": "#2a3f5f"
           }
          },
          "ternary": {
           "aaxis": {
            "gridcolor": "white",
            "linecolor": "white",
            "ticks": ""
           },
           "baxis": {
            "gridcolor": "white",
            "linecolor": "white",
            "ticks": ""
           },
           "bgcolor": "#E5ECF6",
           "caxis": {
            "gridcolor": "white",
            "linecolor": "white",
            "ticks": ""
           }
          },
          "title": {
           "x": 0.05
          },
          "xaxis": {
           "automargin": true,
           "gridcolor": "white",
           "linecolor": "white",
           "ticks": "",
           "title": {
            "standoff": 15
           },
           "zerolinecolor": "white",
           "zerolinewidth": 2
          },
          "yaxis": {
           "automargin": true,
           "gridcolor": "white",
           "linecolor": "white",
           "ticks": "",
           "title": {
            "standoff": 15
           },
           "zerolinecolor": "white",
           "zerolinewidth": 2
          }
         }
        }
       }
      }
     },
     "metadata": {},
     "output_type": "display_data"
    }
   ],
   "source": [
    "# Get the unique penguin species names from the \"species\" column\n",
    "animals = penguins.species.unique()\n",
    "\n",
    "# Create a Figure object to hold the clustered bar chart\n",
    "fig = go.Figure(data=[\n",
    "    # Create the first set of bars for \"Female\" data\n",
    "    go.Bar(name=\"Female\", x=animals, y=agrupado.Female),\n",
    "    \n",
    "    # Create the second set of bars for \"Male\" data\n",
    "    go.Bar(name=\"Male\", x=animals, y=agrupado.Male)\n",
    "])\n",
    "\n",
    "# Change the type of the bars to \"stacked\" using update_layout\n",
    "fig.update_layout(barmode=\"stack\")\n",
    "\n",
    "# Show the clustered and stacked bar chart\n",
    "fig.show()"
   ]
  },
  {
   "cell_type": "markdown",
   "id": "a4b9ee38",
   "metadata": {
    "lang": "en"
   },
   "source": [
    "Cuando múltiples filas comparten el mismo valor de x (en este caso Femenino o Masculino), los rectángulos se apilan por defecto.\n",
    "\n",
    "## Histogramas\n",
    "\n",
    "Los histogramas son una herramienta fundamental para visualizar la distribución de los datos. Te permiten ver la frecuencia o el conteo de puntos de datos que caen en intervalos o bins específicos. Plotly proporciona herramientas versátiles para crear histogramas interactivos que te permiten explorar los patrones y características subyacentes de tus datos. Ya sea que estés analizando la distribución de variables numéricas, comparando diferentes conjuntos de datos o examinando la forma de tus datos, las capacidades de histograma de Plotly ofrecen una forma poderosa de obtener insights de tus datos.\n",
    "\n",
    "Puedes aprender más sobre cómo crear histogramas en Plotly consultando la [documentación oficial](https://plotly.com/python/histograms/)."
   ]
  },
  {
   "cell_type": "code",
   "execution_count": 17,
   "id": "powered-equilibrium",
   "metadata": {},
   "outputs": [
    {
     "data": {
      "text/html": [
       "<div>\n",
       "<style scoped>\n",
       "    .dataframe tbody tr th:only-of-type {\n",
       "        vertical-align: middle;\n",
       "    }\n",
       "\n",
       "    .dataframe tbody tr th {\n",
       "        vertical-align: top;\n",
       "    }\n",
       "\n",
       "    .dataframe thead th {\n",
       "        text-align: right;\n",
       "    }\n",
       "</style>\n",
       "<table border=\"1\" class=\"dataframe\">\n",
       "  <thead>\n",
       "    <tr style=\"text-align: right;\">\n",
       "      <th></th>\n",
       "      <th>total_bill</th>\n",
       "      <th>tip</th>\n",
       "      <th>sex</th>\n",
       "      <th>smoker</th>\n",
       "      <th>day</th>\n",
       "      <th>time</th>\n",
       "      <th>size</th>\n",
       "    </tr>\n",
       "  </thead>\n",
       "  <tbody>\n",
       "    <tr>\n",
       "      <th>0</th>\n",
       "      <td>16.99</td>\n",
       "      <td>1.01</td>\n",
       "      <td>Female</td>\n",
       "      <td>No</td>\n",
       "      <td>Sun</td>\n",
       "      <td>Dinner</td>\n",
       "      <td>2</td>\n",
       "    </tr>\n",
       "    <tr>\n",
       "      <th>1</th>\n",
       "      <td>10.34</td>\n",
       "      <td>1.66</td>\n",
       "      <td>Male</td>\n",
       "      <td>No</td>\n",
       "      <td>Sun</td>\n",
       "      <td>Dinner</td>\n",
       "      <td>3</td>\n",
       "    </tr>\n",
       "    <tr>\n",
       "      <th>2</th>\n",
       "      <td>21.01</td>\n",
       "      <td>3.50</td>\n",
       "      <td>Male</td>\n",
       "      <td>No</td>\n",
       "      <td>Sun</td>\n",
       "      <td>Dinner</td>\n",
       "      <td>3</td>\n",
       "    </tr>\n",
       "    <tr>\n",
       "      <th>3</th>\n",
       "      <td>23.68</td>\n",
       "      <td>3.31</td>\n",
       "      <td>Male</td>\n",
       "      <td>No</td>\n",
       "      <td>Sun</td>\n",
       "      <td>Dinner</td>\n",
       "      <td>2</td>\n",
       "    </tr>\n",
       "    <tr>\n",
       "      <th>4</th>\n",
       "      <td>24.59</td>\n",
       "      <td>3.61</td>\n",
       "      <td>Female</td>\n",
       "      <td>No</td>\n",
       "      <td>Sun</td>\n",
       "      <td>Dinner</td>\n",
       "      <td>4</td>\n",
       "    </tr>\n",
       "  </tbody>\n",
       "</table>\n",
       "</div>"
      ],
      "text/plain": [
       "   total_bill   tip     sex smoker  day    time  size\n",
       "0       16.99  1.01  Female     No  Sun  Dinner     2\n",
       "1       10.34  1.66    Male     No  Sun  Dinner     3\n",
       "2       21.01  3.50    Male     No  Sun  Dinner     3\n",
       "3       23.68  3.31    Male     No  Sun  Dinner     2\n",
       "4       24.59  3.61  Female     No  Sun  Dinner     4"
      ]
     },
     "execution_count": 17,
     "metadata": {},
     "output_type": "execute_result"
    }
   ],
   "source": [
    "# Let's work with tips dataset\n",
    "tips.head()"
   ]
  },
  {
   "cell_type": "code",
   "execution_count": 18,
   "id": "weird-reply",
   "metadata": {
    "scrolled": true
   },
   "outputs": [
    {
     "data": {
      "application/vnd.plotly.v1+json": {
       "config": {
        "plotlyServerURL": "https://plot.ly"
       },
       "data": [
        {
         "alignmentgroup": "True",
         "bingroup": "x",
         "hovertemplate": "total_bill=%{x}<br>count=%{y}<extra></extra>",
         "legendgroup": "",
         "marker": {
          "color": "#636efa",
          "pattern": {
           "shape": ""
          }
         },
         "name": "",
         "nbinsx": 15,
         "offsetgroup": "",
         "orientation": "v",
         "showlegend": false,
         "type": "histogram",
         "x": [
          16.99,
          10.34,
          21.01,
          23.68,
          24.59,
          25.29,
          8.77,
          26.88,
          15.04,
          14.78,
          10.27,
          35.26,
          15.42,
          18.43,
          14.83,
          21.58,
          10.33,
          16.29,
          16.97,
          20.65,
          17.92,
          20.29,
          15.77,
          39.42,
          19.82,
          17.81,
          13.37,
          12.69,
          21.7,
          19.65,
          9.55,
          18.35,
          15.06,
          20.69,
          17.78,
          24.06,
          16.31,
          16.93,
          18.69,
          31.27,
          16.04,
          17.46,
          13.94,
          9.68,
          30.4,
          18.29,
          22.23,
          32.4,
          28.55,
          18.04,
          12.54,
          10.29,
          34.81,
          9.94,
          25.56,
          19.49,
          38.01,
          26.41,
          11.24,
          48.27,
          20.29,
          13.81,
          11.02,
          18.29,
          17.59,
          20.08,
          16.45,
          3.07,
          20.23,
          15.01,
          12.02,
          17.07,
          26.86,
          25.28,
          14.73,
          10.51,
          17.92,
          27.2,
          22.76,
          17.29,
          19.44,
          16.66,
          10.07,
          32.68,
          15.98,
          34.83,
          13.03,
          18.28,
          24.71,
          21.16,
          28.97,
          22.49,
          5.75,
          16.32,
          22.75,
          40.17,
          27.28,
          12.03,
          21.01,
          12.46,
          11.35,
          15.38,
          44.3,
          22.42,
          20.92,
          15.36,
          20.49,
          25.21,
          18.24,
          14.31,
          14,
          7.25,
          38.07,
          23.95,
          25.71,
          17.31,
          29.93,
          10.65,
          12.43,
          24.08,
          11.69,
          13.42,
          14.26,
          15.95,
          12.48,
          29.8,
          8.52,
          14.52,
          11.38,
          22.82,
          19.08,
          20.27,
          11.17,
          12.26,
          18.26,
          8.51,
          10.33,
          14.15,
          16,
          13.16,
          17.47,
          34.3,
          41.19,
          27.05,
          16.43,
          8.35,
          18.64,
          11.87,
          9.78,
          7.51,
          14.07,
          13.13,
          17.26,
          24.55,
          19.77,
          29.85,
          48.17,
          25,
          13.39,
          16.49,
          21.5,
          12.66,
          16.21,
          13.81,
          17.51,
          24.52,
          20.76,
          31.71,
          10.59,
          10.63,
          50.81,
          15.81,
          7.25,
          31.85,
          16.82,
          32.9,
          17.89,
          14.48,
          9.6,
          34.63,
          34.65,
          23.33,
          45.35,
          23.17,
          40.55,
          20.69,
          20.9,
          30.46,
          18.15,
          23.1,
          15.69,
          19.81,
          28.44,
          15.48,
          16.58,
          7.56,
          10.34,
          43.11,
          13,
          13.51,
          18.71,
          12.74,
          13,
          16.4,
          20.53,
          16.47,
          26.59,
          38.73,
          24.27,
          12.76,
          30.06,
          25.89,
          48.33,
          13.27,
          28.17,
          12.9,
          28.15,
          11.59,
          7.74,
          30.14,
          12.16,
          13.42,
          8.58,
          15.98,
          13.42,
          16.27,
          10.09,
          20.45,
          13.28,
          22.12,
          24.01,
          15.69,
          11.61,
          10.77,
          15.53,
          10.07,
          12.6,
          32.83,
          35.83,
          29.03,
          27.18,
          22.67,
          17.82,
          18.78
         ],
         "xaxis": "x",
         "yaxis": "y"
        }
       ],
       "layout": {
        "bargap": 0.5,
        "barmode": "relative",
        "legend": {
         "tracegroupgap": 0
        },
        "margin": {
         "t": 60
        },
        "template": {
         "data": {
          "bar": [
           {
            "error_x": {
             "color": "#2a3f5f"
            },
            "error_y": {
             "color": "#2a3f5f"
            },
            "marker": {
             "line": {
              "color": "#E5ECF6",
              "width": 0.5
             },
             "pattern": {
              "fillmode": "overlay",
              "size": 10,
              "solidity": 0.2
             }
            },
            "type": "bar"
           }
          ],
          "barpolar": [
           {
            "marker": {
             "line": {
              "color": "#E5ECF6",
              "width": 0.5
             },
             "pattern": {
              "fillmode": "overlay",
              "size": 10,
              "solidity": 0.2
             }
            },
            "type": "barpolar"
           }
          ],
          "carpet": [
           {
            "aaxis": {
             "endlinecolor": "#2a3f5f",
             "gridcolor": "white",
             "linecolor": "white",
             "minorgridcolor": "white",
             "startlinecolor": "#2a3f5f"
            },
            "baxis": {
             "endlinecolor": "#2a3f5f",
             "gridcolor": "white",
             "linecolor": "white",
             "minorgridcolor": "white",
             "startlinecolor": "#2a3f5f"
            },
            "type": "carpet"
           }
          ],
          "choropleth": [
           {
            "colorbar": {
             "outlinewidth": 0,
             "ticks": ""
            },
            "type": "choropleth"
           }
          ],
          "contour": [
           {
            "colorbar": {
             "outlinewidth": 0,
             "ticks": ""
            },
            "colorscale": [
             [
              0,
              "#0d0887"
             ],
             [
              0.1111111111111111,
              "#46039f"
             ],
             [
              0.2222222222222222,
              "#7201a8"
             ],
             [
              0.3333333333333333,
              "#9c179e"
             ],
             [
              0.4444444444444444,
              "#bd3786"
             ],
             [
              0.5555555555555556,
              "#d8576b"
             ],
             [
              0.6666666666666666,
              "#ed7953"
             ],
             [
              0.7777777777777778,
              "#fb9f3a"
             ],
             [
              0.8888888888888888,
              "#fdca26"
             ],
             [
              1,
              "#f0f921"
             ]
            ],
            "type": "contour"
           }
          ],
          "contourcarpet": [
           {
            "colorbar": {
             "outlinewidth": 0,
             "ticks": ""
            },
            "type": "contourcarpet"
           }
          ],
          "heatmap": [
           {
            "colorbar": {
             "outlinewidth": 0,
             "ticks": ""
            },
            "colorscale": [
             [
              0,
              "#0d0887"
             ],
             [
              0.1111111111111111,
              "#46039f"
             ],
             [
              0.2222222222222222,
              "#7201a8"
             ],
             [
              0.3333333333333333,
              "#9c179e"
             ],
             [
              0.4444444444444444,
              "#bd3786"
             ],
             [
              0.5555555555555556,
              "#d8576b"
             ],
             [
              0.6666666666666666,
              "#ed7953"
             ],
             [
              0.7777777777777778,
              "#fb9f3a"
             ],
             [
              0.8888888888888888,
              "#fdca26"
             ],
             [
              1,
              "#f0f921"
             ]
            ],
            "type": "heatmap"
           }
          ],
          "heatmapgl": [
           {
            "colorbar": {
             "outlinewidth": 0,
             "ticks": ""
            },
            "colorscale": [
             [
              0,
              "#0d0887"
             ],
             [
              0.1111111111111111,
              "#46039f"
             ],
             [
              0.2222222222222222,
              "#7201a8"
             ],
             [
              0.3333333333333333,
              "#9c179e"
             ],
             [
              0.4444444444444444,
              "#bd3786"
             ],
             [
              0.5555555555555556,
              "#d8576b"
             ],
             [
              0.6666666666666666,
              "#ed7953"
             ],
             [
              0.7777777777777778,
              "#fb9f3a"
             ],
             [
              0.8888888888888888,
              "#fdca26"
             ],
             [
              1,
              "#f0f921"
             ]
            ],
            "type": "heatmapgl"
           }
          ],
          "histogram": [
           {
            "marker": {
             "pattern": {
              "fillmode": "overlay",
              "size": 10,
              "solidity": 0.2
             }
            },
            "type": "histogram"
           }
          ],
          "histogram2d": [
           {
            "colorbar": {
             "outlinewidth": 0,
             "ticks": ""
            },
            "colorscale": [
             [
              0,
              "#0d0887"
             ],
             [
              0.1111111111111111,
              "#46039f"
             ],
             [
              0.2222222222222222,
              "#7201a8"
             ],
             [
              0.3333333333333333,
              "#9c179e"
             ],
             [
              0.4444444444444444,
              "#bd3786"
             ],
             [
              0.5555555555555556,
              "#d8576b"
             ],
             [
              0.6666666666666666,
              "#ed7953"
             ],
             [
              0.7777777777777778,
              "#fb9f3a"
             ],
             [
              0.8888888888888888,
              "#fdca26"
             ],
             [
              1,
              "#f0f921"
             ]
            ],
            "type": "histogram2d"
           }
          ],
          "histogram2dcontour": [
           {
            "colorbar": {
             "outlinewidth": 0,
             "ticks": ""
            },
            "colorscale": [
             [
              0,
              "#0d0887"
             ],
             [
              0.1111111111111111,
              "#46039f"
             ],
             [
              0.2222222222222222,
              "#7201a8"
             ],
             [
              0.3333333333333333,
              "#9c179e"
             ],
             [
              0.4444444444444444,
              "#bd3786"
             ],
             [
              0.5555555555555556,
              "#d8576b"
             ],
             [
              0.6666666666666666,
              "#ed7953"
             ],
             [
              0.7777777777777778,
              "#fb9f3a"
             ],
             [
              0.8888888888888888,
              "#fdca26"
             ],
             [
              1,
              "#f0f921"
             ]
            ],
            "type": "histogram2dcontour"
           }
          ],
          "mesh3d": [
           {
            "colorbar": {
             "outlinewidth": 0,
             "ticks": ""
            },
            "type": "mesh3d"
           }
          ],
          "parcoords": [
           {
            "line": {
             "colorbar": {
              "outlinewidth": 0,
              "ticks": ""
             }
            },
            "type": "parcoords"
           }
          ],
          "pie": [
           {
            "automargin": true,
            "type": "pie"
           }
          ],
          "scatter": [
           {
            "fillpattern": {
             "fillmode": "overlay",
             "size": 10,
             "solidity": 0.2
            },
            "type": "scatter"
           }
          ],
          "scatter3d": [
           {
            "line": {
             "colorbar": {
              "outlinewidth": 0,
              "ticks": ""
             }
            },
            "marker": {
             "colorbar": {
              "outlinewidth": 0,
              "ticks": ""
             }
            },
            "type": "scatter3d"
           }
          ],
          "scattercarpet": [
           {
            "marker": {
             "colorbar": {
              "outlinewidth": 0,
              "ticks": ""
             }
            },
            "type": "scattercarpet"
           }
          ],
          "scattergeo": [
           {
            "marker": {
             "colorbar": {
              "outlinewidth": 0,
              "ticks": ""
             }
            },
            "type": "scattergeo"
           }
          ],
          "scattergl": [
           {
            "marker": {
             "colorbar": {
              "outlinewidth": 0,
              "ticks": ""
             }
            },
            "type": "scattergl"
           }
          ],
          "scattermapbox": [
           {
            "marker": {
             "colorbar": {
              "outlinewidth": 0,
              "ticks": ""
             }
            },
            "type": "scattermapbox"
           }
          ],
          "scatterpolar": [
           {
            "marker": {
             "colorbar": {
              "outlinewidth": 0,
              "ticks": ""
             }
            },
            "type": "scatterpolar"
           }
          ],
          "scatterpolargl": [
           {
            "marker": {
             "colorbar": {
              "outlinewidth": 0,
              "ticks": ""
             }
            },
            "type": "scatterpolargl"
           }
          ],
          "scatterternary": [
           {
            "marker": {
             "colorbar": {
              "outlinewidth": 0,
              "ticks": ""
             }
            },
            "type": "scatterternary"
           }
          ],
          "surface": [
           {
            "colorbar": {
             "outlinewidth": 0,
             "ticks": ""
            },
            "colorscale": [
             [
              0,
              "#0d0887"
             ],
             [
              0.1111111111111111,
              "#46039f"
             ],
             [
              0.2222222222222222,
              "#7201a8"
             ],
             [
              0.3333333333333333,
              "#9c179e"
             ],
             [
              0.4444444444444444,
              "#bd3786"
             ],
             [
              0.5555555555555556,
              "#d8576b"
             ],
             [
              0.6666666666666666,
              "#ed7953"
             ],
             [
              0.7777777777777778,
              "#fb9f3a"
             ],
             [
              0.8888888888888888,
              "#fdca26"
             ],
             [
              1,
              "#f0f921"
             ]
            ],
            "type": "surface"
           }
          ],
          "table": [
           {
            "cells": {
             "fill": {
              "color": "#EBF0F8"
             },
             "line": {
              "color": "white"
             }
            },
            "header": {
             "fill": {
              "color": "#C8D4E3"
             },
             "line": {
              "color": "white"
             }
            },
            "type": "table"
           }
          ]
         },
         "layout": {
          "annotationdefaults": {
           "arrowcolor": "#2a3f5f",
           "arrowhead": 0,
           "arrowwidth": 1
          },
          "autotypenumbers": "strict",
          "coloraxis": {
           "colorbar": {
            "outlinewidth": 0,
            "ticks": ""
           }
          },
          "colorscale": {
           "diverging": [
            [
             0,
             "#8e0152"
            ],
            [
             0.1,
             "#c51b7d"
            ],
            [
             0.2,
             "#de77ae"
            ],
            [
             0.3,
             "#f1b6da"
            ],
            [
             0.4,
             "#fde0ef"
            ],
            [
             0.5,
             "#f7f7f7"
            ],
            [
             0.6,
             "#e6f5d0"
            ],
            [
             0.7,
             "#b8e186"
            ],
            [
             0.8,
             "#7fbc41"
            ],
            [
             0.9,
             "#4d9221"
            ],
            [
             1,
             "#276419"
            ]
           ],
           "sequential": [
            [
             0,
             "#0d0887"
            ],
            [
             0.1111111111111111,
             "#46039f"
            ],
            [
             0.2222222222222222,
             "#7201a8"
            ],
            [
             0.3333333333333333,
             "#9c179e"
            ],
            [
             0.4444444444444444,
             "#bd3786"
            ],
            [
             0.5555555555555556,
             "#d8576b"
            ],
            [
             0.6666666666666666,
             "#ed7953"
            ],
            [
             0.7777777777777778,
             "#fb9f3a"
            ],
            [
             0.8888888888888888,
             "#fdca26"
            ],
            [
             1,
             "#f0f921"
            ]
           ],
           "sequentialminus": [
            [
             0,
             "#0d0887"
            ],
            [
             0.1111111111111111,
             "#46039f"
            ],
            [
             0.2222222222222222,
             "#7201a8"
            ],
            [
             0.3333333333333333,
             "#9c179e"
            ],
            [
             0.4444444444444444,
             "#bd3786"
            ],
            [
             0.5555555555555556,
             "#d8576b"
            ],
            [
             0.6666666666666666,
             "#ed7953"
            ],
            [
             0.7777777777777778,
             "#fb9f3a"
            ],
            [
             0.8888888888888888,
             "#fdca26"
            ],
            [
             1,
             "#f0f921"
            ]
           ]
          },
          "colorway": [
           "#636efa",
           "#EF553B",
           "#00cc96",
           "#ab63fa",
           "#FFA15A",
           "#19d3f3",
           "#FF6692",
           "#B6E880",
           "#FF97FF",
           "#FECB52"
          ],
          "font": {
           "color": "#2a3f5f"
          },
          "geo": {
           "bgcolor": "white",
           "lakecolor": "white",
           "landcolor": "#E5ECF6",
           "showlakes": true,
           "showland": true,
           "subunitcolor": "white"
          },
          "hoverlabel": {
           "align": "left"
          },
          "hovermode": "closest",
          "mapbox": {
           "style": "light"
          },
          "paper_bgcolor": "white",
          "plot_bgcolor": "#E5ECF6",
          "polar": {
           "angularaxis": {
            "gridcolor": "white",
            "linecolor": "white",
            "ticks": ""
           },
           "bgcolor": "#E5ECF6",
           "radialaxis": {
            "gridcolor": "white",
            "linecolor": "white",
            "ticks": ""
           }
          },
          "scene": {
           "xaxis": {
            "backgroundcolor": "#E5ECF6",
            "gridcolor": "white",
            "gridwidth": 2,
            "linecolor": "white",
            "showbackground": true,
            "ticks": "",
            "zerolinecolor": "white"
           },
           "yaxis": {
            "backgroundcolor": "#E5ECF6",
            "gridcolor": "white",
            "gridwidth": 2,
            "linecolor": "white",
            "showbackground": true,
            "ticks": "",
            "zerolinecolor": "white"
           },
           "zaxis": {
            "backgroundcolor": "#E5ECF6",
            "gridcolor": "white",
            "gridwidth": 2,
            "linecolor": "white",
            "showbackground": true,
            "ticks": "",
            "zerolinecolor": "white"
           }
          },
          "shapedefaults": {
           "line": {
            "color": "#2a3f5f"
           }
          },
          "ternary": {
           "aaxis": {
            "gridcolor": "white",
            "linecolor": "white",
            "ticks": ""
           },
           "baxis": {
            "gridcolor": "white",
            "linecolor": "white",
            "ticks": ""
           },
           "bgcolor": "#E5ECF6",
           "caxis": {
            "gridcolor": "white",
            "linecolor": "white",
            "ticks": ""
           }
          },
          "title": {
           "x": 0.05
          },
          "xaxis": {
           "automargin": true,
           "gridcolor": "white",
           "linecolor": "white",
           "ticks": "",
           "title": {
            "standoff": 15
           },
           "zerolinecolor": "white",
           "zerolinewidth": 2
          },
          "yaxis": {
           "automargin": true,
           "gridcolor": "white",
           "linecolor": "white",
           "ticks": "",
           "title": {
            "standoff": 15
           },
           "zerolinecolor": "white",
           "zerolinewidth": 2
          }
         }
        },
        "xaxis": {
         "anchor": "y",
         "domain": [
          0,
          1
         ],
         "title": {
          "text": "total_bill"
         }
        },
        "yaxis": {
         "anchor": "x",
         "domain": [
          0,
          1
         ],
         "title": {
          "text": "count"
         }
        }
       }
      }
     },
     "metadata": {},
     "output_type": "display_data"
    }
   ],
   "source": [
    "# Create a histogram using Plotly Express for the \"total_bill\" column from the \"tips\" DataFrame\n",
    "fig = px.histogram(tips, x=\"total_bill\", nbins=15)\n",
    "\n",
    "# Customize the layout by reducing the gap between adjacent bars in the histogram\n",
    "fig.update_layout(bargap=0.5)  # Set the gap between bars to 0.1 (adjust this value as needed)\n",
    "\n",
    "# Display the histogram\n",
    "fig.show()"
   ]
  },
  {
   "cell_type": "code",
   "execution_count": 19,
   "id": "0fea9f59",
   "metadata": {},
   "outputs": [
    {
     "data": {
      "text/html": [
       "<div>\n",
       "<style scoped>\n",
       "    .dataframe tbody tr th:only-of-type {\n",
       "        vertical-align: middle;\n",
       "    }\n",
       "\n",
       "    .dataframe tbody tr th {\n",
       "        vertical-align: top;\n",
       "    }\n",
       "\n",
       "    .dataframe thead th {\n",
       "        text-align: right;\n",
       "    }\n",
       "</style>\n",
       "<table border=\"1\" class=\"dataframe\">\n",
       "  <thead>\n",
       "    <tr style=\"text-align: right;\">\n",
       "      <th></th>\n",
       "      <th>survived</th>\n",
       "      <th>pclass</th>\n",
       "      <th>sex</th>\n",
       "      <th>age</th>\n",
       "      <th>sibsp</th>\n",
       "      <th>parch</th>\n",
       "      <th>fare</th>\n",
       "      <th>embarked</th>\n",
       "      <th>class</th>\n",
       "      <th>who</th>\n",
       "      <th>adult_male</th>\n",
       "      <th>deck</th>\n",
       "      <th>embark_town</th>\n",
       "      <th>alive</th>\n",
       "      <th>alone</th>\n",
       "    </tr>\n",
       "  </thead>\n",
       "  <tbody>\n",
       "    <tr>\n",
       "      <th>0</th>\n",
       "      <td>0</td>\n",
       "      <td>3</td>\n",
       "      <td>male</td>\n",
       "      <td>22.0</td>\n",
       "      <td>1</td>\n",
       "      <td>0</td>\n",
       "      <td>7.2500</td>\n",
       "      <td>S</td>\n",
       "      <td>Third</td>\n",
       "      <td>man</td>\n",
       "      <td>True</td>\n",
       "      <td>NaN</td>\n",
       "      <td>Southampton</td>\n",
       "      <td>no</td>\n",
       "      <td>False</td>\n",
       "    </tr>\n",
       "    <tr>\n",
       "      <th>1</th>\n",
       "      <td>1</td>\n",
       "      <td>1</td>\n",
       "      <td>female</td>\n",
       "      <td>38.0</td>\n",
       "      <td>1</td>\n",
       "      <td>0</td>\n",
       "      <td>71.2833</td>\n",
       "      <td>C</td>\n",
       "      <td>First</td>\n",
       "      <td>woman</td>\n",
       "      <td>False</td>\n",
       "      <td>C</td>\n",
       "      <td>Cherbourg</td>\n",
       "      <td>yes</td>\n",
       "      <td>False</td>\n",
       "    </tr>\n",
       "    <tr>\n",
       "      <th>2</th>\n",
       "      <td>1</td>\n",
       "      <td>3</td>\n",
       "      <td>female</td>\n",
       "      <td>26.0</td>\n",
       "      <td>0</td>\n",
       "      <td>0</td>\n",
       "      <td>7.9250</td>\n",
       "      <td>S</td>\n",
       "      <td>Third</td>\n",
       "      <td>woman</td>\n",
       "      <td>False</td>\n",
       "      <td>NaN</td>\n",
       "      <td>Southampton</td>\n",
       "      <td>yes</td>\n",
       "      <td>True</td>\n",
       "    </tr>\n",
       "    <tr>\n",
       "      <th>3</th>\n",
       "      <td>1</td>\n",
       "      <td>1</td>\n",
       "      <td>female</td>\n",
       "      <td>35.0</td>\n",
       "      <td>1</td>\n",
       "      <td>0</td>\n",
       "      <td>53.1000</td>\n",
       "      <td>S</td>\n",
       "      <td>First</td>\n",
       "      <td>woman</td>\n",
       "      <td>False</td>\n",
       "      <td>C</td>\n",
       "      <td>Southampton</td>\n",
       "      <td>yes</td>\n",
       "      <td>False</td>\n",
       "    </tr>\n",
       "    <tr>\n",
       "      <th>4</th>\n",
       "      <td>0</td>\n",
       "      <td>3</td>\n",
       "      <td>male</td>\n",
       "      <td>35.0</td>\n",
       "      <td>0</td>\n",
       "      <td>0</td>\n",
       "      <td>8.0500</td>\n",
       "      <td>S</td>\n",
       "      <td>Third</td>\n",
       "      <td>man</td>\n",
       "      <td>True</td>\n",
       "      <td>NaN</td>\n",
       "      <td>Southampton</td>\n",
       "      <td>no</td>\n",
       "      <td>True</td>\n",
       "    </tr>\n",
       "  </tbody>\n",
       "</table>\n",
       "</div>"
      ],
      "text/plain": [
       "   survived  pclass     sex   age  sibsp  parch     fare embarked  class  \\\n",
       "0         0       3    male  22.0      1      0   7.2500        S  Third   \n",
       "1         1       1  female  38.0      1      0  71.2833        C  First   \n",
       "2         1       3  female  26.0      0      0   7.9250        S  Third   \n",
       "3         1       1  female  35.0      1      0  53.1000        S  First   \n",
       "4         0       3    male  35.0      0      0   8.0500        S  Third   \n",
       "\n",
       "     who  adult_male deck  embark_town alive  alone  \n",
       "0    man        True  NaN  Southampton    no  False  \n",
       "1  woman       False    C    Cherbourg   yes  False  \n",
       "2  woman       False  NaN  Southampton   yes   True  \n",
       "3  woman       False    C  Southampton   yes  False  \n",
       "4    man        True  NaN  Southampton    no   True  "
      ]
     },
     "execution_count": 19,
     "metadata": {},
     "output_type": "execute_result"
    }
   ],
   "source": [
    "titanic.head()"
   ]
  },
  {
   "cell_type": "code",
   "execution_count": 20,
   "id": "disciplinary-projection",
   "metadata": {},
   "outputs": [
    {
     "data": {
      "application/vnd.plotly.v1+json": {
       "config": {
        "plotlyServerURL": "https://plot.ly"
       },
       "data": [
        {
         "alignmentgroup": "True",
         "bingroup": "x",
         "hovertemplate": "age=%{x}<br>count=%{y}<extra></extra>",
         "legendgroup": "",
         "marker": {
          "color": "#636efa",
          "pattern": {
           "shape": ""
          }
         },
         "name": "",
         "offsetgroup": "",
         "orientation": "v",
         "showlegend": false,
         "type": "histogram",
         "x": [
          22,
          38,
          26,
          35,
          35,
          null,
          54,
          2,
          27,
          14,
          4,
          58,
          20,
          39,
          14,
          55,
          2,
          null,
          31,
          null,
          35,
          34,
          15,
          28,
          8,
          38,
          null,
          19,
          null,
          null,
          40,
          null,
          null,
          66,
          28,
          42,
          null,
          21,
          18,
          14,
          40,
          27,
          null,
          3,
          19,
          null,
          null,
          null,
          null,
          18,
          7,
          21,
          49,
          29,
          65,
          null,
          21,
          28.5,
          5,
          11,
          22,
          38,
          45,
          4,
          null,
          null,
          29,
          19,
          17,
          26,
          32,
          16,
          21,
          26,
          32,
          25,
          null,
          null,
          0.83,
          30,
          22,
          29,
          null,
          28,
          17,
          33,
          16,
          null,
          23,
          24,
          29,
          20,
          46,
          26,
          59,
          null,
          71,
          23,
          34,
          34,
          28,
          null,
          21,
          33,
          37,
          28,
          21,
          null,
          38,
          null,
          47,
          14.5,
          22,
          20,
          17,
          21,
          70.5,
          29,
          24,
          2,
          21,
          null,
          32.5,
          32.5,
          54,
          12,
          null,
          24,
          null,
          45,
          33,
          20,
          47,
          29,
          25,
          23,
          19,
          37,
          16,
          24,
          null,
          22,
          24,
          19,
          18,
          19,
          27,
          9,
          36.5,
          42,
          51,
          22,
          55.5,
          40.5,
          null,
          51,
          16,
          30,
          null,
          null,
          44,
          40,
          26,
          17,
          1,
          9,
          null,
          45,
          null,
          28,
          61,
          4,
          1,
          21,
          56,
          18,
          null,
          50,
          30,
          36,
          null,
          null,
          9,
          1,
          4,
          null,
          null,
          45,
          40,
          36,
          32,
          19,
          19,
          3,
          44,
          58,
          null,
          42,
          null,
          24,
          28,
          null,
          34,
          45.5,
          18,
          2,
          32,
          26,
          16,
          40,
          24,
          35,
          22,
          30,
          null,
          31,
          27,
          42,
          32,
          30,
          16,
          27,
          51,
          null,
          38,
          22,
          19,
          20.5,
          18,
          null,
          35,
          29,
          59,
          5,
          24,
          null,
          44,
          8,
          19,
          33,
          null,
          null,
          29,
          22,
          30,
          44,
          25,
          24,
          37,
          54,
          null,
          29,
          62,
          30,
          41,
          29,
          null,
          30,
          35,
          50,
          null,
          3,
          52,
          40,
          null,
          36,
          16,
          25,
          58,
          35,
          null,
          25,
          41,
          37,
          null,
          63,
          45,
          null,
          7,
          35,
          65,
          28,
          16,
          19,
          null,
          33,
          30,
          22,
          42,
          22,
          26,
          19,
          36,
          24,
          24,
          null,
          23.5,
          2,
          null,
          50,
          null,
          null,
          19,
          null,
          null,
          0.92,
          null,
          17,
          30,
          30,
          24,
          18,
          26,
          28,
          43,
          26,
          24,
          54,
          31,
          40,
          22,
          27,
          30,
          22,
          null,
          36,
          61,
          36,
          31,
          16,
          null,
          45.5,
          38,
          16,
          null,
          null,
          29,
          41,
          45,
          45,
          2,
          24,
          28,
          25,
          36,
          24,
          40,
          null,
          3,
          42,
          23,
          null,
          15,
          25,
          null,
          28,
          22,
          38,
          null,
          null,
          40,
          29,
          45,
          35,
          null,
          30,
          60,
          null,
          null,
          24,
          25,
          18,
          19,
          22,
          3,
          null,
          22,
          27,
          20,
          19,
          42,
          1,
          32,
          35,
          null,
          18,
          1,
          36,
          null,
          17,
          36,
          21,
          28,
          23,
          24,
          22,
          31,
          46,
          23,
          28,
          39,
          26,
          21,
          28,
          20,
          34,
          51,
          3,
          21,
          null,
          null,
          null,
          33,
          null,
          44,
          null,
          34,
          18,
          30,
          10,
          null,
          21,
          29,
          28,
          18,
          null,
          28,
          19,
          null,
          32,
          28,
          null,
          42,
          17,
          50,
          14,
          21,
          24,
          64,
          31,
          45,
          20,
          25,
          28,
          null,
          4,
          13,
          34,
          5,
          52,
          36,
          null,
          30,
          49,
          null,
          29,
          65,
          null,
          50,
          null,
          48,
          34,
          47,
          48,
          null,
          38,
          null,
          56,
          null,
          0.75,
          null,
          38,
          33,
          23,
          22,
          null,
          34,
          29,
          22,
          2,
          9,
          null,
          50,
          63,
          25,
          null,
          35,
          58,
          30,
          9,
          null,
          21,
          55,
          71,
          21,
          null,
          54,
          null,
          25,
          24,
          17,
          21,
          null,
          37,
          16,
          18,
          33,
          null,
          28,
          26,
          29,
          null,
          36,
          54,
          24,
          47,
          34,
          null,
          36,
          32,
          30,
          22,
          null,
          44,
          null,
          40.5,
          50,
          null,
          39,
          23,
          2,
          null,
          17,
          null,
          30,
          7,
          45,
          30,
          null,
          22,
          36,
          9,
          11,
          32,
          50,
          64,
          19,
          null,
          33,
          8,
          17,
          27,
          null,
          22,
          22,
          62,
          48,
          null,
          39,
          36,
          null,
          40,
          28,
          null,
          null,
          24,
          19,
          29,
          null,
          32,
          62,
          53,
          36,
          null,
          16,
          19,
          34,
          39,
          null,
          32,
          25,
          39,
          54,
          36,
          null,
          18,
          47,
          60,
          22,
          null,
          35,
          52,
          47,
          null,
          37,
          36,
          null,
          49,
          null,
          49,
          24,
          null,
          null,
          44,
          35,
          36,
          30,
          27,
          22,
          40,
          39,
          null,
          null,
          null,
          35,
          24,
          34,
          26,
          4,
          26,
          27,
          42,
          20,
          21,
          21,
          61,
          57,
          21,
          26,
          null,
          80,
          51,
          32,
          null,
          9,
          28,
          32,
          31,
          41,
          null,
          20,
          24,
          2,
          null,
          0.75,
          48,
          19,
          56,
          null,
          23,
          null,
          18,
          21,
          null,
          18,
          24,
          null,
          32,
          23,
          58,
          50,
          40,
          47,
          36,
          20,
          32,
          25,
          null,
          43,
          null,
          40,
          31,
          70,
          31,
          null,
          18,
          24.5,
          18,
          43,
          36,
          null,
          27,
          20,
          14,
          60,
          25,
          14,
          19,
          18,
          15,
          31,
          4,
          null,
          25,
          60,
          52,
          44,
          null,
          49,
          42,
          18,
          35,
          18,
          25,
          26,
          39,
          45,
          42,
          22,
          null,
          24,
          null,
          48,
          29,
          52,
          19,
          38,
          27,
          null,
          33,
          6,
          17,
          34,
          50,
          27,
          20,
          30,
          null,
          25,
          25,
          29,
          11,
          null,
          23,
          23,
          28.5,
          48,
          35,
          null,
          null,
          null,
          36,
          21,
          24,
          31,
          70,
          16,
          30,
          19,
          31,
          4,
          6,
          33,
          23,
          48,
          0.67,
          28,
          18,
          34,
          33,
          null,
          41,
          20,
          36,
          16,
          51,
          null,
          30.5,
          null,
          32,
          24,
          48,
          57,
          null,
          54,
          18,
          null,
          5,
          null,
          43,
          13,
          17,
          29,
          null,
          25,
          25,
          18,
          8,
          1,
          46,
          null,
          16,
          null,
          null,
          25,
          39,
          49,
          31,
          30,
          30,
          34,
          31,
          11,
          0.42,
          27,
          31,
          39,
          18,
          39,
          33,
          26,
          39,
          35,
          6,
          30.5,
          null,
          23,
          31,
          43,
          10,
          52,
          27,
          38,
          27,
          2,
          null,
          null,
          1,
          null,
          62,
          15,
          0.83,
          null,
          23,
          18,
          39,
          21,
          null,
          32,
          null,
          20,
          16,
          30,
          34.5,
          17,
          42,
          null,
          35,
          28,
          null,
          4,
          74,
          9,
          16,
          44,
          18,
          45,
          51,
          24,
          null,
          41,
          21,
          48,
          null,
          24,
          42,
          27,
          31,
          null,
          4,
          26,
          47,
          33,
          47,
          28,
          15,
          20,
          19,
          null,
          56,
          25,
          33,
          22,
          28,
          25,
          39,
          27,
          19,
          null,
          26,
          32
         ],
         "xaxis": "x",
         "yaxis": "y"
        }
       ],
       "layout": {
        "barmode": "relative",
        "legend": {
         "tracegroupgap": 0
        },
        "margin": {
         "t": 60
        },
        "shapes": [
         {
          "line": {
           "color": "green",
           "dash": "dash",
           "width": 3
          },
          "type": "line",
          "x0": 28,
          "x1": 28,
          "xref": "x",
          "y0": 0,
          "y1": 1,
          "yref": "y domain"
         },
         {
          "line": {
           "color": "red",
           "dash": "dash",
           "width": 3
          },
          "type": "line",
          "x0": 29.69911764705882,
          "x1": 29.69911764705882,
          "xref": "x",
          "y0": 0,
          "y1": 1,
          "yref": "y domain"
         },
         {
          "line": {
           "color": "red",
           "dash": "dash",
           "width": 3
          },
          "type": "line",
          "x0": 0,
          "x1": 1,
          "xref": "x domain",
          "y0": 20,
          "y1": 20,
          "yref": "y"
         }
        ],
        "template": {
         "data": {
          "bar": [
           {
            "error_x": {
             "color": "#2a3f5f"
            },
            "error_y": {
             "color": "#2a3f5f"
            },
            "marker": {
             "line": {
              "color": "#E5ECF6",
              "width": 0.5
             },
             "pattern": {
              "fillmode": "overlay",
              "size": 10,
              "solidity": 0.2
             }
            },
            "type": "bar"
           }
          ],
          "barpolar": [
           {
            "marker": {
             "line": {
              "color": "#E5ECF6",
              "width": 0.5
             },
             "pattern": {
              "fillmode": "overlay",
              "size": 10,
              "solidity": 0.2
             }
            },
            "type": "barpolar"
           }
          ],
          "carpet": [
           {
            "aaxis": {
             "endlinecolor": "#2a3f5f",
             "gridcolor": "white",
             "linecolor": "white",
             "minorgridcolor": "white",
             "startlinecolor": "#2a3f5f"
            },
            "baxis": {
             "endlinecolor": "#2a3f5f",
             "gridcolor": "white",
             "linecolor": "white",
             "minorgridcolor": "white",
             "startlinecolor": "#2a3f5f"
            },
            "type": "carpet"
           }
          ],
          "choropleth": [
           {
            "colorbar": {
             "outlinewidth": 0,
             "ticks": ""
            },
            "type": "choropleth"
           }
          ],
          "contour": [
           {
            "colorbar": {
             "outlinewidth": 0,
             "ticks": ""
            },
            "colorscale": [
             [
              0,
              "#0d0887"
             ],
             [
              0.1111111111111111,
              "#46039f"
             ],
             [
              0.2222222222222222,
              "#7201a8"
             ],
             [
              0.3333333333333333,
              "#9c179e"
             ],
             [
              0.4444444444444444,
              "#bd3786"
             ],
             [
              0.5555555555555556,
              "#d8576b"
             ],
             [
              0.6666666666666666,
              "#ed7953"
             ],
             [
              0.7777777777777778,
              "#fb9f3a"
             ],
             [
              0.8888888888888888,
              "#fdca26"
             ],
             [
              1,
              "#f0f921"
             ]
            ],
            "type": "contour"
           }
          ],
          "contourcarpet": [
           {
            "colorbar": {
             "outlinewidth": 0,
             "ticks": ""
            },
            "type": "contourcarpet"
           }
          ],
          "heatmap": [
           {
            "colorbar": {
             "outlinewidth": 0,
             "ticks": ""
            },
            "colorscale": [
             [
              0,
              "#0d0887"
             ],
             [
              0.1111111111111111,
              "#46039f"
             ],
             [
              0.2222222222222222,
              "#7201a8"
             ],
             [
              0.3333333333333333,
              "#9c179e"
             ],
             [
              0.4444444444444444,
              "#bd3786"
             ],
             [
              0.5555555555555556,
              "#d8576b"
             ],
             [
              0.6666666666666666,
              "#ed7953"
             ],
             [
              0.7777777777777778,
              "#fb9f3a"
             ],
             [
              0.8888888888888888,
              "#fdca26"
             ],
             [
              1,
              "#f0f921"
             ]
            ],
            "type": "heatmap"
           }
          ],
          "heatmapgl": [
           {
            "colorbar": {
             "outlinewidth": 0,
             "ticks": ""
            },
            "colorscale": [
             [
              0,
              "#0d0887"
             ],
             [
              0.1111111111111111,
              "#46039f"
             ],
             [
              0.2222222222222222,
              "#7201a8"
             ],
             [
              0.3333333333333333,
              "#9c179e"
             ],
             [
              0.4444444444444444,
              "#bd3786"
             ],
             [
              0.5555555555555556,
              "#d8576b"
             ],
             [
              0.6666666666666666,
              "#ed7953"
             ],
             [
              0.7777777777777778,
              "#fb9f3a"
             ],
             [
              0.8888888888888888,
              "#fdca26"
             ],
             [
              1,
              "#f0f921"
             ]
            ],
            "type": "heatmapgl"
           }
          ],
          "histogram": [
           {
            "marker": {
             "pattern": {
              "fillmode": "overlay",
              "size": 10,
              "solidity": 0.2
             }
            },
            "type": "histogram"
           }
          ],
          "histogram2d": [
           {
            "colorbar": {
             "outlinewidth": 0,
             "ticks": ""
            },
            "colorscale": [
             [
              0,
              "#0d0887"
             ],
             [
              0.1111111111111111,
              "#46039f"
             ],
             [
              0.2222222222222222,
              "#7201a8"
             ],
             [
              0.3333333333333333,
              "#9c179e"
             ],
             [
              0.4444444444444444,
              "#bd3786"
             ],
             [
              0.5555555555555556,
              "#d8576b"
             ],
             [
              0.6666666666666666,
              "#ed7953"
             ],
             [
              0.7777777777777778,
              "#fb9f3a"
             ],
             [
              0.8888888888888888,
              "#fdca26"
             ],
             [
              1,
              "#f0f921"
             ]
            ],
            "type": "histogram2d"
           }
          ],
          "histogram2dcontour": [
           {
            "colorbar": {
             "outlinewidth": 0,
             "ticks": ""
            },
            "colorscale": [
             [
              0,
              "#0d0887"
             ],
             [
              0.1111111111111111,
              "#46039f"
             ],
             [
              0.2222222222222222,
              "#7201a8"
             ],
             [
              0.3333333333333333,
              "#9c179e"
             ],
             [
              0.4444444444444444,
              "#bd3786"
             ],
             [
              0.5555555555555556,
              "#d8576b"
             ],
             [
              0.6666666666666666,
              "#ed7953"
             ],
             [
              0.7777777777777778,
              "#fb9f3a"
             ],
             [
              0.8888888888888888,
              "#fdca26"
             ],
             [
              1,
              "#f0f921"
             ]
            ],
            "type": "histogram2dcontour"
           }
          ],
          "mesh3d": [
           {
            "colorbar": {
             "outlinewidth": 0,
             "ticks": ""
            },
            "type": "mesh3d"
           }
          ],
          "parcoords": [
           {
            "line": {
             "colorbar": {
              "outlinewidth": 0,
              "ticks": ""
             }
            },
            "type": "parcoords"
           }
          ],
          "pie": [
           {
            "automargin": true,
            "type": "pie"
           }
          ],
          "scatter": [
           {
            "fillpattern": {
             "fillmode": "overlay",
             "size": 10,
             "solidity": 0.2
            },
            "type": "scatter"
           }
          ],
          "scatter3d": [
           {
            "line": {
             "colorbar": {
              "outlinewidth": 0,
              "ticks": ""
             }
            },
            "marker": {
             "colorbar": {
              "outlinewidth": 0,
              "ticks": ""
             }
            },
            "type": "scatter3d"
           }
          ],
          "scattercarpet": [
           {
            "marker": {
             "colorbar": {
              "outlinewidth": 0,
              "ticks": ""
             }
            },
            "type": "scattercarpet"
           }
          ],
          "scattergeo": [
           {
            "marker": {
             "colorbar": {
              "outlinewidth": 0,
              "ticks": ""
             }
            },
            "type": "scattergeo"
           }
          ],
          "scattergl": [
           {
            "marker": {
             "colorbar": {
              "outlinewidth": 0,
              "ticks": ""
             }
            },
            "type": "scattergl"
           }
          ],
          "scattermapbox": [
           {
            "marker": {
             "colorbar": {
              "outlinewidth": 0,
              "ticks": ""
             }
            },
            "type": "scattermapbox"
           }
          ],
          "scatterpolar": [
           {
            "marker": {
             "colorbar": {
              "outlinewidth": 0,
              "ticks": ""
             }
            },
            "type": "scatterpolar"
           }
          ],
          "scatterpolargl": [
           {
            "marker": {
             "colorbar": {
              "outlinewidth": 0,
              "ticks": ""
             }
            },
            "type": "scatterpolargl"
           }
          ],
          "scatterternary": [
           {
            "marker": {
             "colorbar": {
              "outlinewidth": 0,
              "ticks": ""
             }
            },
            "type": "scatterternary"
           }
          ],
          "surface": [
           {
            "colorbar": {
             "outlinewidth": 0,
             "ticks": ""
            },
            "colorscale": [
             [
              0,
              "#0d0887"
             ],
             [
              0.1111111111111111,
              "#46039f"
             ],
             [
              0.2222222222222222,
              "#7201a8"
             ],
             [
              0.3333333333333333,
              "#9c179e"
             ],
             [
              0.4444444444444444,
              "#bd3786"
             ],
             [
              0.5555555555555556,
              "#d8576b"
             ],
             [
              0.6666666666666666,
              "#ed7953"
             ],
             [
              0.7777777777777778,
              "#fb9f3a"
             ],
             [
              0.8888888888888888,
              "#fdca26"
             ],
             [
              1,
              "#f0f921"
             ]
            ],
            "type": "surface"
           }
          ],
          "table": [
           {
            "cells": {
             "fill": {
              "color": "#EBF0F8"
             },
             "line": {
              "color": "white"
             }
            },
            "header": {
             "fill": {
              "color": "#C8D4E3"
             },
             "line": {
              "color": "white"
             }
            },
            "type": "table"
           }
          ]
         },
         "layout": {
          "annotationdefaults": {
           "arrowcolor": "#2a3f5f",
           "arrowhead": 0,
           "arrowwidth": 1
          },
          "autotypenumbers": "strict",
          "coloraxis": {
           "colorbar": {
            "outlinewidth": 0,
            "ticks": ""
           }
          },
          "colorscale": {
           "diverging": [
            [
             0,
             "#8e0152"
            ],
            [
             0.1,
             "#c51b7d"
            ],
            [
             0.2,
             "#de77ae"
            ],
            [
             0.3,
             "#f1b6da"
            ],
            [
             0.4,
             "#fde0ef"
            ],
            [
             0.5,
             "#f7f7f7"
            ],
            [
             0.6,
             "#e6f5d0"
            ],
            [
             0.7,
             "#b8e186"
            ],
            [
             0.8,
             "#7fbc41"
            ],
            [
             0.9,
             "#4d9221"
            ],
            [
             1,
             "#276419"
            ]
           ],
           "sequential": [
            [
             0,
             "#0d0887"
            ],
            [
             0.1111111111111111,
             "#46039f"
            ],
            [
             0.2222222222222222,
             "#7201a8"
            ],
            [
             0.3333333333333333,
             "#9c179e"
            ],
            [
             0.4444444444444444,
             "#bd3786"
            ],
            [
             0.5555555555555556,
             "#d8576b"
            ],
            [
             0.6666666666666666,
             "#ed7953"
            ],
            [
             0.7777777777777778,
             "#fb9f3a"
            ],
            [
             0.8888888888888888,
             "#fdca26"
            ],
            [
             1,
             "#f0f921"
            ]
           ],
           "sequentialminus": [
            [
             0,
             "#0d0887"
            ],
            [
             0.1111111111111111,
             "#46039f"
            ],
            [
             0.2222222222222222,
             "#7201a8"
            ],
            [
             0.3333333333333333,
             "#9c179e"
            ],
            [
             0.4444444444444444,
             "#bd3786"
            ],
            [
             0.5555555555555556,
             "#d8576b"
            ],
            [
             0.6666666666666666,
             "#ed7953"
            ],
            [
             0.7777777777777778,
             "#fb9f3a"
            ],
            [
             0.8888888888888888,
             "#fdca26"
            ],
            [
             1,
             "#f0f921"
            ]
           ]
          },
          "colorway": [
           "#636efa",
           "#EF553B",
           "#00cc96",
           "#ab63fa",
           "#FFA15A",
           "#19d3f3",
           "#FF6692",
           "#B6E880",
           "#FF97FF",
           "#FECB52"
          ],
          "font": {
           "color": "#2a3f5f"
          },
          "geo": {
           "bgcolor": "white",
           "lakecolor": "white",
           "landcolor": "#E5ECF6",
           "showlakes": true,
           "showland": true,
           "subunitcolor": "white"
          },
          "hoverlabel": {
           "align": "left"
          },
          "hovermode": "closest",
          "mapbox": {
           "style": "light"
          },
          "paper_bgcolor": "white",
          "plot_bgcolor": "#E5ECF6",
          "polar": {
           "angularaxis": {
            "gridcolor": "white",
            "linecolor": "white",
            "ticks": ""
           },
           "bgcolor": "#E5ECF6",
           "radialaxis": {
            "gridcolor": "white",
            "linecolor": "white",
            "ticks": ""
           }
          },
          "scene": {
           "xaxis": {
            "backgroundcolor": "#E5ECF6",
            "gridcolor": "white",
            "gridwidth": 2,
            "linecolor": "white",
            "showbackground": true,
            "ticks": "",
            "zerolinecolor": "white"
           },
           "yaxis": {
            "backgroundcolor": "#E5ECF6",
            "gridcolor": "white",
            "gridwidth": 2,
            "linecolor": "white",
            "showbackground": true,
            "ticks": "",
            "zerolinecolor": "white"
           },
           "zaxis": {
            "backgroundcolor": "#E5ECF6",
            "gridcolor": "white",
            "gridwidth": 2,
            "linecolor": "white",
            "showbackground": true,
            "ticks": "",
            "zerolinecolor": "white"
           }
          },
          "shapedefaults": {
           "line": {
            "color": "#2a3f5f"
           }
          },
          "ternary": {
           "aaxis": {
            "gridcolor": "white",
            "linecolor": "white",
            "ticks": ""
           },
           "baxis": {
            "gridcolor": "white",
            "linecolor": "white",
            "ticks": ""
           },
           "bgcolor": "#E5ECF6",
           "caxis": {
            "gridcolor": "white",
            "linecolor": "white",
            "ticks": ""
           }
          },
          "title": {
           "x": 0.05
          },
          "xaxis": {
           "automargin": true,
           "gridcolor": "white",
           "linecolor": "white",
           "ticks": "",
           "title": {
            "standoff": 15
           },
           "zerolinecolor": "white",
           "zerolinewidth": 2
          },
          "yaxis": {
           "automargin": true,
           "gridcolor": "white",
           "linecolor": "white",
           "ticks": "",
           "title": {
            "standoff": 15
           },
           "zerolinecolor": "white",
           "zerolinewidth": 2
          }
         }
        },
        "xaxis": {
         "anchor": "y",
         "domain": [
          0,
          1
         ],
         "title": {
          "text": "age"
         }
        },
        "yaxis": {
         "anchor": "x",
         "domain": [
          0,
          1
         ],
         "title": {
          "text": "count"
         }
        }
       }
      }
     },
     "metadata": {},
     "output_type": "display_data"
    }
   ],
   "source": [
    "# Create a histogram using Plotly Express for the \"age\" column from the \"titanic\" DataFrame\n",
    "fig = px.histogram(titanic, x=\"age\")\n",
    "\n",
    "# Add vertical lines to the histogram to indicate the median and mean age\n",
    "# Median age is represented by a green dashed line\n",
    "fig.add_vline(titanic.age.median(), line_width=3, line_dash=\"dash\", line_color=\"green\")\n",
    "\n",
    "# Mean age is represented by a red dashed line\n",
    "fig.add_vline(titanic.age.mean(), line_width=3, line_dash=\"dash\", line_color=\"red\")\n",
    "\n",
    "# Add a horizontal line at the age of 20 (line_width=3, dashed line, red color)\n",
    "fig.add_hline(20, line_width=3, line_dash=\"dash\", line_color=\"red\")\n",
    "\n",
    "# Display the customized histogram with vertical and horizontal lines\n",
    "fig.show()"
   ]
  },
  {
   "cell_type": "markdown",
   "id": "fleet-fraction",
   "metadata": {},
   "source": [
    "## Distplot\n",
    "\n",
    "El `Distplot`, abreviatura de distribution plot (gráfico de distribución), es una visualización versátil en Plotly que combina elementos de histogramas y gráficos de estimación de densidad kernel (KDE). Está diseñado para proporcionar una vista comprensiva de la distribución de una única variable numérica, permitiéndote explorar su forma, tendencia central y dispersión. El `Distplot` es particularmente útil para entender la distribución subyacente de los datos e identificar patrones o desviaciones potenciales.\n",
    "\n",
    "Con el `Distplot`, puedes visualizar la distribución de frecuencia de un conjunto de datos y obtener insights sobre su asimetría, curtosis y multimodalidad. Esta herramienta de visualización también te permite superponer una curva KDE, proporcionando una estimación suave de la función de densidad de probabilidad de los datos. Ya sea que estés analizando datos desde una perspectiva estadística o exploratoria, el `Distplot` puede ser un activo valioso en tu kit de herramientas de análisis de datos.\n",
    "\n",
    "Para crear visualizaciones `Distplot` en Plotly, puedes personalizar varios aspectos, como el número de bins, la apariencia del histograma y el estilo de la curva KDE. Esta flexibilidad lo hace adecuado para una amplia gama de tareas de análisis de datos, desde entender la distribución de las calificaciones de exámenes hasta explorar la distribución de edad de los pasajeros en el Titanic.\n",
    "\n",
    "Usando el `Distplot`, puedes obtener una comprensión más profunda de la distribución de tus datos y tomar decisiones informadas durante tu viaje de análisis de datos.\n",
    "\n",
    "Para obtener información más detallada y ejemplos, puedes consultar la [documentación de Plotly sobre Distplots](https://plotly.com/python/distplot/)."
   ]
  },
  {
   "cell_type": "code",
   "execution_count": 21,
   "id": "pursuant-relative",
   "metadata": {},
   "outputs": [
    {
     "data": {
      "text/html": [
       "<div>\n",
       "<style scoped>\n",
       "    .dataframe tbody tr th:only-of-type {\n",
       "        vertical-align: middle;\n",
       "    }\n",
       "\n",
       "    .dataframe tbody tr th {\n",
       "        vertical-align: top;\n",
       "    }\n",
       "\n",
       "    .dataframe thead th {\n",
       "        text-align: right;\n",
       "    }\n",
       "</style>\n",
       "<table border=\"1\" class=\"dataframe\">\n",
       "  <thead>\n",
       "    <tr style=\"text-align: right;\">\n",
       "      <th></th>\n",
       "      <th>survived</th>\n",
       "      <th>pclass</th>\n",
       "      <th>sex</th>\n",
       "      <th>age</th>\n",
       "      <th>sibsp</th>\n",
       "      <th>parch</th>\n",
       "      <th>fare</th>\n",
       "      <th>embarked</th>\n",
       "      <th>class</th>\n",
       "      <th>who</th>\n",
       "      <th>adult_male</th>\n",
       "      <th>deck</th>\n",
       "      <th>embark_town</th>\n",
       "      <th>alive</th>\n",
       "      <th>alone</th>\n",
       "    </tr>\n",
       "  </thead>\n",
       "  <tbody>\n",
       "    <tr>\n",
       "      <th>1</th>\n",
       "      <td>1</td>\n",
       "      <td>1</td>\n",
       "      <td>female</td>\n",
       "      <td>38.0</td>\n",
       "      <td>1</td>\n",
       "      <td>0</td>\n",
       "      <td>71.2833</td>\n",
       "      <td>C</td>\n",
       "      <td>First</td>\n",
       "      <td>woman</td>\n",
       "      <td>False</td>\n",
       "      <td>C</td>\n",
       "      <td>Cherbourg</td>\n",
       "      <td>yes</td>\n",
       "      <td>False</td>\n",
       "    </tr>\n",
       "    <tr>\n",
       "      <th>3</th>\n",
       "      <td>1</td>\n",
       "      <td>1</td>\n",
       "      <td>female</td>\n",
       "      <td>35.0</td>\n",
       "      <td>1</td>\n",
       "      <td>0</td>\n",
       "      <td>53.1000</td>\n",
       "      <td>S</td>\n",
       "      <td>First</td>\n",
       "      <td>woman</td>\n",
       "      <td>False</td>\n",
       "      <td>C</td>\n",
       "      <td>Southampton</td>\n",
       "      <td>yes</td>\n",
       "      <td>False</td>\n",
       "    </tr>\n",
       "    <tr>\n",
       "      <th>6</th>\n",
       "      <td>0</td>\n",
       "      <td>1</td>\n",
       "      <td>male</td>\n",
       "      <td>54.0</td>\n",
       "      <td>0</td>\n",
       "      <td>0</td>\n",
       "      <td>51.8625</td>\n",
       "      <td>S</td>\n",
       "      <td>First</td>\n",
       "      <td>man</td>\n",
       "      <td>True</td>\n",
       "      <td>E</td>\n",
       "      <td>Southampton</td>\n",
       "      <td>no</td>\n",
       "      <td>True</td>\n",
       "    </tr>\n",
       "    <tr>\n",
       "      <th>10</th>\n",
       "      <td>1</td>\n",
       "      <td>3</td>\n",
       "      <td>female</td>\n",
       "      <td>4.0</td>\n",
       "      <td>1</td>\n",
       "      <td>1</td>\n",
       "      <td>16.7000</td>\n",
       "      <td>S</td>\n",
       "      <td>Third</td>\n",
       "      <td>child</td>\n",
       "      <td>False</td>\n",
       "      <td>G</td>\n",
       "      <td>Southampton</td>\n",
       "      <td>yes</td>\n",
       "      <td>False</td>\n",
       "    </tr>\n",
       "    <tr>\n",
       "      <th>11</th>\n",
       "      <td>1</td>\n",
       "      <td>1</td>\n",
       "      <td>female</td>\n",
       "      <td>58.0</td>\n",
       "      <td>0</td>\n",
       "      <td>0</td>\n",
       "      <td>26.5500</td>\n",
       "      <td>S</td>\n",
       "      <td>First</td>\n",
       "      <td>woman</td>\n",
       "      <td>False</td>\n",
       "      <td>C</td>\n",
       "      <td>Southampton</td>\n",
       "      <td>yes</td>\n",
       "      <td>True</td>\n",
       "    </tr>\n",
       "  </tbody>\n",
       "</table>\n",
       "</div>"
      ],
      "text/plain": [
       "    survived  pclass     sex   age  sibsp  parch     fare embarked  class  \\\n",
       "1          1       1  female  38.0      1      0  71.2833        C  First   \n",
       "3          1       1  female  35.0      1      0  53.1000        S  First   \n",
       "6          0       1    male  54.0      0      0  51.8625        S  First   \n",
       "10         1       3  female   4.0      1      1  16.7000        S  Third   \n",
       "11         1       1  female  58.0      0      0  26.5500        S  First   \n",
       "\n",
       "      who  adult_male deck  embark_town alive  alone  \n",
       "1   woman       False    C    Cherbourg   yes  False  \n",
       "3   woman       False    C  Southampton   yes  False  \n",
       "6     man        True    E  Southampton    no   True  \n",
       "10  child       False    G  Southampton   yes  False  \n",
       "11  woman       False    C  Southampton   yes   True  "
      ]
     },
     "execution_count": 21,
     "metadata": {},
     "output_type": "execute_result"
    }
   ],
   "source": [
    "# Creating a copy of the 'titanic' DataFrame to avoid modifying the original data\n",
    "tit = titanic.copy()\n",
    "\n",
    "# Dropping rows with missing values (NaN) in the DataFrame 'tit'\n",
    "# This step removes rows with any NaN values, effectively cleaning the data\n",
    "tit.dropna(inplace=True)\n",
    "\n",
    "# Check the dataset\n",
    "tit.head()"
   ]
  },
  {
   "cell_type": "code",
   "execution_count": 22,
   "id": "complete-jewel",
   "metadata": {},
   "outputs": [],
   "source": [
    "# Importing the 'figure_factory' module from Plotly\n",
    "import plotly.figure_factory as ff\n",
    "\n",
    "# Creating a list 'hist_data' containing age data from the 'tit' DataFrame\n",
    "hist_data = [tit.age]\n",
    "\n",
    "# Creating a list 'labels' with a single label \"Edad\"\n",
    "labels = [\"Edad\"]"
   ]
  },
  {
   "cell_type": "code",
   "execution_count": 23,
   "id": "spare-progress",
   "metadata": {},
   "outputs": [
    {
     "data": {
      "application/vnd.plotly.v1+json": {
       "config": {
        "plotlyServerURL": "https://plot.ly"
       },
       "data": [
        {
         "autobinx": false,
         "histnorm": "probability density",
         "legendgroup": "Edad",
         "marker": {
          "color": "rgb(31, 119, 180)"
         },
         "name": "Edad",
         "opacity": 0.7,
         "type": "histogram",
         "x": [
          38,
          35,
          54,
          4,
          58,
          34,
          28,
          19,
          49,
          65,
          45,
          29,
          25,
          23,
          46,
          71,
          23,
          21,
          47,
          24,
          32.5,
          54,
          19,
          37,
          24,
          36.5,
          22,
          61,
          56,
          50,
          1,
          3,
          44,
          58,
          2,
          40,
          31,
          32,
          38,
          35,
          44,
          37,
          29,
          62,
          30,
          52,
          40,
          58,
          35,
          37,
          63,
          19,
          36,
          2,
          50,
          0.92,
          17,
          30,
          24,
          18,
          31,
          40,
          36,
          36,
          16,
          45.5,
          38,
          29,
          41,
          2,
          24,
          24,
          22,
          60,
          24,
          25,
          27,
          36,
          23,
          24,
          33,
          32,
          28,
          50,
          14,
          64,
          4,
          52,
          30,
          49,
          65,
          48,
          47,
          23,
          25,
          35,
          58,
          55,
          54,
          25,
          16,
          18,
          36,
          47,
          34,
          30,
          44,
          45,
          22,
          36,
          50,
          17,
          48,
          39,
          53,
          36,
          39,
          39,
          36,
          18,
          60,
          52,
          49,
          40,
          4,
          42,
          61,
          21,
          80,
          32,
          24,
          48,
          56,
          58,
          47,
          31,
          36,
          27,
          15,
          31,
          49,
          42,
          18,
          35,
          42,
          24,
          48,
          19,
          38,
          27,
          27,
          29,
          35,
          36,
          21,
          70,
          19,
          6,
          33,
          36,
          51,
          57,
          43,
          17,
          29,
          46,
          49,
          11,
          39,
          33,
          52,
          27,
          39,
          16,
          51,
          48,
          31,
          47,
          33,
          56,
          19,
          26
         ],
         "xaxis": "x",
         "xbins": {
          "end": 80,
          "size": 1,
          "start": 0.92
         },
         "yaxis": "y"
        },
        {
         "legendgroup": "Edad",
         "marker": {
          "color": "rgb(31, 119, 180)"
         },
         "mode": "lines",
         "name": "Edad",
         "showlegend": false,
         "type": "scatter",
         "x": [
          0.92,
          1.07816,
          1.23632,
          1.3944800000000002,
          1.55264,
          1.7107999999999999,
          1.86896,
          2.02712,
          2.18528,
          2.34344,
          2.5016,
          2.65976,
          2.81792,
          2.97608,
          3.1342399999999997,
          3.2924,
          3.45056,
          3.60872,
          3.76688,
          3.92504,
          4.0832,
          4.24136,
          4.39952,
          4.55768,
          4.71584,
          4.8740000000000006,
          5.03216,
          5.19032,
          5.3484799999999995,
          5.50664,
          5.6648000000000005,
          5.82296,
          5.98112,
          6.139279999999999,
          6.29744,
          6.4556,
          6.61376,
          6.77192,
          6.93008,
          7.08824,
          7.2463999999999995,
          7.404559999999999,
          7.5627200000000006,
          7.72088,
          7.87904,
          8.0372,
          8.19536,
          8.35352,
          8.51168,
          8.66984,
          8.828000000000001,
          8.98616,
          9.14432,
          9.30248,
          9.46064,
          9.618799999999998,
          9.776959999999999,
          9.93512,
          10.09328,
          10.25144,
          10.409600000000001,
          10.56776,
          10.72592,
          10.884079999999999,
          11.04224,
          11.2004,
          11.358559999999999,
          11.51672,
          11.67488,
          11.833039999999999,
          11.9912,
          12.14936,
          12.30752,
          12.46568,
          12.62384,
          12.782,
          12.94016,
          13.09832,
          13.25648,
          13.414639999999999,
          13.572799999999999,
          13.73096,
          13.889119999999998,
          14.047279999999999,
          14.205440000000001,
          14.3636,
          14.52176,
          14.67992,
          14.83808,
          14.99624,
          15.154399999999999,
          15.31256,
          15.47072,
          15.628879999999999,
          15.78704,
          15.945199999999998,
          16.103360000000002,
          16.26152,
          16.41968,
          16.577840000000002,
          16.736,
          16.89416,
          17.05232,
          17.21048,
          17.368640000000003,
          17.5268,
          17.68496,
          17.84312,
          18.00128,
          18.15944,
          18.3176,
          18.47576,
          18.63392,
          18.79208,
          18.95024,
          19.1084,
          19.266560000000002,
          19.424720000000004,
          19.582880000000003,
          19.74104,
          19.899200000000004,
          20.057360000000003,
          20.21552,
          20.37368,
          20.531840000000003,
          20.69,
          20.84816,
          21.006320000000002,
          21.16448,
          21.32264,
          21.480800000000002,
          21.63896,
          21.79712,
          21.955280000000002,
          22.11344,
          22.2716,
          22.42976,
          22.58792,
          22.74608,
          22.904239999999998,
          23.0624,
          23.220560000000003,
          23.37872,
          23.536880000000004,
          23.695040000000002,
          23.8532,
          24.011360000000003,
          24.169520000000002,
          24.32768,
          24.485840000000003,
          24.644000000000002,
          24.80216,
          24.960320000000003,
          25.11848,
          25.27664,
          25.434800000000003,
          25.59296,
          25.75112,
          25.90928,
          26.06744,
          26.2256,
          26.38376,
          26.54192,
          26.70008,
          26.85824,
          27.0164,
          27.17456,
          27.332720000000002,
          27.490880000000004,
          27.649040000000003,
          27.8072,
          27.965360000000004,
          28.123520000000003,
          28.28168,
          28.43984,
          28.598000000000003,
          28.75616,
          28.91432,
          29.072480000000002,
          29.23064,
          29.3888,
          29.546960000000002,
          29.70512,
          29.86328,
          30.021440000000002,
          30.1796,
          30.33776,
          30.49592,
          30.65408,
          30.81224,
          30.970399999999998,
          31.12856,
          31.286720000000003,
          31.44488,
          31.603040000000004,
          31.761200000000002,
          31.91936,
          32.07752,
          32.23568,
          32.39384,
          32.552,
          32.71016,
          32.86832,
          33.02648,
          33.18464,
          33.342800000000004,
          33.50096,
          33.65912,
          33.817280000000004,
          33.975440000000006,
          34.1336,
          34.291760000000004,
          34.44992,
          34.60808,
          34.766239999999996,
          34.924400000000006,
          35.08256,
          35.24072,
          35.39888,
          35.55704,
          35.715199999999996,
          35.873360000000005,
          36.03152,
          36.18968,
          36.34784,
          36.506,
          36.664159999999995,
          36.822320000000005,
          36.98048,
          37.13864,
          37.2968,
          37.45496,
          37.61312,
          37.77128,
          37.92944000000001,
          38.0876,
          38.245760000000004,
          38.40392,
          38.56208,
          38.72024,
          38.878400000000006,
          39.03656,
          39.194720000000004,
          39.35288,
          39.51104,
          39.6692,
          39.82736,
          39.98552,
          40.14368,
          40.30184,
          40.46,
          40.618159999999996,
          40.77632,
          40.93448,
          41.09264,
          41.2508,
          41.40896,
          41.56712,
          41.72528,
          41.88344000000001,
          42.0416,
          42.199760000000005,
          42.35792,
          42.51608,
          42.67424,
          42.8324,
          42.99056,
          43.148720000000004,
          43.30688,
          43.46504,
          43.6232,
          43.78136,
          43.93952,
          44.097680000000004,
          44.25584,
          44.414,
          44.57216,
          44.73032,
          44.888479999999994,
          45.046640000000004,
          45.2048,
          45.36296,
          45.52112,
          45.67928,
          45.83744,
          45.9956,
          46.153760000000005,
          46.31192,
          46.47008,
          46.62824,
          46.7864,
          46.94456,
          47.102720000000005,
          47.26088,
          47.41904,
          47.5772,
          47.73536,
          47.893519999999995,
          48.051680000000005,
          48.20984,
          48.368,
          48.52616,
          48.68432,
          48.842479999999995,
          49.000640000000004,
          49.1588,
          49.31696,
          49.47512,
          49.63328,
          49.79144,
          49.949600000000004,
          50.107760000000006,
          50.26592,
          50.424080000000004,
          50.58224,
          50.7404,
          50.898559999999996,
          51.056720000000006,
          51.21488,
          51.37304,
          51.5312,
          51.68936,
          51.847519999999996,
          52.005680000000005,
          52.16384,
          52.322,
          52.48016,
          52.63832,
          52.796479999999995,
          52.95464,
          53.1128,
          53.27096,
          53.42912,
          53.58728,
          53.74544,
          53.9036,
          54.06176000000001,
          54.21992,
          54.378080000000004,
          54.53624,
          54.6944,
          54.85256,
          55.010720000000006,
          55.16888,
          55.327040000000004,
          55.4852,
          55.64336,
          55.80152,
          55.95968,
          56.11784,
          56.276,
          56.43416,
          56.59232,
          56.750479999999996,
          56.90864,
          57.0668,
          57.22496,
          57.38312,
          57.54128,
          57.69944,
          57.8576,
          58.01576,
          58.17392,
          58.332080000000005,
          58.49024,
          58.6484,
          58.80656,
          58.96472,
          59.12288,
          59.281040000000004,
          59.4392,
          59.59736,
          59.75552,
          59.91368,
          60.07184,
          60.230000000000004,
          60.38816,
          60.54632,
          60.70448,
          60.86264,
          61.020799999999994,
          61.178960000000004,
          61.33712,
          61.49528,
          61.65344,
          61.8116,
          61.96976,
          62.12792,
          62.286080000000005,
          62.44424,
          62.6024,
          62.76056,
          62.91872,
          63.076879999999996,
          63.235040000000005,
          63.3932,
          63.55136,
          63.70952,
          63.86768,
          64.02583999999999,
          64.184,
          64.34215999999999,
          64.50032,
          64.65848,
          64.81663999999999,
          64.9748,
          65.13296,
          65.29111999999999,
          65.44928,
          65.60744,
          65.7656,
          65.92376,
          66.08192,
          66.24008,
          66.39824,
          66.5564,
          66.71456,
          66.87272,
          67.03088000000001,
          67.18903999999999,
          67.3472,
          67.50536,
          67.66352,
          67.82168,
          67.97984,
          68.138,
          68.29616,
          68.45432,
          68.61247999999999,
          68.77064,
          68.92880000000001,
          69.08695999999999,
          69.24512,
          69.40328,
          69.56144,
          69.7196,
          69.87776,
          70.03592,
          70.19408,
          70.35224000000001,
          70.51039999999999,
          70.66856,
          70.82672000000001,
          70.98488,
          71.14304,
          71.3012,
          71.45936,
          71.61752,
          71.77568,
          71.93384,
          72.092,
          72.25016000000001,
          72.40831999999999,
          72.56648,
          72.72464000000001,
          72.8828,
          73.04096,
          73.19912,
          73.35728,
          73.51544,
          73.6736,
          73.83176,
          73.98992,
          74.14808000000001,
          74.30624,
          74.4644,
          74.62256,
          74.78072,
          74.93888000000001,
          75.09703999999999,
          75.2552,
          75.41336,
          75.57152,
          75.72967999999999,
          75.88784,
          76.046,
          76.20416,
          76.36232,
          76.52047999999999,
          76.67864,
          76.83680000000001,
          76.99495999999999,
          77.15312,
          77.31128,
          77.46944,
          77.62759999999999,
          77.78576,
          77.94392,
          78.10208,
          78.26024000000001,
          78.41839999999999,
          78.57656,
          78.73472,
          78.89288,
          79.05104,
          79.2092,
          79.36736,
          79.52552,
          79.68368,
          79.84184
         ],
         "xaxis": "x",
         "y": [
          0.003794957632333481,
          0.0038408484251865713,
          0.003885070584570296,
          0.003927600372600408,
          0.003968420836607845,
          0.004007522030281958,
          0.004044901211266827,
          0.00408056301395279,
          0.004114519596310786,
          0.0041467907597299136,
          0.004177404040938474,
          0.004206394775213938,
          0.004233806130218013,
          0.0042596891099280654,
          0.004284102528274625,
          0.0043071129522363584,
          0.004328794614287155,
          0.004349229294234503,
          0.00436850617063323,
          0.004386721642102896,
          0.004403979119019822,
          0.004420388786195683,
          0.004436067337291922,
          0.004451137681853312,
          0.00446572862597317,
          0.004479974527726956,
          0.004494014928629156,
          0.004507994162480138,
          0.004522060943074165,
          0.004536367932337102,
          0.004551071290550891,
          0.004566330210402908,
          0.004582306436669442,
          0.004599163773405442,
          0.004617067580565748,
          0.004636184262026229,
          0.004656680747007759,
          0.004678723966929421,
          0.004702480329732039,
          0.004728115193717539,
          0.0047557923429445885,
          0.00478567346620636,
          0.004817917641592309,
          0.004852680828602981,
          0.004890115369744764,
          0.004930369503481675,
          0.004973586890362309,
          0.005019906154074398,
          0.005069460439105714,
          0.005122376986609875,
          0.005178776729988784,
          0.005238773911611077,
          0.005302475721987956,
          0.005369981962624947,
          0.005441384733661456,
          0.005516768147298908,
          0.0055962080679048684,
          0.005679771879563799,
          0.005767518281727023,
          0.0058594971134946225,
          0.005955749206941467,
          0.006056306269778798,
          0.006161190797522213,
          0.006270416015217545,
          0.0063839858486576286,
          0.0065018949249071424,
          0.006624128601838662,
          0.006750663026272573,
          0.0068814652202061665,
          0.007016493194513839,
          0.007155696089401644,
          0.007299014340804745,
          0.007446379871828156,
          0.00759771630824666,
          0.007752939217003039,
          0.007911956366571934,
          0.008074668007991188,
          0.008240967175304746,
          0.008410740004108956,
          0.008583866066849513,
          0.008760218723478675,
          0.008939665486051499,
          0.009122068395816757,
          0.00930728441134121,
          0.009495165806197088,
          0.009685560574739802,
          0.009878312844507171,
          0.010073263293782598,
          0.010270249572881508,
          0.010469106727743536,
          0.010669667624442356,
          0.010871763373259033,
          0.011075223751003945,
          0.01127987762031726,
          0.011485553344724909,
          0.011692079198279765,
          0.011899283768672624,
          0.012106996352755197,
          0.012315047343477886,
          0.012523268607306579,
          0.012731493851246138,
          0.012939558978661763,
          0.013147302433153773,
          0.013354565529804708,
          0.01356119277318155,
          0.013767032161536628,
          0.01397193547671247,
          0.014175758559312709,
          0.014378361568759405,
          0.014579609227907957,
          0.014779371051944028,
          0.014977521561332847,
          0.015173940478635723,
          0.01536851290905051,
          0.015561129504568874,
          0.015751686611678,
          0.0159400864025652,
          0.016126236989809768,
          0.016310052524571805,
          0.016491453278307734,
          0.01667036570806043,
          0.016846722505386973,
          0.017020462629001146,
          0.017191531321217392,
          0.017359880108293858,
          0.017525466784779824,
          0.01768825538198,
          0.01784821612065641,
          0.018005325348094136,
          0.018159565459666044,
          0.018310924805039513,
          0.018459397579177656,
          0.018604983698299552,
          0.018747688660976872,
          0.018887523394560173,
          0.019024504087147034,
          0.01915865200532546,
          0.019289993297950274,
          0.019418558786239132,
          0.019544383740505787,
          0.019667507643883787,
          0.019787973943432208,
          0.019905829789058218,
          0.020021125760736287,
          0.02013391558455401,
          0.020244255838166726,
          0.0203522056462975,
          0.02045782636697916,
          0.02056118126929209,
          0.020662335203416444,
          0.02076135426387769,
          0.020858305446930545,
          0.020953256303088332,
          0.021046274585869988,
          0.021137427897898152,
          0.021226783335543644,
          0.021314407133368886,
          0.021400364309679516,
          0.02148471831454335,
          0.02156753068168519,
          0.021648860685705238,
          0.02172876500610837,
          0.021807297399658088,
          0.021884508382594432,
          0.021960444924268845,
          0.02203515015375631,
          0.022108663081003933,
          0.02218101833406385,
          0.022252245913938578,
          0.022322370968536724,
          0.0223914135871975,
          0.022459388617191732,
          0.022526305503546395,
          0.02259216815346999,
          0.022656974826573393,
          0.022720718051990337,
          0.022783384573400397,
          0.022844955322845282,
          0.022905405424110806,
          0.022964704226315243,
          0.02302281536820993,
          0.023079696873550423,
          0.023135301277745813,
          0.023189575785834943,
          0.02324246246167432,
          0.02329389844805377,
          0.02334381621728508,
          0.023392143851633025,
          0.02343880535278295,
          0.02348372097936263,
          0.0235268076113603,
          0.023567979140106856,
          0.02360714688231965,
          0.023644220016538986,
          0.023679106040126977,
          0.023711711244844415,
          0.02374194120887451,
          0.023769701303024356,
          0.023794897208708813,
          0.023817435445202616,
          0.02383722390354471,
          0.023854172384386117,
          0.02386819313699664,
          0.023879201396582072,
          0.023887115917018847,
          0.023891859496080834,
          0.023893359490221942,
          0.023891548315978707,
          0.023886363935082137,
          0.023877750320405,
          0.02386565789992893,
          0.023850043975991164,
          0.023830873117164288,
          0.02380811752023273,
          0.02378175733985772,
          0.02375178098366874,
          0.023718185370678685,
          0.023680976151097564,
          0.023640167885810425,
          0.02359578418398883,
          0.023547857797522612,
          0.023496430671187053,
          0.02344155394769744,
          0.023383287927050207,
          0.02332170197980345,
          0.023256874414207672,
          0.0231888922973614,
          0.02311785123083092,
          0.023043855081438712,
          0.02296701566819004,
          0.02288745240656837,
          0.022805291911686423,
          0.022720667562031154,
          0.0226337190257817,
          0.02254459175191275,
          0.022453436428516417,
          0.022360408410982767,
          0.022265667122873735,
          0.022169375432502185,
          0.022071699008387697,
          0.02197280565690321,
          0.021872864645549033,
          0.02177204601539209,
          0.021670519886289846,
          0.02156845575857688,
          0.021466021814928023,
          0.021363384226126568,
          0.021260706464455652,
          0.02115814862839892,
          0.021055866782281,
          0.020954012314400486,
          0.020852731317106746,
          0.020752163992151046,
          0.020652444084498532,
          0.020553698347624848,
          0.02045604604313924,
          0.020359598477375868,
          0.020264458577378953,
          0.020170720508475768,
          0.02007846933538605,
          0.019987780728560344,
          0.019898720717171515,
          0.019811345489908903,
          0.019725701244441684,
          0.01964182408613137,
          0.019559739976283862,
          0.019479464729940155,
          0.019401004062916328,
          0.019324353687516158,
          0.01924949945605862,
          0.019176417551087902,
          0.01910507472086715,
          0.019035428558502057,
          0.018967427822795847,
          0.01890101279870825,
          0.01883611569507513,
          0.018772661077047354,
          0.018710566330526677,
          0.018649742155714046,
          0.018590093086743236,
          0.01853151803425155,
          0.01847391084763783,
          0.018417160893679636,
          0.018361153648124337,
          0.01830577129683438,
          0.01825089334305442,
          0.01819639721737795,
          0.0181421588870225,
          0.018088053461075743,
          0.01803395578844808,
          0.017979741045361968,
          0.01792528530932037,
          0.017870466116628656,
          0.017815163000692108,
          0.01775925800847519,
          0.017702636192687884,
          0.017645186077454866,
          0.017586800095427645,
          0.017527374994511596,
          0.017466812212602524,
          0.017405018218953974,
          0.01734190482103109,
          0.017277389435941877,
          0.017211395325775595,
          0.017143851796415043,
          0.01707469435962631,
          0.0170038648584616,
          0.016931311556239045,
          0.01685698918958372,
          0.01678085898622885,
          0.016702888648478964,
          0.016623052303430714,
          0.016541330421229624,
          0.016457709702809263,
          0.016372182938715223,
          0.016284748840757594,
          0.016195411848361083,
          0.016104181911592092,
          0.016011074252936238,
          0.015916109109976928,
          0.015819311461186883,
          0.015720710737088094,
          0.015620340519063445,
          0.01551823822811457,
          0.015414444805855016,
          0.015309004390007482,
          0.01520196398663825,
          0.015093373141311348,
          0.014983283611281659,
          0.014871749040768835,
          0.014758824641265742,
          0.014644566878735036,
          0.014529033169437855,
          0.014412281586020353,
          0.014294370575357143,
          0.014175358689517885,
          0.014055304331085075,
          0.013934265513908457,
          0.013812299640234971,
          0.013689463295007304,
          0.01356581205797338,
          0.013441400334103043,
          0.013316281202660117,
          0.01319050628513501,
          0.01306412563210055,
          0.012937187628919723,
          0.012809738920099921,
          0.012681824351965952,
          0.012553486933203406,
          0.012424767812714253,
          0.012295706274122933,
          0.012166339746176692,
          0.01203670382819825,
          0.011906832329672233,
          0.011776757322979513,
          0.01164650920823642,
          0.011516116789147345,
          0.011385607358741865,
          0.011255006793837891,
          0.011124339657054253,
          0.010993629305185668,
          0.010862898002752282,
          0.010732167039544153,
          0.01060145685099684,
          0.010470787140258427,
          0.010340177000839964,
          0.010209645038779101,
          0.010079209493292267,
          0.009948888354940181,
          0.009818699480388465,
          0.009688660702904186,
          0.009558789937794533,
          0.00942910528206116,
          0.009299625107614166,
          0.0091703681474626,
          0.009041353574372458,
          0.008912601071558484,
          0.008784130895051543,
          0.008655963927458914,
          0.008528121722909602,
          0.008400626543050215,
          0.008273501384028922,
          0.008146769994474773,
          0.008020456884546846,
          0.007894587326192035,
          0.007769187344811289,
          0.007644283702591504,
          0.00751990387381422,
          0.00739607601250113,
          0.007272828912802428,
          0.007150191962574044,
          0.007028195090626572,
          0.006906868708159782,
          0.0067862436449233655,
          0.0066663510806669254,
          0.0065472224724587875,
          0.006428889478466157,
          0.006311383878796595,
          0.006194737494004408,
          0.00607898210186377,
          0.005964149353005217,
          0.005850270686002592,
          0.00573737724248349,
          0.005625499782819369,
          0.005514668602930365,
          0.005404913452716104,
          0.005296263456596641,
          0.005188747036617753,
          0.005082391838543295,
          0.004977224661322598,
          0.004873271390285001,
          0.004770556934376675,
          0.004669105167715184,
          0.004568938875699237,
          0.00447007970586965,
          0.004372548123678348,
          0.0042763633732815975,
          0.004181543443434291,
          0.004088105038522742,
          0.003996063554735802,
          0.0039054330613369275,
          0.003816226286965172,
          0.0037284546108585295,
          0.0036421280588629997,
          0.003557255304059702,
          0.0034738436718169093,
          0.003391899149048469,
          0.003311426397438465,
          0.0032324287703734324,
          0.003154908333306711,
          0.0030788658872668608,
          0.0030043009952115275,
          0.0029312120109212837,
          0.0028595961101236292,
          0.002789449323536105,
          0.002720766571519256,
          0.002653541700034599,
          0.0025877675176098802,
          0.0025234358330238752,
          0.002460537493434669,
          0.0023990624226903176,
          0.002338999659576574,
          0.0022803373957752176,
          0.0022230630133257163,
          0.0021671631214046074,
          0.002112623592259061,
          0.0020594295961542525,
          0.0020075656352179626,
          0.001957015576089818,
          0.0019077626813068333,
          0.0018597896393808388,
          0.0018130785935467535,
          0.0017676111691838441,
          0.0017233684999335055,
          0.0016803312525584565,
          0.001638479650607066,
          0.0015977934969648249,
          0.001558252195390895,
          0.0015198347711520388,
          0.0014825198908784397,
          0.0014462858817761682,
          0.0014111107503390198,
          0.001376972200708179,
          0.001343847652831627,
          0.001311714260576467,
          0.0012805489299461965,
          0.0012503283375516815,
          0.0012210289494792113,
          0.0011926270406913662,
          0.0011650987150871328,
          0.0011384199263362702,
          0.001112566499590185,
          0.0010875141541569072,
          0.0010632385272122062,
          0.0010397151986019006,
          0.0010169197167727458,
          0.000994827625850674,
          0.0009734144938663756,
          0.0009526559421089015,
          0.0009325276755688246,
          0.0009130055144134454,
          0.0008940654264179305,
          0.0008756835602582783,
          0.0008578362795549865,
          0.0008405001975399427,
          0.0008236522122044094,
          0.0008072695417722138,
          0.0007913297603303598,
          0.0007758108334387896,
          0.0007606911535324377,
          0.0007459495749219279,
          0.0007315654481943266,
          0.0007175186538125567,
          0.0007037896347110046,
          0.0006903594276860911,
          0.0006772096933834635,
          0.0006643227446886005,
          0.0006516815733344099,
          0.0006392698745481377,
          0.000627072069570309
         ],
         "yaxis": "y"
        },
        {
         "legendgroup": "Edad",
         "marker": {
          "color": "rgb(31, 119, 180)",
          "symbol": "line-ns-open"
         },
         "mode": "markers",
         "name": "Edad",
         "showlegend": false,
         "type": "scatter",
         "x": [
          38,
          35,
          54,
          4,
          58,
          34,
          28,
          19,
          49,
          65,
          45,
          29,
          25,
          23,
          46,
          71,
          23,
          21,
          47,
          24,
          32.5,
          54,
          19,
          37,
          24,
          36.5,
          22,
          61,
          56,
          50,
          1,
          3,
          44,
          58,
          2,
          40,
          31,
          32,
          38,
          35,
          44,
          37,
          29,
          62,
          30,
          52,
          40,
          58,
          35,
          37,
          63,
          19,
          36,
          2,
          50,
          0.92,
          17,
          30,
          24,
          18,
          31,
          40,
          36,
          36,
          16,
          45.5,
          38,
          29,
          41,
          2,
          24,
          24,
          22,
          60,
          24,
          25,
          27,
          36,
          23,
          24,
          33,
          32,
          28,
          50,
          14,
          64,
          4,
          52,
          30,
          49,
          65,
          48,
          47,
          23,
          25,
          35,
          58,
          55,
          54,
          25,
          16,
          18,
          36,
          47,
          34,
          30,
          44,
          45,
          22,
          36,
          50,
          17,
          48,
          39,
          53,
          36,
          39,
          39,
          36,
          18,
          60,
          52,
          49,
          40,
          4,
          42,
          61,
          21,
          80,
          32,
          24,
          48,
          56,
          58,
          47,
          31,
          36,
          27,
          15,
          31,
          49,
          42,
          18,
          35,
          42,
          24,
          48,
          19,
          38,
          27,
          27,
          29,
          35,
          36,
          21,
          70,
          19,
          6,
          33,
          36,
          51,
          57,
          43,
          17,
          29,
          46,
          49,
          11,
          39,
          33,
          52,
          27,
          39,
          16,
          51,
          48,
          31,
          47,
          33,
          56,
          19,
          26
         ],
         "xaxis": "x",
         "y": [
          "Edad",
          "Edad",
          "Edad",
          "Edad",
          "Edad",
          "Edad",
          "Edad",
          "Edad",
          "Edad",
          "Edad",
          "Edad",
          "Edad",
          "Edad",
          "Edad",
          "Edad",
          "Edad",
          "Edad",
          "Edad",
          "Edad",
          "Edad",
          "Edad",
          "Edad",
          "Edad",
          "Edad",
          "Edad",
          "Edad",
          "Edad",
          "Edad",
          "Edad",
          "Edad",
          "Edad",
          "Edad",
          "Edad",
          "Edad",
          "Edad",
          "Edad",
          "Edad",
          "Edad",
          "Edad",
          "Edad",
          "Edad",
          "Edad",
          "Edad",
          "Edad",
          "Edad",
          "Edad",
          "Edad",
          "Edad",
          "Edad",
          "Edad",
          "Edad",
          "Edad",
          "Edad",
          "Edad",
          "Edad",
          "Edad",
          "Edad",
          "Edad",
          "Edad",
          "Edad",
          "Edad",
          "Edad",
          "Edad",
          "Edad",
          "Edad",
          "Edad",
          "Edad",
          "Edad",
          "Edad",
          "Edad",
          "Edad",
          "Edad",
          "Edad",
          "Edad",
          "Edad",
          "Edad",
          "Edad",
          "Edad",
          "Edad",
          "Edad",
          "Edad",
          "Edad",
          "Edad",
          "Edad",
          "Edad",
          "Edad",
          "Edad",
          "Edad",
          "Edad",
          "Edad",
          "Edad",
          "Edad",
          "Edad",
          "Edad",
          "Edad",
          "Edad",
          "Edad",
          "Edad",
          "Edad",
          "Edad",
          "Edad",
          "Edad",
          "Edad",
          "Edad",
          "Edad",
          "Edad",
          "Edad",
          "Edad",
          "Edad",
          "Edad",
          "Edad",
          "Edad",
          "Edad",
          "Edad",
          "Edad",
          "Edad",
          "Edad",
          "Edad",
          "Edad",
          "Edad",
          "Edad",
          "Edad",
          "Edad",
          "Edad",
          "Edad",
          "Edad",
          "Edad",
          "Edad",
          "Edad",
          "Edad",
          "Edad",
          "Edad",
          "Edad",
          "Edad",
          "Edad",
          "Edad",
          "Edad",
          "Edad",
          "Edad",
          "Edad",
          "Edad",
          "Edad",
          "Edad",
          "Edad",
          "Edad",
          "Edad",
          "Edad",
          "Edad",
          "Edad",
          "Edad",
          "Edad",
          "Edad",
          "Edad",
          "Edad",
          "Edad",
          "Edad",
          "Edad",
          "Edad",
          "Edad",
          "Edad",
          "Edad",
          "Edad",
          "Edad",
          "Edad",
          "Edad",
          "Edad",
          "Edad",
          "Edad",
          "Edad",
          "Edad",
          "Edad",
          "Edad",
          "Edad",
          "Edad",
          "Edad",
          "Edad",
          "Edad",
          "Edad",
          "Edad",
          "Edad",
          "Edad",
          "Edad"
         ],
         "yaxis": "y2"
        }
       ],
       "layout": {
        "barmode": "overlay",
        "hovermode": "closest",
        "legend": {
         "traceorder": "reversed"
        },
        "template": {
         "data": {
          "bar": [
           {
            "error_x": {
             "color": "#2a3f5f"
            },
            "error_y": {
             "color": "#2a3f5f"
            },
            "marker": {
             "line": {
              "color": "#E5ECF6",
              "width": 0.5
             },
             "pattern": {
              "fillmode": "overlay",
              "size": 10,
              "solidity": 0.2
             }
            },
            "type": "bar"
           }
          ],
          "barpolar": [
           {
            "marker": {
             "line": {
              "color": "#E5ECF6",
              "width": 0.5
             },
             "pattern": {
              "fillmode": "overlay",
              "size": 10,
              "solidity": 0.2
             }
            },
            "type": "barpolar"
           }
          ],
          "carpet": [
           {
            "aaxis": {
             "endlinecolor": "#2a3f5f",
             "gridcolor": "white",
             "linecolor": "white",
             "minorgridcolor": "white",
             "startlinecolor": "#2a3f5f"
            },
            "baxis": {
             "endlinecolor": "#2a3f5f",
             "gridcolor": "white",
             "linecolor": "white",
             "minorgridcolor": "white",
             "startlinecolor": "#2a3f5f"
            },
            "type": "carpet"
           }
          ],
          "choropleth": [
           {
            "colorbar": {
             "outlinewidth": 0,
             "ticks": ""
            },
            "type": "choropleth"
           }
          ],
          "contour": [
           {
            "colorbar": {
             "outlinewidth": 0,
             "ticks": ""
            },
            "colorscale": [
             [
              0,
              "#0d0887"
             ],
             [
              0.1111111111111111,
              "#46039f"
             ],
             [
              0.2222222222222222,
              "#7201a8"
             ],
             [
              0.3333333333333333,
              "#9c179e"
             ],
             [
              0.4444444444444444,
              "#bd3786"
             ],
             [
              0.5555555555555556,
              "#d8576b"
             ],
             [
              0.6666666666666666,
              "#ed7953"
             ],
             [
              0.7777777777777778,
              "#fb9f3a"
             ],
             [
              0.8888888888888888,
              "#fdca26"
             ],
             [
              1,
              "#f0f921"
             ]
            ],
            "type": "contour"
           }
          ],
          "contourcarpet": [
           {
            "colorbar": {
             "outlinewidth": 0,
             "ticks": ""
            },
            "type": "contourcarpet"
           }
          ],
          "heatmap": [
           {
            "colorbar": {
             "outlinewidth": 0,
             "ticks": ""
            },
            "colorscale": [
             [
              0,
              "#0d0887"
             ],
             [
              0.1111111111111111,
              "#46039f"
             ],
             [
              0.2222222222222222,
              "#7201a8"
             ],
             [
              0.3333333333333333,
              "#9c179e"
             ],
             [
              0.4444444444444444,
              "#bd3786"
             ],
             [
              0.5555555555555556,
              "#d8576b"
             ],
             [
              0.6666666666666666,
              "#ed7953"
             ],
             [
              0.7777777777777778,
              "#fb9f3a"
             ],
             [
              0.8888888888888888,
              "#fdca26"
             ],
             [
              1,
              "#f0f921"
             ]
            ],
            "type": "heatmap"
           }
          ],
          "heatmapgl": [
           {
            "colorbar": {
             "outlinewidth": 0,
             "ticks": ""
            },
            "colorscale": [
             [
              0,
              "#0d0887"
             ],
             [
              0.1111111111111111,
              "#46039f"
             ],
             [
              0.2222222222222222,
              "#7201a8"
             ],
             [
              0.3333333333333333,
              "#9c179e"
             ],
             [
              0.4444444444444444,
              "#bd3786"
             ],
             [
              0.5555555555555556,
              "#d8576b"
             ],
             [
              0.6666666666666666,
              "#ed7953"
             ],
             [
              0.7777777777777778,
              "#fb9f3a"
             ],
             [
              0.8888888888888888,
              "#fdca26"
             ],
             [
              1,
              "#f0f921"
             ]
            ],
            "type": "heatmapgl"
           }
          ],
          "histogram": [
           {
            "marker": {
             "pattern": {
              "fillmode": "overlay",
              "size": 10,
              "solidity": 0.2
             }
            },
            "type": "histogram"
           }
          ],
          "histogram2d": [
           {
            "colorbar": {
             "outlinewidth": 0,
             "ticks": ""
            },
            "colorscale": [
             [
              0,
              "#0d0887"
             ],
             [
              0.1111111111111111,
              "#46039f"
             ],
             [
              0.2222222222222222,
              "#7201a8"
             ],
             [
              0.3333333333333333,
              "#9c179e"
             ],
             [
              0.4444444444444444,
              "#bd3786"
             ],
             [
              0.5555555555555556,
              "#d8576b"
             ],
             [
              0.6666666666666666,
              "#ed7953"
             ],
             [
              0.7777777777777778,
              "#fb9f3a"
             ],
             [
              0.8888888888888888,
              "#fdca26"
             ],
             [
              1,
              "#f0f921"
             ]
            ],
            "type": "histogram2d"
           }
          ],
          "histogram2dcontour": [
           {
            "colorbar": {
             "outlinewidth": 0,
             "ticks": ""
            },
            "colorscale": [
             [
              0,
              "#0d0887"
             ],
             [
              0.1111111111111111,
              "#46039f"
             ],
             [
              0.2222222222222222,
              "#7201a8"
             ],
             [
              0.3333333333333333,
              "#9c179e"
             ],
             [
              0.4444444444444444,
              "#bd3786"
             ],
             [
              0.5555555555555556,
              "#d8576b"
             ],
             [
              0.6666666666666666,
              "#ed7953"
             ],
             [
              0.7777777777777778,
              "#fb9f3a"
             ],
             [
              0.8888888888888888,
              "#fdca26"
             ],
             [
              1,
              "#f0f921"
             ]
            ],
            "type": "histogram2dcontour"
           }
          ],
          "mesh3d": [
           {
            "colorbar": {
             "outlinewidth": 0,
             "ticks": ""
            },
            "type": "mesh3d"
           }
          ],
          "parcoords": [
           {
            "line": {
             "colorbar": {
              "outlinewidth": 0,
              "ticks": ""
             }
            },
            "type": "parcoords"
           }
          ],
          "pie": [
           {
            "automargin": true,
            "type": "pie"
           }
          ],
          "scatter": [
           {
            "fillpattern": {
             "fillmode": "overlay",
             "size": 10,
             "solidity": 0.2
            },
            "type": "scatter"
           }
          ],
          "scatter3d": [
           {
            "line": {
             "colorbar": {
              "outlinewidth": 0,
              "ticks": ""
             }
            },
            "marker": {
             "colorbar": {
              "outlinewidth": 0,
              "ticks": ""
             }
            },
            "type": "scatter3d"
           }
          ],
          "scattercarpet": [
           {
            "marker": {
             "colorbar": {
              "outlinewidth": 0,
              "ticks": ""
             }
            },
            "type": "scattercarpet"
           }
          ],
          "scattergeo": [
           {
            "marker": {
             "colorbar": {
              "outlinewidth": 0,
              "ticks": ""
             }
            },
            "type": "scattergeo"
           }
          ],
          "scattergl": [
           {
            "marker": {
             "colorbar": {
              "outlinewidth": 0,
              "ticks": ""
             }
            },
            "type": "scattergl"
           }
          ],
          "scattermapbox": [
           {
            "marker": {
             "colorbar": {
              "outlinewidth": 0,
              "ticks": ""
             }
            },
            "type": "scattermapbox"
           }
          ],
          "scatterpolar": [
           {
            "marker": {
             "colorbar": {
              "outlinewidth": 0,
              "ticks": ""
             }
            },
            "type": "scatterpolar"
           }
          ],
          "scatterpolargl": [
           {
            "marker": {
             "colorbar": {
              "outlinewidth": 0,
              "ticks": ""
             }
            },
            "type": "scatterpolargl"
           }
          ],
          "scatterternary": [
           {
            "marker": {
             "colorbar": {
              "outlinewidth": 0,
              "ticks": ""
             }
            },
            "type": "scatterternary"
           }
          ],
          "surface": [
           {
            "colorbar": {
             "outlinewidth": 0,
             "ticks": ""
            },
            "colorscale": [
             [
              0,
              "#0d0887"
             ],
             [
              0.1111111111111111,
              "#46039f"
             ],
             [
              0.2222222222222222,
              "#7201a8"
             ],
             [
              0.3333333333333333,
              "#9c179e"
             ],
             [
              0.4444444444444444,
              "#bd3786"
             ],
             [
              0.5555555555555556,
              "#d8576b"
             ],
             [
              0.6666666666666666,
              "#ed7953"
             ],
             [
              0.7777777777777778,
              "#fb9f3a"
             ],
             [
              0.8888888888888888,
              "#fdca26"
             ],
             [
              1,
              "#f0f921"
             ]
            ],
            "type": "surface"
           }
          ],
          "table": [
           {
            "cells": {
             "fill": {
              "color": "#EBF0F8"
             },
             "line": {
              "color": "white"
             }
            },
            "header": {
             "fill": {
              "color": "#C8D4E3"
             },
             "line": {
              "color": "white"
             }
            },
            "type": "table"
           }
          ]
         },
         "layout": {
          "annotationdefaults": {
           "arrowcolor": "#2a3f5f",
           "arrowhead": 0,
           "arrowwidth": 1
          },
          "autotypenumbers": "strict",
          "coloraxis": {
           "colorbar": {
            "outlinewidth": 0,
            "ticks": ""
           }
          },
          "colorscale": {
           "diverging": [
            [
             0,
             "#8e0152"
            ],
            [
             0.1,
             "#c51b7d"
            ],
            [
             0.2,
             "#de77ae"
            ],
            [
             0.3,
             "#f1b6da"
            ],
            [
             0.4,
             "#fde0ef"
            ],
            [
             0.5,
             "#f7f7f7"
            ],
            [
             0.6,
             "#e6f5d0"
            ],
            [
             0.7,
             "#b8e186"
            ],
            [
             0.8,
             "#7fbc41"
            ],
            [
             0.9,
             "#4d9221"
            ],
            [
             1,
             "#276419"
            ]
           ],
           "sequential": [
            [
             0,
             "#0d0887"
            ],
            [
             0.1111111111111111,
             "#46039f"
            ],
            [
             0.2222222222222222,
             "#7201a8"
            ],
            [
             0.3333333333333333,
             "#9c179e"
            ],
            [
             0.4444444444444444,
             "#bd3786"
            ],
            [
             0.5555555555555556,
             "#d8576b"
            ],
            [
             0.6666666666666666,
             "#ed7953"
            ],
            [
             0.7777777777777778,
             "#fb9f3a"
            ],
            [
             0.8888888888888888,
             "#fdca26"
            ],
            [
             1,
             "#f0f921"
            ]
           ],
           "sequentialminus": [
            [
             0,
             "#0d0887"
            ],
            [
             0.1111111111111111,
             "#46039f"
            ],
            [
             0.2222222222222222,
             "#7201a8"
            ],
            [
             0.3333333333333333,
             "#9c179e"
            ],
            [
             0.4444444444444444,
             "#bd3786"
            ],
            [
             0.5555555555555556,
             "#d8576b"
            ],
            [
             0.6666666666666666,
             "#ed7953"
            ],
            [
             0.7777777777777778,
             "#fb9f3a"
            ],
            [
             0.8888888888888888,
             "#fdca26"
            ],
            [
             1,
             "#f0f921"
            ]
           ]
          },
          "colorway": [
           "#636efa",
           "#EF553B",
           "#00cc96",
           "#ab63fa",
           "#FFA15A",
           "#19d3f3",
           "#FF6692",
           "#B6E880",
           "#FF97FF",
           "#FECB52"
          ],
          "font": {
           "color": "#2a3f5f"
          },
          "geo": {
           "bgcolor": "white",
           "lakecolor": "white",
           "landcolor": "#E5ECF6",
           "showlakes": true,
           "showland": true,
           "subunitcolor": "white"
          },
          "hoverlabel": {
           "align": "left"
          },
          "hovermode": "closest",
          "mapbox": {
           "style": "light"
          },
          "paper_bgcolor": "white",
          "plot_bgcolor": "#E5ECF6",
          "polar": {
           "angularaxis": {
            "gridcolor": "white",
            "linecolor": "white",
            "ticks": ""
           },
           "bgcolor": "#E5ECF6",
           "radialaxis": {
            "gridcolor": "white",
            "linecolor": "white",
            "ticks": ""
           }
          },
          "scene": {
           "xaxis": {
            "backgroundcolor": "#E5ECF6",
            "gridcolor": "white",
            "gridwidth": 2,
            "linecolor": "white",
            "showbackground": true,
            "ticks": "",
            "zerolinecolor": "white"
           },
           "yaxis": {
            "backgroundcolor": "#E5ECF6",
            "gridcolor": "white",
            "gridwidth": 2,
            "linecolor": "white",
            "showbackground": true,
            "ticks": "",
            "zerolinecolor": "white"
           },
           "zaxis": {
            "backgroundcolor": "#E5ECF6",
            "gridcolor": "white",
            "gridwidth": 2,
            "linecolor": "white",
            "showbackground": true,
            "ticks": "",
            "zerolinecolor": "white"
           }
          },
          "shapedefaults": {
           "line": {
            "color": "#2a3f5f"
           }
          },
          "ternary": {
           "aaxis": {
            "gridcolor": "white",
            "linecolor": "white",
            "ticks": ""
           },
           "baxis": {
            "gridcolor": "white",
            "linecolor": "white",
            "ticks": ""
           },
           "bgcolor": "#E5ECF6",
           "caxis": {
            "gridcolor": "white",
            "linecolor": "white",
            "ticks": ""
           }
          },
          "title": {
           "x": 0.05
          },
          "xaxis": {
           "automargin": true,
           "gridcolor": "white",
           "linecolor": "white",
           "ticks": "",
           "title": {
            "standoff": 15
           },
           "zerolinecolor": "white",
           "zerolinewidth": 2
          },
          "yaxis": {
           "automargin": true,
           "gridcolor": "white",
           "linecolor": "white",
           "ticks": "",
           "title": {
            "standoff": 15
           },
           "zerolinecolor": "white",
           "zerolinewidth": 2
          }
         }
        },
        "xaxis": {
         "anchor": "y2",
         "domain": [
          0,
          1
         ],
         "zeroline": false
        },
        "yaxis": {
         "anchor": "free",
         "domain": [
          0.35,
          1
         ],
         "position": 0
        },
        "yaxis2": {
         "anchor": "x",
         "domain": [
          0,
          0.25
         ],
         "dtick": 1,
         "showticklabels": false
        }
       }
      }
     },
     "metadata": {},
     "output_type": "display_data"
    }
   ],
   "source": [
    "# Creating a distribution plot using Plotly's 'create_distplot' function\n",
    "fig = ff.create_distplot(hist_data, labels)\n",
    "\n",
    "# Displaying the created distribution plot\n",
    "fig.show()"
   ]
  },
  {
   "cell_type": "code",
   "execution_count": 24,
   "id": "superb-target",
   "metadata": {},
   "outputs": [
    {
     "data": {
      "application/vnd.plotly.v1+json": {
       "config": {
        "plotlyServerURL": "https://plot.ly"
       },
       "data": [
        {
         "autobinx": false,
         "histnorm": "probability density",
         "legendgroup": "bill_length_mm",
         "marker": {
          "color": "rgb(31, 119, 180)"
         },
         "name": "bill_length_mm",
         "opacity": 0.7,
         "type": "histogram",
         "x": [
          39.1,
          39.5,
          40.3,
          36.7,
          39.3,
          38.9,
          39.2,
          41.1,
          38.6,
          34.6,
          36.6,
          38.7,
          42.5,
          34.4,
          46,
          37.8,
          37.7,
          35.9,
          38.2,
          38.8,
          35.3,
          40.6,
          40.5,
          37.9,
          40.5,
          39.5,
          37.2,
          39.5,
          40.9,
          36.4,
          39.2,
          38.8,
          42.2,
          37.6,
          39.8,
          36.5,
          40.8,
          36,
          44.1,
          37,
          39.6,
          41.1,
          36,
          42.3,
          39.6,
          40.1,
          35,
          42,
          34.5,
          41.4,
          39,
          40.6,
          36.5,
          37.6,
          35.7,
          41.3,
          37.6,
          41.1,
          36.4,
          41.6,
          35.5,
          41.1,
          35.9,
          41.8,
          33.5,
          39.7,
          39.6,
          45.8,
          35.5,
          42.8,
          40.9,
          37.2,
          36.2,
          42.1,
          34.6,
          42.9,
          36.7,
          35.1,
          37.3,
          41.3,
          36.3,
          36.9,
          38.3,
          38.9,
          35.7,
          41.1,
          34,
          39.6,
          36.2,
          40.8,
          38.1,
          40.3,
          33.1,
          43.2,
          35,
          41,
          37.7,
          37.8,
          37.9,
          39.7,
          38.6,
          38.2,
          38.1,
          43.2,
          38.1,
          45.6,
          39.7,
          42.2,
          39.6,
          42.7,
          38.6,
          37.3,
          35.7,
          41.1,
          36.2,
          37.7,
          40.2,
          41.4,
          35.2,
          40.6,
          38.8,
          41.5,
          39,
          44.1,
          38.5,
          43.1,
          36.8,
          37.5,
          38.1,
          41.1,
          35.6,
          40.2,
          37,
          39.7,
          40.2,
          40.6,
          32.1,
          40.7,
          37.3,
          39,
          39.2,
          36.6,
          36,
          37.8,
          36,
          41.5,
          46.5,
          50,
          51.3,
          45.4,
          52.7,
          45.2,
          46.1,
          51.3,
          46,
          51.3,
          46.6,
          51.7,
          47,
          52,
          45.9,
          50.5,
          50.3,
          58,
          46.4,
          49.2,
          42.4,
          48.5,
          43.2,
          50.6,
          46.7,
          52,
          50.5,
          49.5,
          46.4,
          52.8,
          40.9,
          54.2,
          42.5,
          51,
          49.7,
          47.5,
          47.6,
          52,
          46.9,
          53.5,
          49,
          46.2,
          50.9,
          45.5,
          50.9,
          50.8,
          50.1,
          49,
          51.5,
          49.8,
          48.1,
          51.4,
          45.7,
          50.7,
          42.5,
          52.2,
          45.2,
          49.3,
          50.2,
          45.6,
          51.9,
          46.8,
          45.7,
          55.8,
          43.5,
          49.6,
          50.8,
          50.2,
          46.1,
          50,
          48.7,
          50,
          47.6,
          46.5,
          45.4,
          46.7,
          43.3,
          46.8,
          40.9,
          49,
          45.5,
          48.4,
          45.8,
          49.3,
          42,
          49.2,
          46.2,
          48.7,
          50.2,
          45.1,
          46.5,
          46.3,
          42.9,
          46.1,
          47.8,
          48.2,
          50,
          47.3,
          42.8,
          45.1,
          59.6,
          49.1,
          48.4,
          42.6,
          44.4,
          44,
          48.7,
          42.7,
          49.6,
          45.3,
          49.6,
          50.5,
          43.6,
          45.5,
          50.5,
          44.9,
          45.2,
          46.6,
          48.5,
          45.1,
          50.1,
          46.5,
          45,
          43.8,
          45.5,
          43.2,
          50.4,
          45.3,
          46.2,
          45.7,
          54.3,
          45.8,
          49.8,
          49.5,
          43.5,
          50.7,
          47.7,
          46.4,
          48.2,
          46.5,
          46.4,
          48.6,
          47.5,
          51.1,
          45.2,
          45.2,
          49.1,
          52.5,
          47.4,
          50,
          44.9,
          50.8,
          43.4,
          51.3,
          47.5,
          52.1,
          47.5,
          52.2,
          45.5,
          49.5,
          44.5,
          50.8,
          49.4,
          46.9,
          48.4,
          51.1,
          48.5,
          55.9,
          47.2,
          49.1,
          46.8,
          41.7,
          53.4,
          43.3,
          48.1,
          50.5,
          49.8,
          43.5,
          51.5,
          46.2,
          55.1,
          48.8,
          47.2,
          46.8,
          50.4,
          45.2,
          49.9
         ],
         "xaxis": "x",
         "xbins": {
          "end": 59.6,
          "size": 1,
          "start": 32.1
         },
         "yaxis": "y"
        },
        {
         "autobinx": false,
         "histnorm": "probability density",
         "legendgroup": "bill_depth_mm",
         "marker": {
          "color": "rgb(255, 127, 14)"
         },
         "name": "bill_depth_mm",
         "opacity": 0.7,
         "type": "histogram",
         "x": [
          18.7,
          17.4,
          18,
          19.3,
          20.6,
          17.8,
          19.6,
          17.6,
          21.2,
          21.1,
          17.8,
          19,
          20.7,
          18.4,
          21.5,
          18.3,
          18.7,
          19.2,
          18.1,
          17.2,
          18.9,
          18.6,
          17.9,
          18.6,
          18.9,
          16.7,
          18.1,
          17.8,
          18.9,
          17,
          21.1,
          20,
          18.5,
          19.3,
          19.1,
          18,
          18.4,
          18.5,
          19.7,
          16.9,
          18.8,
          19,
          17.9,
          21.2,
          17.7,
          18.9,
          17.9,
          19.5,
          18.1,
          18.6,
          17.5,
          18.8,
          16.6,
          19.1,
          16.9,
          21.1,
          17,
          18.2,
          17.1,
          18,
          16.2,
          19.1,
          16.6,
          19.4,
          19,
          18.4,
          17.2,
          18.9,
          17.5,
          18.5,
          16.8,
          19.4,
          16.1,
          19.1,
          17.2,
          17.6,
          18.8,
          19.4,
          17.8,
          20.3,
          19.5,
          18.6,
          19.2,
          18.8,
          18,
          18.1,
          17.1,
          18.1,
          17.3,
          18.9,
          18.6,
          18.5,
          16.1,
          18.5,
          17.9,
          20,
          16,
          20,
          18.6,
          18.9,
          17.2,
          20,
          17,
          19,
          16.5,
          20.3,
          17.7,
          19.5,
          20.7,
          18.3,
          17,
          20.5,
          17,
          18.6,
          17.2,
          19.8,
          17,
          18.5,
          15.9,
          19,
          17.6,
          18.3,
          17.1,
          18,
          17.9,
          19.2,
          18.5,
          18.5,
          17.6,
          17.5,
          17.5,
          20.1,
          16.5,
          17.9,
          17.1,
          17.2,
          15.5,
          17,
          16.8,
          18.7,
          18.6,
          18.4,
          17.8,
          18.1,
          17.1,
          18.5,
          17.9,
          19.5,
          19.2,
          18.7,
          19.8,
          17.8,
          18.2,
          18.2,
          18.9,
          19.9,
          17.8,
          20.3,
          17.3,
          18.1,
          17.1,
          19.6,
          20,
          17.8,
          18.6,
          18.2,
          17.3,
          17.5,
          16.6,
          19.4,
          17.9,
          19,
          18.4,
          19,
          17.8,
          20,
          16.6,
          20.8,
          16.7,
          18.8,
          18.6,
          16.8,
          18.3,
          20.7,
          16.6,
          19.9,
          19.5,
          17.5,
          19.1,
          17,
          17.9,
          18.5,
          17.9,
          19.6,
          18.7,
          17.3,
          16.4,
          19,
          17.3,
          19.7,
          17.3,
          18.8,
          16.6,
          19.9,
          18.8,
          19.4,
          19.5,
          16.5,
          17,
          19.8,
          18.1,
          18.2,
          19,
          18.7,
          13.2,
          16.3,
          14.1,
          15.2,
          14.5,
          13.5,
          14.6,
          15.3,
          13.4,
          15.4,
          13.7,
          16.1,
          13.7,
          14.6,
          14.6,
          15.7,
          13.5,
          15.2,
          14.5,
          15.1,
          14.3,
          14.5,
          14.5,
          15.8,
          13.1,
          15.1,
          15,
          14.3,
          15.3,
          15.3,
          14.2,
          14.5,
          17,
          14.8,
          16.3,
          13.7,
          17.3,
          13.6,
          15.7,
          13.7,
          16,
          13.7,
          15,
          15.9,
          13.9,
          13.9,
          15.9,
          13.3,
          15.8,
          14.2,
          14.1,
          14.4,
          15,
          14.4,
          15.4,
          13.9,
          15,
          14.5,
          15.3,
          13.8,
          14.9,
          13.9,
          15.7,
          14.2,
          16.8,
          16.2,
          14.2,
          15,
          15,
          15.6,
          15.6,
          14.8,
          15,
          16,
          14.2,
          16.3,
          13.8,
          16.4,
          14.5,
          15.6,
          14.6,
          15.9,
          13.8,
          17.3,
          14.4,
          14.2,
          14,
          17,
          15,
          17.1,
          14.5,
          16.1,
          14.7,
          15.7,
          15.8,
          14.6,
          14.4,
          16.5,
          15,
          17,
          15.5,
          15,
          16.1,
          14.7,
          15.8,
          14,
          15.1,
          15.2,
          15.9,
          15.2,
          16.3,
          14.1,
          16,
          16.2,
          13.7,
          14.3,
          15.7,
          14.8,
          16.1
         ],
         "xaxis": "x",
         "xbins": {
          "end": 21.5,
          "size": 1,
          "start": 13.1
         },
         "yaxis": "y"
        },
        {
         "legendgroup": "bill_length_mm",
         "marker": {
          "color": "rgb(31, 119, 180)"
         },
         "mode": "lines",
         "name": "bill_length_mm",
         "showlegend": false,
         "type": "scatter",
         "x": [
          32.1,
          32.155,
          32.21,
          32.265,
          32.32,
          32.375,
          32.43,
          32.485,
          32.54,
          32.595,
          32.65,
          32.705,
          32.76,
          32.815000000000005,
          32.870000000000005,
          32.925000000000004,
          32.980000000000004,
          33.035000000000004,
          33.09,
          33.145,
          33.2,
          33.255,
          33.31,
          33.365,
          33.42,
          33.475,
          33.53,
          33.585,
          33.64,
          33.695,
          33.75,
          33.805,
          33.86,
          33.915,
          33.97,
          34.025,
          34.08,
          34.135000000000005,
          34.19,
          34.245000000000005,
          34.300000000000004,
          34.355000000000004,
          34.410000000000004,
          34.465,
          34.52,
          34.575,
          34.63,
          34.685,
          34.74,
          34.795,
          34.85,
          34.905,
          34.96,
          35.015,
          35.07,
          35.125,
          35.18,
          35.235,
          35.29,
          35.345,
          35.4,
          35.455,
          35.510000000000005,
          35.565,
          35.620000000000005,
          35.675000000000004,
          35.730000000000004,
          35.785000000000004,
          35.84,
          35.895,
          35.95,
          36.005,
          36.06,
          36.115,
          36.17,
          36.225,
          36.28,
          36.335,
          36.39,
          36.445,
          36.5,
          36.555,
          36.61,
          36.665,
          36.72,
          36.775,
          36.83,
          36.885000000000005,
          36.94,
          36.995000000000005,
          37.050000000000004,
          37.105000000000004,
          37.160000000000004,
          37.215,
          37.27,
          37.325,
          37.38,
          37.435,
          37.49,
          37.545,
          37.6,
          37.655,
          37.71,
          37.765,
          37.82,
          37.875,
          37.93,
          37.985,
          38.04,
          38.095,
          38.15,
          38.205,
          38.260000000000005,
          38.315,
          38.370000000000005,
          38.425000000000004,
          38.480000000000004,
          38.535000000000004,
          38.59,
          38.645,
          38.7,
          38.755,
          38.81,
          38.865,
          38.92,
          38.975,
          39.03,
          39.085,
          39.14,
          39.195,
          39.25,
          39.305,
          39.36,
          39.415,
          39.47,
          39.525,
          39.58,
          39.635000000000005,
          39.69,
          39.745000000000005,
          39.800000000000004,
          39.855000000000004,
          39.910000000000004,
          39.965,
          40.02,
          40.075,
          40.13,
          40.185,
          40.24,
          40.295,
          40.35,
          40.405,
          40.46,
          40.515,
          40.57,
          40.625,
          40.68,
          40.735,
          40.79,
          40.845,
          40.900000000000006,
          40.955,
          41.010000000000005,
          41.065,
          41.120000000000005,
          41.175,
          41.230000000000004,
          41.285000000000004,
          41.34,
          41.395,
          41.45,
          41.505,
          41.56,
          41.615,
          41.67,
          41.725,
          41.78,
          41.835,
          41.89,
          41.945,
          42,
          42.055,
          42.11,
          42.165,
          42.22,
          42.275000000000006,
          42.33,
          42.385000000000005,
          42.44,
          42.495000000000005,
          42.55,
          42.605000000000004,
          42.660000000000004,
          42.715,
          42.77,
          42.825,
          42.88,
          42.935,
          42.99,
          43.045,
          43.1,
          43.155,
          43.21,
          43.265,
          43.32,
          43.375,
          43.43,
          43.485,
          43.54,
          43.595,
          43.650000000000006,
          43.705,
          43.760000000000005,
          43.815,
          43.870000000000005,
          43.925,
          43.980000000000004,
          44.035000000000004,
          44.09,
          44.145,
          44.2,
          44.255,
          44.31,
          44.365,
          44.42,
          44.475,
          44.53,
          44.585,
          44.64,
          44.695,
          44.75,
          44.805,
          44.86,
          44.915,
          44.97,
          45.025000000000006,
          45.08,
          45.135000000000005,
          45.19,
          45.245000000000005,
          45.3,
          45.355000000000004,
          45.410000000000004,
          45.465,
          45.52,
          45.575,
          45.63,
          45.685,
          45.74,
          45.795,
          45.85,
          45.905,
          45.96,
          46.015,
          46.07,
          46.125,
          46.18,
          46.235,
          46.29,
          46.345,
          46.400000000000006,
          46.455,
          46.510000000000005,
          46.565,
          46.620000000000005,
          46.675,
          46.730000000000004,
          46.785000000000004,
          46.84,
          46.895,
          46.95,
          47.005,
          47.06,
          47.115,
          47.17,
          47.225,
          47.28,
          47.335,
          47.39,
          47.445,
          47.5,
          47.555,
          47.61,
          47.665,
          47.72,
          47.775000000000006,
          47.83,
          47.885000000000005,
          47.94,
          47.995000000000005,
          48.05,
          48.105000000000004,
          48.16,
          48.215,
          48.27,
          48.325,
          48.38,
          48.435,
          48.49,
          48.545,
          48.6,
          48.655,
          48.71,
          48.765,
          48.82,
          48.875,
          48.93,
          48.985,
          49.040000000000006,
          49.095,
          49.150000000000006,
          49.205,
          49.260000000000005,
          49.315,
          49.370000000000005,
          49.425,
          49.480000000000004,
          49.535,
          49.59,
          49.645,
          49.7,
          49.755,
          49.81,
          49.865,
          49.92,
          49.975,
          50.03,
          50.085,
          50.14,
          50.195,
          50.25,
          50.305,
          50.36,
          50.415000000000006,
          50.47,
          50.525000000000006,
          50.58,
          50.635000000000005,
          50.69,
          50.745000000000005,
          50.8,
          50.855000000000004,
          50.91,
          50.965,
          51.02,
          51.075,
          51.13,
          51.185,
          51.24,
          51.295,
          51.35,
          51.405,
          51.46,
          51.515,
          51.57,
          51.625,
          51.68,
          51.735,
          51.790000000000006,
          51.845,
          51.900000000000006,
          51.955,
          52.010000000000005,
          52.065,
          52.120000000000005,
          52.175,
          52.230000000000004,
          52.285,
          52.34,
          52.395,
          52.45,
          52.505,
          52.56,
          52.615,
          52.67,
          52.725,
          52.78,
          52.835,
          52.89,
          52.945,
          53,
          53.055,
          53.11,
          53.165000000000006,
          53.22,
          53.275000000000006,
          53.33,
          53.385000000000005,
          53.44,
          53.495000000000005,
          53.55,
          53.605000000000004,
          53.66,
          53.715,
          53.77,
          53.825,
          53.88,
          53.935,
          53.99,
          54.045,
          54.1,
          54.155,
          54.21,
          54.265,
          54.32,
          54.375,
          54.43,
          54.485,
          54.540000000000006,
          54.595,
          54.650000000000006,
          54.705,
          54.760000000000005,
          54.815,
          54.870000000000005,
          54.925,
          54.980000000000004,
          55.035,
          55.09,
          55.145,
          55.2,
          55.255,
          55.31,
          55.365,
          55.42,
          55.475,
          55.53,
          55.585,
          55.64,
          55.695,
          55.75,
          55.805,
          55.86,
          55.915000000000006,
          55.97,
          56.025000000000006,
          56.08,
          56.135000000000005,
          56.19,
          56.245000000000005,
          56.3,
          56.355000000000004,
          56.41,
          56.465,
          56.52,
          56.575,
          56.63,
          56.685,
          56.74,
          56.795,
          56.85,
          56.905,
          56.96,
          57.015,
          57.07,
          57.125,
          57.18,
          57.235,
          57.290000000000006,
          57.345,
          57.400000000000006,
          57.455,
          57.510000000000005,
          57.565,
          57.620000000000005,
          57.675,
          57.730000000000004,
          57.785,
          57.84,
          57.895,
          57.95,
          58.005,
          58.06,
          58.115,
          58.17,
          58.225,
          58.28,
          58.335,
          58.39,
          58.445,
          58.5,
          58.555,
          58.61,
          58.665000000000006,
          58.72,
          58.775000000000006,
          58.83,
          58.885000000000005,
          58.94,
          58.995000000000005,
          59.05,
          59.105000000000004,
          59.16,
          59.215,
          59.27,
          59.325,
          59.38,
          59.435,
          59.49,
          59.545
         ],
         "xaxis": "x",
         "y": [
          0.005268812125360447,
          0.005498721371220132,
          0.0057365086339376,
          0.005982327764208028,
          0.0062363280052668175,
          0.006498653370695575,
          0.0067694420061057805,
          0.0070488255370267155,
          0.007336928405540056,
          0.007633867198410204,
          0.007939749969657116,
          0.008254675560704215,
          0.00857873292140609,
          0.008912000435417294,
          0.009254545253500782,
          0.009606422638495713,
          0.009967675325759281,
          0.01033833290297277,
          0.010718411213250964,
          0.011107911785517743,
          0.011506821296105646,
          0.011915111065505671,
          0.012332736594130698,
          0.012759637140865658,
          0.01319573534805345,
          0.013640936916416501,
          0.014095130333228824,
          0.014558186656842768,
          0.0150299593604343,
          0.015510284237560144,
          0.015998979371825994,
          0.016495845172643978,
          0.017000664478712846,
          0.017513202730490167,
          0.01803320821254065,
          0.01856041236624546,
          0.019094530172942183,
          0.019635260607141013,
          0.02018228715903091,
          0.020735278425053724,
          0.02129388876488462,
          0.021857759022727765,
          0.022426517310403127,
          0.022999779849286032,
          0.023577151867752895,
          0.024158228550401978,
          0.024742596034947273,
          0.02532983245234059,
          0.025919509005358804,
          0.026511191080605276,
          0.02710443938861767,
          0.027698811126553334,
          0.02829386115773905,
          0.0288891432022247,
          0.029484211032375935,
          0.030078619667476044,
          0.030671926561283747,
          0.0312636927765151,
          0.03185348414028057,
          0.032440872374611865,
          0.033025436196362536,
          0.03360676238095093,
          0.03418444678464129,
          0.034758095320324055,
          0.03532732488205228,
          0.035891764213922,
          0.036451054719249365,
          0.03700485120638005,
          0.03755282256788033,
          0.0380946523902903,
          0.03863003949206677,
          0.039158698387804614,
          0.03968035967729449,
          0.04019477035844908,
          0.0407016940636069,
          0.041200911219194475,
          0.04169221912919735,
          0.042175431983343996,
          0.04265038079135352,
          0.04311691324502559,
          0.04357489351035658,
          0.044024201952252505,
          0.0444647347947717,
          0.04489640372016015,
          0.04531913541025012,
          0.04573287103406505,
          0.046137565685713866,
          0.04653318777687211,
          0.046919718388316135,
          0.04729715058512594,
          0.04766548870027172,
          0.04802474759138457,
          0.048374951875544546,
          0.04871613514693691,
          0.04904833918220234,
          0.049371613138260814,
          0.049686012747312984,
          0.04999159951361457,
          0.05028843991650014,
          0.050576604623978345,
          0.05085616772105706,
          0.051127205956765,
          0.05138979801364176,
          0.05164402380324704,
          0.05188996379102005,
          0.052127698353577764,
          0.05235730717130406,
          0.052578868658833704,
          0.05279245943577987,
          0.052998153839807896,
          0.05319602348389786,
          0.05338613685939464,
          0.05356855898618765,
          0.05374335111112372,
          0.05391057045550863,
          0.05407027001232226,
          0.054222498393542234,
          0.05436729972774128,
          0.05450471360791596,
          0.054634775089288545,
          0.05475751473662544,
          0.05487295872041597,
          0.05498112896107751,
          0.055082043320162165,
          0.05517571583737915,
          0.05526215701207207,
          0.05534137412764215,
          0.05541337161725231,
          0.05547815146900632,
          0.05553571366865949,
          0.05558605667779209,
          0.055629177945247264,
          0.0556650744495293,
          0.05569374326973923,
          0.05571518218253136,
          0.05572939028247416,
          0.05573636862311421,
          0.05573612087595813,
          0.055728654004515876,
          0.05571397895048309,
          0.05569211132907635,
          0.05566307213048853,
          0.05562688842438474,
          0.055583594064320146,
          0.05553323038893595,
          0.05547584691676213,
          0.05541150203144313,
          0.055340263654195226,
          0.055262209900300535,
          0.055177429716449136,
          0.05508602349575376,
          0.0549881036672758,
          0.05488379525693167,
          0.05477323641667066,
          0.05465657891885509,
          0.054533988612814194,
          0.05440564584058329,
          0.05427174580889518,
          0.05413249891454252,
          0.05398813102028878,
          0.0538388836785734,
          0.053685014300321354,
          0.05352679626624849,
          0.053364518978130736,
          0.05319848784759754,
          0.05302902422010598,
          0.05285646523185346,
          0.05268116359751072,
          0.0525034873267743,
          0.05232381936788521,
          0.0521425571764097,
          0.051960112207750805,
          0.05177690933204679,
          0.05159338617032041,
          0.051409992350969165,
          0.05122718868594325,
          0.051045446266227895,
          0.05086524547655252,
          0.05068707492957567,
          0.05051143032015251,
          0.0503388132006754,
          0.05016972967889115,
          0.05000468904004527,
          0.04984420229566761,
          0.049688780661817526,
          0.0495389339701274,
          0.0493951690155289,
          0.0492579878451182,
          0.049127885993195806,
          0.0490053506681224,
          0.04889085889723301,
          0.04878487563667045,
          0.048687851853606225,
          0.04860022258892416,
          0.048522405009028796,
          0.04845479645601412,
          0.048397772505967426,
          0.04835168504568951,
          0.04831686037857774,
          0.048293597370830006,
          0.04828216564948125,
          0.04828280386407445,
          0.048295718023981395,
          0.04832107992352315,
          0.048359025667089856,
          0.048409654306411275,
          0.048473026601988836,
          0.0485491639204532,
          0.04863804727925945,
          0.04873961654966973,
          0.04885376982840584,
          0.04898036298766588,
          0.049119209412414516,
          0.04927007993294763,
          0.04943270295973569,
          0.04960676482643621,
          0.04979191034577239,
          0.049987743581682835,
          0.050193828839782434,
          0.050409691876737335,
          0.05063482132766028,
          0.05086867034908881,
          0.05111065847353048,
          0.05136017366995566,
          0.05161657460301164,
          0.05187919308212475,
          0.05214733669007704,
          0.052420291579097285,
          0.052697325421008266,
          0.05297769049654435,
          0.053260626907604136,
          0.05354536589494656,
          0.053831133242696394,
          0.05411715274999708,
          0.05440264974925881,
          0.05468685464970284,
          0.054969006484308656,
          0.055248356437837265,
          0.0555241713333428,
          0.05579573705449538,
          0.05606236188112364,
          0.05632337971565791,
          0.05657815317860114,
          0.05682607655178206,
          0.05706657854894916,
          0.0572991248942368,
          0.057523220690174376,
          0.05773841255820321,
          0.057944290536108486,
          0.058140489718349044,
          0.0583266916269718,
          0.0585026253026047,
          0.05866806810693163,
          0.05882284623003538,
          0.058966834898045994,
          0.059099958278626956,
          0.05922218908395575,
          0.05933354787299278,
          0.05943410205696168,
          0.0595239646140713,
          0.0596032925215741,
          0.05967228491526257,
          0.059731180988439006,
          0.05978025764423346,
          0.05981982691688654,
          0.05985023317922686,
          0.059871850155065735,
          0.059885077756571564,
          0.059890338767883175,
          0.05988807539724646,
          0.05987874572082504,
          0.059862820042020516,
          0.05984077719064826,
          0.05981310078664042,
          0.05978027549309693,
          0.05974278328346632,
          0.05970109974742435,
          0.05965569045962688,
          0.05960700743494936,
          0.059555485693100145,
          0.05950153995460547,
          0.0594455614891342,
          0.05938791513595381,
          0.05932893651500813,
          0.059268929445689275,
          0.05920816358885077,
          0.059146872325995234,
          0.05908525088787403,
          0.05902345474297805,
          0.058961598254588944,
          0.058899753613212015,
          0.05883795004934323,
          0.05877617332964295,
          0.05871436553771543,
          0.05865242513883616,
          0.0585902073261448,
          0.05852752464403878,
          0.058464147882776346,
          0.058399807236636285,
          0.05833419371640036,
          0.05826696080542282,
          0.05819772634715018,
          0.05812607465065615,
          0.058051558799560116,
          0.0579737031486274,
          0.057892005991390105,
          0.057805942381297014,
          0.05771496708819688,
          0.057618517671384116,
          0.05751601764998852,
          0.05740687975117844,
          0.05729050921645935,
          0.05716630714629069,
          0.05703367386331356,
          0.05689201227466784,
          0.05674073121418656,
          0.05657924874567307,
          0.05640699540899725,
          0.05622341739137184,
          0.05602797960690268,
          0.05582016866831075,
          0.055599495735627724,
          0.055365499227630004,
          0.055117747382811916,
          0.054855840657791984,
          0.054579413952185706,
          0.05428813865016275,
          0.05398172447011964,
          0.053659921115140875,
          0.05332251971817397,
          0.052969354077110724,
          0.052600301676226986,
          0.052215284491692125,
          0.05181426958009486,
          0.05139726945015633,
          0.05096434221898089,
          0.050515591555357356,
          0.05005116641372393,
          0.049571260563482156,
          0.04907611191934809,
          0.04856600167938916,
          0.048041253278278497,
          0.04750223116413452,
          0.04694933940806271,
          0.04638302015621145,
          0.04580375193476148,
          0.04521204781881398,
          0.044608453476601195,
          0.04399354510083503,
          0.04336792723931762,
          0.042732230537174884,
          0.04208710940323321,
          0.04143323961314679,
          0.04077131586189716,
          0.040102049278230176,
          0.03942616491347463,
          0.038744399216996676,
          0.038057497510296925,
          0.0373662114714494,
          0.03667129664121892,
          0.035973509961780975,
          0.03527360735851309,
          0.034572341374816816,
          0.033870458869401446,
          0.033168698784874856,
          0.032467789995896335,
          0.03176844924450614,
          0.031071379169612594,
          0.03037726643693743,
          0.029686779975058954,
          0.029000569322496773,
          0.02831926309010221,
          0.02764346754232723,
          0.026973765300263363,
          0.026310714168666174,
          0.0256548460885169,
          0.025006666216022492,
          0.02436665212832435,
          0.023735253155570315,
          0.023112889838417725,
          0.022499953509468606,
          0.021896805996599846,
          0.0213037794456419,
          0.02072117625938021,
          0.02014926914940665,
          0.01958830129693034,
          0.019038486618281995,
          0.01850001013048905,
          0.01797302841199818,
          0.0174576701533322,
          0.016954036792235994,
          0.016462203227650105,
          0.015982218606683758,
          0.015514107178614312,
          0.015057869209839878,
          0.014613481953633257,
          0.014180900668508788,
          0.013760059679001388,
          0.013350873472676453,
          0.01295323782723855,
          0.0125670309616823,
          0.012192114705530405,
          0.011828335680330827,
          0.011475526487734831,
          0.011133506898649701,
          0.010802085038151695,
          0.010481058561056897,
          0.010170215813274291,
          0.009869336974311119,
          0.009578195176557811,
          0.009296557597250135,
          0.00902418651928968,
          0.008760840357391735,
          0.008506274646332017,
          0.008260242988364998,
          0.008022497957199838,
          0.00779279195622883,
          0.0075708780290215,
          0.007356510620407664,
          0.007149446286790319,
          0.006949444354633812,
          0.006756267526384345,
          0.006569682433375639,
          0.006389460135567467,
          0.00621537656825075,
          0.006047212936125952,
          0.005884756055429383,
          0.005727798645032309,
          0.005576139567680656,
          0.0054295840227675885,
          0.005287943692244877,
          0.005151036841474456,
          0.005018688377001859,
          0.004890729863397545,
          0.004766999501457005,
          0.004647342070179535,
          0.004531608835055705,
          0.004419657425284354,
          0.004311351682614389,
          0.004206561484559621,
          0.004105162544773082,
          0.004007036193382606,
          0.003912069140091968,
          0.003820153222832086,
          0.0037311851447139974,
          0.0036450662019829284,
          0.0035617020056071757,
          0.0034810021990539083,
          0.0034028801747081577,
          0.0033272527912839816,
          0.003254040094455937,
          0.003183165042808383,
          0.0031145532410601627,
          0.0030481326823726734,
          0.002983833501394553,
          0.002921587739533472,
          0.002861329123780598,
          0.00280299286024279,
          0.00274651544336746,
          0.002691834481672412,
          0.0026388885406219828,
          0.002587617003121689,
          0.002537959947936661,
          0.0024898580461774544,
          0.002443252475839258,
          0.0023980848542300183,
          0.0023542971879786873,
          0.0023118318401794493,
          0.002270631514099743,
          0.0022306392527626394,
          0.002191798453605276,
          0.0021540528973178564,
          0.002117346789880012,
          0.0020816248167356928,
          0.0020468322079823,
          0.0020129148133964923,
          0.0019798191860762,
          0.0019474926734474693,
          0.001915883514364314,
          0.001884940941020183,
          0.0018546152843909717,
          0.0018248580819401339,
          0.0017956221863375957,
          0.0017668618739736404,
          0.0017385329520877516,
          0.0017105928633785155,
          0.0016830007870148273,
          0.0016557177350289293,
          0.0016287066431386191,
          0.0016019324551176247,
          0.001575362199909964,
          0.0015489650607641283,
          0.001522712435746903,
          0.0014965779890821836,
          0.00147053769284832,
          0.001444569858655758,
          0.0014186551590162552,
          0.0013927766382032974,
          0.0013669197124912514,
          0.0013410721597469238
         ],
         "yaxis": "y"
        },
        {
         "legendgroup": "bill_depth_mm",
         "marker": {
          "color": "rgb(255, 127, 14)"
         },
         "mode": "lines",
         "name": "bill_depth_mm",
         "showlegend": false,
         "type": "scatter",
         "x": [
          13.1,
          13.1168,
          13.1336,
          13.1504,
          13.1672,
          13.184,
          13.2008,
          13.2176,
          13.234399999999999,
          13.251199999999999,
          13.267999999999999,
          13.284799999999999,
          13.3016,
          13.3184,
          13.3352,
          13.352,
          13.3688,
          13.3856,
          13.4024,
          13.4192,
          13.436,
          13.4528,
          13.4696,
          13.4864,
          13.5032,
          13.52,
          13.5368,
          13.5536,
          13.5704,
          13.5872,
          13.604,
          13.6208,
          13.637599999999999,
          13.654399999999999,
          13.671199999999999,
          13.687999999999999,
          13.7048,
          13.7216,
          13.7384,
          13.7552,
          13.772,
          13.7888,
          13.8056,
          13.8224,
          13.8392,
          13.856,
          13.8728,
          13.8896,
          13.9064,
          13.9232,
          13.94,
          13.9568,
          13.9736,
          13.9904,
          14.0072,
          14.024,
          14.040799999999999,
          14.057599999999999,
          14.074399999999999,
          14.0912,
          14.108,
          14.1248,
          14.1416,
          14.1584,
          14.1752,
          14.192,
          14.2088,
          14.2256,
          14.2424,
          14.2592,
          14.276,
          14.2928,
          14.3096,
          14.3264,
          14.3432,
          14.36,
          14.3768,
          14.3936,
          14.4104,
          14.4272,
          14.443999999999999,
          14.460799999999999,
          14.477599999999999,
          14.494399999999999,
          14.511199999999999,
          14.527999999999999,
          14.544799999999999,
          14.5616,
          14.5784,
          14.5952,
          14.612,
          14.6288,
          14.6456,
          14.6624,
          14.6792,
          14.696,
          14.7128,
          14.7296,
          14.7464,
          14.7632,
          14.78,
          14.7968,
          14.8136,
          14.8304,
          14.847199999999999,
          14.863999999999999,
          14.8808,
          14.8976,
          14.9144,
          14.9312,
          14.948,
          14.9648,
          14.9816,
          14.9984,
          15.0152,
          15.032,
          15.0488,
          15.0656,
          15.0824,
          15.0992,
          15.116,
          15.1328,
          15.1496,
          15.1664,
          15.1832,
          15.2,
          15.2168,
          15.2336,
          15.250399999999999,
          15.267199999999999,
          15.283999999999999,
          15.300799999999999,
          15.317599999999999,
          15.334399999999999,
          15.3512,
          15.367999999999999,
          15.3848,
          15.4016,
          15.4184,
          15.4352,
          15.452,
          15.4688,
          15.4856,
          15.5024,
          15.5192,
          15.536,
          15.5528,
          15.5696,
          15.5864,
          15.6032,
          15.62,
          15.636800000000001,
          15.653599999999999,
          15.6704,
          15.6872,
          15.704,
          15.7208,
          15.7376,
          15.7544,
          15.7712,
          15.788,
          15.8048,
          15.8216,
          15.8384,
          15.8552,
          15.872,
          15.8888,
          15.9056,
          15.9224,
          15.9392,
          15.956,
          15.9728,
          15.9896,
          16.0064,
          16.0232,
          16.04,
          16.0568,
          16.0736,
          16.0904,
          16.1072,
          16.124,
          16.1408,
          16.1576,
          16.1744,
          16.1912,
          16.208,
          16.2248,
          16.2416,
          16.258399999999998,
          16.275199999999998,
          16.292,
          16.308799999999998,
          16.3256,
          16.342399999999998,
          16.3592,
          16.375999999999998,
          16.3928,
          16.4096,
          16.4264,
          16.4432,
          16.46,
          16.4768,
          16.4936,
          16.5104,
          16.5272,
          16.544,
          16.5608,
          16.5776,
          16.5944,
          16.6112,
          16.628,
          16.6448,
          16.6616,
          16.6784,
          16.6952,
          16.712,
          16.7288,
          16.7456,
          16.7624,
          16.7792,
          16.796,
          16.8128,
          16.8296,
          16.8464,
          16.8632,
          16.88,
          16.8968,
          16.9136,
          16.9304,
          16.9472,
          16.964,
          16.9808,
          16.9976,
          17.0144,
          17.0312,
          17.048,
          17.064799999999998,
          17.0816,
          17.098399999999998,
          17.1152,
          17.131999999999998,
          17.1488,
          17.1656,
          17.1824,
          17.199199999999998,
          17.216,
          17.2328,
          17.2496,
          17.2664,
          17.2832,
          17.3,
          17.3168,
          17.3336,
          17.3504,
          17.3672,
          17.384,
          17.4008,
          17.4176,
          17.4344,
          17.4512,
          17.468,
          17.4848,
          17.5016,
          17.5184,
          17.5352,
          17.552,
          17.5688,
          17.5856,
          17.6024,
          17.6192,
          17.636,
          17.6528,
          17.6696,
          17.6864,
          17.7032,
          17.72,
          17.7368,
          17.7536,
          17.770400000000002,
          17.7872,
          17.804,
          17.8208,
          17.837600000000002,
          17.8544,
          17.871199999999998,
          17.887999999999998,
          17.9048,
          17.921599999999998,
          17.9384,
          17.955199999999998,
          17.972,
          17.988799999999998,
          18.0056,
          18.0224,
          18.0392,
          18.056,
          18.0728,
          18.0896,
          18.1064,
          18.1232,
          18.14,
          18.1568,
          18.1736,
          18.1904,
          18.2072,
          18.224,
          18.2408,
          18.2576,
          18.2744,
          18.2912,
          18.308,
          18.3248,
          18.3416,
          18.3584,
          18.3752,
          18.392,
          18.4088,
          18.4256,
          18.4424,
          18.4592,
          18.476,
          18.4928,
          18.5096,
          18.5264,
          18.5432,
          18.56,
          18.5768,
          18.593600000000002,
          18.6104,
          18.6272,
          18.644,
          18.660800000000002,
          18.677599999999998,
          18.6944,
          18.711199999999998,
          18.728,
          18.744799999999998,
          18.7616,
          18.7784,
          18.7952,
          18.811999999999998,
          18.8288,
          18.8456,
          18.8624,
          18.879199999999997,
          18.896,
          18.9128,
          18.9296,
          18.9464,
          18.9632,
          18.98,
          18.9968,
          19.0136,
          19.0304,
          19.0472,
          19.064,
          19.0808,
          19.0976,
          19.1144,
          19.1312,
          19.148,
          19.1648,
          19.1816,
          19.1984,
          19.2152,
          19.232,
          19.2488,
          19.2656,
          19.2824,
          19.2992,
          19.316,
          19.3328,
          19.3496,
          19.3664,
          19.3832,
          19.4,
          19.4168,
          19.4336,
          19.450400000000002,
          19.4672,
          19.484,
          19.500799999999998,
          19.5176,
          19.534399999999998,
          19.5512,
          19.567999999999998,
          19.5848,
          19.6016,
          19.6184,
          19.6352,
          19.652,
          19.6688,
          19.6856,
          19.7024,
          19.7192,
          19.736,
          19.7528,
          19.7696,
          19.7864,
          19.8032,
          19.82,
          19.8368,
          19.8536,
          19.8704,
          19.8872,
          19.904,
          19.9208,
          19.9376,
          19.9544,
          19.9712,
          19.988,
          20.0048,
          20.0216,
          20.0384,
          20.0552,
          20.072,
          20.0888,
          20.1056,
          20.1224,
          20.139200000000002,
          20.156,
          20.1728,
          20.1896,
          20.206400000000002,
          20.2232,
          20.24,
          20.2568,
          20.273600000000002,
          20.290399999999998,
          20.3072,
          20.323999999999998,
          20.3408,
          20.357599999999998,
          20.3744,
          20.3912,
          20.408,
          20.424799999999998,
          20.4416,
          20.4584,
          20.4752,
          20.492,
          20.5088,
          20.5256,
          20.5424,
          20.5592,
          20.576,
          20.5928,
          20.6096,
          20.6264,
          20.6432,
          20.66,
          20.6768,
          20.6936,
          20.7104,
          20.7272,
          20.744,
          20.7608,
          20.7776,
          20.7944,
          20.8112,
          20.828,
          20.8448,
          20.8616,
          20.8784,
          20.8952,
          20.912,
          20.9288,
          20.9456,
          20.962400000000002,
          20.9792,
          20.996,
          21.0128,
          21.029600000000002,
          21.0464,
          21.063200000000002,
          21.08,
          21.0968,
          21.113599999999998,
          21.1304,
          21.147199999999998,
          21.164,
          21.180799999999998,
          21.1976,
          21.214399999999998,
          21.2312,
          21.247999999999998,
          21.2648,
          21.281599999999997,
          21.2984,
          21.3152,
          21.332,
          21.3488,
          21.3656,
          21.382399999999997,
          21.3992,
          21.416,
          21.4328,
          21.4496,
          21.4664,
          21.4832
         ],
         "xaxis": "x",
         "y": [
          0.03485798956520812,
          0.03588719919659221,
          0.03693072556558657,
          0.037988161461743435,
          0.03905907840129353,
          0.04014302704296793,
          0.04123953765059205,
          0.04234812060151196,
          0.043468266939766624,
          0.044599448972784526,
          0.0457411209102406,
          0.046892719543588084,
          0.048053664964654526,
          0.04922336132157826,
          0.05040119761025675,
          0.051586548499380776,
          0.05277877518704042,
          0.053977226286808816,
          0.055181238741142745,
          0.05639013875987723,
          0.05760324278154255,
          0.058819858455192664,
          0.06003928564040285,
          0.061260817423075604,
          0.06248374114468265,
          0.06370733944256973,
          0.0649308912989588,
          0.06615367309630078,
          0.06737495967665444,
          0.06859402540280339,
          0.06981014521886285,
          0.07102259570817275,
          0.07223065614633545,
          0.07343360954730722,
          0.07463074370052492,
          0.07582135219711489,
          0.07700473544330887,
          0.07818020165926218,
          0.07934706786155778,
          0.08050466082775234,
          0.08165231804141102,
          0.08278938861615484,
          0.08391523419733372,
          0.08502922984001715,
          0.08613076486207917,
          0.0872192436712348,
          0.0882940865649647,
          0.08935473050233632,
          0.0904006298468155,
          0.09143125707921759,
          0.0924461034800305,
          0.09344467978039427,
          0.09442651678109046,
          0.09539116593894709,
          0.09633819992012124,
          0.0972672131197692,
          0.09817782214765916,
          0.09906966627932749,
          0.09994240787241436,
          0.10079573274785328,
          0.10162935053561784,
          0.10244299498476549,
          0.10323642423753679,
          0.1040094210673021,
          0.10476179308016408,
          0.10549337288005282,
          0.10620401819716495,
          0.10689361197962366,
          0.10756206244825246,
          0.10820930311437825,
          0.10883529276059954,
          0.10944001538447393,
          0.11002348010510878,
          0.1105857210326558,
          0.11112679710074347,
          0.11164679186190714,
          0.11214581324611006,
          0.11262399328248311,
          0.11308148778445204,
          0.11351847599846074,
          0.1139351602165472,
          0.1143317653530795,
          0.11470853848601306,
          0.1150657483630927,
          0.11540368487348283,
          0.11572265848538028,
          0.11602299965023785,
          0.11630505817430316,
          0.11656920255825776,
          0.1168158193058326,
          0.11704531220236102,
          0.1172581015643271,
          0.11745462346106593,
          0.11763532890986994,
          0.1178006830458628,
          0.11795116426810184,
          0.11808726336348795,
          0.11820948261015721,
          0.11831833486214803,
          0.11841434261724015,
          0.11849803706997351,
          0.1185699571519565,
          0.1186306485616814,
          0.11868066278615888,
          0.11872055611678566,
          0.11875088866194196,
          0.11877222335890471,
          0.11878512498773695,
          0.11879015918988078,
          0.11878789149424014,
          0.11877888635359136,
          0.11876370619419095,
          0.11874291048147939,
          0.11871705480478875,
          0.1186866899839618,
          0.11865236120076957,
          0.11861460715798598,
          0.1185739592689239,
          0.11853094088017514,
          0.11848606653021142,
          0.11843984124640222,
          0.11839275988288792,
          0.11834530650160764,
          0.11829795379862718,
          0.11825116257774007,
          0.11820538127312473,
          0.11816104552263042,
          0.11811857779304645,
          0.11807838705846485,
          0.1180408685325987,
          0.11800640345564631,
          0.11797535893601634,
          0.11794808784694394,
          0.11792492877771825,
          0.1179062060389544,
          0.11789222972101987,
          0.11788329580442058,
          0.11787968632063883,
          0.11788166956160244,
          0.11788950033566221,
          0.11790342026764955,
          0.11792365814030134,
          0.11795043027405763,
          0.1179839409419711,
          0.11802438281622517,
          0.11807193744252135,
          0.1181267757383983,
          0.11818905851135146,
          0.11825893699247446,
          0.1183365533812083,
          0.11842204139668674,
          0.11851552683109787,
          0.11861712810044785,
          0.1187269567881111,
          0.11884511817658484,
          0.11897171176293574,
          0.11910683175353418,
          0.11925056753381001,
          0.11940300410894422,
          0.11956422251162231,
          0.11973430017322384,
          0.11991331125510124,
          0.12010132693691461,
          0.12029841565933143,
          0.1205046433187655,
          0.1207200734122322,
          0.12094476713080346,
          0.12117878340059252,
          0.1214221788706422,
          0.12167500784756334,
          0.12193732217723548,
          0.1222091710743725,
          0.12249060090122382,
          0.12278165489717006,
          0.12308237286143742,
          0.12339279079161575,
          0.12371294048111232,
          0.12404284907909537,
          0.12438253861688779,
          0.1247320255051439,
          0.12509132000648757,
          0.12546042568860238,
          0.1258393388630347,
          0.12622804801520768,
          0.1266265332313286,
          0.12703476562802138,
          0.12745270679061185,
          0.1278803082260389,
          0.1283175108363697,
          0.12876424441883463,
          0.1292204271982057,
          0.1296859653971788,
          0.1301607528502185,
          0.13064467066606697,
          0.13113758694382793,
          0.1316393565471649,
          0.1321498209407913,
          0.13266880809296797,
          0.133196132447276,
          0.13373159496641468,
          0.13427498325024478,
          0.134826071729734,
          0.13538462193788053,
          0.13595038285808833,
          0.13652309134985727,
          0.13710247265102804,
          0.13768824095520574,
          0.13828010006235983,
          0.13887774409999507,
          0.13948085831168308,
          0.14008911990917153,
          0.14070219898372868,
          0.1413197594718545,
          0.14194146016999226,
          0.1425669557924243,
          0.14319589806610553,
          0.14382793685583048,
          0.14446272131278926,
          0.1450999010393118,
          0.1457391272623616,
          0.1463800540081839,
          0.14702233927040456,
          0.14766564616382297,
          0.1483096440561432,
          0.14895400966996533,
          0.14959842814747043,
          0.15024259407042231,
          0.1508862124283329,
          0.15152899952794194,
          0.15217068383748833,
          0.15281100675965054,
          0.15344972332746043,
          0.1540866028179697,
          0.1547214292789759,
          0.15535400196464297,
          0.15598413567644462,
          0.15661166100645463,
          0.1572364244806279,
          0.15785828860036089,
          0.15847713178126638,
          0.15909284818873293,
          0.15970534747053747,
          0.160314554387361,
          0.1609204083427694,
          0.1615228628147869,
          0.16212188469183794,
          0.16271745351638559,
          0.16330956064018284,
          0.16389820829555496,
          0.1644834085876372,
          0.16506518241294996,
          0.1656435583101032,
          0.1662185712488122,
          0.16679026136372294,
          0.16735867263985227,
          0.16792385155667544,
          0.16848584569810504,
          0.16904470233573932,
          0.16960046699288595,
          0.17015318199689553,
          0.17070288502738312,
          0.1712496076678643,
          0.17179337396827404,
          0.17233419902571379,
          0.17287208759063452,
          0.17340703270546115,
          0.17393901438246412,
          0.17446799832741183,
          0.17499393471527985,
          0.17551675702396954,
          0.17603638093168153,
          0.17655270328322942,
          0.17706560113021722,
          0.17757493084964845,
          0.17808052734511284,
          0.1785822033343343,
          0.1790797487264418,
          0.1795729300919318,
          0.18006149022787243,
          0.18054514782050943,
          0.18102359720702133,
          0.18149650823777316,
          0.18196352624003118,
          0.18242427208371076,
          0.1828783423493543,
          0.18332530959817456,
          0.18376472274361785,
          0.18419610752358517,
          0.18461896707208958,
          0.1850327825888013,
          0.1854370141046334,
          0.18583110134119055,
          0.18621446466163324,
          0.18658650611020836,
          0.18694661053742906,
          0.18729414680762518,
          0.1876284690853312,
          0.18794891819672552,
          0.18825482306211536,
          0.18854550219521315,
          0.18882026526476633,
          0.18907841471384745,
          0.1893192474319651,
          0.18954205647492117,
          0.1897461328271868,
          0.18993076720139182,
          0.19009525186935936,
          0.19023888251897095,
          0.19036096013101775,
          0.19046079287004913,
          0.19053769798316003,
          0.1905910037005109,
          0.1906200511313418,
          0.19062419614915513,
          0.19060281125970602,
          0.19055528744541503,
          0.1904810359798187,
          0.19037949020568315,
          0.19025010727047229,
          0.19009236981288866,
          0.18990578759435722,
          0.18968989906937395,
          0.1894442728888529,
          0.18916850933072474,
          0.1888622416522875,
          0.1885251373590066,
          0.18815689938473978,
          0.18775726717864916,
          0.18732601769436447,
          0.18686296627732688,
          0.1863679674465762,
          0.18584091556768068,
          0.18528174541389075,
          0.18469043261304238,
          0.18406699397821244,
          0.1834114877205772,
          0.18272401354343754,
          0.18200471261685947,
          0.1812537674329059,
          0.1804714015419419,
          0.1796578791710317,
          0.17881350472595345,
          0.1779386221788928,
          0.1770336143443816,
          0.17609890204655537,
          0.1751349431812889,
          0.17414223167725953,
          0.17312129636042034,
          0.1720726997268186,
          0.17099703662908813,
          0.16989493288232455,
          0.16876704379540514,
          0.1676140526341097,
          0.1664366690226972,
          0.16523562729080538,
          0.16401168477275557,
          0.16276562006649262,
          0.16149823125949264,
          0.1602103341290599,
          0.15890276032443942,
          0.1575763555381613,
          0.15623197767396546,
          0.15487049501855565,
          0.15349278442426315,
          0.15209972950953815,
          0.1506922188839245,
          0.14927114440393816,
          0.14783739946592583,
          0.14639187734169243,
          0.14493546956226658,
          0.14346906435482365,
          0.14199354513733078,
          0.14050978907506378,
          0.13901866570266966,
          0.1375210356149907,
          0.1360177492293689,
          0.13450964562167053,
          0.1329975514377787,
          0.13148227988180056,
          0.12996462978176393,
          0.12844538473307054,
          0.12692531231955703,
          0.12540516341149263,
          0.1238856715394744,
          0.12236755234271643,
          0.12085150308987638,
          0.11933820227016524,
          0.1178283092521836,
          0.1163224640075968,
          0.114821286896505,
          0.11332537851111818,
          0.1118353195741467,
          0.11035167088814532,
          0.10887497333192253,
          0.1074057479000298,
          0.10594449578128413,
          0.10449169847225677,
          0.10304781792167418,
          0.10161329670172208,
          0.10018855820232159,
          0.09877400684456293,
          0.09737002830961118,
          0.09597698977958236,
          0.09459524018706335,
          0.09322511047018424,
          0.09186691383036759,
          0.09052094599015532,
          0.08918748544876814,
          0.08786679373333235,
          0.08655911564402417,
          0.08526467949163864,
          0.08398369732643644,
          0.08271636515738263,
          0.08146286316122435,
          0.0802233558811224,
          0.07899799241485765,
          0.0777869065929005,
          0.07659021714689394,
          0.07540802786936025,
          0.07424042776565909,
          0.07308749119945666,
          0.07194927803313397,
          0.07082583376476725,
          0.06971718966342282,
          0.06862336290466967,
          0.06754435670828163,
          0.06648016048019798,
          0.0654307499608441,
          0.06439608738194372,
          0.06337612163394427,
          0.06237078844616079,
          0.061380010581669434,
          0.060403698048928395,
          0.05944174833198065,
          0.058494046640994224,
          0.05756046618472716,
          0.056640868466371654,
          0.05573510360402692,
          0.05484301067688345,
          0.0539644180979634,
          0.05309914401407611,
          0.052246996733397964,
          0.051407775180852905,
          0.050581269381244,
          0.04976726096982234,
          0.04896552372975592,
          0.048175824155699376,
          0.04739792204244249,
          0.04663157109736868,
          0.045876519575234385,
          0.04513251093356199,
          0.04439928450672787,
          0.04367657619664029,
          0.04296411917771416,
          0.04226164461369293,
          0.041568882383712834,
          0.04088556181488342,
          0.04021141241853892,
          0.03954616462723296,
          0.0388895505294731,
          0.03824130459914116,
          0.03760116441652373,
          0.036968871377861215,
          0.03634417139034565,
          0.035726815549525864,
          0.03511656079613988,
          0.034513170549466,
          0.033916415314382144,
          0.03332607325943675,
          0.03274193076336461,
          0.03216378292763056,
          0.03159143405275186,
          0.03102469807632256,
          0.030463398970858233,
          0.029907371099783798,
          0.029356459530099972,
          0.02881052030048108,
          0.028269420643798525,
          0.02773303916327968,
          0.027201265961774107,
          0.026674002723813494,
          0.026151162750419808,
          0.025632670946831092,
          0.02511846376357253,
          0.024608489091519067,
          0.024102706111835445,
          0.023601085101889543,
          0.023103607198459594,
          0.022610264119746006,
          0.022121057847904437,
          0.021636000273985472,
          0.021155112807343078,
          0.020678425951722066,
          0.020205978850380703,
          0.019737818802719957,
          0.01927400075501471,
          0.018814586767915857,
          0.01835964546348944,
          0.01790925145460195,
          0.017463484759515535
         ],
         "yaxis": "y"
        },
        {
         "legendgroup": "bill_length_mm",
         "marker": {
          "color": "rgb(31, 119, 180)",
          "symbol": "line-ns-open"
         },
         "mode": "markers",
         "name": "bill_length_mm",
         "showlegend": false,
         "type": "scatter",
         "x": [
          39.1,
          39.5,
          40.3,
          36.7,
          39.3,
          38.9,
          39.2,
          41.1,
          38.6,
          34.6,
          36.6,
          38.7,
          42.5,
          34.4,
          46,
          37.8,
          37.7,
          35.9,
          38.2,
          38.8,
          35.3,
          40.6,
          40.5,
          37.9,
          40.5,
          39.5,
          37.2,
          39.5,
          40.9,
          36.4,
          39.2,
          38.8,
          42.2,
          37.6,
          39.8,
          36.5,
          40.8,
          36,
          44.1,
          37,
          39.6,
          41.1,
          36,
          42.3,
          39.6,
          40.1,
          35,
          42,
          34.5,
          41.4,
          39,
          40.6,
          36.5,
          37.6,
          35.7,
          41.3,
          37.6,
          41.1,
          36.4,
          41.6,
          35.5,
          41.1,
          35.9,
          41.8,
          33.5,
          39.7,
          39.6,
          45.8,
          35.5,
          42.8,
          40.9,
          37.2,
          36.2,
          42.1,
          34.6,
          42.9,
          36.7,
          35.1,
          37.3,
          41.3,
          36.3,
          36.9,
          38.3,
          38.9,
          35.7,
          41.1,
          34,
          39.6,
          36.2,
          40.8,
          38.1,
          40.3,
          33.1,
          43.2,
          35,
          41,
          37.7,
          37.8,
          37.9,
          39.7,
          38.6,
          38.2,
          38.1,
          43.2,
          38.1,
          45.6,
          39.7,
          42.2,
          39.6,
          42.7,
          38.6,
          37.3,
          35.7,
          41.1,
          36.2,
          37.7,
          40.2,
          41.4,
          35.2,
          40.6,
          38.8,
          41.5,
          39,
          44.1,
          38.5,
          43.1,
          36.8,
          37.5,
          38.1,
          41.1,
          35.6,
          40.2,
          37,
          39.7,
          40.2,
          40.6,
          32.1,
          40.7,
          37.3,
          39,
          39.2,
          36.6,
          36,
          37.8,
          36,
          41.5,
          46.5,
          50,
          51.3,
          45.4,
          52.7,
          45.2,
          46.1,
          51.3,
          46,
          51.3,
          46.6,
          51.7,
          47,
          52,
          45.9,
          50.5,
          50.3,
          58,
          46.4,
          49.2,
          42.4,
          48.5,
          43.2,
          50.6,
          46.7,
          52,
          50.5,
          49.5,
          46.4,
          52.8,
          40.9,
          54.2,
          42.5,
          51,
          49.7,
          47.5,
          47.6,
          52,
          46.9,
          53.5,
          49,
          46.2,
          50.9,
          45.5,
          50.9,
          50.8,
          50.1,
          49,
          51.5,
          49.8,
          48.1,
          51.4,
          45.7,
          50.7,
          42.5,
          52.2,
          45.2,
          49.3,
          50.2,
          45.6,
          51.9,
          46.8,
          45.7,
          55.8,
          43.5,
          49.6,
          50.8,
          50.2,
          46.1,
          50,
          48.7,
          50,
          47.6,
          46.5,
          45.4,
          46.7,
          43.3,
          46.8,
          40.9,
          49,
          45.5,
          48.4,
          45.8,
          49.3,
          42,
          49.2,
          46.2,
          48.7,
          50.2,
          45.1,
          46.5,
          46.3,
          42.9,
          46.1,
          47.8,
          48.2,
          50,
          47.3,
          42.8,
          45.1,
          59.6,
          49.1,
          48.4,
          42.6,
          44.4,
          44,
          48.7,
          42.7,
          49.6,
          45.3,
          49.6,
          50.5,
          43.6,
          45.5,
          50.5,
          44.9,
          45.2,
          46.6,
          48.5,
          45.1,
          50.1,
          46.5,
          45,
          43.8,
          45.5,
          43.2,
          50.4,
          45.3,
          46.2,
          45.7,
          54.3,
          45.8,
          49.8,
          49.5,
          43.5,
          50.7,
          47.7,
          46.4,
          48.2,
          46.5,
          46.4,
          48.6,
          47.5,
          51.1,
          45.2,
          45.2,
          49.1,
          52.5,
          47.4,
          50,
          44.9,
          50.8,
          43.4,
          51.3,
          47.5,
          52.1,
          47.5,
          52.2,
          45.5,
          49.5,
          44.5,
          50.8,
          49.4,
          46.9,
          48.4,
          51.1,
          48.5,
          55.9,
          47.2,
          49.1,
          46.8,
          41.7,
          53.4,
          43.3,
          48.1,
          50.5,
          49.8,
          43.5,
          51.5,
          46.2,
          55.1,
          48.8,
          47.2,
          46.8,
          50.4,
          45.2,
          49.9
         ],
         "xaxis": "x",
         "y": [
          "bill_length_mm",
          "bill_length_mm",
          "bill_length_mm",
          "bill_length_mm",
          "bill_length_mm",
          "bill_length_mm",
          "bill_length_mm",
          "bill_length_mm",
          "bill_length_mm",
          "bill_length_mm",
          "bill_length_mm",
          "bill_length_mm",
          "bill_length_mm",
          "bill_length_mm",
          "bill_length_mm",
          "bill_length_mm",
          "bill_length_mm",
          "bill_length_mm",
          "bill_length_mm",
          "bill_length_mm",
          "bill_length_mm",
          "bill_length_mm",
          "bill_length_mm",
          "bill_length_mm",
          "bill_length_mm",
          "bill_length_mm",
          "bill_length_mm",
          "bill_length_mm",
          "bill_length_mm",
          "bill_length_mm",
          "bill_length_mm",
          "bill_length_mm",
          "bill_length_mm",
          "bill_length_mm",
          "bill_length_mm",
          "bill_length_mm",
          "bill_length_mm",
          "bill_length_mm",
          "bill_length_mm",
          "bill_length_mm",
          "bill_length_mm",
          "bill_length_mm",
          "bill_length_mm",
          "bill_length_mm",
          "bill_length_mm",
          "bill_length_mm",
          "bill_length_mm",
          "bill_length_mm",
          "bill_length_mm",
          "bill_length_mm",
          "bill_length_mm",
          "bill_length_mm",
          "bill_length_mm",
          "bill_length_mm",
          "bill_length_mm",
          "bill_length_mm",
          "bill_length_mm",
          "bill_length_mm",
          "bill_length_mm",
          "bill_length_mm",
          "bill_length_mm",
          "bill_length_mm",
          "bill_length_mm",
          "bill_length_mm",
          "bill_length_mm",
          "bill_length_mm",
          "bill_length_mm",
          "bill_length_mm",
          "bill_length_mm",
          "bill_length_mm",
          "bill_length_mm",
          "bill_length_mm",
          "bill_length_mm",
          "bill_length_mm",
          "bill_length_mm",
          "bill_length_mm",
          "bill_length_mm",
          "bill_length_mm",
          "bill_length_mm",
          "bill_length_mm",
          "bill_length_mm",
          "bill_length_mm",
          "bill_length_mm",
          "bill_length_mm",
          "bill_length_mm",
          "bill_length_mm",
          "bill_length_mm",
          "bill_length_mm",
          "bill_length_mm",
          "bill_length_mm",
          "bill_length_mm",
          "bill_length_mm",
          "bill_length_mm",
          "bill_length_mm",
          "bill_length_mm",
          "bill_length_mm",
          "bill_length_mm",
          "bill_length_mm",
          "bill_length_mm",
          "bill_length_mm",
          "bill_length_mm",
          "bill_length_mm",
          "bill_length_mm",
          "bill_length_mm",
          "bill_length_mm",
          "bill_length_mm",
          "bill_length_mm",
          "bill_length_mm",
          "bill_length_mm",
          "bill_length_mm",
          "bill_length_mm",
          "bill_length_mm",
          "bill_length_mm",
          "bill_length_mm",
          "bill_length_mm",
          "bill_length_mm",
          "bill_length_mm",
          "bill_length_mm",
          "bill_length_mm",
          "bill_length_mm",
          "bill_length_mm",
          "bill_length_mm",
          "bill_length_mm",
          "bill_length_mm",
          "bill_length_mm",
          "bill_length_mm",
          "bill_length_mm",
          "bill_length_mm",
          "bill_length_mm",
          "bill_length_mm",
          "bill_length_mm",
          "bill_length_mm",
          "bill_length_mm",
          "bill_length_mm",
          "bill_length_mm",
          "bill_length_mm",
          "bill_length_mm",
          "bill_length_mm",
          "bill_length_mm",
          "bill_length_mm",
          "bill_length_mm",
          "bill_length_mm",
          "bill_length_mm",
          "bill_length_mm",
          "bill_length_mm",
          "bill_length_mm",
          "bill_length_mm",
          "bill_length_mm",
          "bill_length_mm",
          "bill_length_mm",
          "bill_length_mm",
          "bill_length_mm",
          "bill_length_mm",
          "bill_length_mm",
          "bill_length_mm",
          "bill_length_mm",
          "bill_length_mm",
          "bill_length_mm",
          "bill_length_mm",
          "bill_length_mm",
          "bill_length_mm",
          "bill_length_mm",
          "bill_length_mm",
          "bill_length_mm",
          "bill_length_mm",
          "bill_length_mm",
          "bill_length_mm",
          "bill_length_mm",
          "bill_length_mm",
          "bill_length_mm",
          "bill_length_mm",
          "bill_length_mm",
          "bill_length_mm",
          "bill_length_mm",
          "bill_length_mm",
          "bill_length_mm",
          "bill_length_mm",
          "bill_length_mm",
          "bill_length_mm",
          "bill_length_mm",
          "bill_length_mm",
          "bill_length_mm",
          "bill_length_mm",
          "bill_length_mm",
          "bill_length_mm",
          "bill_length_mm",
          "bill_length_mm",
          "bill_length_mm",
          "bill_length_mm",
          "bill_length_mm",
          "bill_length_mm",
          "bill_length_mm",
          "bill_length_mm",
          "bill_length_mm",
          "bill_length_mm",
          "bill_length_mm",
          "bill_length_mm",
          "bill_length_mm",
          "bill_length_mm",
          "bill_length_mm",
          "bill_length_mm",
          "bill_length_mm",
          "bill_length_mm",
          "bill_length_mm",
          "bill_length_mm",
          "bill_length_mm",
          "bill_length_mm",
          "bill_length_mm",
          "bill_length_mm",
          "bill_length_mm",
          "bill_length_mm",
          "bill_length_mm",
          "bill_length_mm",
          "bill_length_mm",
          "bill_length_mm",
          "bill_length_mm",
          "bill_length_mm",
          "bill_length_mm",
          "bill_length_mm",
          "bill_length_mm",
          "bill_length_mm",
          "bill_length_mm",
          "bill_length_mm",
          "bill_length_mm",
          "bill_length_mm",
          "bill_length_mm",
          "bill_length_mm",
          "bill_length_mm",
          "bill_length_mm",
          "bill_length_mm",
          "bill_length_mm",
          "bill_length_mm",
          "bill_length_mm",
          "bill_length_mm",
          "bill_length_mm",
          "bill_length_mm",
          "bill_length_mm",
          "bill_length_mm",
          "bill_length_mm",
          "bill_length_mm",
          "bill_length_mm",
          "bill_length_mm",
          "bill_length_mm",
          "bill_length_mm",
          "bill_length_mm",
          "bill_length_mm",
          "bill_length_mm",
          "bill_length_mm",
          "bill_length_mm",
          "bill_length_mm",
          "bill_length_mm",
          "bill_length_mm",
          "bill_length_mm",
          "bill_length_mm",
          "bill_length_mm",
          "bill_length_mm",
          "bill_length_mm",
          "bill_length_mm",
          "bill_length_mm",
          "bill_length_mm",
          "bill_length_mm",
          "bill_length_mm",
          "bill_length_mm",
          "bill_length_mm",
          "bill_length_mm",
          "bill_length_mm",
          "bill_length_mm",
          "bill_length_mm",
          "bill_length_mm",
          "bill_length_mm",
          "bill_length_mm",
          "bill_length_mm",
          "bill_length_mm",
          "bill_length_mm",
          "bill_length_mm",
          "bill_length_mm",
          "bill_length_mm",
          "bill_length_mm",
          "bill_length_mm",
          "bill_length_mm",
          "bill_length_mm",
          "bill_length_mm",
          "bill_length_mm",
          "bill_length_mm",
          "bill_length_mm",
          "bill_length_mm",
          "bill_length_mm",
          "bill_length_mm",
          "bill_length_mm",
          "bill_length_mm",
          "bill_length_mm",
          "bill_length_mm",
          "bill_length_mm",
          "bill_length_mm",
          "bill_length_mm",
          "bill_length_mm",
          "bill_length_mm",
          "bill_length_mm",
          "bill_length_mm",
          "bill_length_mm",
          "bill_length_mm",
          "bill_length_mm",
          "bill_length_mm",
          "bill_length_mm",
          "bill_length_mm",
          "bill_length_mm",
          "bill_length_mm",
          "bill_length_mm",
          "bill_length_mm",
          "bill_length_mm",
          "bill_length_mm",
          "bill_length_mm",
          "bill_length_mm",
          "bill_length_mm",
          "bill_length_mm",
          "bill_length_mm",
          "bill_length_mm",
          "bill_length_mm",
          "bill_length_mm",
          "bill_length_mm",
          "bill_length_mm",
          "bill_length_mm",
          "bill_length_mm",
          "bill_length_mm",
          "bill_length_mm",
          "bill_length_mm",
          "bill_length_mm",
          "bill_length_mm",
          "bill_length_mm",
          "bill_length_mm",
          "bill_length_mm",
          "bill_length_mm",
          "bill_length_mm"
         ],
         "yaxis": "y2"
        },
        {
         "legendgroup": "bill_depth_mm",
         "marker": {
          "color": "rgb(255, 127, 14)",
          "symbol": "line-ns-open"
         },
         "mode": "markers",
         "name": "bill_depth_mm",
         "showlegend": false,
         "type": "scatter",
         "x": [
          18.7,
          17.4,
          18,
          19.3,
          20.6,
          17.8,
          19.6,
          17.6,
          21.2,
          21.1,
          17.8,
          19,
          20.7,
          18.4,
          21.5,
          18.3,
          18.7,
          19.2,
          18.1,
          17.2,
          18.9,
          18.6,
          17.9,
          18.6,
          18.9,
          16.7,
          18.1,
          17.8,
          18.9,
          17,
          21.1,
          20,
          18.5,
          19.3,
          19.1,
          18,
          18.4,
          18.5,
          19.7,
          16.9,
          18.8,
          19,
          17.9,
          21.2,
          17.7,
          18.9,
          17.9,
          19.5,
          18.1,
          18.6,
          17.5,
          18.8,
          16.6,
          19.1,
          16.9,
          21.1,
          17,
          18.2,
          17.1,
          18,
          16.2,
          19.1,
          16.6,
          19.4,
          19,
          18.4,
          17.2,
          18.9,
          17.5,
          18.5,
          16.8,
          19.4,
          16.1,
          19.1,
          17.2,
          17.6,
          18.8,
          19.4,
          17.8,
          20.3,
          19.5,
          18.6,
          19.2,
          18.8,
          18,
          18.1,
          17.1,
          18.1,
          17.3,
          18.9,
          18.6,
          18.5,
          16.1,
          18.5,
          17.9,
          20,
          16,
          20,
          18.6,
          18.9,
          17.2,
          20,
          17,
          19,
          16.5,
          20.3,
          17.7,
          19.5,
          20.7,
          18.3,
          17,
          20.5,
          17,
          18.6,
          17.2,
          19.8,
          17,
          18.5,
          15.9,
          19,
          17.6,
          18.3,
          17.1,
          18,
          17.9,
          19.2,
          18.5,
          18.5,
          17.6,
          17.5,
          17.5,
          20.1,
          16.5,
          17.9,
          17.1,
          17.2,
          15.5,
          17,
          16.8,
          18.7,
          18.6,
          18.4,
          17.8,
          18.1,
          17.1,
          18.5,
          17.9,
          19.5,
          19.2,
          18.7,
          19.8,
          17.8,
          18.2,
          18.2,
          18.9,
          19.9,
          17.8,
          20.3,
          17.3,
          18.1,
          17.1,
          19.6,
          20,
          17.8,
          18.6,
          18.2,
          17.3,
          17.5,
          16.6,
          19.4,
          17.9,
          19,
          18.4,
          19,
          17.8,
          20,
          16.6,
          20.8,
          16.7,
          18.8,
          18.6,
          16.8,
          18.3,
          20.7,
          16.6,
          19.9,
          19.5,
          17.5,
          19.1,
          17,
          17.9,
          18.5,
          17.9,
          19.6,
          18.7,
          17.3,
          16.4,
          19,
          17.3,
          19.7,
          17.3,
          18.8,
          16.6,
          19.9,
          18.8,
          19.4,
          19.5,
          16.5,
          17,
          19.8,
          18.1,
          18.2,
          19,
          18.7,
          13.2,
          16.3,
          14.1,
          15.2,
          14.5,
          13.5,
          14.6,
          15.3,
          13.4,
          15.4,
          13.7,
          16.1,
          13.7,
          14.6,
          14.6,
          15.7,
          13.5,
          15.2,
          14.5,
          15.1,
          14.3,
          14.5,
          14.5,
          15.8,
          13.1,
          15.1,
          15,
          14.3,
          15.3,
          15.3,
          14.2,
          14.5,
          17,
          14.8,
          16.3,
          13.7,
          17.3,
          13.6,
          15.7,
          13.7,
          16,
          13.7,
          15,
          15.9,
          13.9,
          13.9,
          15.9,
          13.3,
          15.8,
          14.2,
          14.1,
          14.4,
          15,
          14.4,
          15.4,
          13.9,
          15,
          14.5,
          15.3,
          13.8,
          14.9,
          13.9,
          15.7,
          14.2,
          16.8,
          16.2,
          14.2,
          15,
          15,
          15.6,
          15.6,
          14.8,
          15,
          16,
          14.2,
          16.3,
          13.8,
          16.4,
          14.5,
          15.6,
          14.6,
          15.9,
          13.8,
          17.3,
          14.4,
          14.2,
          14,
          17,
          15,
          17.1,
          14.5,
          16.1,
          14.7,
          15.7,
          15.8,
          14.6,
          14.4,
          16.5,
          15,
          17,
          15.5,
          15,
          16.1,
          14.7,
          15.8,
          14,
          15.1,
          15.2,
          15.9,
          15.2,
          16.3,
          14.1,
          16,
          16.2,
          13.7,
          14.3,
          15.7,
          14.8,
          16.1
         ],
         "xaxis": "x",
         "y": [
          "bill_depth_mm",
          "bill_depth_mm",
          "bill_depth_mm",
          "bill_depth_mm",
          "bill_depth_mm",
          "bill_depth_mm",
          "bill_depth_mm",
          "bill_depth_mm",
          "bill_depth_mm",
          "bill_depth_mm",
          "bill_depth_mm",
          "bill_depth_mm",
          "bill_depth_mm",
          "bill_depth_mm",
          "bill_depth_mm",
          "bill_depth_mm",
          "bill_depth_mm",
          "bill_depth_mm",
          "bill_depth_mm",
          "bill_depth_mm",
          "bill_depth_mm",
          "bill_depth_mm",
          "bill_depth_mm",
          "bill_depth_mm",
          "bill_depth_mm",
          "bill_depth_mm",
          "bill_depth_mm",
          "bill_depth_mm",
          "bill_depth_mm",
          "bill_depth_mm",
          "bill_depth_mm",
          "bill_depth_mm",
          "bill_depth_mm",
          "bill_depth_mm",
          "bill_depth_mm",
          "bill_depth_mm",
          "bill_depth_mm",
          "bill_depth_mm",
          "bill_depth_mm",
          "bill_depth_mm",
          "bill_depth_mm",
          "bill_depth_mm",
          "bill_depth_mm",
          "bill_depth_mm",
          "bill_depth_mm",
          "bill_depth_mm",
          "bill_depth_mm",
          "bill_depth_mm",
          "bill_depth_mm",
          "bill_depth_mm",
          "bill_depth_mm",
          "bill_depth_mm",
          "bill_depth_mm",
          "bill_depth_mm",
          "bill_depth_mm",
          "bill_depth_mm",
          "bill_depth_mm",
          "bill_depth_mm",
          "bill_depth_mm",
          "bill_depth_mm",
          "bill_depth_mm",
          "bill_depth_mm",
          "bill_depth_mm",
          "bill_depth_mm",
          "bill_depth_mm",
          "bill_depth_mm",
          "bill_depth_mm",
          "bill_depth_mm",
          "bill_depth_mm",
          "bill_depth_mm",
          "bill_depth_mm",
          "bill_depth_mm",
          "bill_depth_mm",
          "bill_depth_mm",
          "bill_depth_mm",
          "bill_depth_mm",
          "bill_depth_mm",
          "bill_depth_mm",
          "bill_depth_mm",
          "bill_depth_mm",
          "bill_depth_mm",
          "bill_depth_mm",
          "bill_depth_mm",
          "bill_depth_mm",
          "bill_depth_mm",
          "bill_depth_mm",
          "bill_depth_mm",
          "bill_depth_mm",
          "bill_depth_mm",
          "bill_depth_mm",
          "bill_depth_mm",
          "bill_depth_mm",
          "bill_depth_mm",
          "bill_depth_mm",
          "bill_depth_mm",
          "bill_depth_mm",
          "bill_depth_mm",
          "bill_depth_mm",
          "bill_depth_mm",
          "bill_depth_mm",
          "bill_depth_mm",
          "bill_depth_mm",
          "bill_depth_mm",
          "bill_depth_mm",
          "bill_depth_mm",
          "bill_depth_mm",
          "bill_depth_mm",
          "bill_depth_mm",
          "bill_depth_mm",
          "bill_depth_mm",
          "bill_depth_mm",
          "bill_depth_mm",
          "bill_depth_mm",
          "bill_depth_mm",
          "bill_depth_mm",
          "bill_depth_mm",
          "bill_depth_mm",
          "bill_depth_mm",
          "bill_depth_mm",
          "bill_depth_mm",
          "bill_depth_mm",
          "bill_depth_mm",
          "bill_depth_mm",
          "bill_depth_mm",
          "bill_depth_mm",
          "bill_depth_mm",
          "bill_depth_mm",
          "bill_depth_mm",
          "bill_depth_mm",
          "bill_depth_mm",
          "bill_depth_mm",
          "bill_depth_mm",
          "bill_depth_mm",
          "bill_depth_mm",
          "bill_depth_mm",
          "bill_depth_mm",
          "bill_depth_mm",
          "bill_depth_mm",
          "bill_depth_mm",
          "bill_depth_mm",
          "bill_depth_mm",
          "bill_depth_mm",
          "bill_depth_mm",
          "bill_depth_mm",
          "bill_depth_mm",
          "bill_depth_mm",
          "bill_depth_mm",
          "bill_depth_mm",
          "bill_depth_mm",
          "bill_depth_mm",
          "bill_depth_mm",
          "bill_depth_mm",
          "bill_depth_mm",
          "bill_depth_mm",
          "bill_depth_mm",
          "bill_depth_mm",
          "bill_depth_mm",
          "bill_depth_mm",
          "bill_depth_mm",
          "bill_depth_mm",
          "bill_depth_mm",
          "bill_depth_mm",
          "bill_depth_mm",
          "bill_depth_mm",
          "bill_depth_mm",
          "bill_depth_mm",
          "bill_depth_mm",
          "bill_depth_mm",
          "bill_depth_mm",
          "bill_depth_mm",
          "bill_depth_mm",
          "bill_depth_mm",
          "bill_depth_mm",
          "bill_depth_mm",
          "bill_depth_mm",
          "bill_depth_mm",
          "bill_depth_mm",
          "bill_depth_mm",
          "bill_depth_mm",
          "bill_depth_mm",
          "bill_depth_mm",
          "bill_depth_mm",
          "bill_depth_mm",
          "bill_depth_mm",
          "bill_depth_mm",
          "bill_depth_mm",
          "bill_depth_mm",
          "bill_depth_mm",
          "bill_depth_mm",
          "bill_depth_mm",
          "bill_depth_mm",
          "bill_depth_mm",
          "bill_depth_mm",
          "bill_depth_mm",
          "bill_depth_mm",
          "bill_depth_mm",
          "bill_depth_mm",
          "bill_depth_mm",
          "bill_depth_mm",
          "bill_depth_mm",
          "bill_depth_mm",
          "bill_depth_mm",
          "bill_depth_mm",
          "bill_depth_mm",
          "bill_depth_mm",
          "bill_depth_mm",
          "bill_depth_mm",
          "bill_depth_mm",
          "bill_depth_mm",
          "bill_depth_mm",
          "bill_depth_mm",
          "bill_depth_mm",
          "bill_depth_mm",
          "bill_depth_mm",
          "bill_depth_mm",
          "bill_depth_mm",
          "bill_depth_mm",
          "bill_depth_mm",
          "bill_depth_mm",
          "bill_depth_mm",
          "bill_depth_mm",
          "bill_depth_mm",
          "bill_depth_mm",
          "bill_depth_mm",
          "bill_depth_mm",
          "bill_depth_mm",
          "bill_depth_mm",
          "bill_depth_mm",
          "bill_depth_mm",
          "bill_depth_mm",
          "bill_depth_mm",
          "bill_depth_mm",
          "bill_depth_mm",
          "bill_depth_mm",
          "bill_depth_mm",
          "bill_depth_mm",
          "bill_depth_mm",
          "bill_depth_mm",
          "bill_depth_mm",
          "bill_depth_mm",
          "bill_depth_mm",
          "bill_depth_mm",
          "bill_depth_mm",
          "bill_depth_mm",
          "bill_depth_mm",
          "bill_depth_mm",
          "bill_depth_mm",
          "bill_depth_mm",
          "bill_depth_mm",
          "bill_depth_mm",
          "bill_depth_mm",
          "bill_depth_mm",
          "bill_depth_mm",
          "bill_depth_mm",
          "bill_depth_mm",
          "bill_depth_mm",
          "bill_depth_mm",
          "bill_depth_mm",
          "bill_depth_mm",
          "bill_depth_mm",
          "bill_depth_mm",
          "bill_depth_mm",
          "bill_depth_mm",
          "bill_depth_mm",
          "bill_depth_mm",
          "bill_depth_mm",
          "bill_depth_mm",
          "bill_depth_mm",
          "bill_depth_mm",
          "bill_depth_mm",
          "bill_depth_mm",
          "bill_depth_mm",
          "bill_depth_mm",
          "bill_depth_mm",
          "bill_depth_mm",
          "bill_depth_mm",
          "bill_depth_mm",
          "bill_depth_mm",
          "bill_depth_mm",
          "bill_depth_mm",
          "bill_depth_mm",
          "bill_depth_mm",
          "bill_depth_mm",
          "bill_depth_mm",
          "bill_depth_mm",
          "bill_depth_mm",
          "bill_depth_mm",
          "bill_depth_mm",
          "bill_depth_mm",
          "bill_depth_mm",
          "bill_depth_mm",
          "bill_depth_mm",
          "bill_depth_mm",
          "bill_depth_mm",
          "bill_depth_mm",
          "bill_depth_mm",
          "bill_depth_mm",
          "bill_depth_mm",
          "bill_depth_mm",
          "bill_depth_mm",
          "bill_depth_mm",
          "bill_depth_mm",
          "bill_depth_mm",
          "bill_depth_mm",
          "bill_depth_mm",
          "bill_depth_mm",
          "bill_depth_mm",
          "bill_depth_mm",
          "bill_depth_mm",
          "bill_depth_mm",
          "bill_depth_mm",
          "bill_depth_mm",
          "bill_depth_mm",
          "bill_depth_mm",
          "bill_depth_mm",
          "bill_depth_mm",
          "bill_depth_mm",
          "bill_depth_mm",
          "bill_depth_mm",
          "bill_depth_mm",
          "bill_depth_mm",
          "bill_depth_mm",
          "bill_depth_mm",
          "bill_depth_mm",
          "bill_depth_mm",
          "bill_depth_mm",
          "bill_depth_mm",
          "bill_depth_mm",
          "bill_depth_mm",
          "bill_depth_mm",
          "bill_depth_mm",
          "bill_depth_mm",
          "bill_depth_mm"
         ],
         "yaxis": "y2"
        }
       ],
       "layout": {
        "barmode": "overlay",
        "hovermode": "closest",
        "legend": {
         "traceorder": "reversed"
        },
        "template": {
         "data": {
          "bar": [
           {
            "error_x": {
             "color": "#2a3f5f"
            },
            "error_y": {
             "color": "#2a3f5f"
            },
            "marker": {
             "line": {
              "color": "#E5ECF6",
              "width": 0.5
             },
             "pattern": {
              "fillmode": "overlay",
              "size": 10,
              "solidity": 0.2
             }
            },
            "type": "bar"
           }
          ],
          "barpolar": [
           {
            "marker": {
             "line": {
              "color": "#E5ECF6",
              "width": 0.5
             },
             "pattern": {
              "fillmode": "overlay",
              "size": 10,
              "solidity": 0.2
             }
            },
            "type": "barpolar"
           }
          ],
          "carpet": [
           {
            "aaxis": {
             "endlinecolor": "#2a3f5f",
             "gridcolor": "white",
             "linecolor": "white",
             "minorgridcolor": "white",
             "startlinecolor": "#2a3f5f"
            },
            "baxis": {
             "endlinecolor": "#2a3f5f",
             "gridcolor": "white",
             "linecolor": "white",
             "minorgridcolor": "white",
             "startlinecolor": "#2a3f5f"
            },
            "type": "carpet"
           }
          ],
          "choropleth": [
           {
            "colorbar": {
             "outlinewidth": 0,
             "ticks": ""
            },
            "type": "choropleth"
           }
          ],
          "contour": [
           {
            "colorbar": {
             "outlinewidth": 0,
             "ticks": ""
            },
            "colorscale": [
             [
              0,
              "#0d0887"
             ],
             [
              0.1111111111111111,
              "#46039f"
             ],
             [
              0.2222222222222222,
              "#7201a8"
             ],
             [
              0.3333333333333333,
              "#9c179e"
             ],
             [
              0.4444444444444444,
              "#bd3786"
             ],
             [
              0.5555555555555556,
              "#d8576b"
             ],
             [
              0.6666666666666666,
              "#ed7953"
             ],
             [
              0.7777777777777778,
              "#fb9f3a"
             ],
             [
              0.8888888888888888,
              "#fdca26"
             ],
             [
              1,
              "#f0f921"
             ]
            ],
            "type": "contour"
           }
          ],
          "contourcarpet": [
           {
            "colorbar": {
             "outlinewidth": 0,
             "ticks": ""
            },
            "type": "contourcarpet"
           }
          ],
          "heatmap": [
           {
            "colorbar": {
             "outlinewidth": 0,
             "ticks": ""
            },
            "colorscale": [
             [
              0,
              "#0d0887"
             ],
             [
              0.1111111111111111,
              "#46039f"
             ],
             [
              0.2222222222222222,
              "#7201a8"
             ],
             [
              0.3333333333333333,
              "#9c179e"
             ],
             [
              0.4444444444444444,
              "#bd3786"
             ],
             [
              0.5555555555555556,
              "#d8576b"
             ],
             [
              0.6666666666666666,
              "#ed7953"
             ],
             [
              0.7777777777777778,
              "#fb9f3a"
             ],
             [
              0.8888888888888888,
              "#fdca26"
             ],
             [
              1,
              "#f0f921"
             ]
            ],
            "type": "heatmap"
           }
          ],
          "heatmapgl": [
           {
            "colorbar": {
             "outlinewidth": 0,
             "ticks": ""
            },
            "colorscale": [
             [
              0,
              "#0d0887"
             ],
             [
              0.1111111111111111,
              "#46039f"
             ],
             [
              0.2222222222222222,
              "#7201a8"
             ],
             [
              0.3333333333333333,
              "#9c179e"
             ],
             [
              0.4444444444444444,
              "#bd3786"
             ],
             [
              0.5555555555555556,
              "#d8576b"
             ],
             [
              0.6666666666666666,
              "#ed7953"
             ],
             [
              0.7777777777777778,
              "#fb9f3a"
             ],
             [
              0.8888888888888888,
              "#fdca26"
             ],
             [
              1,
              "#f0f921"
             ]
            ],
            "type": "heatmapgl"
           }
          ],
          "histogram": [
           {
            "marker": {
             "pattern": {
              "fillmode": "overlay",
              "size": 10,
              "solidity": 0.2
             }
            },
            "type": "histogram"
           }
          ],
          "histogram2d": [
           {
            "colorbar": {
             "outlinewidth": 0,
             "ticks": ""
            },
            "colorscale": [
             [
              0,
              "#0d0887"
             ],
             [
              0.1111111111111111,
              "#46039f"
             ],
             [
              0.2222222222222222,
              "#7201a8"
             ],
             [
              0.3333333333333333,
              "#9c179e"
             ],
             [
              0.4444444444444444,
              "#bd3786"
             ],
             [
              0.5555555555555556,
              "#d8576b"
             ],
             [
              0.6666666666666666,
              "#ed7953"
             ],
             [
              0.7777777777777778,
              "#fb9f3a"
             ],
             [
              0.8888888888888888,
              "#fdca26"
             ],
             [
              1,
              "#f0f921"
             ]
            ],
            "type": "histogram2d"
           }
          ],
          "histogram2dcontour": [
           {
            "colorbar": {
             "outlinewidth": 0,
             "ticks": ""
            },
            "colorscale": [
             [
              0,
              "#0d0887"
             ],
             [
              0.1111111111111111,
              "#46039f"
             ],
             [
              0.2222222222222222,
              "#7201a8"
             ],
             [
              0.3333333333333333,
              "#9c179e"
             ],
             [
              0.4444444444444444,
              "#bd3786"
             ],
             [
              0.5555555555555556,
              "#d8576b"
             ],
             [
              0.6666666666666666,
              "#ed7953"
             ],
             [
              0.7777777777777778,
              "#fb9f3a"
             ],
             [
              0.8888888888888888,
              "#fdca26"
             ],
             [
              1,
              "#f0f921"
             ]
            ],
            "type": "histogram2dcontour"
           }
          ],
          "mesh3d": [
           {
            "colorbar": {
             "outlinewidth": 0,
             "ticks": ""
            },
            "type": "mesh3d"
           }
          ],
          "parcoords": [
           {
            "line": {
             "colorbar": {
              "outlinewidth": 0,
              "ticks": ""
             }
            },
            "type": "parcoords"
           }
          ],
          "pie": [
           {
            "automargin": true,
            "type": "pie"
           }
          ],
          "scatter": [
           {
            "fillpattern": {
             "fillmode": "overlay",
             "size": 10,
             "solidity": 0.2
            },
            "type": "scatter"
           }
          ],
          "scatter3d": [
           {
            "line": {
             "colorbar": {
              "outlinewidth": 0,
              "ticks": ""
             }
            },
            "marker": {
             "colorbar": {
              "outlinewidth": 0,
              "ticks": ""
             }
            },
            "type": "scatter3d"
           }
          ],
          "scattercarpet": [
           {
            "marker": {
             "colorbar": {
              "outlinewidth": 0,
              "ticks": ""
             }
            },
            "type": "scattercarpet"
           }
          ],
          "scattergeo": [
           {
            "marker": {
             "colorbar": {
              "outlinewidth": 0,
              "ticks": ""
             }
            },
            "type": "scattergeo"
           }
          ],
          "scattergl": [
           {
            "marker": {
             "colorbar": {
              "outlinewidth": 0,
              "ticks": ""
             }
            },
            "type": "scattergl"
           }
          ],
          "scattermapbox": [
           {
            "marker": {
             "colorbar": {
              "outlinewidth": 0,
              "ticks": ""
             }
            },
            "type": "scattermapbox"
           }
          ],
          "scatterpolar": [
           {
            "marker": {
             "colorbar": {
              "outlinewidth": 0,
              "ticks": ""
             }
            },
            "type": "scatterpolar"
           }
          ],
          "scatterpolargl": [
           {
            "marker": {
             "colorbar": {
              "outlinewidth": 0,
              "ticks": ""
             }
            },
            "type": "scatterpolargl"
           }
          ],
          "scatterternary": [
           {
            "marker": {
             "colorbar": {
              "outlinewidth": 0,
              "ticks": ""
             }
            },
            "type": "scatterternary"
           }
          ],
          "surface": [
           {
            "colorbar": {
             "outlinewidth": 0,
             "ticks": ""
            },
            "colorscale": [
             [
              0,
              "#0d0887"
             ],
             [
              0.1111111111111111,
              "#46039f"
             ],
             [
              0.2222222222222222,
              "#7201a8"
             ],
             [
              0.3333333333333333,
              "#9c179e"
             ],
             [
              0.4444444444444444,
              "#bd3786"
             ],
             [
              0.5555555555555556,
              "#d8576b"
             ],
             [
              0.6666666666666666,
              "#ed7953"
             ],
             [
              0.7777777777777778,
              "#fb9f3a"
             ],
             [
              0.8888888888888888,
              "#fdca26"
             ],
             [
              1,
              "#f0f921"
             ]
            ],
            "type": "surface"
           }
          ],
          "table": [
           {
            "cells": {
             "fill": {
              "color": "#EBF0F8"
             },
             "line": {
              "color": "white"
             }
            },
            "header": {
             "fill": {
              "color": "#C8D4E3"
             },
             "line": {
              "color": "white"
             }
            },
            "type": "table"
           }
          ]
         },
         "layout": {
          "annotationdefaults": {
           "arrowcolor": "#2a3f5f",
           "arrowhead": 0,
           "arrowwidth": 1
          },
          "autotypenumbers": "strict",
          "coloraxis": {
           "colorbar": {
            "outlinewidth": 0,
            "ticks": ""
           }
          },
          "colorscale": {
           "diverging": [
            [
             0,
             "#8e0152"
            ],
            [
             0.1,
             "#c51b7d"
            ],
            [
             0.2,
             "#de77ae"
            ],
            [
             0.3,
             "#f1b6da"
            ],
            [
             0.4,
             "#fde0ef"
            ],
            [
             0.5,
             "#f7f7f7"
            ],
            [
             0.6,
             "#e6f5d0"
            ],
            [
             0.7,
             "#b8e186"
            ],
            [
             0.8,
             "#7fbc41"
            ],
            [
             0.9,
             "#4d9221"
            ],
            [
             1,
             "#276419"
            ]
           ],
           "sequential": [
            [
             0,
             "#0d0887"
            ],
            [
             0.1111111111111111,
             "#46039f"
            ],
            [
             0.2222222222222222,
             "#7201a8"
            ],
            [
             0.3333333333333333,
             "#9c179e"
            ],
            [
             0.4444444444444444,
             "#bd3786"
            ],
            [
             0.5555555555555556,
             "#d8576b"
            ],
            [
             0.6666666666666666,
             "#ed7953"
            ],
            [
             0.7777777777777778,
             "#fb9f3a"
            ],
            [
             0.8888888888888888,
             "#fdca26"
            ],
            [
             1,
             "#f0f921"
            ]
           ],
           "sequentialminus": [
            [
             0,
             "#0d0887"
            ],
            [
             0.1111111111111111,
             "#46039f"
            ],
            [
             0.2222222222222222,
             "#7201a8"
            ],
            [
             0.3333333333333333,
             "#9c179e"
            ],
            [
             0.4444444444444444,
             "#bd3786"
            ],
            [
             0.5555555555555556,
             "#d8576b"
            ],
            [
             0.6666666666666666,
             "#ed7953"
            ],
            [
             0.7777777777777778,
             "#fb9f3a"
            ],
            [
             0.8888888888888888,
             "#fdca26"
            ],
            [
             1,
             "#f0f921"
            ]
           ]
          },
          "colorway": [
           "#636efa",
           "#EF553B",
           "#00cc96",
           "#ab63fa",
           "#FFA15A",
           "#19d3f3",
           "#FF6692",
           "#B6E880",
           "#FF97FF",
           "#FECB52"
          ],
          "font": {
           "color": "#2a3f5f"
          },
          "geo": {
           "bgcolor": "white",
           "lakecolor": "white",
           "landcolor": "#E5ECF6",
           "showlakes": true,
           "showland": true,
           "subunitcolor": "white"
          },
          "hoverlabel": {
           "align": "left"
          },
          "hovermode": "closest",
          "mapbox": {
           "style": "light"
          },
          "paper_bgcolor": "white",
          "plot_bgcolor": "#E5ECF6",
          "polar": {
           "angularaxis": {
            "gridcolor": "white",
            "linecolor": "white",
            "ticks": ""
           },
           "bgcolor": "#E5ECF6",
           "radialaxis": {
            "gridcolor": "white",
            "linecolor": "white",
            "ticks": ""
           }
          },
          "scene": {
           "xaxis": {
            "backgroundcolor": "#E5ECF6",
            "gridcolor": "white",
            "gridwidth": 2,
            "linecolor": "white",
            "showbackground": true,
            "ticks": "",
            "zerolinecolor": "white"
           },
           "yaxis": {
            "backgroundcolor": "#E5ECF6",
            "gridcolor": "white",
            "gridwidth": 2,
            "linecolor": "white",
            "showbackground": true,
            "ticks": "",
            "zerolinecolor": "white"
           },
           "zaxis": {
            "backgroundcolor": "#E5ECF6",
            "gridcolor": "white",
            "gridwidth": 2,
            "linecolor": "white",
            "showbackground": true,
            "ticks": "",
            "zerolinecolor": "white"
           }
          },
          "shapedefaults": {
           "line": {
            "color": "#2a3f5f"
           }
          },
          "ternary": {
           "aaxis": {
            "gridcolor": "white",
            "linecolor": "white",
            "ticks": ""
           },
           "baxis": {
            "gridcolor": "white",
            "linecolor": "white",
            "ticks": ""
           },
           "bgcolor": "#E5ECF6",
           "caxis": {
            "gridcolor": "white",
            "linecolor": "white",
            "ticks": ""
           }
          },
          "title": {
           "x": 0.05
          },
          "xaxis": {
           "automargin": true,
           "gridcolor": "white",
           "linecolor": "white",
           "ticks": "",
           "title": {
            "standoff": 15
           },
           "zerolinecolor": "white",
           "zerolinewidth": 2
          },
          "yaxis": {
           "automargin": true,
           "gridcolor": "white",
           "linecolor": "white",
           "ticks": "",
           "title": {
            "standoff": 15
           },
           "zerolinecolor": "white",
           "zerolinewidth": 2
          }
         }
        },
        "xaxis": {
         "anchor": "y2",
         "domain": [
          0,
          1
         ],
         "zeroline": false
        },
        "yaxis": {
         "anchor": "free",
         "domain": [
          0.35,
          1
         ],
         "position": 0
        },
        "yaxis2": {
         "anchor": "x",
         "domain": [
          0,
          0.25
         ],
         "dtick": 1,
         "showticklabels": false
        }
       }
      }
     },
     "metadata": {},
     "output_type": "display_data"
    }
   ],
   "source": [
    "# Dropping rows with missing values in the penguins dataframe\n",
    "penguins.dropna(inplace=True)\n",
    "\n",
    "# Displaying the first few rows of the cleaned penguins dataframe\n",
    "penguins.head()\n",
    "\n",
    "# Creating a list 'hist_data' containing two columns for the distplot\n",
    "hist_data = [penguins.bill_length_mm, penguins.bill_depth_mm]\n",
    "\n",
    "# Creating a list 'group_labels' to label the two datasets in the distplot\n",
    "group_labels = [\"bill_length_mm\", \"bill_depth_mm\"]\n",
    "\n",
    "# Creating a distribution plot using Plotly's 'create_distplot' function\n",
    "fig = ff.create_distplot(hist_data, group_labels)\n",
    "\n",
    "# Displaying the created distribution plot\n",
    "fig.show()"
   ]
  },
  {
   "cell_type": "markdown",
   "id": "gothic-internet",
   "metadata": {},
   "source": [
    "## ScatterPlot\n",
    "\n",
    "Un Gráfico de Dispersión es una herramienta popular de visualización de datos utilizada para mostrar puntos de datos individuales en un plano bidimensional. Es particularmente útil para visualizar las relaciones o correlaciones entre dos variables numéricas. Cada punto de datos en el gráfico representa una única observación o registro de datos.\n",
    "\n",
    "En un Gráfico de Dispersión, una variable se traza en el eje x (eje horizontal) y otra variable se traza en el eje y (eje vertical). La posición de cada punto de datos en el gráfico está determinada por los valores de estas dos variables. Los Gráficos de Dispersión son efectivos para identificar patrones, tendencias, clusters o valores atípicos dentro de un conjunto de datos y se utilizan comúnmente en el análisis exploratorio de datos (EDA).\n",
    "\n",
    "Los Gráficos de Dispersión son versátiles y se pueden personalizar con varias características como colores, marcadores y etiquetas para transmitir información adicional. Son especialmente valiosos al examinar relaciones entre puntos de datos continuos y pueden ayudar a responder preguntas sobre correlación, distribución y dispersión dentro de los datos.\n",
    "\n",
    "Los Gráficos de Dispersión son una herramienta esencial en el análisis de datos y se utilizan ampliamente en campos como estadística, ciencia de datos y aprendizaje automático para obtener insights sobre patrones de datos y tomar decisiones informadas."
   ]
  },
  {
   "cell_type": "code",
   "execution_count": 25,
   "id": "saved-professional",
   "metadata": {},
   "outputs": [
    {
     "data": {
      "text/html": [
       "<div>\n",
       "<style scoped>\n",
       "    .dataframe tbody tr th:only-of-type {\n",
       "        vertical-align: middle;\n",
       "    }\n",
       "\n",
       "    .dataframe tbody tr th {\n",
       "        vertical-align: top;\n",
       "    }\n",
       "\n",
       "    .dataframe thead th {\n",
       "        text-align: right;\n",
       "    }\n",
       "</style>\n",
       "<table border=\"1\" class=\"dataframe\">\n",
       "  <thead>\n",
       "    <tr style=\"text-align: right;\">\n",
       "      <th></th>\n",
       "      <th>species</th>\n",
       "      <th>island</th>\n",
       "      <th>bill_length_mm</th>\n",
       "      <th>bill_depth_mm</th>\n",
       "      <th>flipper_length_mm</th>\n",
       "      <th>body_mass_g</th>\n",
       "      <th>sex</th>\n",
       "    </tr>\n",
       "  </thead>\n",
       "  <tbody>\n",
       "    <tr>\n",
       "      <th>0</th>\n",
       "      <td>Adelie</td>\n",
       "      <td>Torgersen</td>\n",
       "      <td>39.1</td>\n",
       "      <td>18.7</td>\n",
       "      <td>181.0</td>\n",
       "      <td>3750.0</td>\n",
       "      <td>Male</td>\n",
       "    </tr>\n",
       "    <tr>\n",
       "      <th>1</th>\n",
       "      <td>Adelie</td>\n",
       "      <td>Torgersen</td>\n",
       "      <td>39.5</td>\n",
       "      <td>17.4</td>\n",
       "      <td>186.0</td>\n",
       "      <td>3800.0</td>\n",
       "      <td>Female</td>\n",
       "    </tr>\n",
       "    <tr>\n",
       "      <th>2</th>\n",
       "      <td>Adelie</td>\n",
       "      <td>Torgersen</td>\n",
       "      <td>40.3</td>\n",
       "      <td>18.0</td>\n",
       "      <td>195.0</td>\n",
       "      <td>3250.0</td>\n",
       "      <td>Female</td>\n",
       "    </tr>\n",
       "    <tr>\n",
       "      <th>4</th>\n",
       "      <td>Adelie</td>\n",
       "      <td>Torgersen</td>\n",
       "      <td>36.7</td>\n",
       "      <td>19.3</td>\n",
       "      <td>193.0</td>\n",
       "      <td>3450.0</td>\n",
       "      <td>Female</td>\n",
       "    </tr>\n",
       "    <tr>\n",
       "      <th>5</th>\n",
       "      <td>Adelie</td>\n",
       "      <td>Torgersen</td>\n",
       "      <td>39.3</td>\n",
       "      <td>20.6</td>\n",
       "      <td>190.0</td>\n",
       "      <td>3650.0</td>\n",
       "      <td>Male</td>\n",
       "    </tr>\n",
       "  </tbody>\n",
       "</table>\n",
       "</div>"
      ],
      "text/plain": [
       "  species     island  bill_length_mm  bill_depth_mm  flipper_length_mm  \\\n",
       "0  Adelie  Torgersen            39.1           18.7              181.0   \n",
       "1  Adelie  Torgersen            39.5           17.4              186.0   \n",
       "2  Adelie  Torgersen            40.3           18.0              195.0   \n",
       "4  Adelie  Torgersen            36.7           19.3              193.0   \n",
       "5  Adelie  Torgersen            39.3           20.6              190.0   \n",
       "\n",
       "   body_mass_g     sex  \n",
       "0       3750.0    Male  \n",
       "1       3800.0  Female  \n",
       "2       3250.0  Female  \n",
       "4       3450.0  Female  \n",
       "5       3650.0    Male  "
      ]
     },
     "execution_count": 25,
     "metadata": {},
     "output_type": "execute_result"
    }
   ],
   "source": [
    "# Let's work with penguin dataset\n",
    "penguins.head()"
   ]
  },
  {
   "cell_type": "code",
   "execution_count": null,
   "id": "outdoor-boutique",
   "metadata": {},
   "outputs": [],
   "source": [
    "# Importing the necessary library for creating a scatter plot\n",
    "import plotly.express as px\n",
    "\n",
    "# Creating a scatter plot using the penguins dataset\n",
    "# The 'x' and 'y' arguments specify which columns from the dataset to use for the x-axis and y-axis.\n",
    "fig = px.scatter(penguins, x=\"flipper_length_mm\", y=\"body_mass_g\")\n",
    "\n",
    "# Displaying the scatter plot\n",
    "fig.show()"
   ]
  },
  {
   "cell_type": "code",
   "execution_count": null,
   "id": "foster-session",
   "metadata": {},
   "outputs": [],
   "source": [
    "# Scatter plot with color encoding based on 'bill_length_mm'\n",
    "fig = px.scatter(penguins, x=\"flipper_length_mm\", y=\"body_mass_g\", color=\"bill_length_mm\")\n",
    "fig.show()"
   ]
  },
  {
   "cell_type": "code",
   "execution_count": null,
   "id": "intellectual-bonus",
   "metadata": {},
   "outputs": [],
   "source": [
    "# Scatter plot with color encoding based on 'species'\n",
    "fig = px.scatter(penguins, x=\"flipper_length_mm\", y=\"body_mass_g\", color=\"species\")\n",
    "fig.show()"
   ]
  },
  {
   "cell_type": "code",
   "execution_count": null,
   "id": "surface-wednesday",
   "metadata": {},
   "outputs": [],
   "source": [
    "# Scatter plot with color and size encoding based on 'species' and 'bill_depth_mm' columns\n",
    "fig = px.scatter(penguins, x=\"body_mass_g\", y=\"flipper_length_mm\", color=\"species\", size=\"bill_depth_mm\")\n",
    "fig.show()"
   ]
  },
  {
   "cell_type": "code",
   "execution_count": null,
   "id": "latest-lincoln",
   "metadata": {},
   "outputs": [],
   "source": [
    "# Scatter matrix plot with specified dimensions and color encoding based on 'species'\n",
    "fig = px.scatter_matrix(penguins, dimensions=['bill_length_mm','bill_depth_mm','flipper_length_mm','body_mass_g', \"species\"],\n",
    "                        width=1000, height=800)\n",
    "fig.show()"
   ]
  },
  {
   "cell_type": "code",
   "execution_count": null,
   "id": "public-northeast",
   "metadata": {},
   "outputs": [],
   "source": [
    "# Scatter matrix plot with specified dimensions and color encoding based on 'species'\n",
    "fig = px.scatter_matrix(penguins, dimensions=['bill_length_mm','bill_depth_mm','flipper_length_mm','body_mass_g'],\n",
    "                        color=\"species\",\n",
    "                        width=1000, height=800)\n",
    "fig.show()"
   ]
  },
  {
   "cell_type": "code",
   "execution_count": null,
   "id": "e50e937c",
   "metadata": {
    "scrolled": false
   },
   "outputs": [],
   "source": [
    "# Scatter matrix plot with specified dimensions, color encoding, and diagonal elements hidden\n",
    "fig = px.scatter_matrix(penguins, dimensions=['bill_length_mm','bill_depth_mm','flipper_length_mm','body_mass_g'],\n",
    "                        color=\"species\")\n",
    "fig.update_traces(diagonal_visible=False)\n",
    "fig.show()"
   ]
  },
  {
   "cell_type": "code",
   "execution_count": null,
   "id": "4168f4e7",
   "metadata": {},
   "outputs": [],
   "source": [
    "# Define indices corresponding to species categories, using pandas label encoding\n",
    "index_vals = penguins['species'].astype('category').cat.codes\n",
    "\n",
    "# Create a Plotly Figure for the Scatterplot Matrix (SPLOM)\n",
    "fig = go.Figure(data=go.Splom(\n",
    "\n",
    "    # Define Dimensions for the SPLOM\n",
    "    dimensions=[dict(label='bill length',    # Dimension 1: Bill Length\n",
    "                     values=penguins['bill_length_mm']),\n",
    "                dict(label='bill depth',     # Dimension 2: Bill Depth\n",
    "                     values=penguins['bill_depth_mm']),\n",
    "                dict(label='flipper length', # Dimension 3: Flipper Length\n",
    "                     values=penguins['flipper_length_mm']),\n",
    "                dict(label='body mass',      # Dimension 4: Body Mass\n",
    "                     values=penguins['body_mass_g'])],\n",
    "\n",
    "    # Add Text Labels for Species\n",
    "    text=penguins['species'],\n",
    "    \n",
    "    # Control Display of Upper Half (Set to False for symmetry)\n",
    "    showupperhalf=False,\n",
    "    \n",
    "    # Customize Marker Properties\n",
    "    marker=dict(color=index_vals,    # Assign colors based on species indices\n",
    "                showscale=True,       # Display a color scale legend\n",
    "                line_color='white',   # Marker outline color\n",
    "                line_width=0.5)       # Marker outline width\n",
    "))\n",
    "\n",
    "# Update Layout and Styling\n",
    "fig.update_layout(\n",
    "    title='Penguins',          # Set the title of the figure\n",
    "    dragmode='select',        # Enable drag selection\n",
    "    width=600,                # Set the width of the figure\n",
    "    height=600,               # Set the height of the figure\n",
    "    hovermode='closest'       # Define hover behavior\n",
    ")\n",
    "\n",
    "# Show the Scatterplot Matrix (SPLOM)\n",
    "fig.show()"
   ]
  },
  {
   "cell_type": "markdown",
   "id": "regulation-familiar",
   "metadata": {},
   "source": [
    "## LineChart\n",
    "\n",
    "Un Gráfico de Líneas, también conocido como un Gráfico Lineal, es un tipo popular de visualización de datos utilizado para representar puntos de datos a lo largo de un intervalo continuo o período de tiempo. En un Gráfico de Líneas, los datos se muestran como una serie de puntos de datos conectados por líneas rectas, creando una representación visual de cómo cambia una variable a lo largo de un dominio específico. Los Gráficos de Líneas son particularmente útiles para mostrar tendencias, patrones y variaciones en los datos.\n",
    "\n",
    "Cada punto de datos en un Gráfico de Líneas se representa típicamente por un marcador o punto, y estos marcadores están conectados por líneas para enfatizar la continuidad de los datos. Los Gráficos de Líneas se utilizan comúnmente para visualizar datos de series temporales, como precios de acciones, tendencias de temperatura o cifras de ventas a lo largo de meses o años. También son efectivos para mostrar la relación entre dos variables, como comparar ventas y gastos de publicidad a lo largo del tiempo.\n",
    "\n",
    "Los Gráficos de Líneas son altamente versátiles y se pueden personalizar para mostrar varios aspectos de los datos, incluyendo múltiples series de datos, marcadores, etiquetas y más. Son una herramienta valiosa en el análisis de datos y la toma de decisiones, permitiendo a los espectadores interpretar rápidamente las tendencias de los datos y hacer conclusiones informadas.\n",
    "\n",
    "En esta guía, exploraremos cómo crear Gráficos de Líneas usando diferentes bibliotecas de visualización de datos, como Matplotlib, Seaborn y Plotly. Aprenderemos cómo personalizar los Gráficos de Líneas, añadir etiquetas y leyendas, y comunicar efectivamente insights de datos a través de esta representación visual."
   ]
  },
  {
   "cell_type": "code",
   "execution_count": null,
   "id": "classified-vegetation",
   "metadata": {},
   "outputs": [],
   "source": [
    "# Load the 'flights' dataset from Seaborn, which contains information about monthly airline passenger numbers.\n",
    "flights = sns.load_dataset(\"flights\")\n",
    "\n",
    "# Display the first few rows of the 'flights' dataset to get a sense of its structure.\n",
    "flights.head()"
   ]
  },
  {
   "cell_type": "code",
   "execution_count": null,
   "id": "revolutionary-update",
   "metadata": {},
   "outputs": [],
   "source": [
    "# Select data for the month of February and store it in the 'feb' DataFrame.\n",
    "feb = flights[flights.month == \"Feb\"]"
   ]
  },
  {
   "cell_type": "code",
   "execution_count": null,
   "id": "proud-clark",
   "metadata": {},
   "outputs": [],
   "source": [
    "# Create a Line Chart (Line Plot) using Plotly Express to visualize the passenger numbers in February over the years.\n",
    "# The 'year' column is used as the x-axis, and the 'passengers' column is used as the y-axis.\n",
    "fig = px.line(feb, x=\"year\", y=\"passengers\")\n",
    "\n",
    "# Display the Line Chart.\n",
    "fig.show()"
   ]
  },
  {
   "cell_type": "code",
   "execution_count": null,
   "id": "geographic-surge",
   "metadata": {},
   "outputs": [],
   "source": [
    "# Create another Line Chart using Plotly Express to visualize passenger numbers over the years, with different lines for each month.\n",
    "# The 'year' column is still used as the x-axis, and the 'passengers' column is used as the y-axis.\n",
    "# The 'color' parameter is set to 'month' to differentiate lines by month.\n",
    "fig = px.line(flights, x=\"year\", y=\"passengers\", color=\"month\")\n",
    "\n",
    "# Display the Line Chart.\n",
    "fig.show()"
   ]
  },
  {
   "cell_type": "markdown",
   "id": "recreational-plumbing",
   "metadata": {},
   "source": [
    "## Boxplot\n",
    "\n",
    "Un boxplot, también conocido como diagrama de caja y bigotes, es una visualización estadística que proporciona un resumen gráfico de la distribución de un conjunto de datos. Muestra medidas estadísticas clave, como la mediana, los cuartiles y los posibles valores atípicos, lo que lo convierte en una herramienta poderosa para entender la tendencia central y la dispersión de los datos. Los boxplots son particularmente útiles para comparar distribuciones a través de diferentes categorías o grupos dentro de tu conjunto de datos. Consisten en una \"caja\" rectangular y \"bigotes\" que se extienden desde ella, representando varios puntos de datos y su dispersión.\n",
    "\n",
    "Los boxplots son una adición valiosa al análisis exploratorio de datos (EDA) y ayudan a identificar la presencia de valores atípicos, asimetría y la forma general de la distribución de los datos. Entender cómo interpretar los boxplots es esencial para los analistas de datos y científicos al explorar y comunicar insights de los datos.\n",
    "\n",
    "En esta sección, exploraremos cómo crear e interpretar boxplots usando Plotly, una poderosa biblioteca de Python para visualización de datos interactiva. Cubriremos varios aspectos de los boxplots, incluyendo sus componentes y cómo crearlos para diferentes conjuntos de datos y escenarios."
   ]
  },
  {
   "cell_type": "code",
   "execution_count": null,
   "id": "maritime-stable",
   "metadata": {},
   "outputs": [],
   "source": [
    "# Creating a boxplot of the 'age' column from the Titanic dataset\n",
    "fig = px.box(titanic, x=\"age\")\n",
    "fig.show()"
   ]
  },
  {
   "cell_type": "code",
   "execution_count": null,
   "id": "colonial-admission",
   "metadata": {},
   "outputs": [],
   "source": [
    "# Creating a grouped boxplot of 'age' by 'pclass' from the Titanic dataset\n",
    "fig = px.box(titanic, x=\"pclass\", y=\"age\")\n",
    "fig.show()"
   ]
  },
  {
   "cell_type": "code",
   "execution_count": null,
   "id": "empirical-symphony",
   "metadata": {
    "lang": "es"
   },
   "outputs": [],
   "source": [
    "# Creating a grouped boxplot of 'age' by 'pclass' from the Titanic dataset\n",
    "# With 'points=\"all\"', it adds individual data points to the left of each box\n",
    "fig = px.box(titanic, x=\"pclass\", y=\"age\", points=\"all\")\n",
    "fig.show()"
   ]
  },
  {
   "cell_type": "code",
   "execution_count": null,
   "id": "official-tissue",
   "metadata": {},
   "outputs": [],
   "source": [
    "# Creating a grouped boxplot of 'age' by 'pclass' from the Titanic dataset\n",
    "# With 'points=\"all\"', it adds individual data points to the left of each box\n",
    "# 'color=\"survived\"' adds color differentiation based on the 'survived' column\n",
    "# 'width' and 'height' adjust the dimensions of the plot\n",
    "fig = px.box(titanic, x=\"pclass\", y=\"age\", color=\"survived\", points=\"all\", width=1100, height=600)\n",
    "fig.show()"
   ]
  },
  {
   "cell_type": "markdown",
   "id": "d10beefe",
   "metadata": {
    "lang": "en"
   },
   "source": [
    "We change the colors by putting the value of the column in the key"
   ]
  },
  {
   "cell_type": "code",
   "execution_count": null,
   "id": "innocent-intellectual",
   "metadata": {
    "scrolled": false
   },
   "outputs": [],
   "source": [
    "# Creating a grouped boxplot of 'age' by 'pclass' from the Titanic dataset\n",
    "# 'color=\"survived\"' adds color differentiation based on the 'survived' column\n",
    "# 'color_discrete_map' specifies custom colors for the 'survived' categories\n",
    "# 1 represents survivors, shown in light blue (#19D3F3)\n",
    "# 0 represents non-survivors, shown in red\n",
    "fig = px.box(titanic, x=\"pclass\", y=\"age\", color=\"survived\", color_discrete_map={1: '#19D3F3', 0: 'red'})\n",
    "fig.show()"
   ]
  },
  {
   "cell_type": "markdown",
   "id": "aa0e16a8",
   "metadata": {},
   "source": [
    "# Sliders\n",
    "Los sliders son componentes interactivos en Plotly que te permiten crear visualizaciones animadas, proporcionando una vista dinámica de los cambios de datos a lo largo del tiempo u otras variables. Los controles deslizantes se pueden utilizar para animar varios tipos de gráficos, ofreciendo una forma atractiva de explorar tendencias y patrones de datos."
   ]
  },
  {
   "cell_type": "code",
   "execution_count": null,
   "id": "0ae8f6ad",
   "metadata": {},
   "outputs": [],
   "source": [
    "# Let's recap\n",
    "df.head()"
   ]
  },
  {
   "cell_type": "code",
   "execution_count": null,
   "id": "2a91e7d3",
   "metadata": {},
   "outputs": [],
   "source": [
    "# Load data from the 'gapminder' dataset\n",
    "df = px.data.gapminder()\n",
    "\n",
    "# Create a scatter plot using Plotly, where 'gdpPercap' is on the x-axis, 'lifeExp' is on the y-axis\n",
    "# 'animation_frame' enables animation over the 'year' variable\n",
    "# 'size' determines the size of data points based on 'pop'\n",
    "# 'color' assigns colors to data points based on 'continent'\n",
    "# 'hover_name' adds country names to hover over data points\n",
    "# 'log_x=True' sets a logarithmic scale for the x-axis\n",
    "# 'size_max=55' defines the maximum size for data points\n",
    "# 'range_x' and 'range_y' specify the initial visible ranges for the x and y axes\n",
    "fig = px.scatter(df, x=\"gdpPercap\", y=\"lifeExp\", animation_frame=\"year\",\n",
    "                 size=\"pop\", color=\"continent\", hover_name=\"country\",\n",
    "                 log_x=True, size_max=55, range_x=[100, 100000], range_y=[25, 90])\n",
    "\n",
    "# Optional: Remove the default animation buttons from the figure layout\n",
    "# fig[\"layout\"].pop(\"updatemenus\")\n",
    "\n",
    "# Display the interactive plot\n",
    "fig.show()"
   ]
  }
 ],
 "metadata": {
  "kernelspec": {
   "display_name": "Python 3 (ipykernel)",
   "language": "python",
   "name": "python3"
  },
  "language_info": {
   "codemirror_mode": {
    "name": "ipython",
    "version": 3
   },
   "file_extension": ".py",
   "mimetype": "text/x-python",
   "name": "python",
   "nbconvert_exporter": "python",
   "pygments_lexer": "ipython3",
   "version": "3.12.4"
  },
  "nbTranslate": {
   "displayLangs": [
    "en",
    "es"
   ],
   "hotkey": "alt-a",
   "langInMainMenu": true,
   "sourceLang": "es",
   "targetLang": "en",
   "useGoogleTranslate": true
  },
  "toc": {
   "base_numbering": 1,
   "nav_menu": {},
   "number_sections": true,
   "sideBar": true,
   "skip_h1_title": true,
   "title_cell": "Table of Contents",
   "title_sidebar": "Contents",
   "toc_cell": true,
   "toc_position": {
    "height": "calc(100% - 180px)",
    "left": "10px",
    "top": "150px",
    "width": "165px"
   },
   "toc_section_display": true,
   "toc_window_display": true
  }
 },
 "nbformat": 4,
 "nbformat_minor": 5
}
